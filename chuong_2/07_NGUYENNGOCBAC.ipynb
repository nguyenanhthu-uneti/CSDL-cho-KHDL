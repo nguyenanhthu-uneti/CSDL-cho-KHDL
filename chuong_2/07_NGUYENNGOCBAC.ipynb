{
 "cells": [
  {
   "cell_type": "code",
   "execution_count": 2,
   "metadata": {},
   "outputs": [],
   "source": [
    "import sqlite3\n",
    "import pandas as pd"
   ]
  },
  {
   "cell_type": "code",
   "execution_count": 3,
   "metadata": {},
   "outputs": [],
   "source": [
    "# Kết nối SQLite \n",
    "conn = sqlite3.connect(\"students.db\") \n",
    "cursor = conn.cursor()"
   ]
  },
  {
   "cell_type": "code",
   "execution_count": 4,
   "metadata": {},
   "outputs": [],
   "source": [
    "cursor.execute(\"DROP TABLE IF EXISTS student;\")\n",
    "cursor.execute(\"DROP TABLE IF EXISTS course;\")\n",
    "\n",
    "# Tạo bảng student\n",
    "cursor.execute(\"\"\"\n",
    "CREATE TABLE student (\n",
    "    student_id INTEGER PRIMARY KEY,\n",
    "    name TEXT,\n",
    "    class TEXT,\n",
    "    course_id INTEGER,\n",
    "    score REAL\n",
    ");\n",
    "\"\"\")\n",
    "\n",
    "# Tạo bảng course\n",
    "cursor.execute(\"\"\"\n",
    "CREATE TABLE course (\n",
    "    id INTEGER PRIMARY KEY,\n",
    "    course_name TEXT\n",
    ");\n",
    "\"\"\")\n",
    "\n",
    "# Lưu thay đổi vào database\n",
    "conn.commit()"
   ]
  },
  {
   "cell_type": "code",
   "execution_count": 5,
   "metadata": {},
   "outputs": [],
   "source": [
    "# Dữ liệu cho bảng student\n",
    "student_data = [\n",
    "    (1, \"Nguyen Minh Hoang\", \"May Tinh\", 12, 6.7),\n",
    "    (2, \"Tran Thi Lan\", \"Kinh Te\", 34, 9.2),\n",
    "    (3, \"Pham Van Nam\", \"Toan Tin\", None, 7.9),   \n",
    "    (4, \"Le Thanh Huyen\", \"Toan Tin\", 20, 7.2),\n",
    "    (5, \"Vu Quoc Anh\", \"May Tinh\", 24, 8.0),\n",
    "    (6, \"Dang Thuy Linh\", \"May Tinh\", 24, 5.5),\n",
    "    (7, \"Bui Tien Dung\", \"Kinh Te\", 34, 9.2),\n",
    "    (8, \"Ho Ngoc Mai\", \"Toan Tin\", 20, 8.8),\n",
    "    (9, \"Duong Huu Phuc\", \"Kinh Te\", None, 7.2),   \n",
    "    (10, \"Cao Thi Hanh\", \"May Tinh\", None, 7.0)     \n",
    "]\n",
    "\n",
    "# Dữ liệu cho bảng course\n",
    "course_data = [\n",
    "    (12, \"Giai tich\"),\n",
    "    (34, \"Thong ke\"),\n",
    "    (26, \"Tin hoc\")\n",
    "]\n",
    "\n",
    "# Chèn dữ liệu vào bảng student\n",
    "cursor.executemany(\"INSERT INTO student VALUES (?, ?, ?, ?, ?);\", student_data)\n",
    "\n",
    "# Chèn dữ liệu vào bảng course\n",
    "cursor.executemany(\"INSERT INTO course VALUES (?, ?);\", course_data)\n",
    "\n",
    "conn.commit()"
   ]
  },
  {
   "cell_type": "code",
   "execution_count": 6,
   "metadata": {},
   "outputs": [
    {
     "name": "stdout",
     "output_type": "stream",
     "text": [
      "Bảng Student:\n"
     ]
    },
    {
     "data": {
      "text/html": [
       "<div>\n",
       "<style scoped>\n",
       "    .dataframe tbody tr th:only-of-type {\n",
       "        vertical-align: middle;\n",
       "    }\n",
       "\n",
       "    .dataframe tbody tr th {\n",
       "        vertical-align: top;\n",
       "    }\n",
       "\n",
       "    .dataframe thead th {\n",
       "        text-align: right;\n",
       "    }\n",
       "</style>\n",
       "<table border=\"1\" class=\"dataframe\">\n",
       "  <thead>\n",
       "    <tr style=\"text-align: right;\">\n",
       "      <th></th>\n",
       "      <th>student_id</th>\n",
       "      <th>name</th>\n",
       "      <th>class</th>\n",
       "      <th>course_id</th>\n",
       "      <th>score</th>\n",
       "    </tr>\n",
       "  </thead>\n",
       "  <tbody>\n",
       "    <tr>\n",
       "      <th>0</th>\n",
       "      <td>1</td>\n",
       "      <td>Nguyen Minh Hoang</td>\n",
       "      <td>May Tinh</td>\n",
       "      <td>12.0</td>\n",
       "      <td>6.7</td>\n",
       "    </tr>\n",
       "    <tr>\n",
       "      <th>1</th>\n",
       "      <td>2</td>\n",
       "      <td>Tran Thi Lan</td>\n",
       "      <td>Kinh Te</td>\n",
       "      <td>34.0</td>\n",
       "      <td>9.2</td>\n",
       "    </tr>\n",
       "    <tr>\n",
       "      <th>2</th>\n",
       "      <td>3</td>\n",
       "      <td>Pham Van Nam</td>\n",
       "      <td>Toan Tin</td>\n",
       "      <td>NaN</td>\n",
       "      <td>7.9</td>\n",
       "    </tr>\n",
       "    <tr>\n",
       "      <th>3</th>\n",
       "      <td>4</td>\n",
       "      <td>Le Thanh Huyen</td>\n",
       "      <td>Toan Tin</td>\n",
       "      <td>20.0</td>\n",
       "      <td>7.2</td>\n",
       "    </tr>\n",
       "    <tr>\n",
       "      <th>4</th>\n",
       "      <td>5</td>\n",
       "      <td>Vu Quoc Anh</td>\n",
       "      <td>May Tinh</td>\n",
       "      <td>24.0</td>\n",
       "      <td>8.0</td>\n",
       "    </tr>\n",
       "    <tr>\n",
       "      <th>5</th>\n",
       "      <td>6</td>\n",
       "      <td>Dang Thuy Linh</td>\n",
       "      <td>May Tinh</td>\n",
       "      <td>24.0</td>\n",
       "      <td>5.5</td>\n",
       "    </tr>\n",
       "    <tr>\n",
       "      <th>6</th>\n",
       "      <td>7</td>\n",
       "      <td>Bui Tien Dung</td>\n",
       "      <td>Kinh Te</td>\n",
       "      <td>34.0</td>\n",
       "      <td>9.2</td>\n",
       "    </tr>\n",
       "    <tr>\n",
       "      <th>7</th>\n",
       "      <td>8</td>\n",
       "      <td>Ho Ngoc Mai</td>\n",
       "      <td>Toan Tin</td>\n",
       "      <td>20.0</td>\n",
       "      <td>8.8</td>\n",
       "    </tr>\n",
       "    <tr>\n",
       "      <th>8</th>\n",
       "      <td>9</td>\n",
       "      <td>Duong Huu Phuc</td>\n",
       "      <td>Kinh Te</td>\n",
       "      <td>NaN</td>\n",
       "      <td>7.2</td>\n",
       "    </tr>\n",
       "    <tr>\n",
       "      <th>9</th>\n",
       "      <td>10</td>\n",
       "      <td>Cao Thi Hanh</td>\n",
       "      <td>May Tinh</td>\n",
       "      <td>NaN</td>\n",
       "      <td>7.0</td>\n",
       "    </tr>\n",
       "  </tbody>\n",
       "</table>\n",
       "</div>"
      ],
      "text/plain": [
       "   student_id               name     class  course_id  score\n",
       "0           1  Nguyen Minh Hoang  May Tinh       12.0    6.7\n",
       "1           2       Tran Thi Lan   Kinh Te       34.0    9.2\n",
       "2           3       Pham Van Nam  Toan Tin        NaN    7.9\n",
       "3           4     Le Thanh Huyen  Toan Tin       20.0    7.2\n",
       "4           5        Vu Quoc Anh  May Tinh       24.0    8.0\n",
       "5           6     Dang Thuy Linh  May Tinh       24.0    5.5\n",
       "6           7      Bui Tien Dung   Kinh Te       34.0    9.2\n",
       "7           8        Ho Ngoc Mai  Toan Tin       20.0    8.8\n",
       "8           9     Duong Huu Phuc   Kinh Te        NaN    7.2\n",
       "9          10       Cao Thi Hanh  May Tinh        NaN    7.0"
      ]
     },
     "metadata": {},
     "output_type": "display_data"
    },
    {
     "name": "stdout",
     "output_type": "stream",
     "text": [
      "Bảng Course:\n"
     ]
    },
    {
     "data": {
      "text/html": [
       "<div>\n",
       "<style scoped>\n",
       "    .dataframe tbody tr th:only-of-type {\n",
       "        vertical-align: middle;\n",
       "    }\n",
       "\n",
       "    .dataframe tbody tr th {\n",
       "        vertical-align: top;\n",
       "    }\n",
       "\n",
       "    .dataframe thead th {\n",
       "        text-align: right;\n",
       "    }\n",
       "</style>\n",
       "<table border=\"1\" class=\"dataframe\">\n",
       "  <thead>\n",
       "    <tr style=\"text-align: right;\">\n",
       "      <th></th>\n",
       "      <th>id</th>\n",
       "      <th>course_name</th>\n",
       "    </tr>\n",
       "  </thead>\n",
       "  <tbody>\n",
       "    <tr>\n",
       "      <th>0</th>\n",
       "      <td>12</td>\n",
       "      <td>Giai tich</td>\n",
       "    </tr>\n",
       "    <tr>\n",
       "      <th>1</th>\n",
       "      <td>26</td>\n",
       "      <td>Tin hoc</td>\n",
       "    </tr>\n",
       "    <tr>\n",
       "      <th>2</th>\n",
       "      <td>34</td>\n",
       "      <td>Thong ke</td>\n",
       "    </tr>\n",
       "  </tbody>\n",
       "</table>\n",
       "</div>"
      ],
      "text/plain": [
       "   id course_name\n",
       "0  12   Giai tich\n",
       "1  26     Tin hoc\n",
       "2  34    Thong ke"
      ]
     },
     "metadata": {},
     "output_type": "display_data"
    }
   ],
   "source": [
    "# Đọc dữ liệu từ bảng student\n",
    "student_df = pd.read_sql_query(\"SELECT * FROM student;\", conn)\n",
    "print(\"Bảng Student:\")\n",
    "display(student_df)\n",
    "\n",
    "# Đọc dữ liệu từ bảng course\n",
    "course_df = pd.read_sql_query(\"SELECT * FROM course;\", conn)\n",
    "print(\"Bảng Course:\")\n",
    "display(course_df)"
   ]
  },
  {
   "cell_type": "markdown",
   "metadata": {},
   "source": [
    "trong bảng Student:\n",
    "\n",
    "Số lượng: 10 dòng, 5 cột.\n",
    "Bảng Student có các cột: student_id (ID sinh viên, kiểu số nguyên), name (tên sinh viên, kiểu chuỗi), class (lớp, kiểu chuỗi), course_id (ID môn học, kiểu số thực, có giá trị thiếu), score (điểm, kiểu số thực).\n",
    "Cột course_id có 3 giá trị bị thiếu (NaN) ở các sinh viên có student_id là 3, 9, và 10. Điều này có thể ảnh hưởng đến việc xác định môn học của các sinh viên này."
   ]
  },
  {
   "cell_type": "markdown",
   "metadata": {},
   "source": [
    "Trong bảng Course:\n",
    "\n",
    "Số lượng: 3 dòng, 2 cột\n",
    "Bảng Course có các cột: id (ID môn học, kiểu số nguyên) và course_name (tên môn học, kiểu chuỗi)."
   ]
  },
  {
   "cell_type": "code",
   "execution_count": 7,
   "metadata": {},
   "outputs": [
    {
     "name": "stdout",
     "output_type": "stream",
     "text": [
      "Tích Decartes:\n",
      "    student_id               name     class  course_id  score  id course_name\n",
      "0            1  Nguyen Minh Hoang  May Tinh       12.0    6.7  12   Giai tich\n",
      "1            1  Nguyen Minh Hoang  May Tinh       12.0    6.7  26     Tin hoc\n",
      "2            1  Nguyen Minh Hoang  May Tinh       12.0    6.7  34    Thong ke\n",
      "3            2       Tran Thi Lan   Kinh Te       34.0    9.2  12   Giai tich\n",
      "4            2       Tran Thi Lan   Kinh Te       34.0    9.2  26     Tin hoc\n",
      "5            2       Tran Thi Lan   Kinh Te       34.0    9.2  34    Thong ke\n",
      "6            3       Pham Van Nam  Toan Tin        NaN    7.9  12   Giai tich\n",
      "7            3       Pham Van Nam  Toan Tin        NaN    7.9  26     Tin hoc\n",
      "8            3       Pham Van Nam  Toan Tin        NaN    7.9  34    Thong ke\n",
      "9            4     Le Thanh Huyen  Toan Tin       20.0    7.2  12   Giai tich\n",
      "10           4     Le Thanh Huyen  Toan Tin       20.0    7.2  26     Tin hoc\n",
      "11           4     Le Thanh Huyen  Toan Tin       20.0    7.2  34    Thong ke\n",
      "12           5        Vu Quoc Anh  May Tinh       24.0    8.0  12   Giai tich\n",
      "13           5        Vu Quoc Anh  May Tinh       24.0    8.0  26     Tin hoc\n",
      "14           5        Vu Quoc Anh  May Tinh       24.0    8.0  34    Thong ke\n",
      "15           6     Dang Thuy Linh  May Tinh       24.0    5.5  12   Giai tich\n",
      "16           6     Dang Thuy Linh  May Tinh       24.0    5.5  26     Tin hoc\n",
      "17           6     Dang Thuy Linh  May Tinh       24.0    5.5  34    Thong ke\n",
      "18           7      Bui Tien Dung   Kinh Te       34.0    9.2  12   Giai tich\n",
      "19           7      Bui Tien Dung   Kinh Te       34.0    9.2  26     Tin hoc\n",
      "20           7      Bui Tien Dung   Kinh Te       34.0    9.2  34    Thong ke\n",
      "21           8        Ho Ngoc Mai  Toan Tin       20.0    8.8  12   Giai tich\n",
      "22           8        Ho Ngoc Mai  Toan Tin       20.0    8.8  26     Tin hoc\n",
      "23           8        Ho Ngoc Mai  Toan Tin       20.0    8.8  34    Thong ke\n",
      "24           9     Duong Huu Phuc   Kinh Te        NaN    7.2  12   Giai tich\n",
      "25           9     Duong Huu Phuc   Kinh Te        NaN    7.2  26     Tin hoc\n",
      "26           9     Duong Huu Phuc   Kinh Te        NaN    7.2  34    Thong ke\n",
      "27          10       Cao Thi Hanh  May Tinh        NaN    7.0  12   Giai tich\n",
      "28          10       Cao Thi Hanh  May Tinh        NaN    7.0  26     Tin hoc\n",
      "29          10       Cao Thi Hanh  May Tinh        NaN    7.0  34    Thong ke\n",
      "\n",
      "\n"
     ]
    }
   ],
   "source": [
    "#sử dụng tích Decartes\n",
    "print(\"Tích Decartes:\")\n",
    "cursor.execute('''\n",
    "SELECT * FROM student, course;\n",
    "''')\n",
    "df_decartes = pd.DataFrame(cursor.fetchall(), columns=['student_id', 'name', 'class', 'course_id', 'score', 'id', 'course_name'])\n",
    "print(df_decartes)\n",
    "print(\"\\n\")"
   ]
  },
  {
   "cell_type": "markdown",
   "metadata": {},
   "source": [
    "Kết luận:\n",
    "\n",
    "Bảng này là kết quả của phép tích Descartes giữa hai bảng students và courses, dẫn đến việc mỗi sinh viên xuất hiện lặp lại cho mỗi môn học.\n",
    "Có 10 sinh viên và 3 môn học nên bảng kết quả có 10×3=30 dòng.\n",
    "Cột course_id có giá trị NaN cho thấy có sinh viên chưa đăng ký môn học nhưng vẫn xuất hiện trong tích Descartes.\n",
    "course_id và score không khớp hoàn toàn với id của bảng courses, chứng tỏ không phải sinh viên nào cũng đăng ký tất cả các môn.\n",
    "Cột score lặp lại cho mỗi sinh viên ở mỗi môn, cho thấy dữ liệu chưa được tổng hợp chính xác"
   ]
  },
  {
   "cell_type": "code",
   "execution_count": 8,
   "metadata": {},
   "outputs": [
    {
     "name": "stdout",
     "output_type": "stream",
     "text": [
      "INNER JOIN:\n",
      "   student_id               name     class  course_id  score  id course_name\n",
      "0           1  Nguyen Minh Hoang  May Tinh         12    6.7  12   Giai tich\n",
      "1           2       Tran Thi Lan   Kinh Te         34    9.2  34    Thong ke\n",
      "2           7      Bui Tien Dung   Kinh Te         34    9.2  34    Thong ke\n",
      "\n",
      "\n"
     ]
    }
   ],
   "source": [
    "print(\"INNER JOIN:\")\n",
    "cursor.execute('''\n",
    "SELECT * FROM student INNER JOIN course ON student.course_id = course.id;\n",
    "''')\n",
    "df_inner = pd.DataFrame(cursor.fetchall(), columns=['student_id', 'name', 'class', 'course_id', 'score', 'id', 'course_name'])\n",
    "print(df_inner)\n",
    "print(\"\\n\")"
   ]
  },
  {
   "cell_type": "markdown",
   "metadata": {},
   "source": [
    "Bảng chỉ hiển thị các dòng có giá trị khớp giữa course_id của bảng students và id của bảng courses.\n",
    "Chỉ có 3 sinh viên xuất hiện, cho thấy rất ít sinh viên có đăng ký môn học trùng khớp giữa hai bảng."
   ]
  },
  {
   "cell_type": "markdown",
   "metadata": {},
   "source": [
    "LEFT JOIN"
   ]
  },
  {
   "cell_type": "code",
   "execution_count": 9,
   "metadata": {},
   "outputs": [
    {
     "name": "stdout",
     "output_type": "stream",
     "text": [
      "LEFT JOIN:\n",
      "   student_id               name     class  course_id  score    id course_name\n",
      "0           1  Nguyen Minh Hoang  May Tinh       12.0    6.7  12.0   Giai tich\n",
      "1           2       Tran Thi Lan   Kinh Te       34.0    9.2  34.0    Thong ke\n",
      "2           3       Pham Van Nam  Toan Tin        NaN    7.9   NaN        None\n",
      "3           4     Le Thanh Huyen  Toan Tin       20.0    7.2   NaN        None\n",
      "4           5        Vu Quoc Anh  May Tinh       24.0    8.0   NaN        None\n",
      "5           6     Dang Thuy Linh  May Tinh       24.0    5.5   NaN        None\n",
      "6           7      Bui Tien Dung   Kinh Te       34.0    9.2  34.0    Thong ke\n",
      "7           8        Ho Ngoc Mai  Toan Tin       20.0    8.8   NaN        None\n",
      "8           9     Duong Huu Phuc   Kinh Te        NaN    7.2   NaN        None\n",
      "9          10       Cao Thi Hanh  May Tinh        NaN    7.0   NaN        None\n",
      "\n",
      "\n"
     ]
    }
   ],
   "source": [
    "print(\"LEFT JOIN:\")\n",
    "cursor.execute('''\n",
    "SELECT * FROM student LEFT JOIN course ON student.course_id = course.id;\n",
    "''')\n",
    "df_left = pd.DataFrame(cursor.fetchall(), columns=['student_id', 'name', 'class', 'course_id', 'score', 'id', 'course_name'])\n",
    "print(df_left)\n",
    "print(\"\\n\")"
   ]
  },
  {
   "cell_type": "markdown",
   "metadata": {},
   "source": [
    "LEFT JOIN giữ lại tất cả các bản ghi từ bảng students và chỉ thêm dữ liệu từ bảng courses khi có giá trị khớp.\n",
    "Các ô NaN ở cột id và course_name cho thấy có nhiều sinh viên có course_id không khớp với id của bảng courses"
   ]
  },
  {
   "cell_type": "markdown",
   "metadata": {},
   "source": [
    "RIGHT JOIN"
   ]
  },
  {
   "cell_type": "code",
   "execution_count": 10,
   "metadata": {},
   "outputs": [
    {
     "name": "stdout",
     "output_type": "stream",
     "text": [
      "RIGHT JOIN:\n",
      "   id course_name  student_id               name     class  course_id  score\n",
      "0  12   Giai tich         1.0  Nguyen Minh Hoang  May Tinh       12.0    6.7\n",
      "1  26     Tin hoc         NaN               None      None        NaN    NaN\n",
      "2  34    Thong ke         7.0      Bui Tien Dung   Kinh Te       34.0    9.2\n",
      "3  34    Thong ke         2.0       Tran Thi Lan   Kinh Te       34.0    9.2\n",
      "\n",
      "\n"
     ]
    }
   ],
   "source": [
    "print(\"RIGHT JOIN:\")\n",
    "cursor.execute('''\n",
    "SELECT * FROM course LEFT JOIN student ON course.id = student.course_id;\n",
    "''')\n",
    "df_right = pd.DataFrame(cursor.fetchall(), columns=['id', 'course_name', 'student_id', 'name', 'class', 'course_id', 'score'])\n",
    "print(df_right)\n",
    "print(\"\\n\")"
   ]
  },
  {
   "cell_type": "markdown",
   "metadata": {},
   "source": [
    "RIGHT JOIN giữ lại tất cả các bản ghi từ bảng courses và chỉ thêm dữ liệu từ bảng students khi có giá trị khớp.\n",
    "Có dòng với course_name là \"Tin hoc\" nhưng các cột thông tin sinh viên đều là NaN, chứng tỏ không có sinh viên nào đăng ký môn này hoặc dữ liệu đăng ký bị thiếu."
   ]
  },
  {
   "cell_type": "markdown",
   "metadata": {},
   "source": [
    "FULL OUTER JOIN (mô phỏng bằng UNION của LEFT JOIN và RIGHT JOIN)\n",
    "\n"
   ]
  },
  {
   "cell_type": "code",
   "execution_count": 11,
   "metadata": {},
   "outputs": [
    {
     "name": "stdout",
     "output_type": "stream",
     "text": [
      "FULL OUTER JOIN:      student_id               name     class  course_id  score    id  \\\n",
      "0            1  Nguyen Minh Hoang  May Tinh       12.0    6.7  12.0   \n",
      "1            2       Tran Thi Lan   Kinh Te       34.0    9.2  34.0   \n",
      "2            3       Pham Van Nam  Toan Tin        NaN    7.9   NaN   \n",
      "3            4     Le Thanh Huyen  Toan Tin       20.0    7.2   NaN   \n",
      "4            5        Vu Quoc Anh  May Tinh       24.0    8.0   NaN   \n",
      "5            6     Dang Thuy Linh  May Tinh       24.0    5.5   NaN   \n",
      "6            7      Bui Tien Dung   Kinh Te       34.0    9.2  34.0   \n",
      "7            8        Ho Ngoc Mai  Toan Tin       20.0    8.8   NaN   \n",
      "8            9     Duong Huu Phuc   Kinh Te        NaN    7.2   NaN   \n",
      "9           10       Cao Thi Hanh  May Tinh        NaN    7.0   NaN   \n",
      "10          26            Tin hoc      None        NaN    NaN   NaN   \n",
      "\n",
      "   course_name  \n",
      "0    Giai tich  \n",
      "1     Thong ke  \n",
      "2         None  \n",
      "3         None  \n",
      "4         None  \n",
      "5         None  \n",
      "6     Thong ke  \n",
      "7         None  \n",
      "8         None  \n",
      "9         None  \n",
      "10        None  \n"
     ]
    }
   ],
   "source": [
    "query = '''\n",
    "SELECT * FROM student LEFT JOIN course \n",
    "ON student.course_id = course.id\n",
    "UNION ALL\n",
    "SELECT * FROM course LEFT JOIN student \n",
    "ON course.id = student.course_id\n",
    "WHERE student.course_id IS NULL;\n",
    "'''\n",
    "df = pd.read_sql_query(query, conn)\n",
    "print(\"FULL OUTER JOIN: \", df)"
   ]
  },
  {
   "cell_type": "markdown",
   "metadata": {},
   "source": [
    "FULL OUTER JOIN giữ lại tất cả các bản ghi từ cả hai bảng students và courses, điền NaN khi không có giá trị khớp.\n",
    "Bảng có dòng với id = 26 và course_name = \"Tin hoc\" nhưng không có sinh viên nào đăng ký, thể hiện dữ liệu bị thiếu hoặc không có sinh viên nào học môn nào"
   ]
  },
  {
   "cell_type": "markdown",
   "metadata": {},
   "source": [
    "2. Hãy cập nhật những giá trị course_id còn thiếu trong bảng student bằng câu lệnh SQL, trong đó các giá trị được điền là những giá trị nằm trong bảng course và loại bỏ những bản ghi tham gia những môn học không tồn tại bảng course. Sau đó hãy cho biết:\n",
    "\n",
    "a. Tổng số sinh viên, điểm trung bình của từng lớp.\n",
    "\n",
    "b. Tổng số sinh viên, điểm trung bình của từng môn học.\n",
    "\n",
    "c. Phân loại thi đua theo số điểm của từng môn học biết:\n",
    "\n",
    "- i. Điểm TB ≥ 9.0: Xuất sắc. - ii. 6.0 ≤ Điểm TB ≤ 8.9: Tốt. - iii. Điểm TB < 6.0: Kém"
   ]
  },
  {
   "cell_type": "code",
   "execution_count": 12,
   "metadata": {},
   "outputs": [
    {
     "name": "stdout",
     "output_type": "stream",
     "text": [
      "   student_id               name     class  course_id  score\n",
      "0           1  Nguyen Minh Hoang  May Tinh         12    6.7\n",
      "1           2       Tran Thi Lan   Kinh Te         34    9.2\n",
      "2           3       Pham Van Nam  Toan Tin         12    7.9\n",
      "3           7      Bui Tien Dung   Kinh Te         34    9.2\n",
      "4           9     Duong Huu Phuc   Kinh Te         12    7.2\n",
      "5          10       Cao Thi Hanh  May Tinh         12    7.0\n"
     ]
    }
   ],
   "source": [
    "# Cập nhật course_id còn thiếu bằng giá trị ngẫu nhiên từ bảng course\n",
    "cursor.execute('''\n",
    "UPDATE student\n",
    "SET course_id = (\n",
    "    SELECT id FROM course ORDER BY RANDOM() LIMIT 1\n",
    ")\n",
    "WHERE course_id IS NULL;\n",
    "''')\n",
    "conn.commit()\n",
    "\n",
    "# Loại bỏ các bản ghi có course_id không hợp lệ\n",
    "cursor.execute('''\n",
    "DELETE FROM student\n",
    "WHERE course_id NOT IN (SELECT id FROM course);\n",
    "''')\n",
    "conn.commit()\n",
    "\n",
    "# Kiểm tra lại dữ liệu\n",
    "cursor.execute('SELECT * FROM student;')\n",
    "print(pd.DataFrame(cursor.fetchall(), columns=['student_id', 'name', 'class', 'course_id', 'score']))"
   ]
  },
  {
   "cell_type": "markdown",
   "metadata": {},
   "source": [
    "Các dòng có course_id là NaN trước đó đã được thay thế bằng mã môn học ngẫu nhiên từ bảng course.\n",
    "Các dòng có course_id không tồn tại trong bảng course đã bị xóa.\n",
    "Bảng kết quả chỉ còn lại các sinh viên có course_id hợp lệ và không còn giá trị NaN."
   ]
  },
  {
   "cell_type": "markdown",
   "metadata": {},
   "source": [
    "a. Tổng số sinh viên, điểm trung bình của từng lớp.\n",
    "\n"
   ]
  },
  {
   "cell_type": "code",
   "execution_count": 13,
   "metadata": {},
   "outputs": [
    {
     "name": "stdout",
     "output_type": "stream",
     "text": [
      "      class  total_students  avg_score\n",
      "0   Kinh Te               3       8.53\n",
      "1  May Tinh               2       6.85\n",
      "2  Toan Tin               1       7.90\n"
     ]
    }
   ],
   "source": [
    "# Truy vấn tổng số sinh viên và điểm trung bình của từng lớp\n",
    "query = '''\n",
    "SELECT class, COUNT(student_id) AS total_students, ROUND(AVG(score), 2) AS avg_score\n",
    "FROM student\n",
    "GROUP BY class;\n",
    "'''\n",
    "\n",
    "df = pd.read_sql_query(query, conn)\n",
    "print(df)"
   ]
  },
  {
   "cell_type": "markdown",
   "metadata": {},
   "source": [
    "Kinh Te: 8.53 — Điểm trung bình cao nhất trong các lớp, cho thấy chất lượng học tập tốt.\n",
    "May Tinh: 6.85 — Điểm trung bình thấp nhất, có thể cần cải thiện chất lượng học tập.\n",
    "Toan Tin: 7.90 — Ở mức khá, có thể duy trì và cải thiện thêm. Lớp Toan Tin chỉ có 1 sinh viên, có thể ảnh hưởng đến tính đại diện của điểm trung bình."
   ]
  },
  {
   "cell_type": "markdown",
   "metadata": {},
   "source": [
    "b. Tổng số sinh viên, điểm trung bình của từng môn học.\n",
    "\n"
   ]
  },
  {
   "cell_type": "code",
   "execution_count": 14,
   "metadata": {},
   "outputs": [
    {
     "name": "stdout",
     "output_type": "stream",
     "text": [
      "  course_name  total_students  avg_score\n",
      "0   Giai tich               4        7.2\n",
      "1    Thong ke               2        9.2\n"
     ]
    }
   ],
   "source": [
    "# Truy vấn tổng số sinh viên và điểm trung bình của từng môn học\n",
    "query = '''\n",
    "SELECT course.course_name, COUNT(student.student_id) AS total_students, ROUND(AVG(student.score), 2) AS avg_score\n",
    "FROM student\n",
    "LEFT JOIN course ON student.course_id = course.id\n",
    "GROUP BY course.course_name;\n",
    "'''\n",
    "\n",
    "df = pd.read_sql_query(query, conn)\n",
    "print(df)"
   ]
  },
  {
   "cell_type": "markdown",
   "metadata": {},
   "source": [
    "Thong ke là môn có kết quả tốt nhất với điểm trung bình cao.\n",
    "Giai tich có thể cần cải thiện về cả số lượng sinh viên đăng ký và chất lượng học tập.\n",
    "Tin hoc dù đông sinh viên nhưng điểm chưa cao, cần tập trung cải thiện."
   ]
  },
  {
   "cell_type": "markdown",
   "metadata": {},
   "source": [
    "c. Phân loại thi đua theo số điểm của từng môn học biết:\n",
    "\n",
    "i. Điểm TB ≥ 9.0: Xuất sắc.\n",
    "ii. 6.0 ≤ Điểm TB ≤ 8.9: Tốt.\n",
    "iii. Điểm TB < 6.0: Kém."
   ]
  },
  {
   "cell_type": "code",
   "execution_count": 15,
   "metadata": {},
   "outputs": [
    {
     "name": "stdout",
     "output_type": "stream",
     "text": [
      "  course_name  avg_score    rating\n",
      "0   Giai tich        7.2       Tốt\n",
      "1    Thong ke        9.2  Xuất sắc\n"
     ]
    }
   ],
   "source": [
    "# Truy vấn phân loại thi đua theo điểm trung bình của từng môn học\n",
    "query = '''\n",
    "SELECT course.course_name,\n",
    "       ROUND(AVG(student.score), 2) AS avg_score,\n",
    "       CASE\n",
    "           WHEN ROUND(AVG(student.score), 2) >= 9.0 THEN 'Xuất sắc'\n",
    "           WHEN ROUND(AVG(student.score), 2) BETWEEN 6.0 AND 8.9 THEN 'Tốt'\n",
    "           ELSE 'Kém'\n",
    "       END AS rating\n",
    "FROM student\n",
    "LEFT JOIN course ON student.course_id = course.id\n",
    "GROUP BY course.course_name;\n",
    "'''\n",
    "\n",
    "df = pd.read_sql_query(query, conn)\n",
    "print(df)"
   ]
  },
  {
   "cell_type": "markdown",
   "metadata": {},
   "source": [
    "Môn Thong ke dẫn đầu với xếp loại Xuất sắc và điểm trung bình cao nhất.\n",
    "Giai tich và Tin hoc xếp loại Tốt, cần có giải pháp nâng cao chất lượng.\n",
    "Không có môn Kém là một tín hiệu tích cực cho chất lượng đào tạo hiện tại."
   ]
  },
  {
   "cell_type": "markdown",
   "metadata": {},
   "source": [
    "3. Hãy xếp hạng sinh viên thông qua:\n",
    "\n",
    "a. Điểm số.\n",
    "\n",
    "b. Điểm số theo lớp học.\n",
    "\n",
    "c. Điểm số theo mã môn học.\n",
    "\n",
    "và cho biết top 3 sinh viện đạt thứ hạng cao nhất, top 3 sinh viên đạt thứ hạng thấp nhất theo từng trường hợp trên."
   ]
  },
  {
   "cell_type": "markdown",
   "metadata": {},
   "source": [
    "a. Điểm số"
   ]
  },
  {
   "cell_type": "code",
   "execution_count": 16,
   "metadata": {},
   "outputs": [
    {
     "name": "stdout",
     "output_type": "stream",
     "text": [
      "   student_id               name     class  course_id  score  rank\n",
      "0           2       Tran Thi Lan   Kinh Te         34    9.2     1\n",
      "1           7      Bui Tien Dung   Kinh Te         34    9.2     1\n",
      "2           3       Pham Van Nam  Toan Tin         12    7.9     3\n",
      "3           9     Duong Huu Phuc   Kinh Te         12    7.2     4\n",
      "4          10       Cao Thi Hanh  May Tinh         12    7.0     5\n",
      "5           1  Nguyen Minh Hoang  May Tinh         12    6.7     6\n"
     ]
    }
   ],
   "source": [
    "# Truy vấn xếp hạng sinh viên theo điểm số\n",
    "query = '''\n",
    "SELECT student_id, name, class, course_id, score,\n",
    "       RANK() OVER (ORDER BY score DESC) AS rank\n",
    "FROM student\n",
    "ORDER BY score DESC;\n",
    "'''\n",
    "\n",
    "df_rank = pd.read_sql_query(query, conn)\n",
    "print(df_rank)"
   ]
  },
  {
   "cell_type": "markdown",
   "metadata": {},
   "source": [
    "Lớp Kinh Te có thành tích nổi bật nhất với cả hạng 1 và hạng 4, thể hiện chất lượng học tập ổn định.\n",
    "Lớp May Tinh có xu hướng điểm thấp hơn so với các lớp khác, cần xem xét cải thiện phương pháp giảng dạy.\n",
    "Không có sinh viên dưới 6.5 điểm, thể hiện mặt bằng học lực khá tốt."
   ]
  },
  {
   "cell_type": "markdown",
   "metadata": {},
   "source": [
    "b. điểm số theo lớp học"
   ]
  },
  {
   "cell_type": "code",
   "execution_count": 17,
   "metadata": {},
   "outputs": [
    {
     "name": "stdout",
     "output_type": "stream",
     "text": [
      "   student_id               name     class  course_id  score  class_rank\n",
      "0           2       Tran Thi Lan   Kinh Te         34    9.2           1\n",
      "1           7      Bui Tien Dung   Kinh Te         34    9.2           1\n",
      "2           9     Duong Huu Phuc   Kinh Te         12    7.2           3\n",
      "3          10       Cao Thi Hanh  May Tinh         12    7.0           1\n",
      "4           1  Nguyen Minh Hoang  May Tinh         12    6.7           2\n",
      "5           3       Pham Van Nam  Toan Tin         12    7.9           1\n"
     ]
    }
   ],
   "source": [
    "# Truy vấn xếp hạng sinh viên theo điểm số trong từng lớp\n",
    "query = '''\n",
    "SELECT student_id, name, class, course_id, score,\n",
    "       RANK() OVER (PARTITION BY class ORDER BY score DESC) AS class_rank\n",
    "FROM student\n",
    "ORDER BY class, class_rank;\n",
    "'''\n",
    "\n",
    "df_class_rank = pd.read_sql_query(query, conn)\n",
    "print(df_class_rank)"
   ]
  },
  {
   "cell_type": "markdown",
   "metadata": {},
   "source": [
    "Lớp Kinh Te có sự cạnh tranh cao với khoảng cách điểm lớn giữa các hạng.\n",
    "Lớp May Tinh cần nâng cao chất lượng học tập do điểm số dẫn đầu chưa thực sự nổi bật.\n",
    "Lớp Toan Tin có mặt bằng điểm khá nhưng thiếu sự cạnh tranh, cần thu hút thêm sinh viên"
   ]
  },
  {
   "cell_type": "markdown",
   "metadata": {},
   "source": [
    "c. Điểm số theo mã môn học.\n",
    "\n"
   ]
  },
  {
   "cell_type": "code",
   "execution_count": 18,
   "metadata": {},
   "outputs": [
    {
     "name": "stdout",
     "output_type": "stream",
     "text": [
      "   student_id               name     class  course_id  score  course_rank\n",
      "0           3       Pham Van Nam  Toan Tin         12    7.9            1\n",
      "1           9     Duong Huu Phuc   Kinh Te         12    7.2            2\n",
      "2          10       Cao Thi Hanh  May Tinh         12    7.0            3\n",
      "3           1  Nguyen Minh Hoang  May Tinh         12    6.7            4\n",
      "4           2       Tran Thi Lan   Kinh Te         34    9.2            1\n",
      "5           7      Bui Tien Dung   Kinh Te         34    9.2            1\n"
     ]
    }
   ],
   "source": [
    "# Truy vấn xếp hạng sinh viên theo điểm số trong từng mã môn học\n",
    "query = '''\n",
    "SELECT student_id, name, class, course_id, score,\n",
    "       RANK() OVER (PARTITION BY course_id ORDER BY score DESC) AS course_rank\n",
    "FROM student\n",
    "ORDER BY course_id, course_rank;\n",
    "'''\n",
    "\n",
    "df_course_rank = pd.read_sql_query(query, conn)\n",
    "print(df_course_rank)"
   ]
  },
  {
   "cell_type": "markdown",
   "metadata": {},
   "source": [
    "Môn Giai tich: Nguyễn Minh Hoàng là sinh viên duy nhất với 6.7 điểm (mức trung bình), cần cải thiện thêm.\n",
    "Môn Tin hoc: Phạm Văn Nam dẫn đầu với 7.9 điểm; Dương Hữu Phúc và Cao Thị Hạnh lần lượt đạt 7.2 và 7.0 điểm. Điểm trung bình khá ổn, cần cố gắng hơn để đạt xuất sắc.\n",
    "Môn Thong ke: Trần Thị Lan và Bùi Tiến Dũng cùng đạt 9.2 điểm (xuất sắc), có điểm trung bình cao nhất, thể hiện chất lượng học tập tốt."
   ]
  },
  {
   "cell_type": "markdown",
   "metadata": {},
   "source": [
    "Cho biết top 3 sinh viện đạt thứ hạng cao nhất, top 3 sinh viên đạt thứ hạng thấp nhất theo từng trường hợp trên.\n",
    "\n",
    "Top 3 cao nhất & thấp nhất theo điểm số"
   ]
  },
  {
   "cell_type": "code",
   "execution_count": 19,
   "metadata": {},
   "outputs": [
    {
     "name": "stdout",
     "output_type": "stream",
     "text": [
      " Top 3 cao nhất & thấp nhất theo điểm số toàn bộ:\n",
      "   student_id               name     class  course_id  score  rank_desc  \\\n",
      "0           2       Tran Thi Lan   Kinh Te         34    9.2          1   \n",
      "1           7      Bui Tien Dung   Kinh Te         34    9.2          1   \n",
      "2           3       Pham Van Nam  Toan Tin         12    7.9          3   \n",
      "3           9     Duong Huu Phuc   Kinh Te         12    7.2          4   \n",
      "4          10       Cao Thi Hanh  May Tinh         12    7.0          5   \n",
      "5           1  Nguyen Minh Hoang  May Tinh         12    6.7          6   \n",
      "\n",
      "   rank_asc  \n",
      "0         5  \n",
      "1         5  \n",
      "2         4  \n",
      "3         3  \n",
      "4         2  \n",
      "5         1  \n",
      "\n",
      "\n"
     ]
    }
   ],
   "source": [
    "# Truy vấn top 3 cao nhất và thấp nhất theo điểm số toàn bộ\n",
    "query = '''\n",
    "WITH ranked_students AS (\n",
    "    SELECT student_id, name, class, course_id, score,\n",
    "           RANK() OVER (ORDER BY score DESC) AS rank_desc,\n",
    "           RANK() OVER (ORDER BY score ASC) AS rank_asc\n",
    "    FROM student\n",
    ")\n",
    "SELECT * FROM ranked_students\n",
    "WHERE rank_desc <= 3 OR rank_asc <= 3\n",
    "ORDER BY rank_desc;\n",
    "'''\n",
    "df_top_all = pd.read_sql_query(query, conn)\n",
    "print(\" Top 3 cao nhất & thấp nhất theo điểm số toàn bộ:\")\n",
    "print(df_top_all)\n",
    "print(\"\\n\")"
   ]
  },
  {
   "cell_type": "markdown",
   "metadata": {},
   "source": [
    "Top 3 cao nhất:\n",
    "\n",
    "Trần Thị Lan và Bùi Tiến Dũng (9.2 điểm) — Hạng 1.\n",
    "Phạm Văn Nam (7.9 điểm) — Hạng 3.\n",
    "Top 3 thấp nhất:\n",
    "\n",
    "Nguyễn Minh Hoàng (6.7 điểm) — Hạng 6 (thấp nhất).\n",
    "Cao Thị Hạnh (7.0 điểm) — Hạng 5.\n",
    "Dương Hữu Phúc (7.2 điểm) — Hạng 4."
   ]
  },
  {
   "cell_type": "markdown",
   "metadata": {},
   "source": [
    "Top 3 cao nhất & thấp nhất theo điểm số từng lớp"
   ]
  },
  {
   "cell_type": "code",
   "execution_count": 20,
   "metadata": {},
   "outputs": [
    {
     "name": "stdout",
     "output_type": "stream",
     "text": [
      " Top 3 cao nhất & thấp nhất theo điểm số từng lớp:\n",
      "   student_id               name     class  course_id  score  class_rank_desc  \\\n",
      "0           2       Tran Thi Lan   Kinh Te         34    9.2                1   \n",
      "1           7      Bui Tien Dung   Kinh Te         34    9.2                1   \n",
      "2           9     Duong Huu Phuc   Kinh Te         12    7.2                3   \n",
      "3          10       Cao Thi Hanh  May Tinh         12    7.0                1   \n",
      "4           1  Nguyen Minh Hoang  May Tinh         12    6.7                2   \n",
      "5           3       Pham Van Nam  Toan Tin         12    7.9                1   \n",
      "\n",
      "   class_rank_asc  \n",
      "0               2  \n",
      "1               2  \n",
      "2               1  \n",
      "3               2  \n",
      "4               1  \n",
      "5               1  \n",
      "\n",
      "\n"
     ]
    }
   ],
   "source": [
    "# Truy vấn top 3 cao nhất và thấp nhất theo điểm từng lớp\n",
    "query = '''\n",
    "WITH ranked_students AS (\n",
    "    SELECT student_id, name, class, course_id, score,\n",
    "           RANK() OVER (PARTITION BY class ORDER BY score DESC) AS class_rank_desc,\n",
    "           RANK() OVER (PARTITION BY class ORDER BY score ASC) AS class_rank_asc\n",
    "    FROM student\n",
    ")\n",
    "SELECT * FROM ranked_students\n",
    "WHERE class_rank_desc <= 3 OR class_rank_asc <= 3\n",
    "ORDER BY class, class_rank_desc;\n",
    "'''\n",
    "\n",
    "df_top_class = pd.read_sql_query(query, conn)\n",
    "print(\" Top 3 cao nhất & thấp nhất theo điểm số từng lớp:\")\n",
    "print(df_top_class)\n",
    "print(\"\\n\")"
   ]
  },
  {
   "cell_type": "markdown",
   "metadata": {},
   "source": [
    "Top 3 cao nhất & thấp nhất theo điểm số từng lớp\n",
    "\n",
    "Lớp Kinh Tế:\n",
    "\n",
    "Cao nhất: Trần Thị Lan và Bùi Tiến Dũng (9.2 điểm) — Đồng hạng 1.\n",
    "Thấp nhất: Dương Hữu Phúc (7.2 điểm) — Hạng 3.\n",
    "Lớp Máy Tính:\n",
    "\n",
    "Cao nhất: Cao Thị Hạnh (7.0 điểm) — Hạng 1.\n",
    "Thấp nhất: Nguyễn Minh Hoàng (6.7 điểm) — Hạng 2 (cũng là thấp nhất).\n",
    "Lớp Toán Tin:\n",
    "\n",
    "Cao nhất: Phạm Văn Nam (7.9 điểm) — Hạng 1.\n",
    "Thấp nhất: Cũng là Phạm Văn Nam (7.9 điểm) — Hạng 1 (vì chỉ có 1 sinh viên)."
   ]
  },
  {
   "cell_type": "markdown",
   "metadata": {},
   "source": [
    "Top 3 cao nhất & thấp nhất theo điểm số từng môn học\n",
    "\n"
   ]
  },
  {
   "cell_type": "code",
   "execution_count": 21,
   "metadata": {},
   "outputs": [
    {
     "name": "stdout",
     "output_type": "stream",
     "text": [
      " Top 3 cao nhất & thấp nhất theo điểm số từng môn học:\n",
      "   student_id               name     class  course_id  score  \\\n",
      "0           3       Pham Van Nam  Toan Tin         12    7.9   \n",
      "1           9     Duong Huu Phuc   Kinh Te         12    7.2   \n",
      "2          10       Cao Thi Hanh  May Tinh         12    7.0   \n",
      "3           1  Nguyen Minh Hoang  May Tinh         12    6.7   \n",
      "4           2       Tran Thi Lan   Kinh Te         34    9.2   \n",
      "5           7      Bui Tien Dung   Kinh Te         34    9.2   \n",
      "\n",
      "   course_rank_desc  course_rank_asc  \n",
      "0                 1                4  \n",
      "1                 2                3  \n",
      "2                 3                2  \n",
      "3                 4                1  \n",
      "4                 1                1  \n",
      "5                 1                1  \n",
      "\n",
      "\n"
     ]
    }
   ],
   "source": [
    "# Truy vấn top 3 cao nhất và thấp nhất theo điểm từng môn học\n",
    "query = '''\n",
    "WITH ranked_students AS (\n",
    "    SELECT student_id, name, class, course_id, score,\n",
    "           RANK() OVER (PARTITION BY course_id ORDER BY score DESC) AS course_rank_desc,\n",
    "           RANK() OVER (PARTITION BY course_id ORDER BY score ASC) AS course_rank_asc\n",
    "    FROM student\n",
    ")\n",
    "SELECT * FROM ranked_students\n",
    "WHERE course_rank_desc <= 3 OR course_rank_asc <= 3\n",
    "ORDER BY course_id, course_rank_desc;\n",
    "'''\n",
    "\n",
    "df_top_course = pd.read_sql_query(query, conn)\n",
    "print(\" Top 3 cao nhất & thấp nhất theo điểm số từng môn học:\")\n",
    "print(df_top_course)\n",
    "print(\"\\n\")"
   ]
  },
  {
   "cell_type": "markdown",
   "metadata": {},
   "source": [
    "Top 3 cao nhất & thấp nhất theo điểm số từng môn học\n",
    "\n",
    "Môn Giải tích:\n",
    "\n",
    "Cao nhất: Nguyễn Minh Hoàng (6.7 điểm) — Hạng 1.\n",
    "Thấp nhất: Cũng là Nguyễn Minh Hoàng (6.7 điểm) — Hạng 1 vì chỉ có 1 sinh viên.\n",
    "Môn Tin học:\n",
    "\n",
    "Cao nhất: Phạm Văn Nam (7.9 điểm) — Hạng 1.\n",
    "Thấp nhất: Cao Thị Hạnh (7.0 điểm) — Hạng 3.\n",
    "Môn Thống kê:\n",
    "\n",
    "Cao nhất: Trần Thị Lan và Bùi Tiến Dũng (9.2 điểm) — Đồng hạng 1.\n",
    "Thấp nhất: Cũng là Trần Thị Lan và Bùi Tiến Dũng (9.2 điểm) — Đồng hạng 1 do điểm số bằng nhau."
   ]
  },
  {
   "cell_type": "markdown",
   "metadata": {},
   "source": [
    "4. Hãy bổ sung thêm một trường graduation_date có kiểu dữ liệu là DATETIME vào bảng student để xác định thời gian tốt nghiệp của từng bạn, trong đó thời gian tốt nghiệp được xác định bởi thời gian hiện tại cộng với số hạng tương ứng của bạn đó tính theo điểm số."
   ]
  },
  {
   "cell_type": "markdown",
   "metadata": {},
   "source": [
    "Thêm cột graduation_date vào bảng student\n",
    "\n"
   ]
  },
  {
   "cell_type": "code",
   "execution_count": 22,
   "metadata": {},
   "outputs": [],
   "source": [
    "# Thêm cột graduation_date với kiểu DATETIME nếu chưa có\n",
    "cursor.execute('''\n",
    "ALTER TABLE student ADD COLUMN graduation_date DATETIME;\n",
    "''')\n",
    "conn.commit()"
   ]
  },
  {
   "cell_type": "markdown",
   "metadata": {},
   "source": [
    "Cập nhật graduation_date dựa trên thứ hạng\n",
    "\n"
   ]
  },
  {
   "cell_type": "code",
   "execution_count": 23,
   "metadata": {},
   "outputs": [],
   "source": [
    "# Cập nhật graduation_date dựa trên thứ hạng\n",
    "cursor.execute('''\n",
    "WITH ranked_students AS (\n",
    "    SELECT student_id, RANK() OVER (ORDER BY score DESC) AS rank\n",
    "    FROM student\n",
    ")\n",
    "UPDATE student\n",
    "SET graduation_date = DATETIME('now', '+' || (\n",
    "    SELECT rank FROM ranked_students WHERE ranked_students.student_id = student.student_id\n",
    ") || ' months');\n",
    "''')\n",
    "conn.commit()"
   ]
  },
  {
   "cell_type": "markdown",
   "metadata": {},
   "source": [
    "Kiểm tra lại bảng student với trường graduation_date\n",
    "\n"
   ]
  },
  {
   "cell_type": "code",
   "execution_count": 24,
   "metadata": {},
   "outputs": [
    {
     "name": "stdout",
     "output_type": "stream",
     "text": [
      " Bảng `student` sau khi thêm trường `graduation_date`:\n",
      "   student_id               name     class  course_id  score  \\\n",
      "0           2       Tran Thi Lan   Kinh Te         34    9.2   \n",
      "1           7      Bui Tien Dung   Kinh Te         34    9.2   \n",
      "2           3       Pham Van Nam  Toan Tin         12    7.9   \n",
      "3           9     Duong Huu Phuc   Kinh Te         12    7.2   \n",
      "4          10       Cao Thi Hanh  May Tinh         12    7.0   \n",
      "5           1  Nguyen Minh Hoang  May Tinh         12    6.7   \n",
      "\n",
      "       graduation_date  \n",
      "0  2025-04-11 08:49:38  \n",
      "1  2025-04-11 08:49:38  \n",
      "2  2025-06-11 08:49:38  \n",
      "3  2025-07-11 08:49:38  \n",
      "4  2025-08-11 08:49:38  \n",
      "5  2025-09-11 08:49:38  \n"
     ]
    }
   ],
   "source": [
    "# Truy vấn lại để kiểm tra kết quả\n",
    "query = '''\n",
    "SELECT student_id, name, class, course_id, score, graduation_date\n",
    "FROM student\n",
    "ORDER BY score DESC;\n",
    "'''\n",
    "\n",
    "df_updated = pd.read_sql_query(query, conn)\n",
    "print(\" Bảng `student` sau khi thêm trường `graduation_date`:\")\n",
    "print(df_updated)"
   ]
  },
  {
   "cell_type": "markdown",
   "metadata": {},
   "source": [
    "Bảng student sau khi thêm trường graduation_date:\n",
    "\n",
    "Trần Thị Lan và Bùi Tiến Dũng (Kinh Tế):\n",
    "\n",
    "Điểm: 9.2 — Ngày tốt nghiệp: 08/04/2025.\n",
    "Phạm Văn Nam (Toán Tin):\n",
    "\n",
    "Điểm: 7.9 — Ngày tốt nghiệp: 08/06/2025.\n",
    "Dương Hữu Phúc (Kinh Tế):\n",
    "\n",
    "Điểm: 7.2 — Ngày tốt nghiệp: 08/07/2025.\n",
    "Cao Thị Hạnh (Máy Tính):\n",
    "\n",
    "Điểm: 7.0 — Ngày tốt nghiệp: 08/08/2025.\n",
    "Nguyễn Minh Hoàng (Máy Tính):\n",
    "\n",
    "Điểm: 6.7 — Ngày tốt nghiệp: 08/09/2025.\n",
    "Kết quả cho thấy trường graduation_date đã được cập nhật thành công và hợp lý trên dữ liệu"
   ]
  }
 ],
 "metadata": {
  "kernelspec": {
   "display_name": "base",
   "language": "python",
   "name": "python3"
  },
  "language_info": {
   "codemirror_mode": {
    "name": "ipython",
    "version": 3
   },
   "file_extension": ".py",
   "mimetype": "text/x-python",
   "name": "python",
   "nbconvert_exporter": "python",
   "pygments_lexer": "ipython3",
   "version": "3.11.5"
  }
 },
 "nbformat": 4,
 "nbformat_minor": 2
}
