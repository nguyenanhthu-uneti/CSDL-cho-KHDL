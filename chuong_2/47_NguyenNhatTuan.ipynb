{
 "cells": [
  {
   "cell_type": "code",
   "execution_count": 333,
   "id": "64f67a6b-05ef-442d-9cf6-565e155101a9",
   "metadata": {},
   "outputs": [],
   "source": [
    "import sqlite3\n",
    "\n",
    "# Kết nối đến database (tạo mới nếu chưa có)\n",
    "conn = sqlite3.connect(\":memory:\")  # Database trong RAM\n",
    "cursor = conn.cursor()\n",
    "\n",
    "# Tạo bảng student\n",
    "cursor.execute(\"\"\"\n",
    "CREATE TABLE student (\n",
    "    student_id INTEGER PRIMARY KEY,\n",
    "    name TEXT,\n",
    "    class TEXT,\n",
    "    course_id INTEGER,\n",
    "    score REAL\n",
    ");\n",
    "\"\"\")\n",
    "\n",
    "# Tạo bảng course\n",
    "cursor.execute(\"\"\"\n",
    "CREATE TABLE course (\n",
    "    id INTEGER PRIMARY KEY,\n",
    "    course_name TEXT\n",
    ");\n",
    "\"\"\")\n",
    "\n",
    "# Dữ liệu student\n",
    "students_data = [\n",
    "    (1, \"Nguyen Minh Hoang\", \"May Tinh\", 12, 6.7),\n",
    "    (2, \"Tran Thi Lan\", \"Kinh Te\", 34, 9.2),\n",
    "    (3, \"Pham Van Nam\", \"Toan Tin\", None, 7.9),\n",
    "    (4, \"Le Thanh Huyen\", \"Toan Tin\", 20, 7.2),\n",
    "    (5, \"Vu Quoc Anh\", \"May Tinh\", 24, 8.0),\n",
    "    (6, \"Dang Thuy Linh\", \"May Tinh\", 24, 5.5),\n",
    "    (7, \"Bui Tien Dung\", \"Kinh Te\", 34, 9.2),\n",
    "    (8, \"Ho Ngoc Mai\", \"Toan Tin\", 20, 8.8),\n",
    "    (9, \"Duong Huu Phuc\", \"Kinh Te\", None, 7.2),\n",
    "    (10, \"Cao Thi Hanh\", \"May Tinh\", None, 7.0)\n",
    "]\n",
    "\n",
    "cursor.executemany(\"INSERT INTO student VALUES (?, ?, ?, ?, ?);\", students_data)\n",
    "\n",
    "# Dữ liệu course\n",
    "courses_data = [\n",
    "    (12, \"Giai tich\"),\n",
    "    (34, \"Thong ke\"),\n",
    "    (26, \"Tin hoc\")\n",
    "]\n",
    "\n",
    "cursor.executemany(\"INSERT INTO course VALUES (?, ?);\", courses_data)\n",
    "\n",
    "conn.commit()\n"
   ]
  },
  {
   "cell_type": "code",
   "execution_count": 335,
   "id": "6c3f7f90-d6c2-4dc5-b219-4a600e97cb2e",
   "metadata": {},
   "outputs": [
    {
     "name": "stdout",
     "output_type": "stream",
     "text": [
      "Tích Descartes:\n",
      "(1, 'Nguyen Minh Hoang', 'May Tinh', 12, 6.7, 12, 'Giai tich')\n",
      "(1, 'Nguyen Minh Hoang', 'May Tinh', 12, 6.7, 26, 'Tin hoc')\n",
      "(1, 'Nguyen Minh Hoang', 'May Tinh', 12, 6.7, 34, 'Thong ke')\n",
      "(2, 'Tran Thi Lan', 'Kinh Te', 34, 9.2, 12, 'Giai tich')\n",
      "(2, 'Tran Thi Lan', 'Kinh Te', 34, 9.2, 26, 'Tin hoc')\n",
      "(2, 'Tran Thi Lan', 'Kinh Te', 34, 9.2, 34, 'Thong ke')\n",
      "(3, 'Pham Van Nam', 'Toan Tin', None, 7.9, 12, 'Giai tich')\n",
      "(3, 'Pham Van Nam', 'Toan Tin', None, 7.9, 26, 'Tin hoc')\n",
      "(3, 'Pham Van Nam', 'Toan Tin', None, 7.9, 34, 'Thong ke')\n",
      "(4, 'Le Thanh Huyen', 'Toan Tin', 20, 7.2, 12, 'Giai tich')\n",
      "(4, 'Le Thanh Huyen', 'Toan Tin', 20, 7.2, 26, 'Tin hoc')\n",
      "(4, 'Le Thanh Huyen', 'Toan Tin', 20, 7.2, 34, 'Thong ke')\n",
      "(5, 'Vu Quoc Anh', 'May Tinh', 24, 8.0, 12, 'Giai tich')\n",
      "(5, 'Vu Quoc Anh', 'May Tinh', 24, 8.0, 26, 'Tin hoc')\n",
      "(5, 'Vu Quoc Anh', 'May Tinh', 24, 8.0, 34, 'Thong ke')\n",
      "(6, 'Dang Thuy Linh', 'May Tinh', 24, 5.5, 12, 'Giai tich')\n",
      "(6, 'Dang Thuy Linh', 'May Tinh', 24, 5.5, 26, 'Tin hoc')\n",
      "(6, 'Dang Thuy Linh', 'May Tinh', 24, 5.5, 34, 'Thong ke')\n",
      "(7, 'Bui Tien Dung', 'Kinh Te', 34, 9.2, 12, 'Giai tich')\n",
      "(7, 'Bui Tien Dung', 'Kinh Te', 34, 9.2, 26, 'Tin hoc')\n",
      "(7, 'Bui Tien Dung', 'Kinh Te', 34, 9.2, 34, 'Thong ke')\n",
      "(8, 'Ho Ngoc Mai', 'Toan Tin', 20, 8.8, 12, 'Giai tich')\n",
      "(8, 'Ho Ngoc Mai', 'Toan Tin', 20, 8.8, 26, 'Tin hoc')\n",
      "(8, 'Ho Ngoc Mai', 'Toan Tin', 20, 8.8, 34, 'Thong ke')\n",
      "(9, 'Duong Huu Phuc', 'Kinh Te', None, 7.2, 12, 'Giai tich')\n",
      "(9, 'Duong Huu Phuc', 'Kinh Te', None, 7.2, 26, 'Tin hoc')\n",
      "(9, 'Duong Huu Phuc', 'Kinh Te', None, 7.2, 34, 'Thong ke')\n",
      "(10, 'Cao Thi Hanh', 'May Tinh', None, 7.0, 12, 'Giai tich')\n",
      "(10, 'Cao Thi Hanh', 'May Tinh', None, 7.0, 26, 'Tin hoc')\n",
      "(10, 'Cao Thi Hanh', 'May Tinh', None, 7.0, 34, 'Thong ke')\n"
     ]
    }
   ],
   "source": [
    "cursor.execute(\"\"\"\n",
    "SELECT * FROM student, course;\n",
    "\"\"\")\n",
    "print(\"Tích Descartes:\")\n",
    "for row in cursor.fetchall():\n",
    "    print(row)\n"
   ]
  },
  {
   "cell_type": "code",
   "execution_count": 337,
   "id": "8d8beec3-53d7-4b10-bd60-317125ecd8ba",
   "metadata": {},
   "outputs": [
    {
     "name": "stdout",
     "output_type": "stream",
     "text": [
      "\n",
      "INNER JOIN:\n",
      "(1, 'Nguyen Minh Hoang', 'May Tinh', 12, 6.7, 'Giai tich')\n",
      "(2, 'Tran Thi Lan', 'Kinh Te', 34, 9.2, 'Thong ke')\n",
      "(7, 'Bui Tien Dung', 'Kinh Te', 34, 9.2, 'Thong ke')\n"
     ]
    }
   ],
   "source": [
    "cursor.execute(\"\"\"\n",
    "SELECT student.student_id, student.name, student.class, student.course_id, \n",
    "       student.score, course.course_name \n",
    "FROM student \n",
    "INNER JOIN course ON student.course_id = course.id;\n",
    "\"\"\")\n",
    "print(\"\\nINNER JOIN:\")\n",
    "for row in cursor.fetchall():\n",
    "    print(row)\n"
   ]
  },
  {
   "cell_type": "code",
   "execution_count": 339,
   "id": "82b55496-35cf-409f-9561-d2d363c9cec6",
   "metadata": {},
   "outputs": [
    {
     "name": "stdout",
     "output_type": "stream",
     "text": [
      "\n",
      "LEFT JOIN:\n",
      "(1, 'Nguyen Minh Hoang', 'May Tinh', 12, 6.7, 'Giai tich')\n",
      "(2, 'Tran Thi Lan', 'Kinh Te', 34, 9.2, 'Thong ke')\n",
      "(3, 'Pham Van Nam', 'Toan Tin', None, 7.9, None)\n",
      "(4, 'Le Thanh Huyen', 'Toan Tin', 20, 7.2, None)\n",
      "(5, 'Vu Quoc Anh', 'May Tinh', 24, 8.0, None)\n",
      "(6, 'Dang Thuy Linh', 'May Tinh', 24, 5.5, None)\n",
      "(7, 'Bui Tien Dung', 'Kinh Te', 34, 9.2, 'Thong ke')\n",
      "(8, 'Ho Ngoc Mai', 'Toan Tin', 20, 8.8, None)\n",
      "(9, 'Duong Huu Phuc', 'Kinh Te', None, 7.2, None)\n",
      "(10, 'Cao Thi Hanh', 'May Tinh', None, 7.0, None)\n"
     ]
    }
   ],
   "source": [
    "cursor.execute(\"\"\"\n",
    "SELECT student.student_id, student.name, student.class, student.course_id, \n",
    "       student.score, course.course_name \n",
    "FROM student \n",
    "LEFT JOIN course ON student.course_id = course.id;\n",
    "\"\"\")\n",
    "print(\"\\nLEFT JOIN:\")\n",
    "for row in cursor.fetchall():\n",
    "    print(row)\n"
   ]
  },
  {
   "cell_type": "code",
   "execution_count": 341,
   "id": "59072f23-b3e1-45f1-8d57-6773b3411ca7",
   "metadata": {},
   "outputs": [
    {
     "name": "stdout",
     "output_type": "stream",
     "text": [
      "\n",
      "RIGHT JOIN (mô phỏng bằng LEFT JOIN):\n",
      "(1, 'Nguyen Minh Hoang', 'May Tinh', 12, 6.7, 'Giai tich')\n",
      "(None, None, None, None, None, 'Tin hoc')\n",
      "(7, 'Bui Tien Dung', 'Kinh Te', 34, 9.2, 'Thong ke')\n",
      "(2, 'Tran Thi Lan', 'Kinh Te', 34, 9.2, 'Thong ke')\n"
     ]
    }
   ],
   "source": [
    "cursor.execute(\"\"\"\n",
    "SELECT student.student_id, student.name, student.class, student.course_id, \n",
    "       student.score, course.course_name \n",
    "FROM course \n",
    "LEFT JOIN student ON student.course_id = course.id;\n",
    "\"\"\")\n",
    "print(\"\\nRIGHT JOIN (mô phỏng bằng LEFT JOIN):\")\n",
    "for row in cursor.fetchall():\n",
    "    print(row)\n"
   ]
  },
  {
   "cell_type": "code",
   "execution_count": 343,
   "id": "9113ff8f-ceb5-4ac1-a1e8-8f0552c3aa93",
   "metadata": {},
   "outputs": [
    {
     "name": "stdout",
     "output_type": "stream",
     "text": [
      "\n",
      "FULL OUTER JOIN (mô phỏng bằng UNION):\n",
      "(None, None, None, None, None, 'Tin hoc')\n",
      "(1, 'Nguyen Minh Hoang', 'May Tinh', 12, 6.7, 'Giai tich')\n",
      "(2, 'Tran Thi Lan', 'Kinh Te', 34, 9.2, 'Thong ke')\n",
      "(3, 'Pham Van Nam', 'Toan Tin', None, 7.9, None)\n",
      "(4, 'Le Thanh Huyen', 'Toan Tin', 20, 7.2, None)\n",
      "(5, 'Vu Quoc Anh', 'May Tinh', 24, 8.0, None)\n",
      "(6, 'Dang Thuy Linh', 'May Tinh', 24, 5.5, None)\n",
      "(7, 'Bui Tien Dung', 'Kinh Te', 34, 9.2, 'Thong ke')\n",
      "(8, 'Ho Ngoc Mai', 'Toan Tin', 20, 8.8, None)\n",
      "(9, 'Duong Huu Phuc', 'Kinh Te', None, 7.2, None)\n",
      "(10, 'Cao Thi Hanh', 'May Tinh', None, 7.0, None)\n"
     ]
    }
   ],
   "source": [
    "cursor.execute(\"\"\"\n",
    "SELECT student.student_id, student.name, student.class, student.course_id, \n",
    "       student.score, course.course_name \n",
    "FROM student \n",
    "LEFT JOIN course ON student.course_id = course.id\n",
    "UNION\n",
    "SELECT student.student_id, student.name, student.class, student.course_id, \n",
    "       student.score, course.course_name \n",
    "FROM student \n",
    "RIGHT JOIN course ON student.course_id = course.id;\n",
    "\"\"\")\n",
    "print(\"\\nFULL OUTER JOIN (mô phỏng bằng UNION):\")\n",
    "for row in cursor.fetchall():\n",
    "    print(row)\n"
   ]
  },
  {
   "cell_type": "markdown",
   "id": "7cf669ab-3e7d-42a2-ac9d-f623bee13065",
   "metadata": {},
   "source": [
    "# Tích Descartes : 30 hàng (mỗi sinh viên được ghép với mỗi khóa học).\n",
    "# INNER JOIN : Chỉ những sinh viên có course_id là 12 hoặc 34 (khớp với bảng khóa học ), do đó có 4 hàng (sinh viên 1, 2, 7).\n",
    "# LEFT JOIN : Tất cả 10 sinh viên, với course_name là NULL cho course_id 0, 20, 24.\n",
    "# RIGHT JOIN (mô phỏng) : Cả 3 khóa học, với dữ liệu sinh viên NULL cho course.id = 26 .\n",
    "# FULL OUTER JOIN (mô phỏng) : Tất cả học viên và tất cả khóa học, bao gồm cả các hàng không khớp (ví dụ: course.id = 26 nhưng không có học viên nào)."
   ]
  },
  {
   "cell_type": "code",
   "execution_count": 345,
   "id": "8e9e97f3-1498-4d86-aa4e-1d7189ce0eea",
   "metadata": {},
   "outputs": [
    {
     "name": "stdout",
     "output_type": "stream",
     "text": [
      "Updated student table:\n",
      "(1, 'Nguyen Minh Hoang', 'May Tinh', 12, 6.7)\n",
      "(2, 'Tran Thi Lan', 'Kinh Te', 34, 9.2)\n",
      "(3, 'Pham Van Nam', 'Toan Tin', 12, 7.9)\n",
      "(7, 'Bui Tien Dung', 'Kinh Te', 34, 9.2)\n",
      "(9, 'Duong Huu Phuc', 'Kinh Te', 12, 7.2)\n",
      "(10, 'Cao Thi Hanh', 'May Tinh', 12, 7.0)\n",
      "\n",
      "(a) Tổng số sinh viên, điểm trung bình của từng lớp:\n",
      "Lớp: Kinh Te, Số sinh viên: 3, Điểm trung bình: 8.53\n",
      "Lớp: May Tinh, Số sinh viên: 2, Điểm trung bình: 6.85\n",
      "Lớp: Toan Tin, Số sinh viên: 1, Điểm trung bình: 7.90\n",
      "\n",
      "(b) Tổng số sinh viên, điểm trung bình của từng môn học:\n",
      "Môn học: Giai tich, Số sinh viên: 4, Điểm trung bình: 7.20\n",
      "Môn học: Thong ke, Số sinh viên: 2, Điểm trung bình: 9.20\n",
      "\n",
      "(c) Phân loại thi đua theo số điểm trung bình của từng môn học:\n",
      "Môn học: Giai tich, Điểm trung bình: 7.20, Xếp loại: Tốt\n",
      "Môn học: Thong ke, Điểm trung bình: 9.20, Xếp loại: Xuất sắc\n"
     ]
    }
   ],
   "source": [
    "# Cập nhật các giá trị thiếu trong course_id\n",
    "cursor.execute(\"\"\"\n",
    "UPDATE student\n",
    "SET course_id = (\n",
    "    SELECT id FROM course ORDER BY RANDOM() LIMIT 1\n",
    ")\n",
    "WHERE course_id IS NULL;\n",
    "\"\"\")\n",
    "\n",
    "# Xóa các bản ghi có course_id không tồn tại trong bảng course\n",
    "cursor.execute(\"\"\"\n",
    "DELETE FROM student\n",
    "WHERE course_id NOT IN (SELECT id FROM course);\n",
    "\"\"\")\n",
    "\n",
    "conn.commit()\n",
    "\n",
    "# Xóa các bản ghi mà course_id vẫn chưa tồn tại trong bảng khóa học (nếu có)\n",
    "cursor.execute('''\n",
    "    DELETE FROM student\n",
    "    WHERE course_id NOT IN (SELECT id FROM course)\n",
    "''')\n",
    "\n",
    "# Cam kết thay đổi\n",
    "conn.commit()\n",
    "\n",
    "# Xác minh bảng cập nhật\n",
    "cursor.execute('SELECT * FROM student')\n",
    "print(\"Updated student table:\")\n",
    "for row in cursor.fetchall():\n",
    "    print(row)\n",
    "\n",
    "# a. Tổng số sinh viên, điểm trung bình của từng lớp\n",
    "query_class_stats = '''\n",
    "    SELECT class, COUNT(*) as total_students, AVG(score) as avg_score\n",
    "    FROM student\n",
    "    GROUP BY class\n",
    "'''\n",
    "print(\"\\n(a) Tổng số sinh viên, điểm trung bình của từng lớp:\")\n",
    "cursor.execute(query_class_stats)\n",
    "for row in cursor.fetchall():\n",
    "    print(f\"Lớp: {row[0]}, Số sinh viên: {row[1]}, Điểm trung bình: {row[2]:.2f}\")\n",
    "\n",
    "# b. Tổng số sinh viên, điểm trung bình của từng môn học\n",
    "query_course_stats = '''\n",
    "    SELECT c.course_name, COUNT(*) as total_students, AVG(s.score) as avg_score\n",
    "    FROM student s\n",
    "    JOIN course c ON s.course_id = c.id\n",
    "    GROUP BY c.course_name\n",
    "'''\n",
    "print(\"\\n(b) Tổng số sinh viên, điểm trung bình của từng môn học:\")\n",
    "cursor.execute(query_course_stats)\n",
    "for row in cursor.fetchall():\n",
    "    print(f\"Môn học: {row[0]}, Số sinh viên: {row[1]}, Điểm trung bình: {row[2]:.2f}\")\n",
    "\n",
    "# c. Phân loại thi đua theo số điểm trung bình của từng môn học\n",
    "query_classification = '''\n",
    "    SELECT c.course_name,\n",
    "           AVG(s.score) as avg_score,\n",
    "           CASE\n",
    "               WHEN AVG(s.score) > 9.0 THEN 'Xuất sắc'\n",
    "               WHEN AVG(s.score) BETWEEN 6.0 AND 8.9 THEN 'Tốt'\n",
    "               WHEN AVG(s.score) < 6.0 THEN 'Kém'\n",
    "           END as classification\n",
    "    FROM student s\n",
    "    JOIN course c ON s.course_id = c.id\n",
    "    GROUP BY c.course_name\n",
    "'''\n",
    "print(\"\\n(c) Phân loại thi đua theo số điểm trung bình của từng môn học:\")\n",
    "cursor.execute(query_classification)\n",
    "for row in cursor.fetchall():\n",
    "    print(f\"Môn học: {row[0]}, Điểm trung bình: {row[1]:.2f}, Xếp loại: {row[2]}\")\n",
    "\n"
   ]
  },
  {
   "cell_type": "code",
   "execution_count": 347,
   "id": "97cf30ec-39b3-4ad7-923d-03c42f177d31",
   "metadata": {},
   "outputs": [
    {
     "name": "stdout",
     "output_type": "stream",
     "text": [
      "\n",
      "Xếp hạng sinh viên theo điểm số:\n",
      "(2, 'Tran Thi Lan', 9.2, 1)\n",
      "(7, 'Bui Tien Dung', 9.2, 1)\n",
      "(3, 'Pham Van Nam', 7.9, 3)\n",
      "(9, 'Duong Huu Phuc', 7.2, 4)\n",
      "(10, 'Cao Thi Hanh', 7.0, 5)\n",
      "(1, 'Nguyen Minh Hoang', 6.7, 6)\n"
     ]
    }
   ],
   "source": [
    "print(\"\\nXếp hạng sinh viên theo điểm số:\")\n",
    "cursor.execute(\"\"\"\n",
    "SELECT student_id, name, score, RANK() OVER (ORDER BY score DESC) AS rank\n",
    "FROM student;\n",
    "\"\"\")\n",
    "for row in cursor.fetchall():\n",
    "    print(row)\n"
   ]
  },
  {
   "cell_type": "code",
   "execution_count": 349,
   "id": "9662a2ea-c236-4323-97c3-6f129109fe3b",
   "metadata": {},
   "outputs": [
    {
     "name": "stdout",
     "output_type": "stream",
     "text": [
      "\n",
      "Xếp hạng sinh viên theo lớp học:\n",
      "(2, 'Tran Thi Lan', 'Kinh Te', 9.2, 1)\n",
      "(7, 'Bui Tien Dung', 'Kinh Te', 9.2, 1)\n",
      "(9, 'Duong Huu Phuc', 'Kinh Te', 7.2, 3)\n",
      "(10, 'Cao Thi Hanh', 'May Tinh', 7.0, 1)\n",
      "(1, 'Nguyen Minh Hoang', 'May Tinh', 6.7, 2)\n",
      "(3, 'Pham Van Nam', 'Toan Tin', 7.9, 1)\n"
     ]
    }
   ],
   "source": [
    "print(\"\\nXếp hạng sinh viên theo lớp học:\")\n",
    "cursor.execute(\"\"\"\n",
    "SELECT student_id, name, class, score, RANK() OVER (PARTITION BY class ORDER BY score DESC) AS rank\n",
    "FROM student;\n",
    "\"\"\")\n",
    "for row in cursor.fetchall():\n",
    "    print(row)\n"
   ]
  },
  {
   "cell_type": "code",
   "execution_count": 351,
   "id": "71ca3050-66f3-4ecb-8d31-a16ca0ffebf1",
   "metadata": {},
   "outputs": [
    {
     "name": "stdout",
     "output_type": "stream",
     "text": [
      "\n",
      "Xếp hạng sinh viên theo môn học:\n",
      "(3, 'Pham Van Nam', 'Giai tich', 7.9, 1)\n",
      "(9, 'Duong Huu Phuc', 'Giai tich', 7.2, 2)\n",
      "(10, 'Cao Thi Hanh', 'Giai tich', 7.0, 3)\n",
      "(1, 'Nguyen Minh Hoang', 'Giai tich', 6.7, 4)\n",
      "(2, 'Tran Thi Lan', 'Thong ke', 9.2, 1)\n",
      "(7, 'Bui Tien Dung', 'Thong ke', 9.2, 1)\n"
     ]
    }
   ],
   "source": [
    "print(\"\\nXếp hạng sinh viên theo môn học:\")\n",
    "cursor.execute(\"\"\"\n",
    "SELECT student_id, name, course_name, score, RANK() OVER (PARTITION BY course_id ORDER BY score DESC) AS rank\n",
    "FROM student\n",
    "JOIN course ON student.course_id = course.id;\n",
    "\"\"\")\n",
    "for row in cursor.fetchall():\n",
    "    print(row)\n"
   ]
  },
  {
   "cell_type": "code",
   "execution_count": 353,
   "id": "1b862bc0-a7b1-4732-9bbe-08dc6359138f",
   "metadata": {},
   "outputs": [
    {
     "name": "stdout",
     "output_type": "stream",
     "text": [
      "\n",
      "Top 3 sinh viên có điểm cao nhất:\n",
      "(2, 'Tran Thi Lan', 9.2)\n",
      "(7, 'Bui Tien Dung', 9.2)\n",
      "(3, 'Pham Van Nam', 7.9)\n",
      "\n",
      "Top 3 sinh viên có điểm thấp nhất:\n",
      "(1, 'Nguyen Minh Hoang', 6.7)\n",
      "(10, 'Cao Thi Hanh', 7.0)\n",
      "(9, 'Duong Huu Phuc', 7.2)\n"
     ]
    }
   ],
   "source": [
    "print(\"\\nTop 3 sinh viên có điểm cao nhất:\")\n",
    "cursor.execute(\"\"\"\n",
    "SELECT student_id, name, score\n",
    "FROM student\n",
    "ORDER BY score DESC\n",
    "LIMIT 3;\n",
    "\"\"\")\n",
    "for row in cursor.fetchall():\n",
    "    print(row)\n",
    "\n",
    "print(\"\\nTop 3 sinh viên có điểm thấp nhất:\")\n",
    "cursor.execute(\"\"\"\n",
    "SELECT student_id, name, score\n",
    "FROM student\n",
    "ORDER BY score ASC\n",
    "LIMIT 3;\n",
    "\"\"\")\n",
    "for row in cursor.fetchall():\n",
    "    print(row)\n"
   ]
  },
  {
   "cell_type": "code",
   "execution_count": 355,
   "id": "57b729ce-552a-46b0-9bcc-69292bae8ee7",
   "metadata": {},
   "outputs": [
    {
     "name": "stdout",
     "output_type": "stream",
     "text": [
      "[(1, 'Nguyen Minh Hoang', 'May Tinh', 12, 6.7, '2026-03-13 00:00:00'), (2, 'Tran Thi Lan', 'Kinh Te', 34, 9.2, '2027-03-13 00:00:00'), (3, 'Pham Van Nam', 'Toan Tin', 12, 7.9, '2028-03-12 00:00:00'), (7, 'Bui Tien Dung', 'Kinh Te', 34, 9.2, '2032-03-11 00:00:00'), (9, 'Duong Huu Phuc', 'Kinh Te', 12, 7.2, '2034-03-11 00:00:00'), (10, 'Cao Thi Hanh', 'May Tinh', 12, 7.0, '2035-03-11 00:00:00')]\n"
     ]
    },
    {
     "name": "stderr",
     "output_type": "stream",
     "text": [
      "C:\\Users\\caoqu\\AppData\\Local\\Temp\\ipykernel_10192\\3171182252.py:15: DeprecationWarning: The default datetime adapter is deprecated as of Python 3.12; see the sqlite3 documentation for suggested replacement recipes\n",
      "  cursor.execute('''\n"
     ]
    }
   ],
   "source": [
    "from datetime import datetime, timedelta\n",
    "# Thêm trường graduation_date vào bảng student\n",
    "cursor.execute('''\n",
    "    ALTER TABLE student\n",
    "    ADD COLUMN graduation_date DATETIME\n",
    "''')\n",
    "\n",
    "# Lấy ngày hiện tại\n",
    "current_date = datetime(2025, 3, 13)\n",
    "\n",
    "# Cập nhật graduation_date cho từng sinh viên\n",
    "for student_id in range(1, 11):  # Dựa trên 10 sinh viên trong bảng\n",
    "    # Tính graduation_date bằng cách cộng student_id năm vào ngày hiện tại\n",
    "    graduation_date = current_date + timedelta(days=365 * student_id)\n",
    "    cursor.execute('''\n",
    "        UPDATE student\n",
    "        SET graduation_date = ?\n",
    "        WHERE student_id = ?\n",
    "    ''', (graduation_date, student_id))\n",
    "\n",
    "# Lưu thay đổi\n",
    "conn.commit()\n",
    "\n",
    "# Kiểm tra dữ liệu (tùy chọn)\n",
    "cursor.execute('SELECT * FROM student')\n",
    "print(cursor.fetchall())\n",
    "\n",
    "# Đóng kết nối\n",
    "conn.close()"
   ]
  },
  {
   "cell_type": "code",
   "execution_count": null,
   "id": "caffd99f-ac89-471a-97ab-325f9ca88f2e",
   "metadata": {},
   "outputs": [],
   "source": []
  }
 ],
 "metadata": {
  "kernelspec": {
   "display_name": "Python 3 (ipykernel)",
   "language": "python",
   "name": "python3"
  },
  "language_info": {
   "codemirror_mode": {
    "name": "ipython",
    "version": 3
   },
   "file_extension": ".py",
   "mimetype": "text/x-python",
   "name": "python",
   "nbconvert_exporter": "python",
   "pygments_lexer": "ipython3",
   "version": "3.12.7"
  }
 },
 "nbformat": 4,
 "nbformat_minor": 5
}
