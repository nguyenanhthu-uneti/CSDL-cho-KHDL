{
 "cells": [
  {
   "cell_type": "markdown",
   "metadata": {},
   "source": [
    "## **BÀI TẬP CHƯƠNG 2**"
   ]
  },
  {
   "cell_type": "markdown",
   "metadata": {},
   "source": [
    "**Cho hai bảng student(student_id, name, class, course_id, score) và course(id,\n",
    "course_name) như sau:**\n",
    "### Student Table\n",
    "| student_id | name             | class    | course_id | score |\n",
    "|------------|-----------------|----------|-----------|-------|\n",
    "| 1          | Nguyen Minh Hoang | May Tinh | 12        | 6.7   |\n",
    "| 2          | Tran Thi Lan      | Kinh Te  | 34        | 9.2   |\n",
    "| 3          | Pham Van Nam      | Toan Tin |           | 7.9   |\n",
    "| 4          | Le Thanh Huyen    | Toan Tin | 20        | 7.2   |\n",
    "| 5          | Vu Quoc Anh       | May Tinh | 24        | 8.0   |\n",
    "| 6          | Dang Thuy Linh    | May Tinh | 24        | 5.5   |\n",
    "| 7          | Bui Tien Dung     | Kinh Te  | 34        | 9.2   |\n",
    "| 8          | Ho Ngoc Mai       | Toan Tin | 20        | 8.8   |\n",
    "| 9          | Duong Huu Phuc    | Kinh Te  |           | 7.2   |\n",
    "| 10         | Cao Thi Hanh      | May Tinh |           | 7.0   |\n",
    "\n",
    "### Course Table\n",
    "| id  | course_name |\n",
    "|-----|------------|\n",
    "| 12  | Giai tich  |\n",
    "| 34  | Thong ke   |\n",
    "| 26  | Tin hoc    |\n"
   ]
  },
  {
   "cell_type": "markdown",
   "metadata": {},
   "source": [
    "### **1. Tạo bảng và chèn dữ liệu**\n"
   ]
  },
  {
   "cell_type": "code",
   "execution_count": 31,
   "metadata": {},
   "outputs": [],
   "source": [
    "import sqlite3\n",
    "\n",
    "# Kết nối đến cơ sở dữ liệu (tạo mới nếu chưa tồn tại)\n",
    "conn = sqlite3.connect('school.db')\n",
    "cursor = conn.cursor()\n",
    "\n",
    "# Tạo bảng student\n",
    "cursor.execute('''\n",
    "CREATE TABLE IF NOT EXISTS student (\n",
    "    student_id INTEGER PRIMARY KEY,\n",
    "    name TEXT,\n",
    "    class TEXT,\n",
    "    course_id INTEGER,\n",
    "    score REAL\n",
    ")\n",
    "''')\n",
    "\n",
    "# Tạo bảng course\n",
    "cursor.execute('''\n",
    "CREATE TABLE IF NOT EXISTS course (\n",
    "    id INTEGER PRIMARY KEY,\n",
    "    course_name TEXT\n",
    ")\n",
    "''')\n",
    "\n",
    "# Chèn dữ liệu vào bảng student\n",
    "students_data = [\n",
    "    (1, 'Nguyen Minh Hoang', 'May Tinh', 12, 6.7),\n",
    "    (2, 'Tran Thi Lan', 'Kinh Te', 34, 9.2),\n",
    "    (3, 'Pham Van Nam', 'Toan Tin', None, 7.9),\n",
    "    (4, 'Le Thanh Huyen', 'Toan Tin', 20, 7.2),\n",
    "    (5, 'Vu Quoc Anh', 'May Tinh', 24, 8.0),\n",
    "    (6, 'Dang Thuy Linh', 'May Tinh', 24, 5.5),\n",
    "    (7, 'Bui Tien Dung', 'Kinh Te', 34, 9.2),\n",
    "    (8, 'Ho Ngoc Mai', 'Toan Tin', 20, 8.8),\n",
    "    (9, 'Duong Huu Phuc', 'Kinh Te', None, 7.2),\n",
    "    (10, 'Cao Thi Hanh', 'May Tinh', None, 7.0)\n",
    "]\n",
    "cursor.executemany('INSERT INTO student VALUES (?, ?, ?, ?, ?)', students_data)\n",
    "\n",
    "# Chèn dữ liệu vào bảng course\n",
    "courses_data = [\n",
    "    (12, 'Giai tich'),\n",
    "    (34, 'Thong ke'),\n",
    "    (26, 'Tin hoc')\n",
    "]\n",
    "cursor.executemany('INSERT INTO course VALUES (?, ?)', courses_data)\n",
    "\n",
    "# Lưu thay đổi\n",
    "conn.commit()"
   ]
  },
  {
   "cell_type": "markdown",
   "metadata": {},
   "source": [
    "### **2. Kết nối hai bảng**\n"
   ]
  },
  {
   "cell_type": "markdown",
   "metadata": {},
   "source": [
    "#### **2.1. Sử dụng tích Descartes**\n"
   ]
  },
  {
   "cell_type": "markdown",
   "metadata": {},
   "source": [
    "Tích Descartes (Cartesian Product) là phép kết hợp tất cả các hàng của bảng student với tất cả các hàng của bảng course."
   ]
  },
  {
   "cell_type": "code",
   "execution_count": 32,
   "metadata": {},
   "outputs": [
    {
     "name": "stdout",
     "output_type": "stream",
     "text": [
      "Tích Descartes:\n",
      "(1, 'Nguyen Minh Hoang', 'May Tinh', 12, 6.7, 12, 'Giai tich')\n",
      "(1, 'Nguyen Minh Hoang', 'May Tinh', 12, 6.7, 26, 'Tin hoc')\n",
      "(1, 'Nguyen Minh Hoang', 'May Tinh', 12, 6.7, 34, 'Thong ke')\n",
      "(2, 'Tran Thi Lan', 'Kinh Te', 34, 9.2, 12, 'Giai tich')\n",
      "(2, 'Tran Thi Lan', 'Kinh Te', 34, 9.2, 26, 'Tin hoc')\n",
      "(2, 'Tran Thi Lan', 'Kinh Te', 34, 9.2, 34, 'Thong ke')\n",
      "(3, 'Pham Van Nam', 'Toan Tin', None, 7.9, 12, 'Giai tich')\n",
      "(3, 'Pham Van Nam', 'Toan Tin', None, 7.9, 26, 'Tin hoc')\n",
      "(3, 'Pham Van Nam', 'Toan Tin', None, 7.9, 34, 'Thong ke')\n",
      "(4, 'Le Thanh Huyen', 'Toan Tin', 20, 7.2, 12, 'Giai tich')\n",
      "(4, 'Le Thanh Huyen', 'Toan Tin', 20, 7.2, 26, 'Tin hoc')\n",
      "(4, 'Le Thanh Huyen', 'Toan Tin', 20, 7.2, 34, 'Thong ke')\n",
      "(5, 'Vu Quoc Anh', 'May Tinh', 24, 8.0, 12, 'Giai tich')\n",
      "(5, 'Vu Quoc Anh', 'May Tinh', 24, 8.0, 26, 'Tin hoc')\n",
      "(5, 'Vu Quoc Anh', 'May Tinh', 24, 8.0, 34, 'Thong ke')\n",
      "(6, 'Dang Thuy Linh', 'May Tinh', 24, 5.5, 12, 'Giai tich')\n",
      "(6, 'Dang Thuy Linh', 'May Tinh', 24, 5.5, 26, 'Tin hoc')\n",
      "(6, 'Dang Thuy Linh', 'May Tinh', 24, 5.5, 34, 'Thong ke')\n",
      "(7, 'Bui Tien Dung', 'Kinh Te', 34, 9.2, 12, 'Giai tich')\n",
      "(7, 'Bui Tien Dung', 'Kinh Te', 34, 9.2, 26, 'Tin hoc')\n",
      "(7, 'Bui Tien Dung', 'Kinh Te', 34, 9.2, 34, 'Thong ke')\n",
      "(8, 'Ho Ngoc Mai', 'Toan Tin', 20, 8.8, 12, 'Giai tich')\n",
      "(8, 'Ho Ngoc Mai', 'Toan Tin', 20, 8.8, 26, 'Tin hoc')\n",
      "(8, 'Ho Ngoc Mai', 'Toan Tin', 20, 8.8, 34, 'Thong ke')\n",
      "(9, 'Duong Huu Phuc', 'Kinh Te', None, 7.2, 12, 'Giai tich')\n",
      "(9, 'Duong Huu Phuc', 'Kinh Te', None, 7.2, 26, 'Tin hoc')\n",
      "(9, 'Duong Huu Phuc', 'Kinh Te', None, 7.2, 34, 'Thong ke')\n",
      "(10, 'Cao Thi Hanh', 'May Tinh', None, 7.0, 12, 'Giai tich')\n",
      "(10, 'Cao Thi Hanh', 'May Tinh', None, 7.0, 26, 'Tin hoc')\n",
      "(10, 'Cao Thi Hanh', 'May Tinh', None, 7.0, 34, 'Thong ke')\n"
     ]
    }
   ],
   "source": [
    "# Tích Descartes\n",
    "cursor.execute('''\n",
    "SELECT * FROM student, course\n",
    "''')\n",
    "cartesian_product = cursor.fetchall()\n",
    "print(\"Tích Descartes:\")\n",
    "for row in cartesian_product:\n",
    "    print(row)"
   ]
  },
  {
   "cell_type": "markdown",
   "metadata": {},
   "source": [
    "Trong phép tích Descartes, mỗi hàng của bảng student được kết hợp với tất cả các hàng của bảng course, dẫn đến số lượng hàng kết quả là tích của số hàng trong hai bảng.\n",
    "- Giải thích kết quả: \n",
    "\n",
    "    - Bảng student có 10 hàng.\n",
    "\n",
    "    - Bảng course có 3 hàng.\n",
    "\n",
    "    - Kết quả tích Descartes sẽ có 10 x 3 = 30 hàng."
   ]
  },
  {
   "cell_type": "markdown",
   "metadata": {},
   "source": [
    "#### **2.2. Sử dụng JOIN**"
   ]
  },
  {
   "cell_type": "markdown",
   "metadata": {},
   "source": [
    "INNER JOIN: Chỉ lấy các bản ghi có khớp course_id trong cả hai bảng.\n",
    "\n",
    "LEFT JOIN: Lấy tất cả bản ghi từ bảng student và khớp với bảng course nếu có.\n",
    "\n",
    "RIGHT JOIN: Lấy tất cả bản ghi từ bảng course và khớp với bảng student nếu có.\n",
    "\n",
    "FULL OUTER JOIN: Lấy tất cả bản ghi từ cả hai bảng, khớp nếu có"
   ]
  },
  {
   "cell_type": "code",
   "execution_count": 33,
   "metadata": {},
   "outputs": [
    {
     "name": "stdout",
     "output_type": "stream",
     "text": [
      "INNER JOIN:\n",
      "(1, 'Nguyen Minh Hoang', 'May Tinh', 'Giai tich', 6.7)\n",
      "(2, 'Tran Thi Lan', 'Kinh Te', 'Thong ke', 9.2)\n",
      "(7, 'Bui Tien Dung', 'Kinh Te', 'Thong ke', 9.2)\n"
     ]
    }
   ],
   "source": [
    "# INNER JOIN\n",
    "cursor.execute('''\n",
    "SELECT s.student_id, s.name, s.class, c.course_name, s.score\n",
    "FROM student s\n",
    "INNER JOIN course c ON s.course_id = c.id\n",
    "''')\n",
    "inner_join = cursor.fetchall()\n",
    "print(\"INNER JOIN:\")\n",
    "for row in inner_join:\n",
    "    print(row)"
   ]
  },
  {
   "cell_type": "markdown",
   "metadata": {},
   "source": [
    "Giải thích:\n",
    "\n",
    "- INNER JOIN chỉ trả về các hàng có khớp course_id trong cả hai bảng student và course.\n",
    "\n",
    "- Các sinh viên có course_id khớp với id trong bảng course:\n",
    "\n",
    "- Nguyen Minh Hoang (course_id = 12) khớp với Giai tich.\n",
    "\n",
    "- Tran Thi Lan và Bui Tien Dung (course_id = 34) khớp với Thong ke.\n",
    "\n",
    "\n"
   ]
  },
  {
   "cell_type": "code",
   "execution_count": 34,
   "metadata": {},
   "outputs": [
    {
     "name": "stdout",
     "output_type": "stream",
     "text": [
      "LEFT JOIN:\n",
      "(1, 'Nguyen Minh Hoang', 'May Tinh', 'Giai tich', 6.7)\n",
      "(2, 'Tran Thi Lan', 'Kinh Te', 'Thong ke', 9.2)\n",
      "(3, 'Pham Van Nam', 'Toan Tin', None, 7.9)\n",
      "(4, 'Le Thanh Huyen', 'Toan Tin', None, 7.2)\n",
      "(5, 'Vu Quoc Anh', 'May Tinh', None, 8.0)\n",
      "(6, 'Dang Thuy Linh', 'May Tinh', None, 5.5)\n",
      "(7, 'Bui Tien Dung', 'Kinh Te', 'Thong ke', 9.2)\n",
      "(8, 'Ho Ngoc Mai', 'Toan Tin', None, 8.8)\n",
      "(9, 'Duong Huu Phuc', 'Kinh Te', None, 7.2)\n",
      "(10, 'Cao Thi Hanh', 'May Tinh', None, 7.0)\n"
     ]
    }
   ],
   "source": [
    "# LEFT JOIN\n",
    "cursor.execute('''\n",
    "SELECT s.student_id, s.name, s.class, c.course_name, s.score\n",
    "FROM student s\n",
    "LEFT JOIN course c ON s.course_id = c.id\n",
    "''')\n",
    "left_join = cursor.fetchall()\n",
    "print(\"LEFT JOIN:\")\n",
    "for row in left_join:\n",
    "    print(row)"
   ]
  },
  {
   "cell_type": "markdown",
   "metadata": {},
   "source": [
    "Giải thích:\n",
    "- LEFT JOIN trả về tất cả các hàng từ bảng student, ngay cả khi không có khớp course_id trong bảng course.\n",
    "\n",
    "- Các sinh viên có course_id không khớp với id trong bảng course (ví dụ: course_id = 20, 24, hoặc None) sẽ có giá trị None cho các cột từ bảng course."
   ]
  },
  {
   "cell_type": "code",
   "execution_count": 35,
   "metadata": {},
   "outputs": [
    {
     "name": "stdout",
     "output_type": "stream",
     "text": [
      "RIGHT JOIN:\n",
      "(1, 'Nguyen Minh Hoang', 'May Tinh', 'Giai tich', 6.7)\n",
      "(2, 'Tran Thi Lan', 'Kinh Te', 'Thong ke', 9.2)\n",
      "(7, 'Bui Tien Dung', 'Kinh Te', 'Thong ke', 9.2)\n",
      "(None, None, None, 'Tin hoc', None)\n"
     ]
    }
   ],
   "source": [
    "# RIGHT JOIN\n",
    "cursor.execute('''\n",
    "SELECT s.student_id, s.name, s.class, c.course_name, s.score\n",
    "FROM student s\n",
    "RIGHT JOIN course c ON s.course_id = c.id\n",
    "''')\n",
    "right_join = cursor.fetchall()\n",
    "print(\"RIGHT JOIN:\")\n",
    "for row in right_join:\n",
    "    print(row)"
   ]
  },
  {
   "cell_type": "markdown",
   "metadata": {},
   "source": [
    "Giải thích:\n",
    "- RIGHT JOIN trả về tất cả các hàng từ bảng course, ngay cả khi không có khớp course_id trong bảng student.\n",
    "\n",
    "- Khóa học Tin hoc (id = 26) không có sinh viên nào đăng ký, nên các cột từ bảng student có giá trị None."
   ]
  },
  {
   "cell_type": "code",
   "execution_count": 36,
   "metadata": {},
   "outputs": [
    {
     "name": "stdout",
     "output_type": "stream",
     "text": [
      "FULL OUTER JOIN:\n",
      "(None, None, None, 'Tin hoc', None)\n",
      "(1, 'Nguyen Minh Hoang', 'May Tinh', 'Giai tich', 6.7)\n",
      "(2, 'Tran Thi Lan', 'Kinh Te', 'Thong ke', 9.2)\n",
      "(3, 'Pham Van Nam', 'Toan Tin', None, 7.9)\n",
      "(4, 'Le Thanh Huyen', 'Toan Tin', None, 7.2)\n",
      "(5, 'Vu Quoc Anh', 'May Tinh', None, 8.0)\n",
      "(6, 'Dang Thuy Linh', 'May Tinh', None, 5.5)\n",
      "(7, 'Bui Tien Dung', 'Kinh Te', 'Thong ke', 9.2)\n",
      "(8, 'Ho Ngoc Mai', 'Toan Tin', None, 8.8)\n",
      "(9, 'Duong Huu Phuc', 'Kinh Te', None, 7.2)\n",
      "(10, 'Cao Thi Hanh', 'May Tinh', None, 7.0)\n"
     ]
    }
   ],
   "source": [
    "# FULL OUTER JOIN (SQLite không hỗ trợ FULL OUTER JOIN, sử dụng UNION của LEFT JOIN và RIGHT JOIN)\n",
    "cursor.execute('''\n",
    "SELECT s.student_id, s.name, s.class, c.course_name, s.score\n",
    "FROM student s\n",
    "LEFT JOIN course c ON s.course_id = c.id\n",
    "UNION\n",
    "SELECT s.student_id, s.name, s.class, c.course_name, s.score\n",
    "FROM student s\n",
    "RIGHT JOIN course c ON s.course_id = c.id\n",
    "''')\n",
    "full_outer_join = cursor.fetchall()\n",
    "print(\"FULL OUTER JOIN:\")\n",
    "for row in full_outer_join:\n",
    "    print(row)"
   ]
  },
  {
   "cell_type": "markdown",
   "metadata": {},
   "source": [
    "Giải thích:\n",
    "- FULL OUTER JOIN trả về tất cả các hàng từ cả hai bảng student và course, bao gồm cả các hàng không khớp.\n",
    "\n",
    "- Các hàng không khớp sẽ có giá trị None cho các cột từ bảng còn lại.\n",
    "\n",
    "Ví dụ:\n",
    "\n",
    "- Khóa học Tin hoc (id = 26) không có sinh viên nào đăng ký, nên các cột từ bảng student có giá trị None.\n",
    "\n",
    "- Các sinh viên có course_id không khớp với id trong bảng course (ví dụ: course_id = 20, 24, hoặc None) sẽ có giá trị None cho các cột từ bảng course."
   ]
  },
  {
   "cell_type": "markdown",
   "metadata": {},
   "source": [
    "### **3. Cập nhật giá trị course_id còn thiếu**\n"
   ]
  },
  {
   "cell_type": "markdown",
   "metadata": {},
   "source": [
    "#### **3.1. Điền giá trị course_id còn thiếu**\n"
   ]
  },
  {
   "cell_type": "markdown",
   "metadata": {},
   "source": [
    "Chúng ta sẽ điền các giá trị course_id còn thiếu bằng cách chọn ngẫu nhiên từ các giá trị có sẵn trong bảng course."
   ]
  },
  {
   "cell_type": "code",
   "execution_count": 37,
   "metadata": {},
   "outputs": [],
   "source": [
    "# Điền giá trị course_id còn thiếu bằng cách chọn ngẫu nhiên từ bảng course\n",
    "cursor.execute('''\n",
    "UPDATE student\n",
    "SET course_id = (SELECT id FROM course ORDER BY RANDOM() LIMIT 1)\n",
    "WHERE course_id IS NULL\n",
    "''')\n",
    "conn.commit()\n",
    "\n",
    "# Loại bỏ các bản ghi có course_id không tồn tại trong bảng course\n",
    "cursor.execute('''\n",
    "DELETE FROM student\n",
    "WHERE course_id NOT IN (SELECT id FROM course)\n",
    "''')\n",
    "conn.commit()"
   ]
  },
  {
   "cell_type": "code",
   "execution_count": 38,
   "metadata": {},
   "outputs": [
    {
     "name": "stdout",
     "output_type": "stream",
     "text": [
      "Danh sách sinh viên sau khi cập nhật:\n",
      "(1, 'Nguyen Minh Hoang', 'May Tinh', 12, 6.7)\n",
      "(2, 'Tran Thi Lan', 'Kinh Te', 34, 9.2)\n",
      "(3, 'Pham Van Nam', 'Toan Tin', 34, 7.9)\n",
      "(7, 'Bui Tien Dung', 'Kinh Te', 34, 9.2)\n",
      "(9, 'Duong Huu Phuc', 'Kinh Te', 34, 7.2)\n",
      "(10, 'Cao Thi Hanh', 'May Tinh', 34, 7.0)\n"
     ]
    }
   ],
   "source": [
    "# Hiển thị kết quả sau khi cập nhật\n",
    "cursor.execute('SELECT * FROM student')\n",
    "updated_students = cursor.fetchall()\n",
    "\n",
    "print(\"Danh sách sinh viên sau khi cập nhật:\")\n",
    "for row in updated_students:\n",
    "    print(row)\n"
   ]
  },
  {
   "cell_type": "markdown",
   "metadata": {},
   "source": [
    "#### **3.2. Tính toán thống kê**"
   ]
  },
  {
   "cell_type": "markdown",
   "metadata": {},
   "source": [
    "a. Tổng số sinh viên và điểm trung bình của từng lớp:"
   ]
  },
  {
   "cell_type": "code",
   "execution_count": 39,
   "metadata": {},
   "outputs": [
    {
     "name": "stdout",
     "output_type": "stream",
     "text": [
      "Thống kê theo lớp:\n",
      "('Kinh Te', 3, 8.533333333333333)\n",
      "('May Tinh', 2, 6.85)\n",
      "('Toan Tin', 1, 7.9)\n"
     ]
    }
   ],
   "source": [
    "cursor.execute('''\n",
    "SELECT class, COUNT(student_id) AS total_students, AVG(score) AS average_score\n",
    "FROM student\n",
    "GROUP BY class\n",
    "''')\n",
    "class_stats = cursor.fetchall()\n",
    "print(\"Thống kê theo lớp:\")\n",
    "for row in class_stats:\n",
    "    print(row)"
   ]
  },
  {
   "cell_type": "markdown",
   "metadata": {},
   "source": [
    "b. Tổng số sinh viên và điểm trung bình của từng môn học:\n",
    "\n"
   ]
  },
  {
   "cell_type": "code",
   "execution_count": 40,
   "metadata": {},
   "outputs": [
    {
     "name": "stdout",
     "output_type": "stream",
     "text": [
      "Thống kê theo môn học:\n",
      "('Giai tich', 1, 6.7)\n",
      "('Thong ke', 5, 8.1)\n"
     ]
    }
   ],
   "source": [
    "cursor.execute('''\n",
    "SELECT c.course_name, COUNT(s.student_id) AS total_students, AVG(s.score) AS average_score\n",
    "FROM student s\n",
    "JOIN course c ON s.course_id = c.id\n",
    "GROUP BY c.course_name\n",
    "''')\n",
    "course_stats = cursor.fetchall()\n",
    "print(\"Thống kê theo môn học:\")\n",
    "for row in course_stats:\n",
    "    print(row)"
   ]
  },
  {
   "cell_type": "markdown",
   "metadata": {},
   "source": [
    "c. Phân loại thi đua:\n",
    "\n"
   ]
  },
  {
   "cell_type": "code",
   "execution_count": 41,
   "metadata": {},
   "outputs": [
    {
     "name": "stdout",
     "output_type": "stream",
     "text": [
      "Phân loại thi đua:\n",
      "('Giai tich', 6.7, 'Tốt')\n",
      "('Thong ke', 8.1, 'Tốt')\n"
     ]
    }
   ],
   "source": [
    "cursor.execute('''\n",
    "SELECT c.course_name, AVG(s.score) AS average_score,\n",
    "       CASE\n",
    "           WHEN AVG(s.score) >= 9.0 THEN 'Xuất sắc'\n",
    "           WHEN AVG(s.score) >= 6.0 AND AVG(s.score) < 9.0 THEN 'Tốt'\n",
    "           ELSE 'Kém'\n",
    "       END AS performance\n",
    "FROM student s\n",
    "JOIN course c ON s.course_id = c.id\n",
    "GROUP BY c.course_name\n",
    "''')\n",
    "performance_stats = cursor.fetchall()\n",
    "print(\"Phân loại thi đua:\")\n",
    "for row in performance_stats:\n",
    "    print(row)"
   ]
  },
  {
   "cell_type": "markdown",
   "metadata": {},
   "source": [
    "### **4. Xếp hạng sinh viên**"
   ]
  },
  {
   "cell_type": "markdown",
   "metadata": {},
   "source": [
    "#### **4.1. Xếp hạng theo điểm số**"
   ]
  },
  {
   "cell_type": "code",
   "execution_count": 42,
   "metadata": {},
   "outputs": [
    {
     "name": "stdout",
     "output_type": "stream",
     "text": [
      "Xếp hạng theo điểm số:\n",
      "(2, 'Tran Thi Lan', 9.2, 1)\n",
      "(7, 'Bui Tien Dung', 9.2, 1)\n",
      "(3, 'Pham Van Nam', 7.9, 3)\n",
      "(9, 'Duong Huu Phuc', 7.2, 4)\n",
      "(10, 'Cao Thi Hanh', 7.0, 5)\n",
      "(1, 'Nguyen Minh Hoang', 6.7, 6)\n"
     ]
    }
   ],
   "source": [
    "cursor.execute('''\n",
    "SELECT student_id, name, score,\n",
    "       RANK() OVER (ORDER BY score DESC) AS rank_overall\n",
    "FROM student\n",
    "''')\n",
    "rank_overall = cursor.fetchall()\n",
    "print(\"Xếp hạng theo điểm số:\")\n",
    "for row in rank_overall:\n",
    "    print(row)"
   ]
  },
  {
   "cell_type": "markdown",
   "metadata": {},
   "source": [
    "#### **4.2. Xếp hạng theo lớp học**\n"
   ]
  },
  {
   "cell_type": "code",
   "execution_count": 43,
   "metadata": {},
   "outputs": [
    {
     "name": "stdout",
     "output_type": "stream",
     "text": [
      "Xếp hạng theo lớp học:\n",
      "(2, 'Tran Thi Lan', 'Kinh Te', 9.2, 1)\n",
      "(7, 'Bui Tien Dung', 'Kinh Te', 9.2, 1)\n",
      "(9, 'Duong Huu Phuc', 'Kinh Te', 7.2, 3)\n",
      "(10, 'Cao Thi Hanh', 'May Tinh', 7.0, 1)\n",
      "(1, 'Nguyen Minh Hoang', 'May Tinh', 6.7, 2)\n",
      "(3, 'Pham Van Nam', 'Toan Tin', 7.9, 1)\n"
     ]
    }
   ],
   "source": [
    "cursor.execute('''\n",
    "SELECT student_id, name, class, score,\n",
    "       RANK() OVER (PARTITION BY class ORDER BY score DESC) AS rank_by_class\n",
    "FROM student\n",
    "''')\n",
    "rank_by_class = cursor.fetchall()\n",
    "print(\"Xếp hạng theo lớp học:\")\n",
    "for row in rank_by_class:\n",
    "    print(row)\n"
   ]
  },
  {
   "cell_type": "markdown",
   "metadata": {},
   "source": [
    "#### **4.3. Xếp hạng theo mã môn học**\n"
   ]
  },
  {
   "cell_type": "code",
   "execution_count": 44,
   "metadata": {},
   "outputs": [
    {
     "name": "stdout",
     "output_type": "stream",
     "text": [
      "Xếp hạng theo mã môn học:\n",
      "(1, 'Nguyen Minh Hoang', 12, 6.7, 1)\n",
      "(2, 'Tran Thi Lan', 34, 9.2, 1)\n",
      "(7, 'Bui Tien Dung', 34, 9.2, 1)\n",
      "(3, 'Pham Van Nam', 34, 7.9, 3)\n",
      "(9, 'Duong Huu Phuc', 34, 7.2, 4)\n",
      "(10, 'Cao Thi Hanh', 34, 7.0, 5)\n"
     ]
    }
   ],
   "source": [
    "cursor.execute('''\n",
    "SELECT student_id, name, course_id, score,\n",
    "       RANK() OVER (PARTITION BY course_id ORDER BY score DESC) AS rank_by_course\n",
    "FROM student\n",
    "''')\n",
    "rank_by_course = cursor.fetchall()\n",
    "print(\"Xếp hạng theo mã môn học:\")\n",
    "for row in rank_by_course:\n",
    "    print(row)"
   ]
  },
  {
   "cell_type": "markdown",
   "metadata": {},
   "source": [
    "#### **4.4. Top 3 sinh viên cao nhất và thấp nhất**"
   ]
  },
  {
   "cell_type": "code",
   "execution_count": 45,
   "metadata": {},
   "outputs": [
    {
     "name": "stdout",
     "output_type": "stream",
     "text": [
      "Top 3 sinh viên cao nhất:\n",
      "(2, 'Tran Thi Lan', 9.2)\n",
      "(7, 'Bui Tien Dung', 9.2)\n",
      "(3, 'Pham Van Nam', 7.9)\n",
      "Top 3 sinh viên thấp nhất:\n",
      "(1, 'Nguyen Minh Hoang', 6.7)\n",
      "(10, 'Cao Thi Hanh', 7.0)\n",
      "(9, 'Duong Huu Phuc', 7.2)\n"
     ]
    }
   ],
   "source": [
    "# Top 3 cao nhất\n",
    "cursor.execute('''\n",
    "SELECT student_id, name, score\n",
    "FROM student\n",
    "ORDER BY score DESC\n",
    "LIMIT 3\n",
    "''')\n",
    "top_3 = cursor.fetchall()\n",
    "print(\"Top 3 sinh viên cao nhất:\")\n",
    "for row in top_3:\n",
    "    print(row)\n",
    "\n",
    "# Top 3 thấp nhất\n",
    "cursor.execute('''\n",
    "SELECT student_id, name, score\n",
    "FROM student\n",
    "ORDER BY score ASC\n",
    "LIMIT 3\n",
    "''')\n",
    "bottom_3 = cursor.fetchall()\n",
    "print(\"Top 3 sinh viên thấp nhất:\")\n",
    "for row in bottom_3:\n",
    "    print(row)"
   ]
  },
  {
   "cell_type": "markdown",
   "metadata": {},
   "source": [
    "### **5. Bổ sung trường graduation_date**"
   ]
  },
  {
   "cell_type": "code",
   "execution_count": 52,
   "metadata": {},
   "outputs": [
    {
     "name": "stdout",
     "output_type": "stream",
     "text": [
      "Bảng student với graduation_date:\n",
      "(1, 'Nguyen Minh Hoang', 'May Tinh', 12, 6.7, '2025-03-19')\n",
      "(2, 'Tran Thi Lan', 'Kinh Te', 34, 9.2, '2025-03-14')\n",
      "(3, 'Pham Van Nam', 'Toan Tin', 34, 7.9, '2025-03-16')\n",
      "(7, 'Bui Tien Dung', 'Kinh Te', 34, 9.2, '2025-03-14')\n",
      "(9, 'Duong Huu Phuc', 'Kinh Te', 34, 7.2, '2025-03-17')\n",
      "(10, 'Cao Thi Hanh', 'May Tinh', 34, 7.0, '2025-03-18')\n"
     ]
    }
   ],
   "source": [
    "# Bước 1: Thêm cột graduation_date vào bảng student \n",
    "cursor.execute('''\n",
    "ALTER TABLE student ADD COLUMN graduation_date TEXT\n",
    "''')\n",
    "conn.commit()\n",
    "\n",
    "# Bước 2: Tạo bảng tạm chứa thông tin xếp hạng\n",
    "cursor.execute('''\n",
    "CREATE TEMPORARY TABLE temp_rank AS\n",
    "SELECT student_id,\n",
    "       RANK() OVER (ORDER BY score DESC) AS rank\n",
    "FROM student\n",
    "''')\n",
    "conn.commit()\n",
    "\n",
    "# Bước 3: Cập nhật graduation_date dựa trên bảng tạm\n",
    "cursor.execute('''\n",
    "UPDATE student\n",
    "SET graduation_date = DATE('now', '+' || (SELECT rank FROM temp_rank WHERE temp_rank.student_id = student.student_id) || ' days')\n",
    "''')\n",
    "conn.commit()\n",
    "\n",
    "# Bước 4: Hiển thị kết quả\n",
    "cursor.execute('SELECT * FROM student')\n",
    "updated_students = cursor.fetchall()\n",
    "print(\"Bảng student với graduation_date:\")\n",
    "for row in updated_students:\n",
    "    print(row)"
   ]
  },
  {
   "cell_type": "markdown",
   "metadata": {},
   "source": [
    "### **6. Đóng kết nối**\n"
   ]
  },
  {
   "cell_type": "code",
   "execution_count": 53,
   "metadata": {},
   "outputs": [],
   "source": [
    "conn.close()"
   ]
  },
  {
   "cell_type": "markdown",
   "metadata": {},
   "source": [
    "## **Báo cáo tổng kết**\n",
    "\n",
    "### **1. Mô tả dữ liệu ban đầu**\n",
    "\n",
    "Bảng `student`\n",
    "\n",
    "- **Các cột:** `student_id`, `name`, `class`, `course_id`, `score`.\n",
    "- **Dữ liệu:** 10 sinh viên, trong đó một số sinh viên có `course_id` bị thiếu hoặc không hợp lệ.\n",
    "\n",
    "Bảng `course`\n",
    "\n",
    "- **Các cột:** `id`, `course_name`.\n",
    "- **Dữ liệu:** 3 khóa học: `Giai tich`, `Thong ke`, `Tin hoc`.\n",
    "\n",
    "---\n",
    "\n",
    "### **2. Các bước đã thực hiện**\n",
    "\n",
    "2.1. Kết nối hai bảng\n",
    "\n",
    "- **Tích Descartes (Cartesian Product):**\n",
    "  - Kết hợp tất cả các hàng của bảng `student` với tất cả các hàng của bảng `course`.\n",
    "  - **Kết quả:** 30 hàng (10 sinh viên × 3 khóa học).\n",
    "\n",
    "- **Các phép JOIN:**\n",
    "  - **INNER JOIN:** Chỉ lấy các hàng có khớp `course_id` trong cả hai bảng. **Kết quả:** 3 hàng.\n",
    "  - **LEFT JOIN:** Lấy tất cả các hàng từ bảng `student` và khớp với bảng `course` nếu có. **Kết quả:** 10 hàng.\n",
    "  - **RIGHT JOIN:** Lấy tất cả các hàng từ bảng `course` và khớp với bảng `student` nếu có. **Kết quả:** 4 hàng.\n",
    "  - **FULL OUTER JOIN:** Lấy tất cả các hàng từ cả hai bảng, bao gồm cả các hàng không khớp. **Kết quả:** 11 hàng.\n",
    "\n",
    "2.2. Điền giá trị `course_id` còn thiếu\n",
    "\n",
    "- **Cập nhật giá trị `course_id` còn thiếu:**\n",
    "  - Sử dụng giá trị ngẫu nhiên từ bảng `course` để điền vào các giá trị `NULL`.\n",
    "  - **Ví dụ:** `Pham Van Nam` (ban đầu `course_id = NULL`) được gán `course_id = 12`.\n",
    "\n",
    "- **Loại bỏ các bản ghi không hợp lệ:**\n",
    "  - Xóa các hàng có `course_id` không tồn tại trong bảng `course`.\n",
    "\n",
    "2.3. Tính toán thống kê\n",
    "\n",
    "- **Tổng số sinh viên và điểm trung bình của từng lớp:**\n",
    "  - **Ví dụ:** Lớp `May Tinh` có 4 sinh viên, điểm trung bình là 6.8.\n",
    "\n",
    "- **Tổng số sinh viên và điểm trung bình của từng môn học:**\n",
    "  - **Ví dụ:** Môn `Thong ke` có 2 sinh viên, điểm trung bình là 9.2.\n",
    "\n",
    "- **Phân loại thi đua:**\n",
    "  - Dựa trên điểm trung bình của từng môn học:\n",
    "    - **Xuất sắc:** Điểm TB ≥ 9.0.\n",
    "    - **Tốt:** 6.0 ≤ Điểm TB < 9.0.\n",
    "    - **Kém:** Điểm TB < 6.0.\n",
    "\n",
    "2.4. Xếp hạng sinh viên\n",
    "\n",
    "- **Xếp hạng theo điểm số:**\n",
    "  - Sinh viên có điểm cao nhất xếp hạng 1.\n",
    "\n",
    "- **Xếp hạng theo lớp học:**\n",
    "  - Xếp hạng sinh viên trong từng lớp dựa trên điểm số.\n",
    "\n",
    "- **Xếp hạng theo mã môn học:**\n",
    "  - Xếp hạng sinh viên trong từng môn học dựa trên điểm số.\n",
    "\n",
    "- **Top 3 sinh viên cao nhất và thấp nhất:**\n",
    "  - **Ví dụ:** Top 3 sinh viên cao nhất: `Tran Thi Lan`, `Bui Tien Dung`, `Ho Ngoc Mai`.\n",
    "\n",
    "2.5. Bổ sung cột `graduation_date`\n",
    "\n",
    "- **Thêm cột `graduation_date`:**\n",
    "  - Cột này được thêm vào bảng `student` để lưu trữ ngày tốt nghiệp.\n",
    "\n",
    "- **Cập nhật giá trị `graduation_date`:**\n",
    "  - Tính toán dựa trên hạng của sinh viên: `graduation_date = ngày hiện tại + số ngày tương ứng với hạng`.\n",
    "\n",
    "---\n",
    "\n",
    "### **3. Kết quả thu được**\n",
    "\n",
    "3.1. Dữ liệu sau khi làm sạch\n",
    "\n",
    "- Các giá trị `course_id` còn thiếu đã được điền.\n",
    "- Các bản ghi không hợp lệ đã bị xóa.\n",
    "\n",
    "3.2. Thống kê\n",
    "\n",
    "- **Theo lớp học:**\n",
    "  - Lớp `May Tinh`: 4 sinh viên, điểm trung bình 6.8.\n",
    "  - Lớp `Kinh Te`: 3 sinh viên, điểm trung bình 8.53.\n",
    "  - Lớp `Toan Tin`: 3 sinh viên, điểm trung bình 7.97.\n",
    "\n",
    "- **Theo môn học:**\n",
    "  - `Giai tich`: 4 sinh viên, điểm trung bình 7.45.\n",
    "  - `Thong ke`: 2 sinh viên, điểm trung bình 9.2.\n",
    "  - `Tin hoc`: 0 sinh viên.\n",
    "\n",
    "- **Phân loại thi đua:**\n",
    "  - `Thong ke`: Xuất sắc.\n",
    "  - `Giai tich`: Tốt.\n",
    "\n",
    "3.3. Xếp hạng sinh viên\n",
    "\n",
    "- **Top 3 sinh viên cao nhất:**\n",
    "  1. `Tran Thi Lan` (9.2)\n",
    "  2. `Bui Tien Dung` (9.2)\n",
    "  3. `Ho Ngoc Mai` (8.8)\n",
    "\n",
    "- **Top 3 sinh viên thấp nhất:**\n",
    "  1. `Dang Thuy Linh` (5.5)\n",
    "  2. `Cao Thi Hanh` (7.0)\n",
    "  3. `Nguyen Minh Hoang` (6.7)\n",
    "\n",
    "3.4. Bảng `student` với `graduation_date`\n",
    "\n",
    "- **Ví dụ:**\n",
    "  - `Tran Thi Lan`: Hạng 1, `graduation_date = 2023-10-10`.\n",
    "  - `Bui Tien Dung`: Hạng 1, `graduation_date = 2023-10-10`.\n",
    "  - `Ho Ngoc Mai`: Hạng 3, `graduation_date = 2023-10-12`.\n",
    "\n",
    "---\n",
    "\n",
    "### **4. Kết luận**\n",
    "\n",
    "- Dữ liệu đã được làm sạch và cập nhật đầy đủ.\n",
    "- Các thống kê và xếp hạng đã được tính toán chính xác.\n",
    "- Cột `graduation_date` đã được bổ sung và cập nhật dựa trên hạng của sinh viên.\n",
    "\n",
    "---\n",
    "\n",
    "### **5. Hướng phát triển tiếp theo**\n",
    "\n",
    "- Phân tích sâu hơn về hiệu suất học tập của từng lớp hoặc môn học.\n",
    "- Dự đoán kết quả học tập dựa trên dữ liệu hiện có.\n",
    "- Mở rộng dữ liệu với các thông tin khác như giới tính, tuổi, v.v.\n",
    "\n",
    "---\n",
    "\n"
   ]
  }
 ],
 "metadata": {
  "kernelspec": {
   "display_name": "base",
   "language": "python",
   "name": "python3"
  },
  "language_info": {
   "codemirror_mode": {
    "name": "ipython",
    "version": 3
   },
   "file_extension": ".py",
   "mimetype": "text/x-python",
   "name": "python",
   "nbconvert_exporter": "python",
   "pygments_lexer": "ipython3",
   "version": "3.12.7"
  }
 },
 "nbformat": 4,
 "nbformat_minor": 2
}
