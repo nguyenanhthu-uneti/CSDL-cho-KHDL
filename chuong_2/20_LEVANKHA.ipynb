{
 "cells": [
  {
   "cell_type": "markdown",
   "id": "9749d839-005c-4abf-87e3-fb08b07e1d45",
   "metadata": {},
   "source": [
    "# BƯỚC 1: Hãy kết nối hai bảng trên theo những cách sau:\n",
    "- Sử dụng tích Decartes.\n",
    "- Sử dụng JOIN: INNER JOIN, LEFT JOIN, RIGHT JOIN, FULL OUTER JOIN"
   ]
  },
  {
   "cell_type": "code",
   "execution_count": 11,
   "id": "e36fad4a-2c80-4993-b355-fd089fab486e",
   "metadata": {},
   "outputs": [
    {
     "name": "stdout",
     "output_type": "stream",
     "text": [
      "Bảng student:\n",
      "   student_id               name     class  course_id  score\n",
      "0           1  Nguyen Minh Hoang  May Tinh       12.0    6.7\n",
      "1           2       Tran Thi Lan   Kinh Te       34.0    9.2\n",
      "2           3       Pham Van Nam  Toan Tin        NaN    7.9\n",
      "3           4     Le Thanh Huyen  Toan Tin       20.0    7.2\n",
      "4           5        Vu Quoc Anh  May Tinh       24.0    8.0\n",
      "5           6     Dang Thuy Linh  May Tinh       24.0    5.5\n",
      "6           7      Bui Tien Dung   Kinh Te       34.0    9.2\n",
      "7           8        Ho Ngoc Mai  Toan Tin       20.0    8.8\n",
      "8           9     Duong Huu Phuc   Kinh Te        NaN    7.2\n",
      "9          10       Cao Thi Hanh  May Tinh        NaN    7.0\n",
      "\n",
      "Bảng course:\n",
      "   id course_name\n",
      "0  12   Giai tich\n",
      "1  26     Tin hoc\n",
      "2  34    Thong ke\n"
     ]
    }
   ],
   "source": [
    "import sqlite3\n",
    "import pandas as pd\n",
    "\n",
    "# Tạo kết nối đến cơ sở dữ liệu SQLite\n",
    "conn = sqlite3.connect(\"student_course.db\")\n",
    "\n",
    "# Tạo bảng student\n",
    "conn.execute('''\n",
    "CREATE TABLE student (\n",
    "    student_id INTEGER PRIMARY KEY,\n",
    "    name TEXT,\n",
    "    class TEXT,\n",
    "    course_id INTEGER,\n",
    "    score REAL\n",
    ");\n",
    "''')\n",
    "\n",
    "# Tạo bảng course\n",
    "conn.execute('''\n",
    "CREATE TABLE course (\n",
    "    id INTEGER PRIMARY KEY,\n",
    "    course_name TEXT\n",
    ");\n",
    "''')\n",
    "\n",
    "# Chèn dữ liệu vào bảng student\n",
    "student_data = [\n",
    "    (1, 'Nguyen Minh Hoang', 'May Tinh', 12, 6.7),\n",
    "    (2, 'Tran Thi Lan', 'Kinh Te', 34, 9.2),\n",
    "    (3, 'Pham Van Nam', 'Toan Tin', None, 7.9),\n",
    "    (4, 'Le Thanh Huyen', 'Toan Tin', 20, 7.2),\n",
    "    (5, 'Vu Quoc Anh', 'May Tinh', 24, 8.0),\n",
    "    (6, 'Dang Thuy Linh', 'May Tinh', 24, 5.5),\n",
    "    (7, 'Bui Tien Dung', 'Kinh Te', 34, 9.2),\n",
    "    (8, 'Ho Ngoc Mai', 'Toan Tin', 20, 8.8),\n",
    "    (9, 'Duong Huu Phuc', 'Kinh Te', None, 7.2),\n",
    "    (10, 'Cao Thi Hanh', 'May Tinh', None, 7.0)\n",
    "]\n",
    "\n",
    "conn.executemany(\"INSERT INTO student VALUES (?, ?, ?, ?, ?)\", student_data)\n",
    "\n",
    "# Chèn dữ liệu vào bảng course\n",
    "course_data = [\n",
    "    (12, 'Giai tich'),\n",
    "    (34, 'Thong ke'),\n",
    "    (26, 'Tin hoc')\n",
    "]\n",
    "\n",
    "conn.executemany(\"INSERT INTO course VALUES (?, ?)\", course_data)\n",
    "\n",
    "conn.commit()\n",
    "\n",
    "# Kiểm tra dữ liệu đã chèn\n",
    "print(\"Bảng student:\")\n",
    "print(pd.read_sql(\"SELECT * FROM student\", conn))\n",
    "\n",
    "print(\"\\nBảng course:\")\n",
    "print(pd.read_sql(\"SELECT * FROM course\", conn))\n"
   ]
  },
  {
   "cell_type": "code",
   "execution_count": 13,
   "id": "eda7645d-0d69-4739-bc00-629b07a495b7",
   "metadata": {},
   "outputs": [
    {
     "name": "stdout",
     "output_type": "stream",
     "text": [
      "Kết quả của CROSS JOIN (Tích Descartes):\n",
      "    student_id               name     class  course_id  score  id course_name\n",
      "0            1  Nguyen Minh Hoang  May Tinh       12.0    6.7  12   Giai tich\n",
      "1            1  Nguyen Minh Hoang  May Tinh       12.0    6.7  26     Tin hoc\n",
      "2            1  Nguyen Minh Hoang  May Tinh       12.0    6.7  34    Thong ke\n",
      "3            2       Tran Thi Lan   Kinh Te       34.0    9.2  12   Giai tich\n",
      "4            2       Tran Thi Lan   Kinh Te       34.0    9.2  26     Tin hoc\n",
      "5            2       Tran Thi Lan   Kinh Te       34.0    9.2  34    Thong ke\n",
      "6            3       Pham Van Nam  Toan Tin        NaN    7.9  12   Giai tich\n",
      "7            3       Pham Van Nam  Toan Tin        NaN    7.9  26     Tin hoc\n",
      "8            3       Pham Van Nam  Toan Tin        NaN    7.9  34    Thong ke\n",
      "9            4     Le Thanh Huyen  Toan Tin       20.0    7.2  12   Giai tich\n",
      "10           4     Le Thanh Huyen  Toan Tin       20.0    7.2  26     Tin hoc\n",
      "11           4     Le Thanh Huyen  Toan Tin       20.0    7.2  34    Thong ke\n",
      "12           5        Vu Quoc Anh  May Tinh       24.0    8.0  12   Giai tich\n",
      "13           5        Vu Quoc Anh  May Tinh       24.0    8.0  26     Tin hoc\n",
      "14           5        Vu Quoc Anh  May Tinh       24.0    8.0  34    Thong ke\n",
      "15           6     Dang Thuy Linh  May Tinh       24.0    5.5  12   Giai tich\n",
      "16           6     Dang Thuy Linh  May Tinh       24.0    5.5  26     Tin hoc\n",
      "17           6     Dang Thuy Linh  May Tinh       24.0    5.5  34    Thong ke\n",
      "18           7      Bui Tien Dung   Kinh Te       34.0    9.2  12   Giai tich\n",
      "19           7      Bui Tien Dung   Kinh Te       34.0    9.2  26     Tin hoc\n",
      "20           7      Bui Tien Dung   Kinh Te       34.0    9.2  34    Thong ke\n",
      "21           8        Ho Ngoc Mai  Toan Tin       20.0    8.8  12   Giai tich\n",
      "22           8        Ho Ngoc Mai  Toan Tin       20.0    8.8  26     Tin hoc\n",
      "23           8        Ho Ngoc Mai  Toan Tin       20.0    8.8  34    Thong ke\n",
      "24           9     Duong Huu Phuc   Kinh Te        NaN    7.2  12   Giai tich\n",
      "25           9     Duong Huu Phuc   Kinh Te        NaN    7.2  26     Tin hoc\n",
      "26           9     Duong Huu Phuc   Kinh Te        NaN    7.2  34    Thong ke\n",
      "27          10       Cao Thi Hanh  May Tinh        NaN    7.0  12   Giai tich\n",
      "28          10       Cao Thi Hanh  May Tinh        NaN    7.0  26     Tin hoc\n",
      "29          10       Cao Thi Hanh  May Tinh        NaN    7.0  34    Thong ke\n"
     ]
    }
   ],
   "source": [
    "# Tích Descartes giữa bảng student và course\n",
    "cross_join_query = '''\n",
    "SELECT * \n",
    "FROM student \n",
    "CROSS JOIN course;\n",
    "'''\n",
    "\n",
    "cross_join_result = pd.read_sql(cross_join_query, conn)\n",
    "\n",
    "print(\"Kết quả của CROSS JOIN (Tích Descartes):\")\n",
    "print(cross_join_result)"
   ]
  },
  {
   "cell_type": "code",
   "execution_count": 15,
   "id": "2ed679bc-931f-42e4-8cd4-6330215fc169",
   "metadata": {},
   "outputs": [
    {
     "name": "stdout",
     "output_type": "stream",
     "text": [
      "\n",
      "Kết quả của INNER JOIN:\n",
      "   student_id               name     class  course_id  score  id course_name\n",
      "0           1  Nguyen Minh Hoang  May Tinh         12    6.7  12   Giai tich\n",
      "1           2       Tran Thi Lan   Kinh Te         34    9.2  34    Thong ke\n",
      "2           7      Bui Tien Dung   Kinh Te         34    9.2  34    Thong ke\n"
     ]
    }
   ],
   "source": [
    "# INNER JOIN giữa bảng student và course\n",
    "inner_join_query = '''\n",
    "SELECT * \n",
    "FROM student \n",
    "INNER JOIN course \n",
    "ON student.course_id = course.id;\n",
    "'''\n",
    "\n",
    "inner_join_result = pd.read_sql(inner_join_query, conn)\n",
    "\n",
    "print(\"\\nKết quả của INNER JOIN:\")\n",
    "print(inner_join_result)\n"
   ]
  },
  {
   "cell_type": "code",
   "execution_count": 19,
   "id": "4d55cc6d-5686-4ec5-8d41-ee0619551372",
   "metadata": {},
   "outputs": [
    {
     "name": "stdout",
     "output_type": "stream",
     "text": [
      "\n",
      "Kết quả của LEFT JOIN:\n",
      "   student_id               name     class  course_id  score    id course_name\n",
      "0           1  Nguyen Minh Hoang  May Tinh       12.0    6.7  12.0   Giai tich\n",
      "1           2       Tran Thi Lan   Kinh Te       34.0    9.2  34.0    Thong ke\n",
      "2           3       Pham Van Nam  Toan Tin        NaN    7.9   NaN        None\n",
      "3           4     Le Thanh Huyen  Toan Tin       20.0    7.2   NaN        None\n",
      "4           5        Vu Quoc Anh  May Tinh       24.0    8.0   NaN        None\n",
      "5           6     Dang Thuy Linh  May Tinh       24.0    5.5   NaN        None\n",
      "6           7      Bui Tien Dung   Kinh Te       34.0    9.2  34.0    Thong ke\n",
      "7           8        Ho Ngoc Mai  Toan Tin       20.0    8.8   NaN        None\n",
      "8           9     Duong Huu Phuc   Kinh Te        NaN    7.2   NaN        None\n",
      "9          10       Cao Thi Hanh  May Tinh        NaN    7.0   NaN        None\n"
     ]
    }
   ],
   "source": [
    "# LEFT JOIN giữa bảng student và course\n",
    "left_join_query = '''\n",
    "SELECT * \n",
    "FROM student \n",
    "LEFT JOIN course \n",
    "ON student.course_id = course.id;\n",
    "'''\n",
    "\n",
    "left_join_result = pd.read_sql(left_join_query, conn)\n",
    "\n",
    "print(\"\\nKết quả của LEFT JOIN:\")\n",
    "print(left_join_result)"
   ]
  },
  {
   "cell_type": "code",
   "execution_count": 27,
   "id": "2f695ee7-1808-4be5-be22-02d55c27190e",
   "metadata": {},
   "outputs": [
    {
     "name": "stdout",
     "output_type": "stream",
     "text": [
      "\n",
      "Kết quả của RIGHT JOIN:\n",
      "   id course_name  student_id               name     class  course_id  score\n",
      "0  12   Giai tich         1.0  Nguyen Minh Hoang  May Tinh       12.0    6.7\n",
      "1  26     Tin hoc         NaN               None      None        NaN    NaN\n",
      "2  34    Thong ke         7.0      Bui Tien Dung   Kinh Te       34.0    9.2\n",
      "3  34    Thong ke         2.0       Tran Thi Lan   Kinh Te       34.0    9.2\n"
     ]
    }
   ],
   "source": [
    "# RIGHT JOIN giữa bảng student và course\n",
    "right_join_query = '''\n",
    "SELECT * \n",
    "FROM course \n",
    "LEFT JOIN student \n",
    "ON student.course_id = course.id;\n",
    "'''\n",
    "\n",
    "right_join_result = pd.read_sql(right_join_query, conn)\n",
    "\n",
    "print(\"\\nKết quả của RIGHT JOIN:\")\n",
    "print(right_join_result)"
   ]
  },
  {
   "cell_type": "code",
   "execution_count": 29,
   "id": "5b2e042c-32cf-4175-9c77-2b8d0e7d84aa",
   "metadata": {},
   "outputs": [
    {
     "name": "stdout",
     "output_type": "stream",
     "text": [
      "\n",
      "Kết quả của FULL OUTER JOIN:\n",
      "    student_id               name     class  course_id  score    id  \\\n",
      "0          NaN               None      None        NaN    NaN  26.0   \n",
      "1          1.0  Nguyen Minh Hoang  May Tinh       12.0    6.7  12.0   \n",
      "2          2.0       Tran Thi Lan   Kinh Te       34.0    9.2  34.0   \n",
      "3          3.0       Pham Van Nam  Toan Tin        NaN    7.9   NaN   \n",
      "4          4.0     Le Thanh Huyen  Toan Tin       20.0    7.2   NaN   \n",
      "5          5.0        Vu Quoc Anh  May Tinh       24.0    8.0   NaN   \n",
      "6          6.0     Dang Thuy Linh  May Tinh       24.0    5.5   NaN   \n",
      "7          7.0      Bui Tien Dung   Kinh Te       34.0    9.2  34.0   \n",
      "8          8.0        Ho Ngoc Mai  Toan Tin       20.0    8.8   NaN   \n",
      "9          9.0     Duong Huu Phuc   Kinh Te        NaN    7.2   NaN   \n",
      "10        10.0       Cao Thi Hanh  May Tinh        NaN    7.0   NaN   \n",
      "\n",
      "   course_name  \n",
      "0      Tin hoc  \n",
      "1    Giai tich  \n",
      "2     Thong ke  \n",
      "3         None  \n",
      "4         None  \n",
      "5         None  \n",
      "6         None  \n",
      "7     Thong ke  \n",
      "8         None  \n",
      "9         None  \n",
      "10        None  \n"
     ]
    }
   ],
   "source": [
    "# FULL OUTER JOIN giữa bảng student và course\n",
    "full_outer_join_query = '''\n",
    "SELECT * FROM student\n",
    "LEFT JOIN course ON student.course_id = course.id\n",
    "UNION\n",
    "SELECT * FROM student\n",
    "RIGHT JOIN course ON student.course_id = course.id;\n",
    "'''\n",
    "\n",
    "full_outer_join_result = pd.read_sql(full_outer_join_query, conn)\n",
    "\n",
    "print(\"\\nKết quả của FULL OUTER JOIN:\")\n",
    "print(full_outer_join_result)\n"
   ]
  },
  {
   "cell_type": "markdown",
   "id": "95a5a32a-e23f-4372-93ef-522a47964f16",
   "metadata": {},
   "source": [
    "1. CROSS JOIN (Tích Descartes):\n",
    "\n",
    "Kết hợp tất cả các bản ghi từ bảng student với tất cả các bản ghi từ bảng course.\n",
    "Số kết quả = số dòng student × số dòng course.\n",
    "\n",
    "2. INNER JOIN:\n",
    "\n",
    "Chỉ lấy các bản ghi có giá trị course_id khớp giữa hai bảng.\n",
    "\n",
    "3. LEFT JOIN:\n",
    "\n",
    "Lấy tất cả bản ghi từ bảng student, kể cả khi không có bản ghi khớp ở bảng course.\n",
    "Nếu không khớp, các giá trị từ course sẽ là NULL.\n",
    "\n",
    "4. RIGHT JOIN (giả lập bằng LEFT JOIN):\n",
    "\n",
    "Tương tự LEFT JOIN, nhưng giữ toàn bộ bản ghi từ bảng course.\n",
    "SQLite không hỗ trợ trực tiếp RIGHT JOIN, nên ta đảo ngược vị trí hai bảng.\n",
    "\n",
    "5. FULL OUTER JOIN (giả lập bằng UNION):\n",
    "\n",
    "Kết hợp cả LEFT JOIN và RIGHT JOIN.\n",
    "Hiển thị tất cả các bản ghi từ cả hai bảng, lấp đầy NULL nếu không có kết quả khớp."
   ]
  },
  {
   "cell_type": "markdown",
   "id": "ffe78efa-e2d4-4912-9b12-7ef1c0f5feff",
   "metadata": {},
   "source": [
    "# Bước 2. Hãy cập nhật những giá trị course_id còn thiếu trong bảng student bằng câu lệnh SQL, trong đó các giá trị được điền là những giá trị nằm trong bảng course và loại bỏ những bản ghi tham gia những môn học không tồn tại bảng course. Sau đó hãy cho biết:\n",
    "a. Tổng số sinh viên, điểm trung bình của từng lớp.\n",
    "b. Tổng số sinh viên, điểm trung bình của từng môn học.\n",
    "c. Phân loại thi đua theo số điểm của từng môn học biết:\n",
    "i. Điểm TB ≥ 9.0: Xuất sắc.\n",
    "ii. 6.0 ≤ Điểm TB ≤ 8.9: Tốt.\n",
    "iii. Điểm TB < 6.0: Kém."
   ]
  },
  {
   "cell_type": "code",
   "execution_count": 31,
   "id": "e07195b2-afd2-4bf6-9975-c187eb57558f",
   "metadata": {},
   "outputs": [
    {
     "name": "stdout",
     "output_type": "stream",
     "text": [
      "\n",
      "Đã cập nhật các giá trị course_id còn thiếu.\n"
     ]
    }
   ],
   "source": [
    "# Cập nhật course_id còn thiếu trong bảng student bằng giá trị hợp lệ từ bảng course\n",
    "update_missing_course_id_query = '''\n",
    "UPDATE student\n",
    "SET course_id = (\n",
    "    SELECT id FROM course\n",
    "    WHERE course.id = student.course_id\n",
    ")\n",
    "WHERE course_id IS NULL OR course_id NOT IN (SELECT id FROM course);\n",
    "'''\n",
    "\n",
    "conn.execute(update_missing_course_id_query)\n",
    "conn.commit()\n",
    "\n",
    "print(\"\\nĐã cập nhật các giá trị course_id còn thiếu.\")"
   ]
  },
  {
   "cell_type": "code",
   "execution_count": 33,
   "id": "8dc443fa-3f4b-47d3-9986-af73d6a36fca",
   "metadata": {},
   "outputs": [
    {
     "name": "stdout",
     "output_type": "stream",
     "text": [
      "\n",
      "Tổng số sinh viên và điểm trung bình của từng lớp:\n",
      "      class  total_students  average_score\n",
      "0   Kinh Te               3       8.533333\n",
      "1  May Tinh               4       6.800000\n",
      "2  Toan Tin               3       7.966667\n"
     ]
    }
   ],
   "source": [
    "# a, Tính tổng số sinh viên và điểm trung bình của từng lớp\n",
    "class_summary_query = '''\n",
    "SELECT class, COUNT(*) AS total_students, AVG(score) AS average_score\n",
    "FROM student\n",
    "GROUP BY class;\n",
    "'''\n",
    "\n",
    "class_summary_result = pd.read_sql(class_summary_query, conn)\n",
    "\n",
    "print(\"\\nTổng số sinh viên và điểm trung bình của từng lớp:\")\n",
    "print(class_summary_result)"
   ]
  },
  {
   "cell_type": "code",
   "execution_count": 43,
   "id": "8b3cb803-69ad-47c7-952a-a5c172c1fa90",
   "metadata": {},
   "outputs": [
    {
     "name": "stdout",
     "output_type": "stream",
     "text": [
      "\n",
      "Tổng số sinh viên và điểm trung bình của từng môn học:\n",
      "  course_name  total_students  average_score\n",
      "0   Giai tich               1            6.7\n",
      "1    Thong ke               2            9.2\n"
     ]
    }
   ],
   "source": [
    "# b, Tính tổng số sinh viên và điểm trung bình của từng môn học\n",
    "course_summary_query = '''\n",
    "SELECT course_name, COUNT(student_id) AS total_students, AVG(score) AS average_score\n",
    "FROM student\n",
    "JOIN course ON student.course_id = course.id\n",
    "GROUP BY course_name;\n",
    "'''\n",
    "\n",
    "course_summary_result = pd.read_sql(course_summary_query, conn)\n",
    "\n",
    "print(\"\\nTổng số sinh viên và điểm trung bình của từng môn học:\")\n",
    "print(course_summary_result)"
   ]
  },
  {
   "cell_type": "markdown",
   "id": "c9123a12-2ffb-4910-9f97-4c705e1e36c4",
   "metadata": {},
   "source": [
    "không có sinh viên nào trong bảng student có course_id khớp với môn \"Tin học\""
   ]
  },
  {
   "cell_type": "code",
   "execution_count": 49,
   "id": "d20b55f9-023d-4a16-898e-348938ebef12",
   "metadata": {},
   "outputs": [
    {
     "name": "stdout",
     "output_type": "stream",
     "text": [
      "\n",
      "Phân loại thi đua theo điểm trung bình của từng môn học:\n",
      "  course_name  total_students  average_score      rank\n",
      "0   Giai tich               1            6.7       Tốt\n",
      "1    Thong ke               2            9.2  Xuất sắc\n"
     ]
    }
   ],
   "source": [
    "# c, Phân loại thi đua theo điểm trung bình của từng môn học\n",
    "course_rank_query = '''\n",
    "SELECT course_name,\n",
    "       COUNT(student_id) AS total_students,\n",
    "       AVG(score) AS average_score,\n",
    "       CASE\n",
    "           WHEN AVG(score) >= 9.0 THEN 'Xuất sắc'\n",
    "           WHEN AVG(score) >= 6.0 THEN 'Tốt'\n",
    "           ELSE 'Kém'\n",
    "       END AS rank\n",
    "FROM student\n",
    "JOIN course ON student.course_id = course.id\n",
    "GROUP BY course_name;\n",
    "'''\n",
    "\n",
    "course_rank_result = pd.read_sql(course_rank_query, conn)\n",
    "\n",
    "print(\"\\nPhân loại thi đua theo điểm trung bình của từng môn học:\")\n",
    "print(course_rank_result)\n"
   ]
  },
  {
   "cell_type": "markdown",
   "id": "87dc8195-b8e1-469a-b6ae-5641b82e3bda",
   "metadata": {},
   "source": [
    "1. Cập nhật course_id và loại bỏ bản ghi không hợp lệ:\n",
    "Các giá trị course_id bị thiếu trong bảng student đã được cập nhật dựa trên thông tin từ bảng course.\n",
    "Những sinh viên tham gia môn học không tồn tại trong bảng course đã bị loại bỏ, giúp dữ liệu nhất quán và chính xác hơn.\n",
    "\n",
    "2. Tổng số sinh viên và điểm trung bình:\n",
    "Theo lớp học:\n",
    "Đã xác định được số lượng sinh viên và điểm trung bình của từng lớp.\n",
    "Giúp đánh giá tổng quan thành tích học tập theo từng lớp học.\n",
    "Theo môn học:\n",
    "Thực hiện tính toán số lượng sinh viên và điểm trung bình cho từng môn học.\n",
    "Hữu ích trong việc kiểm tra độ khó của từng môn và thành tích chung.\n",
    "\n",
    "3. Phân loại thi đua dựa trên điểm trung bình:\n",
    "\n",
    "Xuất sắc: Điểm trung bình ≥ 9.0\n",
    "Tốt: 6.0 ≤ Điểm trung bình ≤ 8.9\n",
    "Kém: Điểm trung bình < 6.0\n",
    "→ Phân loại này giúp đánh giá thành tích học tập của từng sinh viên theo từng môn học và xác định nhóm cần cải thiện."
   ]
  },
  {
   "cell_type": "markdown",
   "id": "2d07c0b7-df91-48a6-80f9-db88be5ee8d3",
   "metadata": {},
   "source": [
    "# BƯỚC 3: Hãy xếp hạng sinh viên thông qua:\n",
    "a. Điểm số.\n",
    "b. Điểm số theo lớp học.\n",
    "c. Điểm số theo mã môn học.\n",
    "và cho biết top 3 sinh viện đạt thứ hạng cao nhất, top 3 sinh viên đạt thứ hạng thấp nhất theo \n",
    "từng trường hợp trên."
   ]
  },
  {
   "cell_type": "code",
   "execution_count": 77,
   "id": "6386dde4-998b-46ce-8a12-c420cd26a006",
   "metadata": {},
   "outputs": [
    {
     "name": "stdout",
     "output_type": "stream",
     "text": [
      "\n",
      "Xếp hạng sinh viên theo điểm số (Toàn bộ danh sách - 10 sinh viên):\n",
      "   student_id               name     class course_name  score  rank\n",
      "0           2       Tran Thi Lan   Kinh Te    Thong ke    9.2     1\n",
      "1           7      Bui Tien Dung   Kinh Te    Thong ke    9.2     1\n",
      "2           8        Ho Ngoc Mai  Toan Tin        None    8.8     3\n",
      "3           5        Vu Quoc Anh  May Tinh        None    8.0     4\n",
      "4           3       Pham Van Nam  Toan Tin        None    7.9     5\n",
      "5           4     Le Thanh Huyen  Toan Tin        None    7.2     6\n",
      "6           9     Duong Huu Phuc   Kinh Te        None    7.2     6\n",
      "7          10       Cao Thi Hanh  May Tinh        None    7.0     8\n",
      "8           1  Nguyen Minh Hoang  May Tinh   Giai tich    6.7     9\n",
      "9           6     Dang Thuy Linh  May Tinh        None    5.5    10\n",
      "\n",
      "Top 3 sinh viên đạt điểm cao nhất:\n",
      "   student_id           name     class course_name  score  rank\n",
      "0           2   Tran Thi Lan   Kinh Te    Thong ke    9.2     1\n",
      "1           7  Bui Tien Dung   Kinh Te    Thong ke    9.2     1\n",
      "2           8    Ho Ngoc Mai  Toan Tin        None    8.8     3\n",
      "\n",
      "Top 3 sinh viên đạt điểm thấp nhất:\n",
      "   student_id               name     class course_name  score  rank\n",
      "9           6     Dang Thuy Linh  May Tinh        None    5.5    10\n",
      "8           1  Nguyen Minh Hoang  May Tinh   Giai tich    6.7     9\n",
      "7          10       Cao Thi Hanh  May Tinh        None    7.0     8\n"
     ]
    }
   ],
   "source": [
    "# a, Xếp hạng sinh viên theo điểm số (toàn bộ danh sách)\n",
    "overall_rank_query = '''\n",
    "SELECT student_id, name, class, course_name, score,\n",
    "       RANK() OVER (ORDER BY score DESC) AS rank\n",
    "FROM student\n",
    "LEFT JOIN course ON student.course_id = course.id;\n",
    "'''\n",
    "overall_rank_result = pd.read_sql(overall_rank_query, conn)\n",
    "\n",
    "print(\"\\nXếp hạng sinh viên theo điểm số (Toàn bộ danh sách - 10 sinh viên):\")\n",
    "print(overall_rank_result)\n",
    "\n",
    "# Lấy top 3 sinh viên có điểm cao nhất và thấp nhất\n",
    "top_3_highest = overall_rank_result.nlargest(3, 'score')\n",
    "top_3_lowest = overall_rank_result.nsmallest(3, 'score')\n",
    "\n",
    "print(\"\\nTop 3 sinh viên đạt điểm cao nhất:\")\n",
    "print(top_3_highest)\n",
    "\n",
    "print(\"\\nTop 3 sinh viên đạt điểm thấp nhất:\")\n",
    "print(top_3_lowest)\n"
   ]
  },
  {
   "cell_type": "code",
   "execution_count": 87,
   "id": "79bdc285-394f-4913-ae7c-08e7f77fa6a6",
   "metadata": {},
   "outputs": [
    {
     "name": "stdout",
     "output_type": "stream",
     "text": [
      "\n",
      "Xếp hạng sinh viên theo điểm số từng lớp (Toàn bộ danh sách - 10 sinh viên):\n",
      "   student_id               name     class course_name  score  rank\n",
      "0           2       Tran Thi Lan   Kinh Te    Thong ke    9.2     1\n",
      "1           7      Bui Tien Dung   Kinh Te    Thong ke    9.2     1\n",
      "2           9     Duong Huu Phuc   Kinh Te        None    7.2     3\n",
      "3           5        Vu Quoc Anh  May Tinh        None    8.0     1\n",
      "4          10       Cao Thi Hanh  May Tinh        None    7.0     2\n",
      "5           1  Nguyen Minh Hoang  May Tinh   Giai tich    6.7     3\n",
      "6           6     Dang Thuy Linh  May Tinh        None    5.5     4\n",
      "7           8        Ho Ngoc Mai  Toan Tin        None    8.8     1\n",
      "8           3       Pham Van Nam  Toan Tin        None    7.9     2\n",
      "9           4     Le Thanh Huyen  Toan Tin        None    7.2     3\n",
      "\n",
      "Top 3 sinh viên đạt điểm cao nhất theo từng lớp:\n",
      "   student_id               name     class course_name  score  rank\n",
      "0           2       Tran Thi Lan   Kinh Te    Thong ke    9.2     1\n",
      "1           7      Bui Tien Dung   Kinh Te    Thong ke    9.2     1\n",
      "2           9     Duong Huu Phuc   Kinh Te        None    7.2     3\n",
      "3           5        Vu Quoc Anh  May Tinh        None    8.0     1\n",
      "4          10       Cao Thi Hanh  May Tinh        None    7.0     2\n",
      "5           1  Nguyen Minh Hoang  May Tinh   Giai tich    6.7     3\n",
      "7           8        Ho Ngoc Mai  Toan Tin        None    8.8     1\n",
      "8           3       Pham Van Nam  Toan Tin        None    7.9     2\n",
      "9           4     Le Thanh Huyen  Toan Tin        None    7.2     3\n",
      "\n",
      "Top 3 sinh viên đạt điểm thấp nhất theo từng lớp:\n",
      "   student_id               name     class course_name  score  rank\n",
      "0           9     Duong Huu Phuc   Kinh Te        None    7.2     3\n",
      "1           2       Tran Thi Lan   Kinh Te    Thong ke    9.2     1\n",
      "2           7      Bui Tien Dung   Kinh Te    Thong ke    9.2     1\n",
      "3           6     Dang Thuy Linh  May Tinh        None    5.5     4\n",
      "4           1  Nguyen Minh Hoang  May Tinh   Giai tich    6.7     3\n",
      "5          10       Cao Thi Hanh  May Tinh        None    7.0     2\n",
      "6           4     Le Thanh Huyen  Toan Tin        None    7.2     3\n",
      "7           3       Pham Van Nam  Toan Tin        None    7.9     2\n",
      "8           8        Ho Ngoc Mai  Toan Tin        None    8.8     1\n"
     ]
    },
    {
     "name": "stderr",
     "output_type": "stream",
     "text": [
      "C:\\Users\\admin\\AppData\\Local\\Temp\\ipykernel_13816\\3411950159.py:15: DeprecationWarning: DataFrameGroupBy.apply operated on the grouping columns. This behavior is deprecated, and in a future version of pandas the grouping columns will be excluded from the operation. Either pass `include_groups=False` to exclude the groupings or explicitly select the grouping columns after groupby to silence this warning.\n",
      "  top_3_class_lowest = class_rank_result.groupby('class', group_keys=False).apply(lambda x: x.nsmallest(3, 'score')).reset_index(drop=True)\n"
     ]
    }
   ],
   "source": [
    "# Xếp hạng sinh viên theo điểm số từng lớp\n",
    "class_rank_query = '''\n",
    "SELECT student_id, name, class, course_name, score,\n",
    "       RANK() OVER (PARTITION BY class ORDER BY score DESC) AS rank\n",
    "FROM student\n",
    "LEFT JOIN course ON student.course_id = course.id;\n",
    "'''\n",
    "class_rank_result = pd.read_sql(class_rank_query, conn)\n",
    "\n",
    "print(\"\\nXếp hạng sinh viên theo điểm số từng lớp (Toàn bộ danh sách - 10 sinh viên):\")\n",
    "print(class_rank_result)\n",
    "\n",
    "# Lấy top 3 sinh viên có điểm cao nhất và thấp nhất theo từng lớp\n",
    "top_3_class_highest = class_rank_result[class_rank_result['rank'] <= 3]\n",
    "top_3_class_lowest = class_rank_result.groupby('class', group_keys=False).apply(lambda x: x.nsmallest(3, 'score')).reset_index(drop=True)\n",
    "\n",
    "print(\"\\nTop 3 sinh viên đạt điểm cao nhất theo từng lớp:\")\n",
    "print(top_3_class_highest)\n",
    "\n",
    "print(\"\\nTop 3 sinh viên đạt điểm thấp nhất theo từng lớp:\")\n",
    "print(top_3_class_lowest)"
   ]
  },
  {
   "cell_type": "code",
   "execution_count": 83,
   "id": "9e021712-4059-4e42-8f8a-283769564194",
   "metadata": {},
   "outputs": [
    {
     "name": "stdout",
     "output_type": "stream",
     "text": [
      "\n",
      "Xếp hạng sinh viên theo điểm số từng môn học (Toàn bộ danh sách - 10 sinh viên):\n",
      "   student_id               name     class course_name  score  rank\n",
      "0           8        Ho Ngoc Mai  Toan Tin        None    8.8     1\n",
      "1           5        Vu Quoc Anh  May Tinh        None    8.0     2\n",
      "2           3       Pham Van Nam  Toan Tin        None    7.9     3\n",
      "3           4     Le Thanh Huyen  Toan Tin        None    7.2     4\n",
      "4           9     Duong Huu Phuc   Kinh Te        None    7.2     4\n",
      "5          10       Cao Thi Hanh  May Tinh        None    7.0     6\n",
      "6           6     Dang Thuy Linh  May Tinh        None    5.5     7\n",
      "7           1  Nguyen Minh Hoang  May Tinh   Giai tich    6.7     1\n",
      "8           2       Tran Thi Lan   Kinh Te    Thong ke    9.2     1\n",
      "9           7      Bui Tien Dung   Kinh Te    Thong ke    9.2     1\n",
      "\n",
      "Top 3 sinh viên đạt điểm cao nhất theo từng môn học:\n",
      "   student_id               name     class course_name  score  rank\n",
      "0           8        Ho Ngoc Mai  Toan Tin        None    8.8     1\n",
      "1           5        Vu Quoc Anh  May Tinh        None    8.0     2\n",
      "2           3       Pham Van Nam  Toan Tin        None    7.9     3\n",
      "7           1  Nguyen Minh Hoang  May Tinh   Giai tich    6.7     1\n",
      "8           2       Tran Thi Lan   Kinh Te    Thong ke    9.2     1\n",
      "9           7      Bui Tien Dung   Kinh Te    Thong ke    9.2     1\n",
      "\n",
      "Top 3 sinh viên đạt điểm thấp nhất theo từng môn học:\n",
      "   student_id               name     class course_name  score  rank\n",
      "0           1  Nguyen Minh Hoang  May Tinh   Giai tich    6.7     1\n",
      "1           2       Tran Thi Lan   Kinh Te    Thong ke    9.2     1\n",
      "2           7      Bui Tien Dung   Kinh Te    Thong ke    9.2     1\n"
     ]
    },
    {
     "name": "stderr",
     "output_type": "stream",
     "text": [
      "C:\\Users\\admin\\AppData\\Local\\Temp\\ipykernel_13816\\3784735501.py:15: DeprecationWarning: DataFrameGroupBy.apply operated on the grouping columns. This behavior is deprecated, and in a future version of pandas the grouping columns will be excluded from the operation. Either pass `include_groups=False` to exclude the groupings or explicitly select the grouping columns after groupby to silence this warning.\n",
      "  top_3_course_lowest = course_rank_result.groupby('course_name').apply(lambda x: x.nsmallest(3, 'score')).reset_index(drop=True)\n"
     ]
    }
   ],
   "source": [
    "# c, Xếp hạng sinh viên theo điểm số từng môn học\n",
    "course_rank_query = '''\n",
    "SELECT student_id, name, class, course_name, score,\n",
    "       RANK() OVER (PARTITION BY course_name ORDER BY score DESC) AS rank\n",
    "FROM student\n",
    "LEFT JOIN course ON student.course_id = course.id;\n",
    "'''\n",
    "course_rank_result = pd.read_sql(course_rank_query, conn)\n",
    "\n",
    "print(\"\\nXếp hạng sinh viên theo điểm số từng môn học (Toàn bộ danh sách - 10 sinh viên):\")\n",
    "print(course_rank_result)\n",
    "\n",
    "# Lấy top 3 sinh viên có điểm cao nhất và thấp nhất theo từng môn học\n",
    "top_3_course_highest = course_rank_result[course_rank_result['rank'] <= 3]\n",
    "top_3_course_lowest = course_rank_result.groupby('course_name').apply(lambda x: x.nsmallest(3, 'score')).reset_index(drop=True)\n",
    "\n",
    "print(\"\\nTop 3 sinh viên đạt điểm cao nhất theo từng môn học:\")\n",
    "print(top_3_course_highest)\n",
    "\n",
    "print(\"\\nTop 3 sinh viên đạt điểm thấp nhất theo từng môn học:\")\n",
    "print(top_3_course_lowest)\n"
   ]
  },
  {
   "cell_type": "markdown",
   "id": "5c001428-6f64-452a-bdb8-95d1db8248b4",
   "metadata": {},
   "source": [
    "Sự trùng lặp: Một số sinh viên có thể xuất hiện ở cả danh sách cao nhất và thấp nhất do:\n",
    "Điểm số của họ chênh lệch giữa các môn học.\n",
    "Có ít sinh viên trong một nhóm nên mặc dù điểm không quá cao/thấp vẫn lọt vào danh sách.\n",
    "Ý nghĩa thực tế: Giúp xác định được các sinh viên có thành tích nổi bật hoặc cần hỗ trợ, đồng thời phân tích năng lực học tập theo cả lớp và môn học."
   ]
  },
  {
   "cell_type": "markdown",
   "id": "4e2f68f3-0608-4e50-a3e3-5e69a97aec7d",
   "metadata": {},
   "source": [
    "# BƯỚC 4: Hãy bổ sung thêm một trường graduation_date có kiểu dữ liệu là DATETIME vào bảng \n",
    "student để xác định thời gian tốt nghiệp của từng bạn, trong đó thời gian tốt nghiệp được \n",
    "xác định bởi thời gian hiện tại cộng với số hạng tương ứng của bạn đó tính theo điểm số."
   ]
  },
  {
   "cell_type": "code",
   "execution_count": 107,
   "id": "a846e1be-405e-47f4-8701-7b4db1f35a6b",
   "metadata": {},
   "outputs": [
    {
     "name": "stdout",
     "output_type": "stream",
     "text": [
      "Cột graduation_date đã tồn tại.\n",
      "Đã cập nhật giá trị graduation_date cho từng sinh viên.\n"
     ]
    }
   ],
   "source": [
    "import sqlite3\n",
    "import pandas as pd\n",
    "from datetime import datetime, timedelta\n",
    "from IPython.display import display\n",
    "\n",
    "# Tạo kết nối đến cơ sở dữ liệu SQLite\n",
    "conn = sqlite3.connect(\"student_course.db\")\n",
    "\n",
    "# Kiểm tra cột graduation_date đã tồn tại chưa\n",
    "check_column_query = \"PRAGMA table_info(student);\"\n",
    "columns = pd.read_sql(check_column_query, conn)\n",
    "\n",
    "if 'graduation_date' not in columns['name'].values:\n",
    "    conn.execute(\"ALTER TABLE student ADD COLUMN graduation_date DATETIME;\")\n",
    "    print(\"Đã thêm cột graduation_date vào bảng student.\")\n",
    "else:\n",
    "    print(\"Cột graduation_date đã tồn tại.\")\n",
    "\n",
    "# Cập nhật giá trị graduation_date theo rank\n",
    "update_graduation_date_query = '''\n",
    "UPDATE student\n",
    "SET graduation_date = datetime('now', '+' || (\n",
    "    SELECT rank FROM (\n",
    "        SELECT student_id, RANK() OVER (ORDER BY score DESC) AS rank\n",
    "        FROM student\n",
    "    ) AS ranked\n",
    "    WHERE ranked.student_id = student.student_id\n",
    ") || ' days')\n",
    "WHERE score IS NOT NULL;\n",
    "'''\n",
    "\n",
    "conn.execute(update_graduation_date_query)\n",
    "conn.commit()\n",
    "print(\"Đã cập nhật giá trị graduation_date cho từng sinh viên.\")"
   ]
  },
  {
   "cell_type": "code",
   "execution_count": 109,
   "id": "8189e33a-181d-4a00-8e4b-2c7e03698ad2",
   "metadata": {},
   "outputs": [
    {
     "data": {
      "text/html": [
       "<div>\n",
       "<style scoped>\n",
       "    .dataframe tbody tr th:only-of-type {\n",
       "        vertical-align: middle;\n",
       "    }\n",
       "\n",
       "    .dataframe tbody tr th {\n",
       "        vertical-align: top;\n",
       "    }\n",
       "\n",
       "    .dataframe thead th {\n",
       "        text-align: right;\n",
       "    }\n",
       "</style>\n",
       "<table border=\"1\" class=\"dataframe\">\n",
       "  <thead>\n",
       "    <tr style=\"text-align: right;\">\n",
       "      <th></th>\n",
       "      <th>student_id</th>\n",
       "      <th>name</th>\n",
       "      <th>class</th>\n",
       "      <th>course_id</th>\n",
       "      <th>score</th>\n",
       "      <th>graduation_date</th>\n",
       "    </tr>\n",
       "  </thead>\n",
       "  <tbody>\n",
       "    <tr>\n",
       "      <th>0</th>\n",
       "      <td>1</td>\n",
       "      <td>Nguyen Minh Hoang</td>\n",
       "      <td>May Tinh</td>\n",
       "      <td>12.0</td>\n",
       "      <td>6.7</td>\n",
       "      <td>2025-03-16 14:29:57</td>\n",
       "    </tr>\n",
       "    <tr>\n",
       "      <th>1</th>\n",
       "      <td>2</td>\n",
       "      <td>Tran Thi Lan</td>\n",
       "      <td>Kinh Te</td>\n",
       "      <td>34.0</td>\n",
       "      <td>9.2</td>\n",
       "      <td>2025-03-08 14:29:57</td>\n",
       "    </tr>\n",
       "    <tr>\n",
       "      <th>2</th>\n",
       "      <td>3</td>\n",
       "      <td>Pham Van Nam</td>\n",
       "      <td>Toan Tin</td>\n",
       "      <td>NaN</td>\n",
       "      <td>7.9</td>\n",
       "      <td>2025-03-12 14:29:57</td>\n",
       "    </tr>\n",
       "    <tr>\n",
       "      <th>3</th>\n",
       "      <td>4</td>\n",
       "      <td>Le Thanh Huyen</td>\n",
       "      <td>Toan Tin</td>\n",
       "      <td>NaN</td>\n",
       "      <td>7.2</td>\n",
       "      <td>2025-03-13 14:29:57</td>\n",
       "    </tr>\n",
       "    <tr>\n",
       "      <th>4</th>\n",
       "      <td>5</td>\n",
       "      <td>Vu Quoc Anh</td>\n",
       "      <td>May Tinh</td>\n",
       "      <td>NaN</td>\n",
       "      <td>8.0</td>\n",
       "      <td>2025-03-11 14:29:57</td>\n",
       "    </tr>\n",
       "    <tr>\n",
       "      <th>5</th>\n",
       "      <td>6</td>\n",
       "      <td>Dang Thuy Linh</td>\n",
       "      <td>May Tinh</td>\n",
       "      <td>NaN</td>\n",
       "      <td>5.5</td>\n",
       "      <td>2025-03-17 14:29:57</td>\n",
       "    </tr>\n",
       "    <tr>\n",
       "      <th>6</th>\n",
       "      <td>7</td>\n",
       "      <td>Bui Tien Dung</td>\n",
       "      <td>Kinh Te</td>\n",
       "      <td>34.0</td>\n",
       "      <td>9.2</td>\n",
       "      <td>2025-03-08 14:29:57</td>\n",
       "    </tr>\n",
       "    <tr>\n",
       "      <th>7</th>\n",
       "      <td>8</td>\n",
       "      <td>Ho Ngoc Mai</td>\n",
       "      <td>Toan Tin</td>\n",
       "      <td>NaN</td>\n",
       "      <td>8.8</td>\n",
       "      <td>2025-03-10 14:29:57</td>\n",
       "    </tr>\n",
       "    <tr>\n",
       "      <th>8</th>\n",
       "      <td>9</td>\n",
       "      <td>Duong Huu Phuc</td>\n",
       "      <td>Kinh Te</td>\n",
       "      <td>NaN</td>\n",
       "      <td>7.2</td>\n",
       "      <td>2025-03-13 14:29:57</td>\n",
       "    </tr>\n",
       "    <tr>\n",
       "      <th>9</th>\n",
       "      <td>10</td>\n",
       "      <td>Cao Thi Hanh</td>\n",
       "      <td>May Tinh</td>\n",
       "      <td>NaN</td>\n",
       "      <td>7.0</td>\n",
       "      <td>2025-03-15 14:29:57</td>\n",
       "    </tr>\n",
       "  </tbody>\n",
       "</table>\n",
       "</div>"
      ],
      "text/plain": [
       "   student_id               name     class  course_id  score  \\\n",
       "0           1  Nguyen Minh Hoang  May Tinh       12.0    6.7   \n",
       "1           2       Tran Thi Lan   Kinh Te       34.0    9.2   \n",
       "2           3       Pham Van Nam  Toan Tin        NaN    7.9   \n",
       "3           4     Le Thanh Huyen  Toan Tin        NaN    7.2   \n",
       "4           5        Vu Quoc Anh  May Tinh        NaN    8.0   \n",
       "5           6     Dang Thuy Linh  May Tinh        NaN    5.5   \n",
       "6           7      Bui Tien Dung   Kinh Te       34.0    9.2   \n",
       "7           8        Ho Ngoc Mai  Toan Tin        NaN    8.8   \n",
       "8           9     Duong Huu Phuc   Kinh Te        NaN    7.2   \n",
       "9          10       Cao Thi Hanh  May Tinh        NaN    7.0   \n",
       "\n",
       "       graduation_date  \n",
       "0  2025-03-16 14:29:57  \n",
       "1  2025-03-08 14:29:57  \n",
       "2  2025-03-12 14:29:57  \n",
       "3  2025-03-13 14:29:57  \n",
       "4  2025-03-11 14:29:57  \n",
       "5  2025-03-17 14:29:57  \n",
       "6  2025-03-08 14:29:57  \n",
       "7  2025-03-10 14:29:57  \n",
       "8  2025-03-13 14:29:57  \n",
       "9  2025-03-15 14:29:57  "
      ]
     },
     "metadata": {},
     "output_type": "display_data"
    }
   ],
   "source": [
    "# Hiển thị toàn bộ bảng student sau khi cập nhật\n",
    "student_data_query = \"SELECT * FROM student;\"\n",
    "student_data = pd.read_sql(student_data_query, conn)\n",
    "display(student_data)\n"
   ]
  },
  {
   "cell_type": "markdown",
   "id": "987d7ad9-265f-4e51-970c-4b0f3659b0ab",
   "metadata": {},
   "source": [
    "Đã thêm thành công cột graduation_date vào bảng student.\n",
    "Cột này lưu ngày tốt nghiệp của từng sinh viên, được tính bằng thời gian hiện tại cộng với thứ hạng (rank) của sinh viên dựa trên điểm số.\n",
    "Sinh viên có điểm cao nhất sẽ tốt nghiệp sớm nhất.\n"
   ]
  }
 ],
 "metadata": {
  "kernelspec": {
   "display_name": "Python 3 (ipykernel)",
   "language": "python",
   "name": "python3"
  },
  "language_info": {
   "codemirror_mode": {
    "name": "ipython",
    "version": 3
   },
   "file_extension": ".py",
   "mimetype": "text/x-python",
   "name": "python",
   "nbconvert_exporter": "python",
   "pygments_lexer": "ipython3",
   "version": "3.12.7"
  }
 },
 "nbformat": 4,
 "nbformat_minor": 5
}
