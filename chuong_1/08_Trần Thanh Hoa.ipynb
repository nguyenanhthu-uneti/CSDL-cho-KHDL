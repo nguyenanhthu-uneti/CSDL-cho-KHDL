{
    "metadata": {
        "kernelspec": {
            "name": "SQL",
            "display_name": "SQL",
            "language": "sql"
        },
        "language_info": {
            "name": "sql",
            "version": ""
        }
    },
    "nbformat_minor": 2,
    "nbformat": 4,
    "cells": [
        {
            "cell_type": "code",
            "source": [
                "DROP TABLE IF EXISTS NhanVien;\n",
                "\n",
                "CREATE TABLE NhanVien (\n",
                "    MaNV INTEGER PRIMARY KEY,\n",
                "    HoTen VARCHAR(50),\n",
                "    Tuoi INTEGER,\n",
                "    PhongBan VARCHAR(50)\n",
                ");\n",
                "\n",
                "INSERT INTO NhanVien (MaNV, HoTen, Tuoi, PhongBan) VALUES\n",
                "(1, 'Nguyen Van A', 30, 'Ke Toan'),\n",
                "(2, 'Tran Thi B', 25, 'Nhan Su'),\n",
                "(3, 'Le Van C', 28, 'IT'),\n",
                "(4, 'Pham Thi D', 32, 'Ke Toan'), \n",
                "(5, 'Vu Van E', 26, 'IT'),\n",
                "(6, 'Nguyen Thi F', 29, 'Marketing'),  \n",
                "(7, 'Le Thi G', 27, 'Nhan Su'),\n",
                "(8, 'Hoang Van H', 35, 'Ke Toan'),  \n",
                "(9, 'Pham Van I', 33, 'Marketing'),  \n",
                "(10, 'Tran Van J', 24, 'IT'),\n",
                "(11, 'Dang Thi K', 31, 'Nhan Su'),  \n",
                "(12, 'Nguyen Van L', 28, 'Ke Toan'),  \n",
                "(13, 'Tran Van M', 29, 'Marketing'), \n",
                "(14, 'Pham Van N', 30, 'Nhan Su'),  \n",
                "(15, 'Hoang Thi O', 27, 'IT');"
            ],
            "metadata": {
                "azdata_cell_guid": "c3f63df5-1e3d-4ad0-aff0-503aa80d71fa",
                "language": "sql"
            },
            "outputs": [
                {
                    "output_type": "display_data",
                    "data": {
                        "text/html": "(15 rows affected)"
                    },
                    "metadata": {}
                },
                {
                    "output_type": "display_data",
                    "data": {
                        "text/html": "Total execution time: 00:00:00.063"
                    },
                    "metadata": {}
                }
            ],
            "execution_count": 1
        },
        {
            "cell_type": "code",
            "source": [
                "#LấytoànbộthôngtincủanhânviêntrongbảngNhanVien\n",
                "SELECT * FROM NhanVien;"
            ],
            "metadata": {
                "language": "sql",
                "azdata_cell_guid": "2b9b5454-6d84-4fd8-868b-7205a8c28481"
            },
            "outputs": [
                {
                    "output_type": "display_data",
                    "data": {
                        "text/html": "(15 rows affected)"
                    },
                    "metadata": {}
                },
                {
                    "output_type": "display_data",
                    "data": {
                        "text/html": "Total execution time: 00:00:00.047"
                    },
                    "metadata": {}
                },
                {
                    "output_type": "execute_result",
                    "execution_count": 3,
                    "data": {
                        "application/vnd.dataresource+json": {
                            "schema": {
                                "fields": [
                                    {
                                        "name": "MaNV"
                                    },
                                    {
                                        "name": "HoTen"
                                    },
                                    {
                                        "name": "Tuoi"
                                    },
                                    {
                                        "name": "PhongBan"
                                    }
                                ]
                            },
                            "data": [
                                {
                                    "MaNV": "1",
                                    "HoTen": "Nguyen Van A",
                                    "Tuoi": "30",
                                    "PhongBan": "Ke Toan"
                                },
                                {
                                    "MaNV": "2",
                                    "HoTen": "Tran Thi B",
                                    "Tuoi": "25",
                                    "PhongBan": "Nhan Su"
                                },
                                {
                                    "MaNV": "3",
                                    "HoTen": "Le Van C",
                                    "Tuoi": "28",
                                    "PhongBan": "IT"
                                },
                                {
                                    "MaNV": "4",
                                    "HoTen": "Pham Thi D",
                                    "Tuoi": "32",
                                    "PhongBan": "Ke Toan"
                                },
                                {
                                    "MaNV": "5",
                                    "HoTen": "Vu Van E",
                                    "Tuoi": "26",
                                    "PhongBan": "IT"
                                },
                                {
                                    "MaNV": "6",
                                    "HoTen": "Nguyen Thi F",
                                    "Tuoi": "29",
                                    "PhongBan": "Marketing"
                                },
                                {
                                    "MaNV": "7",
                                    "HoTen": "Le Thi G",
                                    "Tuoi": "27",
                                    "PhongBan": "Nhan Su"
                                },
                                {
                                    "MaNV": "8",
                                    "HoTen": "Hoang Van H",
                                    "Tuoi": "35",
                                    "PhongBan": "Ke Toan"
                                },
                                {
                                    "MaNV": "9",
                                    "HoTen": "Pham Van I",
                                    "Tuoi": "33",
                                    "PhongBan": "Marketing"
                                },
                                {
                                    "MaNV": "10",
                                    "HoTen": "Tran Van J",
                                    "Tuoi": "24",
                                    "PhongBan": "IT"
                                },
                                {
                                    "MaNV": "11",
                                    "HoTen": "Dang Thi K",
                                    "Tuoi": "31",
                                    "PhongBan": "Nhan Su"
                                },
                                {
                                    "MaNV": "12",
                                    "HoTen": "Nguyen Van L",
                                    "Tuoi": "28",
                                    "PhongBan": "Ke Toan"
                                },
                                {
                                    "MaNV": "13",
                                    "HoTen": "Tran Van M",
                                    "Tuoi": "29",
                                    "PhongBan": "Marketing"
                                },
                                {
                                    "MaNV": "14",
                                    "HoTen": "Pham Van N",
                                    "Tuoi": "30",
                                    "PhongBan": "Nhan Su"
                                },
                                {
                                    "MaNV": "15",
                                    "HoTen": "Hoang Thi O",
                                    "Tuoi": "27",
                                    "PhongBan": "IT"
                                }
                            ]
                        },
                        "text/html": "<table><tr><th>MaNV</th><th>HoTen</th><th>Tuoi</th><th>PhongBan</th></tr><tr><td>1</td><td>Nguyen Van A</td><td>30</td><td>Ke Toan</td></tr><tr><td>2</td><td>Tran Thi B</td><td>25</td><td>Nhan Su</td></tr><tr><td>3</td><td>Le Van C</td><td>28</td><td>IT</td></tr><tr><td>4</td><td>Pham Thi D</td><td>32</td><td>Ke Toan</td></tr><tr><td>5</td><td>Vu Van E</td><td>26</td><td>IT</td></tr><tr><td>6</td><td>Nguyen Thi F</td><td>29</td><td>Marketing</td></tr><tr><td>7</td><td>Le Thi G</td><td>27</td><td>Nhan Su</td></tr><tr><td>8</td><td>Hoang Van H</td><td>35</td><td>Ke Toan</td></tr><tr><td>9</td><td>Pham Van I</td><td>33</td><td>Marketing</td></tr><tr><td>10</td><td>Tran Van J</td><td>24</td><td>IT</td></tr><tr><td>11</td><td>Dang Thi K</td><td>31</td><td>Nhan Su</td></tr><tr><td>12</td><td>Nguyen Van L</td><td>28</td><td>Ke Toan</td></tr><tr><td>13</td><td>Tran Van M</td><td>29</td><td>Marketing</td></tr><tr><td>14</td><td>Pham Van N</td><td>30</td><td>Nhan Su</td></tr><tr><td>15</td><td>Hoang Thi O</td><td>27</td><td>IT</td></tr></table>"
                    },
                    "metadata": {}
                },
                {
                    "output_type": "error",
                    "ename": "",
                    "evalue": "Msg 2812, Level 16, State 62, Line 1\nCould not find stored procedure '#LấytoànbộthôngtincủanhânviêntrongbảngNhanVien'.",
                    "traceback": []
                }
            ],
            "execution_count": 3
        },
        {
            "cell_type": "code",
            "source": [
                "#TruyvấnHoTenvàTuoicủacácnhânviêntrongphòngIT\n",
                "SELECT HoTen, Tuoi \n",
                "FROM NhanVien \n",
                "WHERE PhongBan = 'IT';"
            ],
            "metadata": {
                "language": "sql",
                "azdata_cell_guid": "428ae0da-e916-4920-8162-c2a49c16354b"
            },
            "outputs": [
                {
                    "output_type": "display_data",
                    "data": {
                        "text/html": "(4 rows affected)"
                    },
                    "metadata": {}
                },
                {
                    "output_type": "display_data",
                    "data": {
                        "text/html": "Total execution time: 00:00:00.022"
                    },
                    "metadata": {}
                },
                {
                    "output_type": "execute_result",
                    "execution_count": 4,
                    "data": {
                        "application/vnd.dataresource+json": {
                            "schema": {
                                "fields": [
                                    {
                                        "name": "HoTen"
                                    },
                                    {
                                        "name": "Tuoi"
                                    }
                                ]
                            },
                            "data": [
                                {
                                    "HoTen": "Le Van C",
                                    "Tuoi": "28"
                                },
                                {
                                    "HoTen": "Vu Van E",
                                    "Tuoi": "26"
                                },
                                {
                                    "HoTen": "Tran Van J",
                                    "Tuoi": "24"
                                },
                                {
                                    "HoTen": "Hoang Thi O",
                                    "Tuoi": "27"
                                }
                            ]
                        },
                        "text/html": "<table><tr><th>HoTen</th><th>Tuoi</th></tr><tr><td>Le Van C</td><td>28</td></tr><tr><td>Vu Van E</td><td>26</td></tr><tr><td>Tran Van J</td><td>24</td></tr><tr><td>Hoang Thi O</td><td>27</td></tr></table>"
                    },
                    "metadata": {}
                },
                {
                    "output_type": "error",
                    "ename": "",
                    "evalue": "Msg 2812, Level 16, State 62, Line 1\nCould not find stored procedure '#TruyvấnHoTenvàTuoicủacácnhânviêntrongphòngIT'.",
                    "traceback": []
                }
            ],
            "execution_count": 4
        },
        {
            "cell_type": "code",
            "source": [
                "#Tìmnhânviêncóđộtuổilớnhơn25\n",
                "SELECT * \n",
                "FROM NhanVien \n",
                "WHERE Tuoi > 25;"
            ],
            "metadata": {
                "language": "sql",
                "azdata_cell_guid": "ab1c0c23-56fb-4394-87f3-8e0189235aeb"
            },
            "outputs": [
                {
                    "output_type": "display_data",
                    "data": {
                        "text/html": "(13 rows affected)"
                    },
                    "metadata": {}
                },
                {
                    "output_type": "display_data",
                    "data": {
                        "text/html": "Total execution time: 00:00:00.024"
                    },
                    "metadata": {}
                },
                {
                    "output_type": "execute_result",
                    "execution_count": 5,
                    "data": {
                        "application/vnd.dataresource+json": {
                            "schema": {
                                "fields": [
                                    {
                                        "name": "MaNV"
                                    },
                                    {
                                        "name": "HoTen"
                                    },
                                    {
                                        "name": "Tuoi"
                                    },
                                    {
                                        "name": "PhongBan"
                                    }
                                ]
                            },
                            "data": [
                                {
                                    "MaNV": "1",
                                    "HoTen": "Nguyen Van A",
                                    "Tuoi": "30",
                                    "PhongBan": "Ke Toan"
                                },
                                {
                                    "MaNV": "3",
                                    "HoTen": "Le Van C",
                                    "Tuoi": "28",
                                    "PhongBan": "IT"
                                },
                                {
                                    "MaNV": "4",
                                    "HoTen": "Pham Thi D",
                                    "Tuoi": "32",
                                    "PhongBan": "Ke Toan"
                                },
                                {
                                    "MaNV": "5",
                                    "HoTen": "Vu Van E",
                                    "Tuoi": "26",
                                    "PhongBan": "IT"
                                },
                                {
                                    "MaNV": "6",
                                    "HoTen": "Nguyen Thi F",
                                    "Tuoi": "29",
                                    "PhongBan": "Marketing"
                                },
                                {
                                    "MaNV": "7",
                                    "HoTen": "Le Thi G",
                                    "Tuoi": "27",
                                    "PhongBan": "Nhan Su"
                                },
                                {
                                    "MaNV": "8",
                                    "HoTen": "Hoang Van H",
                                    "Tuoi": "35",
                                    "PhongBan": "Ke Toan"
                                },
                                {
                                    "MaNV": "9",
                                    "HoTen": "Pham Van I",
                                    "Tuoi": "33",
                                    "PhongBan": "Marketing"
                                },
                                {
                                    "MaNV": "11",
                                    "HoTen": "Dang Thi K",
                                    "Tuoi": "31",
                                    "PhongBan": "Nhan Su"
                                },
                                {
                                    "MaNV": "12",
                                    "HoTen": "Nguyen Van L",
                                    "Tuoi": "28",
                                    "PhongBan": "Ke Toan"
                                },
                                {
                                    "MaNV": "13",
                                    "HoTen": "Tran Van M",
                                    "Tuoi": "29",
                                    "PhongBan": "Marketing"
                                },
                                {
                                    "MaNV": "14",
                                    "HoTen": "Pham Van N",
                                    "Tuoi": "30",
                                    "PhongBan": "Nhan Su"
                                },
                                {
                                    "MaNV": "15",
                                    "HoTen": "Hoang Thi O",
                                    "Tuoi": "27",
                                    "PhongBan": "IT"
                                }
                            ]
                        },
                        "text/html": "<table><tr><th>MaNV</th><th>HoTen</th><th>Tuoi</th><th>PhongBan</th></tr><tr><td>1</td><td>Nguyen Van A</td><td>30</td><td>Ke Toan</td></tr><tr><td>3</td><td>Le Van C</td><td>28</td><td>IT</td></tr><tr><td>4</td><td>Pham Thi D</td><td>32</td><td>Ke Toan</td></tr><tr><td>5</td><td>Vu Van E</td><td>26</td><td>IT</td></tr><tr><td>6</td><td>Nguyen Thi F</td><td>29</td><td>Marketing</td></tr><tr><td>7</td><td>Le Thi G</td><td>27</td><td>Nhan Su</td></tr><tr><td>8</td><td>Hoang Van H</td><td>35</td><td>Ke Toan</td></tr><tr><td>9</td><td>Pham Van I</td><td>33</td><td>Marketing</td></tr><tr><td>11</td><td>Dang Thi K</td><td>31</td><td>Nhan Su</td></tr><tr><td>12</td><td>Nguyen Van L</td><td>28</td><td>Ke Toan</td></tr><tr><td>13</td><td>Tran Van M</td><td>29</td><td>Marketing</td></tr><tr><td>14</td><td>Pham Van N</td><td>30</td><td>Nhan Su</td></tr><tr><td>15</td><td>Hoang Thi O</td><td>27</td><td>IT</td></tr></table>"
                    },
                    "metadata": {}
                },
                {
                    "output_type": "error",
                    "ename": "",
                    "evalue": "Msg 2812, Level 16, State 62, Line 1\nCould not find stored procedure '#Tìmnhânviêncóđộtuổilớnhơn25'.",
                    "traceback": []
                }
            ],
            "execution_count": 5
        },
        {
            "cell_type": "code",
            "source": [
                "#ChobiếtnhânviênlớntuổinhấtcủamỗiPhongBan\n",
                "SELECT PhongBan, HoTen, Tuoi\n",
                "FROM NhanVien\n",
                "WHERE Tuoi IN (\n",
                "    SELECT MAX(Tuoi)\n",
                "    FROM NhanVien\n",
                "    GROUP BY PhongBan\n",
                ");"
            ],
            "metadata": {
                "language": "sql",
                "azdata_cell_guid": "c266c334-4add-4564-836b-d143a84974a5"
            },
            "outputs": [
                {
                    "output_type": "display_data",
                    "data": {
                        "text/html": "(5 rows affected)"
                    },
                    "metadata": {}
                },
                {
                    "output_type": "display_data",
                    "data": {
                        "text/html": "Total execution time: 00:00:00.007"
                    },
                    "metadata": {}
                },
                {
                    "output_type": "execute_result",
                    "metadata": {},
                    "execution_count": 2,
                    "data": {
                        "application/vnd.dataresource+json": {
                            "schema": {
                                "fields": [
                                    {
                                        "name": "PhongBan"
                                    },
                                    {
                                        "name": "HoTen"
                                    },
                                    {
                                        "name": "Tuoi"
                                    }
                                ]
                            },
                            "data": [
                                {
                                    "PhongBan": "IT",
                                    "HoTen": "Le Van C",
                                    "Tuoi": "28"
                                },
                                {
                                    "PhongBan": "Ke Toan",
                                    "HoTen": "Hoang Van H",
                                    "Tuoi": "35"
                                },
                                {
                                    "PhongBan": "Marketing",
                                    "HoTen": "Pham Van I",
                                    "Tuoi": "33"
                                },
                                {
                                    "PhongBan": "Nhan Su",
                                    "HoTen": "Dang Thi K",
                                    "Tuoi": "31"
                                },
                                {
                                    "PhongBan": "Ke Toan",
                                    "HoTen": "Nguyen Van L",
                                    "Tuoi": "28"
                                }
                            ]
                        },
                        "text/html": [
                            "<table>",
                            "<tr><th>PhongBan</th><th>HoTen</th><th>Tuoi</th></tr>",
                            "<tr><td>IT</td><td>Le Van C</td><td>28</td></tr>",
                            "<tr><td>Ke Toan</td><td>Hoang Van H</td><td>35</td></tr>",
                            "<tr><td>Marketing</td><td>Pham Van I</td><td>33</td></tr>",
                            "<tr><td>Nhan Su</td><td>Dang Thi K</td><td>31</td></tr>",
                            "<tr><td>Ke Toan</td><td>Nguyen Van L</td><td>28</td></tr>",
                            "</table>"
                        ]
                    }
                },
                {
                    "output_type": "error",
                    "evalue": "Msg 2812, Level 16, State 62, Line 1\nCould not find stored procedure '#ChobiếtnhânviênlớntuổinhấtcủamỗiPhongBan'.",
                    "ename": "",
                    "traceback": []
                }
            ],
            "execution_count": 2
        },
        {
            "cell_type": "code",
            "source": [
                "#ChuyểnđổithôngtinPhongBancủanhânviênLeVanCtừITsangMarketing\n",
                "SELECT * FROM NhanVien WHERE HoTen = 'Le Van C';\n",
                "UPDATE NhanVien\n",
                "SET PhongBan = 'Marketing'\n",
                "WHERE MaNV = 3;\n",
                ""
            ],
            "metadata": {
                "language": "sql",
                "azdata_cell_guid": "f4dcf633-0941-4c3d-85d9-86dc26971839"
            },
            "outputs": [
                {
                    "output_type": "display_data",
                    "data": {
                        "text/html": "(1 row affected)"
                    },
                    "metadata": {}
                },
                {
                    "output_type": "display_data",
                    "data": {
                        "text/html": "(1 row affected)"
                    },
                    "metadata": {}
                },
                {
                    "output_type": "display_data",
                    "data": {
                        "text/html": "Total execution time: 00:00:00.051"
                    },
                    "metadata": {}
                },
                {
                    "output_type": "execute_result",
                    "execution_count": 7,
                    "data": {
                        "application/vnd.dataresource+json": {
                            "schema": {
                                "fields": [
                                    {
                                        "name": "MaNV"
                                    },
                                    {
                                        "name": "HoTen"
                                    },
                                    {
                                        "name": "Tuoi"
                                    },
                                    {
                                        "name": "PhongBan"
                                    }
                                ]
                            },
                            "data": [
                                {
                                    "MaNV": "3",
                                    "HoTen": "Le Van C",
                                    "Tuoi": "28",
                                    "PhongBan": "IT"
                                }
                            ]
                        },
                        "text/html": "<table><tr><th>MaNV</th><th>HoTen</th><th>Tuoi</th><th>PhongBan</th></tr><tr><td>3</td><td>Le Van C</td><td>28</td><td>IT</td></tr></table>"
                    },
                    "metadata": {}
                },
                {
                    "output_type": "error",
                    "ename": "",
                    "evalue": "Msg 2812, Level 16, State 62, Line 1\nCould not find stored procedure '#ChuyểnđổithôngtinPhongBancủanhânviênLeVanCtừITsangMarketing'.",
                    "traceback": []
                }
            ],
            "execution_count": 7
        },
        {
            "cell_type": "markdown",
            "source": [
                "Khi chuyển đổi không gặp vấn đề"
            ],
            "metadata": {
                "language": "sql",
                "azdata_cell_guid": "72a4bfcc-9a57-47c0-a092-9749a677b9ed"
            },
            "attachments": {}
        },
        {
            "cell_type": "code",
            "source": [
                "#Xoánhânviêncó\"MaSV=2\"rồichobiếtmõiphongbancóbaonhiêungười\n",
                "DELETE FROM NhanVien \n",
                "WHERE MaNV = 2;\n",
                "SELECT PhongBan, COUNT(*) AS SoLuongNhanVien\n",
                "FROM NhanVien\n",
                "GROUP BY PhongBan;"
            ],
            "metadata": {
                "language": "sql",
                "azdata_cell_guid": "aea85871-f533-4247-a20b-7b1742b47177"
            },
            "outputs": [
                {
                    "output_type": "error",
                    "ename": "",
                    "evalue": "Msg 102, Level 15, State 1, Line 1\nIncorrect syntax near 'rồichobiếtmõiphongbancóbaonhiêungười'.",
                    "traceback": []
                },
                {
                    "output_type": "display_data",
                    "data": {
                        "text/html": "Total execution time: 00:00:00.004"
                    },
                    "metadata": {}
                }
            ],
            "execution_count": 9
        },
        {
            "cell_type": "code",
            "source": [
                "#Câu9:Cacbướcđổitừsqlitesangpython:\n",
                "import sqlite3\n",
                "\n",
                "# 1. Kết nối đến database\n",
                "conn = sqlite3.connect(\"my_database.db\")\n",
                "cursor = conn.cursor()\n",
                "\n",
                "# 2. Tạo bảng\n",
                "cursor.execute('''CREATE TABLE IF NOT EXISTS students (\n",
                "                    id INTEGER PRIMARY KEY, \n",
                "                    name TEXT, age INTEGER, grade TEXT)''')\n",
                "\n",
                "# 3. Chèn dữ liệu\n",
                "cursor.execute(\"INSERT INTO students (name, age, grade) VALUES (?, ?, ?)\", \n",
                "               (\"Nguyễn Văn A\", 20, \"A\"))\n",
                "conn.commit()\n",
                "\n",
                "# 4. Truy vấn dữ liệu\n",
                "cursor.execute(\"SELECT * FROM students\")\n",
                "print(cursor.fetchall())\n",
                "\n",
                "# 5. Cập nhật dữ liệu\n",
                "cursor.execute(\"UPDATE students SET grade = ? WHERE name = ?\", (\"B+\", \"Nguyễn Văn A\"))\n",
                "conn.commit()\n",
                "\n",
                "# 6. Xóa dữ liệu\n",
                "cursor.execute(\"DELETE FROM students WHERE name = ?\", (\"Nguyễn Văn A\",))\n",
                "conn.commit()\n",
                "# 7. Đóng kết nối\n",
                "conn.close() "
            ],
            "metadata": {
                "language": "sql",
                "azdata_cell_guid": "e9f76872-c3a0-4144-b82f-a9ee75e61881"
            },
            "outputs": [
                {
                    "output_type": "error",
                    "ename": "",
                    "evalue": "Msg 102, Level 15, State 1, Line 2\nIncorrect syntax near 'import'.",
                    "traceback": []
                },
                {
                    "output_type": "error",
                    "ename": "",
                    "evalue": "Msg 102, Level 15, State 1, Line 13\nIncorrect syntax near '3.'.",
                    "traceback": []
                },
                {
                    "output_type": "display_data",
                    "data": {
                        "text/html": "Total execution time: 00:00:00.008"
                    },
                    "metadata": {}
                }
            ],
            "execution_count": 10
        }
    ]
}