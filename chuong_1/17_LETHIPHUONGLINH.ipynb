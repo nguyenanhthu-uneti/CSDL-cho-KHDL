{
 "cells": [
  {
   "cell_type": "code",
   "execution_count": null,
   "metadata": {},
   "outputs": [
    {
     "name": "stdout",
     "output_type": "stream",
     "text": [
      "   ID      Name  Age   Position  Salary\n",
      "0   1  Nguyen A   28  Developer   60000\n",
      "1   2    Tran B   34    Manager   80000\n"
     ]
    }
   ],
   "source": [
    "import pandas as pd\n",
    "\n",
    "# Tạo bảng nhân viên dưới dạng DataFrame\n",
    "data = {\n",
    "    'ID': [1, 2, 3],\n",
    "    'Name': ['Nguyen A', 'Tran B', 'Le C'],\n",
    "    'Age': [28, 34, 25],\n",
    "    'Position': ['Developer', 'Manager', 'Designer'],\n",
    "    'Salary': [60000, 80000, 50000]\n",
    "}\n",
    "\n",
    "df = pd.DataFrame(data)\n",
    "\n",
    "# Lọc các nhân viên có độ tuổi lớn hơn 25\n",
    "filtered_df = df[df['Age'] > 25]\n",
    "\n",
    "# Hiển thị kết quả\n",
    "print(filtered_df)\n"
   ]
  },
  {
   "cell_type": "code",
   "execution_count": 4,
   "metadata": {},
   "outputs": [
    {
     "name": "stdout",
     "output_type": "stream",
     "text": [
      "Dữ liệu trong bảng NhanVien:\n",
      "(1, 'Nguyen Van A', 30, 'Ke Toan')\n",
      "(2, 'Tran Thi B', 25, 'Nhan Su')\n",
      "(3, 'Le Van C', 28, 'IT')\n",
      "(4, 'Pham Thi D', 32, 'Ke Toan')\n",
      "(5, 'Vu Van E', 26, 'IT')\n",
      "(6, 'Nguyen Thi F', 29, 'Marketing')\n",
      "(7, 'Le Thi G', 27, 'Nhan Su')\n",
      "(8, 'Hoang Van H', 35, 'Ke Toan')\n",
      "(9, 'Pham Van I', 33, 'Marketing')\n",
      "(10, 'Tran Van J', 24, 'IT')\n",
      "(11, 'Dang Thi K', 31, 'Nhan Su')\n",
      "(12, 'Nguyen Van L', 28, 'Ke Toan')\n",
      "(13, 'Tran Thi M', 26, 'Marketing')\n",
      "(14, 'Pham Van N', 30, 'Nhan Su')\n",
      "(15, 'Hoang Thi O', 27, 'IT')\n"
     ]
    }
   ],
   "source": [
    "import sqlite3\n",
    "\n",
    "# Kết nối đến SQLite (tạo file database nếu chưa có)\n",
    "conn = sqlite3.connect(\"nhanvien.db\")  \n",
    "cursor = conn.cursor()\n",
    "\n",
    "# 1. Tạo bảng NhanVien\n",
    "cursor.execute(\"\"\"\n",
    "CREATE TABLE IF NOT EXISTS NhanVien (\n",
    "    MaNV INTEGER PRIMARY KEY,\n",
    "    HoTen TEXT,\n",
    "    Tuoi INTEGER,\n",
    "    PhongBan TEXT\n",
    ");\n",
    "\"\"\")\n",
    "\n",
    "# 2. Chèn dữ liệu vào bảng\n",
    "data = [\n",
    "    (1, 'Nguyen Van A', 30, 'Ke Toan'),\n",
    "    (2, 'Tran Thi B', 25, 'Nhan Su'),\n",
    "    (3, 'Le Van C', 28, 'IT'),\n",
    "    (4, 'Pham Thi D', 32, 'Ke Toan'),\n",
    "    (5, 'Vu Van E', 26, 'IT'),\n",
    "    (6, 'Nguyen Thi F', 29, 'Marketing'),\n",
    "    (7, 'Le Thi G', 27, 'Nhan Su'),\n",
    "    (8, 'Hoang Van H', 35, 'Ke Toan'),\n",
    "    (9, 'Pham Van I', 33, 'Marketing'),\n",
    "    (10, 'Tran Van J', 24, 'IT'),\n",
    "    (11, 'Dang Thi K', 31, 'Nhan Su'),\n",
    "    (12, 'Nguyen Van L', 28, 'Ke Toan'),\n",
    "    (13, 'Tran Thi M', 26, 'Marketing'),\n",
    "    (14, 'Pham Van N', 30, 'Nhan Su'),\n",
    "    (15, 'Hoang Thi O', 27, 'IT')\n",
    "]\n",
    "\n",
    "cursor.executemany(\"INSERT INTO NhanVien (MaNV, HoTen, Tuoi, PhongBan) VALUES (?, ?, ?, ?)\", data)\n",
    "\n",
    "# 3. Truy vấn dữ liệu\n",
    "cursor.execute(\"SELECT * FROM NhanVien\")\n",
    "rows = cursor.fetchall()\n",
    "\n",
    "# Hiển thị kết quả\n",
    "print(\"Dữ liệu trong bảng NhanVien:\")\n",
    "for row in rows:\n",
    "    print(row)\n",
    "\n",
    "# Lưu thay đổi và đóng kết nối\n",
    "conn.commit()\n",
    "conn.close()\n"
   ]
  },
  {
   "cell_type": "markdown",
   "metadata": {},
   "source": [
    "#3\n",
    "\n",
    "SELECT * FROM NhanVien;\n"
   ]
  },
  {
   "cell_type": "code",
   "execution_count": 5,
   "metadata": {},
   "outputs": [
    {
     "name": "stdout",
     "output_type": "stream",
     "text": [
      "Danh sách nhân viên:\n",
      "(1, 'Nguyen Van A', 30, 'Ke Toan')\n",
      "(2, 'Tran Thi B', 25, 'Nhan Su')\n",
      "(3, 'Le Van C', 28, 'IT')\n",
      "(4, 'Pham Thi D', 32, 'Ke Toan')\n",
      "(5, 'Vu Van E', 26, 'IT')\n",
      "(6, 'Nguyen Thi F', 29, 'Marketing')\n",
      "(7, 'Le Thi G', 27, 'Nhan Su')\n",
      "(8, 'Hoang Van H', 35, 'Ke Toan')\n",
      "(9, 'Pham Van I', 33, 'Marketing')\n",
      "(10, 'Tran Van J', 24, 'IT')\n",
      "(11, 'Dang Thi K', 31, 'Nhan Su')\n",
      "(12, 'Nguyen Van L', 28, 'Ke Toan')\n",
      "(13, 'Tran Thi M', 26, 'Marketing')\n",
      "(14, 'Pham Van N', 30, 'Nhan Su')\n",
      "(15, 'Hoang Thi O', 27, 'IT')\n"
     ]
    }
   ],
   "source": [
    "# lay thong tin nhan vien\n",
    "import sqlite3\n",
    "\n",
    "# Kết nối đến cơ sở dữ liệu SQLite\n",
    "conn = sqlite3.connect(\"nhanvien.db\")\n",
    "cursor = conn.cursor()\n",
    "\n",
    "# Thực hiện truy vấn lấy toàn bộ dữ liệu từ bảng NhanVien\n",
    "cursor.execute(\"SELECT * FROM NhanVien\")\n",
    "rows = cursor.fetchall()\n",
    "\n",
    "# Hiển thị kết quả\n",
    "print(\"Danh sách nhân viên:\")\n",
    "for row in rows:\n",
    "    print(row)\n",
    "\n",
    "# Đóng kết nối\n",
    "conn.close()\n"
   ]
  },
  {
   "cell_type": "markdown",
   "metadata": {},
   "source": [
    "#4\n",
    "\n",
    "SELECT HoTen, Tuoi FROM NhanVien WHERE PhongBan = 'IT';\n"
   ]
  },
  {
   "cell_type": "code",
   "execution_count": 6,
   "metadata": {},
   "outputs": [
    {
     "name": "stdout",
     "output_type": "stream",
     "text": [
      "Danh sách nhân viên phòng IT:\n",
      "('Le Van C', 28)\n",
      "('Vu Van E', 26)\n",
      "('Tran Van J', 24)\n",
      "('Hoang Thi O', 27)\n"
     ]
    }
   ],
   "source": [
    "#lay thong tin ho va ten phong It\n",
    "import sqlite3\n",
    "\n",
    "# Kết nối đến cơ sở dữ liệu SQLite\n",
    "conn = sqlite3.connect(\"nhanvien.db\")\n",
    "cursor = conn.cursor()\n",
    "\n",
    "# Thực hiện truy vấn lấy HoTen và Tuoi của nhân viên trong phòng IT\n",
    "cursor.execute(\"SELECT HoTen, Tuoi FROM NhanVien WHERE PhongBan = 'IT'\")\n",
    "rows = cursor.fetchall()\n",
    "\n",
    "# Hiển thị kết quả\n",
    "print(\"Danh sách nhân viên phòng IT:\")\n",
    "for row in rows:\n",
    "    print(row)\n",
    "\n",
    "# Đóng kết nối\n",
    "conn.close()\n"
   ]
  },
  {
   "cell_type": "markdown",
   "metadata": {},
   "source": [
    "#5\n",
    "\n",
    "SELECT * FROM NhanVien WHERE Tuoi > 25;\n"
   ]
  },
  {
   "cell_type": "code",
   "execution_count": 9,
   "metadata": {},
   "outputs": [
    {
     "name": "stdout",
     "output_type": "stream",
     "text": [
      "Danh sách nhân viên có độ tuổi lớn hơn 25:\n",
      "(1, 'Nguyen Van A', 30, 'Ke Toan')\n",
      "(3, 'Le Van C', 28, 'IT')\n",
      "(4, 'Pham Thi D', 32, 'Ke Toan')\n",
      "(5, 'Vu Van E', 26, 'IT')\n",
      "(6, 'Nguyen Thi F', 29, 'Marketing')\n",
      "(7, 'Le Thi G', 27, 'Nhan Su')\n",
      "(8, 'Hoang Van H', 35, 'Ke Toan')\n",
      "(9, 'Pham Van I', 33, 'Marketing')\n",
      "(11, 'Dang Thi K', 31, 'Nhan Su')\n",
      "(12, 'Nguyen Van L', 28, 'Ke Toan')\n",
      "(13, 'Tran Thi M', 26, 'Marketing')\n",
      "(14, 'Pham Van N', 30, 'Nhan Su')\n",
      "(15, 'Hoang Thi O', 27, 'IT')\n"
     ]
    }
   ],
   "source": [
    "#import sqlite3\n",
    "\n",
    "# Kết nối đến cơ sở dữ liệu SQLite\n",
    "conn = sqlite3.connect(\"nhanvien.db\")\n",
    "cursor = conn.cursor()\n",
    "\n",
    "# Truy vấn nhân viên có độ tuổi lớn hơn 25\n",
    "cursor.execute(\"SELECT * FROM NhanVien WHERE Tuoi > 25\")\n",
    "rows = cursor.fetchall()\n",
    "\n",
    "# Hiển thị kết quả\n",
    "print(\"Danh sách nhân viên có độ tuổi lớn hơn 25:\")\n",
    "for row in rows:\n",
    "    print(row)\n",
    "\n",
    "# Đóng kết nối\n",
    "conn.close()\n"
   ]
  },
  {
   "cell_type": "markdown",
   "metadata": {},
   "source": [
    "#6\n",
    "SQL:\n",
    "\n",
    "SELECT PhongBan, HoTen, Tuoi\n",
    "\n",
    "FROM NhanVien\n",
    "\n",
    "WHERE Tuoi = (\n",
    "\n",
    "    SELECT MAX(Tuoi) FROM NhanVien AS NV2 WHERE NV2.PhongBan = NhanVien.PhongBan\n",
    "\n",
    ");\n"
   ]
  },
  {
   "cell_type": "code",
   "execution_count": 10,
   "metadata": {},
   "outputs": [
    {
     "name": "stdout",
     "output_type": "stream",
     "text": [
      "Nhân viên lớn tuổi nhất của từng phòng ban:\n",
      "('IT', 'Le Van C', 28)\n",
      "('Ke Toan', 'Hoang Van H', 35)\n",
      "('Marketing', 'Pham Van I', 33)\n",
      "('Nhan Su', 'Dang Thi K', 31)\n"
     ]
    }
   ],
   "source": [
    "import sqlite3\n",
    "\n",
    "# Kết nối đến cơ sở dữ liệu SQLite\n",
    "conn = sqlite3.connect(\"nhanvien.db\")\n",
    "cursor = conn.cursor()\n",
    "\n",
    "# Truy vấn nhân viên lớn tuổi nhất của từng phòng ban\n",
    "query = \"\"\"\n",
    "SELECT PhongBan, HoTen, Tuoi\n",
    "FROM NhanVien\n",
    "WHERE Tuoi = (\n",
    "    SELECT MAX(Tuoi) FROM NhanVien AS NV2 WHERE NV2.PhongBan = NhanVien.PhongBan\n",
    ");\n",
    "\"\"\"\n",
    "cursor.execute(query)\n",
    "rows = cursor.fetchall()\n",
    "\n",
    "# Hiển thị kết quả\n",
    "print(\"Nhân viên lớn tuổi nhất của từng phòng ban:\")\n",
    "for row in rows:\n",
    "    print(row)\n",
    "\n",
    "# Đóng kết nối\n",
    "conn.close()\n"
   ]
  },
  {
   "cell_type": "markdown",
   "metadata": {},
   "source": [
    "#7\n",
    "\n",
    "UPDATE NhanVien \n",
    "\n",
    "SET PhongBan = 'Marketing' \n",
    "\n",
    "WHERE HoTen = 'Le Van C' AND PhongBan = 'IT';\n",
    "\n"
   ]
  },
  {
   "cell_type": "code",
   "execution_count": 11,
   "metadata": {},
   "outputs": [
    {
     "name": "stdout",
     "output_type": "stream",
     "text": [
      "Thông tin nhân viên sau khi cập nhật:\n",
      "(3, 'Le Van C', 28, 'Marketing')\n"
     ]
    }
   ],
   "source": [
    "import sqlite3\n",
    "\n",
    "# Kết nối đến cơ sở dữ liệu SQLite\n",
    "conn = sqlite3.connect(\"nhanvien.db\")\n",
    "cursor = conn.cursor()\n",
    "\n",
    "# Cập nhật phòng ban của nhân viên \"Le Van C\" từ \"IT\" sang \"Marketing\"\n",
    "cursor.execute(\"\"\"\n",
    "    UPDATE NhanVien \n",
    "    SET PhongBan = 'Marketing' \n",
    "    WHERE HoTen = 'Le Van C' AND PhongBan = 'IT'\n",
    "\"\"\")\n",
    "\n",
    "# Lưu thay đổi\n",
    "conn.commit()\n",
    "\n",
    "# Kiểm tra lại thông tin sau khi cập nhật\n",
    "cursor.execute(\"SELECT * FROM NhanVien WHERE HoTen = 'Le Van C'\")\n",
    "updated_employee = cursor.fetchall()\n",
    "\n",
    "# Hiển thị kết quả\n",
    "print(\"Thông tin nhân viên sau khi cập nhật:\")\n",
    "for row in updated_employee:\n",
    "    print(row)\n",
    "\n",
    "# Đóng kết nối\n",
    "conn.close()\n"
   ]
  },
  {
   "cell_type": "markdown",
   "metadata": {},
   "source": [
    "vấn đề là khi có nhiêu 1 hơn 1 người là le van c thì nó sẽ thay dổi hết sang marketing \n",
    "cách giải quyết :\n",
    "mk phải gọi thêm điều kiện MÃ NV=3 để lấy đúng người cần chuyển đổi "
   ]
  },
  {
   "cell_type": "markdown",
   "metadata": {},
   "source": [
    "#8\n",
    "\n",
    "DELETE FROM NhanVien WHERE MaNV = 2;\n",
    "\n",
    "SELECT PhongBan, COUNT(*) AS SoLuongNhanVien\n",
    "\n",
    "FROM NhanVien\n",
    "\n",
    "GROUP BY PhongBan;\n"
   ]
  },
  {
   "cell_type": "code",
   "execution_count": 12,
   "metadata": {},
   "outputs": [
    {
     "name": "stdout",
     "output_type": "stream",
     "text": [
      "Số lượng nhân viên trong mỗi phòng ban sau khi xóa nhân viên có MaNV = 2:\n",
      "('IT', 3)\n",
      "('Ke Toan', 4)\n",
      "('Marketing', 4)\n",
      "('Nhan Su', 3)\n"
     ]
    }
   ],
   "source": [
    "import sqlite3\n",
    "\n",
    "# Kết nối đến cơ sở dữ liệu SQLite\n",
    "conn = sqlite3.connect(\"nhanvien.db\")\n",
    "cursor = conn.cursor()\n",
    "\n",
    "# Xóa nhân viên có MaNV = 2\n",
    "cursor.execute(\"DELETE FROM NhanVien WHERE MaNV = 2\")\n",
    "\n",
    "# Lưu thay đổi vào database\n",
    "conn.commit()\n",
    "\n",
    "# Đếm số lượng nhân viên trong mỗi phòng ban\n",
    "cursor.execute(\"\"\"\n",
    "    SELECT PhongBan, COUNT(*) AS SoLuongNhanVien\n",
    "    FROM NhanVien\n",
    "    GROUP BY PhongBan\n",
    "\"\"\")\n",
    "rows = cursor.fetchall()\n",
    "\n",
    "# Hiển thị kết quả\n",
    "print(\"Số lượng nhân viên trong mỗi phòng ban sau khi xóa nhân viên có MaNV = 2:\")\n",
    "for row in rows:\n",
    "    print(row)\n",
    "\n",
    "# Đóng kết nối\n",
    "conn.close()\n"
   ]
  }
 ],
 "metadata": {
  "kernelspec": {
   "display_name": "Orange",
   "language": "python",
   "name": "python3"
  },
  "language_info": {
   "codemirror_mode": {
    "name": "ipython",
    "version": 3
   },
   "file_extension": ".py",
   "mimetype": "text/x-python",
   "name": "python",
   "nbconvert_exporter": "python",
   "pygments_lexer": "ipython3",
   "version": "3.11.8"
  }
 },
 "nbformat": 4,
 "nbformat_minor": 2
}
