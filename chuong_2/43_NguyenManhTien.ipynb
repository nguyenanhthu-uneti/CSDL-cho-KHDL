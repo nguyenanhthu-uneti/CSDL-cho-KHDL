{
 "cells": [
  {
   "cell_type": "code",
   "execution_count": 1,
   "metadata": {},
   "outputs": [
    {
     "data": {
      "text/plain": [
       "3"
      ]
     },
     "execution_count": 1,
     "metadata": {},
     "output_type": "execute_result"
    }
   ],
   "source": [
    "import pandas as pd\n",
    "import sqlite3\n",
    "from datetime import datetime, timedelta\n",
    "\n",
    "# Tạo DataFrame từ bảng student\n",
    "data_student = {\n",
    "    \"student_id\": [1, 2, 3, 4, 5, 6, 7, 8, 9, 10],\n",
    "    \"name\": [\"Nguyen Minh Hoang\", \"Tran Thi Lan\", \"Pham Van Nam\", \"Le Thanh Huyen\", \"Vu Quoc Anh\",\n",
    "             \"Dang Thuy Linh\", \"Bui Tien Dung\", \"Ho Ngoc Mai\", \"Duong Huu Phuc\", \"Cao Thi Hanh\"],\n",
    "    \"class\": [\"May Tinh\", \"Kinh Te\", \"Toan Tin\", \"Toan Tin\", \"May Tinh\",\n",
    "              \"May Tinh\", \"Kinh Te\", \"Toan Tin\", \"Kinh Te\", \"May Tinh\"],\n",
    "    \"course_id\": [12, 34, None, 20, 24, 24, 34, 20, None, None],\n",
    "    \"score\": [6.7, 9.2, 7.9, 7.2, 8.0, 5.5, 9.2, 8.8, 7.2, 7.0]\n",
    "}\n",
    "df_student = pd.DataFrame(data_student)\n",
    "\n",
    "# Tạo DataFrame từ bảng course\n",
    "data_course = {\n",
    "    \"id\": [12, 34, 26],\n",
    "    \"course_name\": [\"Giai tich\", \"Thong ke\", \"Tin hoc\"]\n",
    "}\n",
    "df_course = pd.DataFrame(data_course)\n",
    "\n",
    "# Kết nối SQLite\n",
    "conn = sqlite3.connect(':memory:')\n",
    "df_student.to_sql('student', conn, index=False, if_exists='replace')\n",
    "df_course.to_sql('course', conn, index=False, if_exists='replace')"
   ]
  },
  {
   "cell_type": "markdown",
   "metadata": {},
   "source": [
    "# 1. Kết nối hai bảng."
   ]
  },
  {
   "cell_type": "markdown",
   "metadata": {},
   "source": [
    "## a, Sử dụng Tích Descartes (Cross Join):"
   ]
  },
  {
   "cell_type": "code",
   "execution_count": 2,
   "metadata": {},
   "outputs": [
    {
     "name": "stdout",
     "output_type": "stream",
     "text": [
      "\n",
      "Tích Descartes (Cross Join) Result:\n",
      "    student_id               name     class  course_id  score  id course_name\n",
      "0            1  Nguyen Minh Hoang  May Tinh       12.0    6.7  12   Giai tich\n",
      "1            1  Nguyen Minh Hoang  May Tinh       12.0    6.7  34    Thong ke\n",
      "2            1  Nguyen Minh Hoang  May Tinh       12.0    6.7  26     Tin hoc\n",
      "3            2       Tran Thi Lan   Kinh Te       34.0    9.2  12   Giai tich\n",
      "4            2       Tran Thi Lan   Kinh Te       34.0    9.2  34    Thong ke\n",
      "5            2       Tran Thi Lan   Kinh Te       34.0    9.2  26     Tin hoc\n",
      "6            3       Pham Van Nam  Toan Tin        NaN    7.9  12   Giai tich\n",
      "7            3       Pham Van Nam  Toan Tin        NaN    7.9  34    Thong ke\n",
      "8            3       Pham Van Nam  Toan Tin        NaN    7.9  26     Tin hoc\n",
      "9            4     Le Thanh Huyen  Toan Tin       20.0    7.2  12   Giai tich\n",
      "10           4     Le Thanh Huyen  Toan Tin       20.0    7.2  34    Thong ke\n",
      "11           4     Le Thanh Huyen  Toan Tin       20.0    7.2  26     Tin hoc\n",
      "12           5        Vu Quoc Anh  May Tinh       24.0    8.0  12   Giai tich\n",
      "13           5        Vu Quoc Anh  May Tinh       24.0    8.0  34    Thong ke\n",
      "14           5        Vu Quoc Anh  May Tinh       24.0    8.0  26     Tin hoc\n",
      "15           6     Dang Thuy Linh  May Tinh       24.0    5.5  12   Giai tich\n",
      "16           6     Dang Thuy Linh  May Tinh       24.0    5.5  34    Thong ke\n",
      "17           6     Dang Thuy Linh  May Tinh       24.0    5.5  26     Tin hoc\n",
      "18           7      Bui Tien Dung   Kinh Te       34.0    9.2  12   Giai tich\n",
      "19           7      Bui Tien Dung   Kinh Te       34.0    9.2  34    Thong ke\n",
      "20           7      Bui Tien Dung   Kinh Te       34.0    9.2  26     Tin hoc\n",
      "21           8        Ho Ngoc Mai  Toan Tin       20.0    8.8  12   Giai tich\n",
      "22           8        Ho Ngoc Mai  Toan Tin       20.0    8.8  34    Thong ke\n",
      "23           8        Ho Ngoc Mai  Toan Tin       20.0    8.8  26     Tin hoc\n",
      "24           9     Duong Huu Phuc   Kinh Te        NaN    7.2  12   Giai tich\n",
      "25           9     Duong Huu Phuc   Kinh Te        NaN    7.2  34    Thong ke\n",
      "26           9     Duong Huu Phuc   Kinh Te        NaN    7.2  26     Tin hoc\n",
      "27          10       Cao Thi Hanh  May Tinh        NaN    7.0  12   Giai tich\n",
      "28          10       Cao Thi Hanh  May Tinh        NaN    7.0  34    Thong ke\n",
      "29          10       Cao Thi Hanh  May Tinh        NaN    7.0  26     Tin hoc\n"
     ]
    }
   ],
   "source": [
    "# Tích Descartes (Cross Join)\n",
    "query_cross = '''\n",
    "SELECT * FROM student CROSS JOIN course;\n",
    "'''\n",
    "df_cross = pd.read_sql(query_cross, conn)\n",
    "print(\"\\nTích Descartes (Cross Join) Result:\")\n",
    "print(df_cross)"
   ]
  },
  {
   "cell_type": "markdown",
   "metadata": {},
   "source": [
    "## b, Sử dụng INNER JOIN , LEFT JOIN , RIGHT JOIN , FULL OUTER JOIN:"
   ]
  },
  {
   "cell_type": "code",
   "execution_count": 3,
   "metadata": {},
   "outputs": [
    {
     "name": "stdout",
     "output_type": "stream",
     "text": [
      "INNER JOIN Result:\n",
      "   student_id               name     class  course_id course_name  score\n",
      "0           1  Nguyen Minh Hoang  May Tinh       12.0   Giai tich    6.7\n",
      "1           2       Tran Thi Lan   Kinh Te       34.0    Thong ke    9.2\n",
      "2           7      Bui Tien Dung   Kinh Te       34.0    Thong ke    9.2\n"
     ]
    }
   ],
   "source": [
    "# INNER JOIN\n",
    "query_inner = '''\n",
    "SELECT s.student_id, s.name, s.class, s.course_id, c.course_name, s.score \n",
    "FROM student s \n",
    "INNER JOIN course c ON s.course_id = c.id\n",
    "'''\n",
    "df_inner = pd.read_sql(query_inner, conn)\n",
    "print(\"INNER JOIN Result:\")\n",
    "print(df_inner)"
   ]
  },
  {
   "cell_type": "code",
   "execution_count": 4,
   "metadata": {},
   "outputs": [
    {
     "name": "stdout",
     "output_type": "stream",
     "text": [
      "\n",
      "LEFT JOIN Result:\n",
      "   student_id               name     class  course_id course_name  score\n",
      "0           1  Nguyen Minh Hoang  May Tinh       12.0   Giai tich    6.7\n",
      "1           2       Tran Thi Lan   Kinh Te       34.0    Thong ke    9.2\n",
      "2           3       Pham Van Nam  Toan Tin        NaN        None    7.9\n",
      "3           4     Le Thanh Huyen  Toan Tin       20.0        None    7.2\n",
      "4           5        Vu Quoc Anh  May Tinh       24.0        None    8.0\n",
      "5           6     Dang Thuy Linh  May Tinh       24.0        None    5.5\n",
      "6           7      Bui Tien Dung   Kinh Te       34.0    Thong ke    9.2\n",
      "7           8        Ho Ngoc Mai  Toan Tin       20.0        None    8.8\n",
      "8           9     Duong Huu Phuc   Kinh Te        NaN        None    7.2\n",
      "9          10       Cao Thi Hanh  May Tinh        NaN        None    7.0\n"
     ]
    }
   ],
   "source": [
    "# LEFT JOIN\n",
    "query_left = '''\n",
    "SELECT s.student_id, s.name, s.class, s.course_id, c.course_name, s.score \n",
    "FROM student s \n",
    "LEFT JOIN course c ON s.course_id = c.id\n",
    "'''\n",
    "df_left = pd.read_sql(query_left, conn)\n",
    "print(\"\\nLEFT JOIN Result:\")\n",
    "print(df_left)"
   ]
  },
  {
   "cell_type": "code",
   "execution_count": 5,
   "metadata": {},
   "outputs": [
    {
     "name": "stdout",
     "output_type": "stream",
     "text": [
      "\n",
      "RIGHT JOIN Result:\n",
      "   student_id               name     class  course_id course_name  score\n",
      "0         1.0  Nguyen Minh Hoang  May Tinh       12.0   Giai tich    6.7\n",
      "1         2.0       Tran Thi Lan   Kinh Te       34.0    Thong ke    9.2\n",
      "2         7.0      Bui Tien Dung   Kinh Te       34.0    Thong ke    9.2\n",
      "3         NaN               None      None        NaN     Tin hoc    NaN\n"
     ]
    }
   ],
   "source": [
    "# RIGHT JOIN (dùng LEFT JOIN với đảo thứ tự bảng)\n",
    "query_right = '''\n",
    "SELECT s.student_id, s.name, s.class, s.course_id, c.course_name, s.score \n",
    "FROM course c \n",
    "LEFT JOIN student s ON s.course_id = c.id\n",
    "'''\n",
    "df_right = pd.read_sql(query_right, conn)\n",
    "print(\"\\nRIGHT JOIN Result:\")\n",
    "print(df_right)"
   ]
  },
  {
   "cell_type": "code",
   "execution_count": 6,
   "metadata": {},
   "outputs": [
    {
     "name": "stdout",
     "output_type": "stream",
     "text": [
      "\n",
      "FULL OUTER JOIN Result:\n",
      "    student_id               name     class  course_id course_name  score\n",
      "0          NaN               None      None        NaN     Tin hoc    NaN\n",
      "1          1.0  Nguyen Minh Hoang  May Tinh       12.0   Giai tich    6.7\n",
      "2          2.0       Tran Thi Lan   Kinh Te       34.0    Thong ke    9.2\n",
      "3          3.0       Pham Van Nam  Toan Tin        NaN        None    7.9\n",
      "4          4.0     Le Thanh Huyen  Toan Tin       20.0        None    7.2\n",
      "5          5.0        Vu Quoc Anh  May Tinh       24.0        None    8.0\n",
      "6          6.0     Dang Thuy Linh  May Tinh       24.0        None    5.5\n",
      "7          7.0      Bui Tien Dung   Kinh Te       34.0    Thong ke    9.2\n",
      "8          8.0        Ho Ngoc Mai  Toan Tin       20.0        None    8.8\n",
      "9          9.0     Duong Huu Phuc   Kinh Te        NaN        None    7.2\n",
      "10        10.0       Cao Thi Hanh  May Tinh        NaN        None    7.0\n"
     ]
    }
   ],
   "source": [
    "# FULL OUTER JOIN (kết hợp LEFT JOIN và RIGHT JOIN)\n",
    "query_full_outer = '''\n",
    "SELECT s.student_id, s.name, s.class, s.course_id, c.course_name, s.score \n",
    "FROM student s \n",
    "LEFT JOIN course c ON s.course_id = c.id\n",
    "UNION\n",
    "SELECT s.student_id, s.name, s.class, s.course_id, c.course_name, s.score \n",
    "FROM course c \n",
    "LEFT JOIN student s ON s.course_id = c.id\n",
    "'''\n",
    "df_full_outer = pd.read_sql(query_full_outer, conn)\n",
    "print(\"\\nFULL OUTER JOIN Result:\")\n",
    "print(df_full_outer)"
   ]
  },
  {
   "cell_type": "markdown",
   "metadata": {},
   "source": [
    "# 2. Tổng số , điểm TB , phân loại sinh viên."
   ]
  },
  {
   "cell_type": "code",
   "execution_count": 7,
   "metadata": {},
   "outputs": [
    {
     "data": {
      "text/plain": [
       "<sqlite3.Cursor at 0x14d78f8b440>"
      ]
     },
     "execution_count": 7,
     "metadata": {},
     "output_type": "execute_result"
    }
   ],
   "source": [
    "# Cập nhật course_id bị thiếu\n",
    "query_update = '''\n",
    "UPDATE student \n",
    "SET course_id = (SELECT id FROM course WHERE student.course_id IS NULL LIMIT 1) \n",
    "WHERE course_id IS NULL;\n",
    "'''\n",
    "conn.execute(query_update)"
   ]
  },
  {
   "cell_type": "markdown",
   "metadata": {},
   "source": [
    "## a, Tính tổng số sinh viên và điểm trung bình theo lớp:"
   ]
  },
  {
   "cell_type": "code",
   "execution_count": 8,
   "metadata": {},
   "outputs": [
    {
     "name": "stdout",
     "output_type": "stream",
     "text": [
      "\n",
      "Tổng số sinh viên và điểm trung bình theo lớp:\n",
      "      class  total_students  avg_score\n",
      "0   Kinh Te               3   8.533333\n",
      "1  May Tinh               4   6.800000\n",
      "2  Toan Tin               3   7.966667\n"
     ]
    }
   ],
   "source": [
    "query_avg_class = '''\n",
    "SELECT class, COUNT(student_id) as total_students, AVG(score) as avg_score\n",
    "FROM student \n",
    "GROUP BY class\n",
    "'''\n",
    "df_avg_class = pd.read_sql(query_avg_class, conn)\n",
    "print(\"\\nTổng số sinh viên và điểm trung bình theo lớp:\")\n",
    "print(df_avg_class)"
   ]
  },
  {
   "cell_type": "markdown",
   "metadata": {},
   "source": [
    "## b, Tính tổng số sinh viên và điểm trung bình theo môn học:"
   ]
  },
  {
   "cell_type": "code",
   "execution_count": 9,
   "metadata": {},
   "outputs": [
    {
     "name": "stdout",
     "output_type": "stream",
     "text": [
      "\n",
      "Tổng số sinh viên và điểm trung bình theo môn học:\n",
      "  course_name  total_students  avg_score\n",
      "0   Giai tich               4        7.2\n",
      "1    Thong ke               2        9.2\n"
     ]
    }
   ],
   "source": [
    "query_avg_course = '''\n",
    "SELECT c.course_name, COUNT(s.student_id) as total_students, AVG(s.score) as avg_score\n",
    "FROM student s\n",
    "JOIN course c ON s.course_id = c.id\n",
    "GROUP BY c.course_name\n",
    "'''\n",
    "df_avg_course = pd.read_sql(query_avg_course, conn)\n",
    "print(\"\\nTổng số sinh viên và điểm trung bình theo môn học:\")\n",
    "print(df_avg_course)"
   ]
  },
  {
   "cell_type": "markdown",
   "metadata": {},
   "source": [
    "## c, Phân loại sinh viên :"
   ]
  },
  {
   "cell_type": "code",
   "execution_count": 10,
   "metadata": {},
   "outputs": [
    {
     "name": "stdout",
     "output_type": "stream",
     "text": [
      "\n",
      "Phân loại sinh viên:\n",
      "                name  score      rank\n",
      "0  Nguyen Minh Hoang    6.7       Tốt\n",
      "1       Tran Thi Lan    9.2       Kém\n",
      "2       Pham Van Nam    7.9       Tốt\n",
      "3     Le Thanh Huyen    7.2       Tốt\n",
      "4        Vu Quoc Anh    8.0       Tốt\n",
      "5     Dang Thuy Linh    5.5  Xuất sắc\n",
      "6      Bui Tien Dung    9.2       Kém\n",
      "7        Ho Ngoc Mai    8.8       Tốt\n",
      "8     Duong Huu Phuc    7.2       Tốt\n",
      "9       Cao Thi Hanh    7.0       Tốt\n"
     ]
    }
   ],
   "source": [
    "conditions = [\n",
    "    (df_student['score'] >= 9.0),\n",
    "    (df_student['score'] >= 6.0) & (df_student['score'] < 9.0),\n",
    "    (df_student['score'] < 6.0)\n",
    "]\n",
    "labels = ['Xuất sắc', 'Tốt', 'Kém']\n",
    "df_student['rank'] = pd.cut(df_student['score'], bins=[0, 6, 9, 10], labels=labels, right=False)\n",
    "print(\"\\nPhân loại sinh viên:\")\n",
    "print(df_student[['name', 'score', 'rank']])"
   ]
  },
  {
   "cell_type": "markdown",
   "metadata": {},
   "source": [
    "# 3. Xếp hạng sinh viên."
   ]
  },
  {
   "cell_type": "markdown",
   "metadata": {},
   "source": [
    "## a, Xếp hạng sinh viên theo điểm:"
   ]
  },
  {
   "cell_type": "code",
   "execution_count": 11,
   "metadata": {},
   "outputs": [
    {
     "name": "stdout",
     "output_type": "stream",
     "text": [
      "\n",
      "Xếp hạng theo điểm số:\n",
      "   student_id           name     class  course_id  score rank\n",
      "1           2   Tran Thi Lan   Kinh Te       34.0    9.2  Kém\n",
      "6           7  Bui Tien Dung   Kinh Te       34.0    9.2  Kém\n",
      "7           8    Ho Ngoc Mai  Toan Tin       20.0    8.8  Tốt\n",
      "   student_id               name     class  course_id  score      rank\n",
      "9          10       Cao Thi Hanh  May Tinh        NaN    7.0       Tốt\n",
      "0           1  Nguyen Minh Hoang  May Tinh       12.0    6.7       Tốt\n",
      "5           6     Dang Thuy Linh  May Tinh       24.0    5.5  Xuất sắc\n"
     ]
    }
   ],
   "source": [
    "# Xếp hạng sinh viên theo điểm\n",
    "print(\"\\nXếp hạng theo điểm số:\")\n",
    "df_rank_score = df_student.sort_values(by=\"score\", ascending=False)\n",
    "print(df_rank_score.head(3))  # Top 3 sinh viên điểm cao nhất\n",
    "print(df_rank_score.tail(3))  # Top 3 sinh viên điểm thấp nhất\n"
   ]
  },
  {
   "cell_type": "markdown",
   "metadata": {},
   "source": [
    "## b, Xếp hạng sinh viên theo điểm trong từng lớp:"
   ]
  },
  {
   "cell_type": "code",
   "execution_count": 12,
   "metadata": {},
   "outputs": [
    {
     "name": "stdout",
     "output_type": "stream",
     "text": [
      "\n",
      "Xếp hạng theo điểm số trong từng lớp:\n",
      "   student_id               name     class  course_id  score rank\n",
      "1           2       Tran Thi Lan   Kinh Te       34.0    9.2  Kém\n",
      "6           7      Bui Tien Dung   Kinh Te       34.0    9.2  Kém\n",
      "8           9     Duong Huu Phuc   Kinh Te        NaN    7.2  Tốt\n",
      "4           5        Vu Quoc Anh  May Tinh       24.0    8.0  Tốt\n",
      "9          10       Cao Thi Hanh  May Tinh        NaN    7.0  Tốt\n",
      "0           1  Nguyen Minh Hoang  May Tinh       12.0    6.7  Tốt\n",
      "7           8        Ho Ngoc Mai  Toan Tin       20.0    8.8  Tốt\n",
      "2           3       Pham Van Nam  Toan Tin        NaN    7.9  Tốt\n",
      "3           4     Le Thanh Huyen  Toan Tin       20.0    7.2  Tốt\n",
      "   student_id               name     class  course_id  score      rank\n",
      "1           2       Tran Thi Lan   Kinh Te       34.0    9.2       Kém\n",
      "6           7      Bui Tien Dung   Kinh Te       34.0    9.2       Kém\n",
      "8           9     Duong Huu Phuc   Kinh Te        NaN    7.2       Tốt\n",
      "9          10       Cao Thi Hanh  May Tinh        NaN    7.0       Tốt\n",
      "0           1  Nguyen Minh Hoang  May Tinh       12.0    6.7       Tốt\n",
      "5           6     Dang Thuy Linh  May Tinh       24.0    5.5  Xuất sắc\n",
      "7           8        Ho Ngoc Mai  Toan Tin       20.0    8.8       Tốt\n",
      "2           3       Pham Van Nam  Toan Tin        NaN    7.9       Tốt\n",
      "3           4     Le Thanh Huyen  Toan Tin       20.0    7.2       Tốt\n"
     ]
    }
   ],
   "source": [
    "print(\"\\nXếp hạng theo điểm số trong từng lớp:\")\n",
    "df_rank_class = df_student.sort_values(by=[\"class\", \"score\"], ascending=[True, False])\n",
    "print(df_rank_class.groupby(\"class\").head(3))  # Top 3 sinh viên điểm cao nhất từng lớp\n",
    "print(df_rank_class.groupby(\"class\").tail(3))  # Top 3 sinh viên điểm thấp nhất từng lớp\n"
   ]
  },
  {
   "cell_type": "markdown",
   "metadata": {},
   "source": [
    "## c, Xếp hạng sinh viên theo điểm trong từng môn học:"
   ]
  },
  {
   "cell_type": "code",
   "execution_count": 13,
   "metadata": {},
   "outputs": [
    {
     "name": "stdout",
     "output_type": "stream",
     "text": [
      "\n",
      "Xếp hạng theo điểm số trong từng môn học:\n",
      "   student_id               name     class  course_id  score      rank\n",
      "0           1  Nguyen Minh Hoang  May Tinh       12.0    6.7       Tốt\n",
      "7           8        Ho Ngoc Mai  Toan Tin       20.0    8.8       Tốt\n",
      "3           4     Le Thanh Huyen  Toan Tin       20.0    7.2       Tốt\n",
      "4           5        Vu Quoc Anh  May Tinh       24.0    8.0       Tốt\n",
      "5           6     Dang Thuy Linh  May Tinh       24.0    5.5  Xuất sắc\n",
      "1           2       Tran Thi Lan   Kinh Te       34.0    9.2       Kém\n",
      "6           7      Bui Tien Dung   Kinh Te       34.0    9.2       Kém\n",
      "   student_id               name     class  course_id  score      rank\n",
      "0           1  Nguyen Minh Hoang  May Tinh       12.0    6.7       Tốt\n",
      "7           8        Ho Ngoc Mai  Toan Tin       20.0    8.8       Tốt\n",
      "3           4     Le Thanh Huyen  Toan Tin       20.0    7.2       Tốt\n",
      "4           5        Vu Quoc Anh  May Tinh       24.0    8.0       Tốt\n",
      "5           6     Dang Thuy Linh  May Tinh       24.0    5.5  Xuất sắc\n",
      "1           2       Tran Thi Lan   Kinh Te       34.0    9.2       Kém\n",
      "6           7      Bui Tien Dung   Kinh Te       34.0    9.2       Kém\n"
     ]
    }
   ],
   "source": [
    "print(\"\\nXếp hạng theo điểm số trong từng môn học:\")\n",
    "df_rank_course = df_student.sort_values(by=[\"course_id\", \"score\"], ascending=[True, False])\n",
    "print(df_rank_course.groupby(\"course_id\").head(3))  # Top 3 sinh viên điểm cao nhất từng môn học\n",
    "print(df_rank_course.groupby(\"course_id\").tail(3))  # Top 3 sinh viên điểm thấp nhất từng môn học\n"
   ]
  },
  {
   "cell_type": "markdown",
   "metadata": {},
   "source": [
    "# 4. Bổ sung thêm trường 'graduation_date'."
   ]
  },
  {
   "cell_type": "code",
   "execution_count": 14,
   "metadata": {},
   "outputs": [
    {
     "name": "stdout",
     "output_type": "stream",
     "text": [
      "   student_id               name     class  course_id  score      rank  \\\n",
      "0           1  Nguyen Minh Hoang  May Tinh       12.0    6.7       Tốt   \n",
      "1           2       Tran Thi Lan   Kinh Te       34.0    9.2       Kém   \n",
      "2           3       Pham Van Nam  Toan Tin        NaN    7.9       Tốt   \n",
      "3           4     Le Thanh Huyen  Toan Tin       20.0    7.2       Tốt   \n",
      "4           5        Vu Quoc Anh  May Tinh       24.0    8.0       Tốt   \n",
      "5           6     Dang Thuy Linh  May Tinh       24.0    5.5  Xuất sắc   \n",
      "6           7      Bui Tien Dung   Kinh Te       34.0    9.2       Kém   \n",
      "7           8        Ho Ngoc Mai  Toan Tin       20.0    8.8       Tốt   \n",
      "8           9     Duong Huu Phuc   Kinh Te        NaN    7.2       Tốt   \n",
      "9          10       Cao Thi Hanh  May Tinh        NaN    7.0       Tốt   \n",
      "\n",
      "             graduation_date  \n",
      "0 2029-03-13 07:45:41.222260  \n",
      "1 2028-03-13 07:45:41.222260  \n",
      "2 2029-03-13 07:45:41.222260  \n",
      "3 2029-03-13 07:45:41.222260  \n",
      "4 2029-03-13 07:45:41.222260  \n",
      "5 2030-03-13 07:45:41.222260  \n",
      "6 2028-03-13 07:45:41.222260  \n",
      "7 2029-03-13 07:45:41.222260  \n",
      "8 2029-03-13 07:45:41.222260  \n",
      "9 2029-03-13 07:45:41.222260  \n"
     ]
    }
   ],
   "source": [
    "# Tính graduation_date\n",
    "def calculate_graduation_date(score):\n",
    "    current_date = datetime.now()\n",
    "    if score >= 9.0:\n",
    "        return current_date + timedelta(days=365*3)\n",
    "    elif score >= 6.0:\n",
    "        return current_date + timedelta(days=365*4)\n",
    "    else:\n",
    "        return current_date + timedelta(days=365*5)\n",
    "\n",
    "df_student[\"graduation_date\"] = df_student[\"score\"].apply(calculate_graduation_date)\n",
    "print(df_student)"
   ]
  },
  {
   "cell_type": "markdown",
   "metadata": {},
   "source": [
    "\n",
    " **1. Đánh giá điểm số sinh viên**  \n",
    "- **Phân bố điểm số:**  \n",
    "  - Khoảng điểm dao động từ **5.5 đến 9.2**.  \n",
    "  - Sinh viên có điểm cao nhất: **9.2** (có 2 sinh viên đạt).  \n",
    "  - Sinh viên có điểm thấp nhất: **5.5**.  \n",
    "\n",
    "- **Mức độ phân loại:**  \n",
    "  - **Xuất sắc (>= 9.0):** 2 sinh viên  \n",
    "  - **Giỏi (>= 8.0 & < 9.0):** 3 sinh viên  \n",
    "  - **Khá (>= 7.0 & < 8.0):** 3 sinh viên  \n",
    "  - **Trung bình (>= 6.0 & < 7.0):** 1 sinh viên  \n",
    "  - **Yếu (< 6.0):** 1 sinh viên  \n",
    "\n",
    "---\n",
    "\n",
    " **2. Xếp hạng sinh viên theo điểm số**  \n",
    "- **Top 3 sinh viên có điểm cao nhất:**  \n",
    "  - 1. **Tran Thi Lan** - 9.2  \n",
    "  - 2. **Bui Tien Dung** - 9.2  \n",
    "  - 3. **Ho Ngoc Mai** - 8.8  \n",
    "\n",
    "- **Top 3 sinh viên có điểm thấp nhất:**  \n",
    "  - 1. **Dang Thuy Linh** - 5.5  \n",
    "  - 2. **Nguyen Minh Hoang** - 6.7  \n",
    "  - 3. **Cao Thi Hanh** - 7.0  \n",
    "\n",
    "---\n",
    "\n",
    " **3. Phân loại sinh viên theo lớp & môn học**  \n",
    "\n",
    " **Xếp hạng theo lớp:**  \n",
    "- **Lớp \"Kinh Tế\":**  \n",
    "  - Điểm cao nhất: **Tran Thi Lan - 9.2**  \n",
    "  - Điểm thấp nhất: **Duong Huu Phuc - 7.2**  \n",
    "\n",
    "- **Lớp \"Toán Tin\":**  \n",
    "  - Điểm cao nhất: **Ho Ngoc Mai - 8.8**  \n",
    "  - Điểm thấp nhất: **Le Thanh Huyen - 7.2**  \n",
    "\n",
    "- **Lớp \"Máy Tính\":**  \n",
    "  - Điểm cao nhất: **Vu Quoc Anh - 8.0**  \n",
    "  - Điểm thấp nhất: **Dang Thuy Linh - 5.5**  \n",
    "\n",
    " **Xếp hạng theo môn học:**  \n",
    "- **Môn \"Giải Tích\" (ID 12):**  \n",
    "  - Không có dữ liệu sinh viên  \n",
    "\n",
    "- **Môn \"Thống Kê\" (ID 34):**  \n",
    "  - Điểm cao nhất: **Tran Thi Lan - 9.2**  \n",
    "  - Điểm thấp nhất: **Bui Tien Dung - 9.2**  \n",
    "\n",
    "- **Môn \"Tin Học\" (ID 26):**  \n",
    "  - Không có dữ liệu sinh viên  \n",
    "\n",
    "---\n",
    "\n",
    " **4. Tính ngày tốt nghiệp (Graduation Date)**  \n",
    "- **Công thức:**  \n",
    "  - Sinh viên xuất sắc (>=9.0): **Tốt nghiệp sau 3 năm**  \n",
    "  - Sinh viên khá, giỏi (6.0 - 8.9): **Tốt nghiệp sau 4 năm**  \n",
    "  - Sinh viên trung bình, yếu (<6.0): **Tốt nghiệp sau 5 năm**  \n",
    "\n",
    "- **Ví dụ kết quả:**  \n",
    "  - **Tran Thi Lan (9.2) → Tốt nghiệp: 2028**  \n",
    "  - **Pham Van Nam (7.9) → Tốt nghiệp: 2029**  \n",
    "  - **Dang Thuy Linh (5.5) → Tốt nghiệp: 2030**  \n",
    "\n",
    "---\n",
    "\n",
    " **Kết luận**  \n",
    "- **Tổng thể:** Lớp có sự phân bố điểm số khá đều, tuy nhiên có sự chênh lệch giữa các nhóm điểm cao và thấp.  \n",
    "- **Sinh viên xuất sắc:** Có 2 sinh viên đạt điểm rất cao (9.2).  \n",
    "- **Sinh viên cần cải thiện:** Một số sinh viên có điểm thấp dưới 6.0..  \n",
    "- **Tình trạng tốt nghiệp:** Phần lớn sinh viên sẽ tốt nghiệp sau **4 năm**, một số sinh viên giỏi hơn có thể tốt nghiệp sớm hơn.  \n",
    "\n",
    "---"
   ]
  }
 ],
 "metadata": {
  "kernelspec": {
   "display_name": "base",
   "language": "python",
   "name": "python3"
  },
  "language_info": {
   "codemirror_mode": {
    "name": "ipython",
    "version": 3
   },
   "file_extension": ".py",
   "mimetype": "text/x-python",
   "name": "python",
   "nbconvert_exporter": "python",
   "pygments_lexer": "ipython3",
   "version": "3.12.7"
  }
 },
 "nbformat": 4,
 "nbformat_minor": 2
}
