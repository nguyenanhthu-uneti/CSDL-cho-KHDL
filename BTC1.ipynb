{
 "cells": [
  {
   "cell_type": "code",
   "execution_count": 4,
   "metadata": {},
   "outputs": [
    {
     "name": "stdout",
     "output_type": "stream",
     "text": [
      "(1, 'Nguyen Van A', 30, 'Ke Toan')\n",
      "(3, 'Le Van C', 28, 'Marketing')\n",
      "(4, 'Pham Thi D', 32, 'Ke Toan')\n",
      "(5, 'Vu Van E', 26, 'IT')\n",
      "(6, 'Nguyen Thi F', 29, 'Marketing')\n",
      "(7, 'Le Thi G', 27, 'Nhan Su')\n",
      "(8, 'Hoang Van H', 35, 'Ke Toan')\n",
      "(9, 'Pham Van I', 33, 'Marketing')\n",
      "(10, 'Tran Van J', 24, 'IT')\n",
      "(11, 'Dang Thi K', 31, 'Nhan Su')\n",
      "(12, 'Nguyen Van L', 28, 'Ke Toan')\n",
      "(13, 'Tran Thi M', 26, 'Marketing')\n",
      "(14, 'Pham Van N', 30, 'Nhan Su')\n",
      "(15, 'Hoang Thi O', 27, 'IT')\n"
     ]
    }
   ],
   "source": [
    "import sqlite3\n",
    "# Kết nối đến database (hoặc tạo mới nếu chưa tồn tại)\n",
    "conn = sqlite3.connect(\"D:/IT/SQL/Bài tập/NhanVien.db\")\n",
    "# Tạo đối tượng con trỏ để thực thi lệnh SQL\n",
    "cursor = conn.cursor()\n",
    "# Truy vấn dữ liệu từ bảng NhanVien\n",
    "cursor.execute(\"SELECT * FROM NhanVien\")\n",
    "# Lấy tất cả dữ liệu từ bảng\n",
    "rows = cursor.fetchall()\n",
    "# In kết quả\n",
    "for row in rows:\n",
    "    print(row)\n",
    "\n"
   ]
  },
  {
   "cell_type": "code",
   "execution_count": null,
   "metadata": {},
   "outputs": [
    {
     "name": "stdout",
     "output_type": "stream",
     "text": [
      "('Vu Van E', 26)\n",
      "('Tran Van J', 24)\n",
      "('Hoang Thi O', 27)\n"
     ]
    }
   ],
   "source": [
    "cursor = conn.cursor()\n",
    "# Truy vấn HoTen và Tuoi của nhân viên trong phòng IT\n",
    "cursor.execute(\"SELECT HoTen, Tuoi FROM NhanVien WHERE PhongBan = 'IT'\")\n",
    "# Lấy tất cả kết quả\n",
    "rows = cursor.fetchall()\n",
    "# Hiển thị kết quả\n",
    "for row in rows:\n",
    "    print(row)"
   ]
  },
  {
   "cell_type": "code",
   "execution_count": null,
   "metadata": {},
   "outputs": [
    {
     "name": "stdout",
     "output_type": "stream",
     "text": [
      "(1, 'Nguyen Van A', 30, 'Ke Toan')\n",
      "(3, 'Le Van C', 28, 'Marketing')\n",
      "(4, 'Pham Thi D', 32, 'Ke Toan')\n",
      "(5, 'Vu Van E', 26, 'IT')\n",
      "(6, 'Nguyen Thi F', 29, 'Marketing')\n",
      "(7, 'Le Thi G', 27, 'Nhan Su')\n",
      "(8, 'Hoang Van H', 35, 'Ke Toan')\n",
      "(9, 'Pham Van I', 33, 'Marketing')\n",
      "(11, 'Dang Thi K', 31, 'Nhan Su')\n",
      "(12, 'Nguyen Van L', 28, 'Ke Toan')\n",
      "(13, 'Tran Thi M', 26, 'Marketing')\n",
      "(14, 'Pham Van N', 30, 'Nhan Su')\n",
      "(15, 'Hoang Thi O', 27, 'IT')\n"
     ]
    }
   ],
   "source": [
    "# Truy vấn nhân viên có độ tuổi > 25\n",
    "cursor.execute(\"SELECT * FROM NhanVien WHERE Tuoi > 25\")\n",
    "# Lấy tất cả kết quả\n",
    "rows = cursor.fetchall()\n",
    "# Hiển thị kết quả\n",
    "for row in rows:\n",
    "    print(row)"
   ]
  },
  {
   "cell_type": "code",
   "execution_count": null,
   "metadata": {},
   "outputs": [
    {
     "name": "stdout",
     "output_type": "stream",
     "text": [
      "('Nhan Su', 'Le Thi G', 27)\n",
      "('Ke Toan', 'Hoang Van H', 35)\n",
      "('Marketing', 'Pham Van I', 33)\n",
      "('Nhan Su', 'Dang Thi K', 31)\n",
      "('IT', 'Hoang Thi O', 27)\n"
     ]
    }
   ],
   "source": [
    "# Truy vấn tìm nhân viên lớn tuổi nhất của từng phòng ban\n",
    "cursor.execute(\"\"\"\n",
    "    SELECT PhongBan, HoTen, Tuoi\n",
    "    FROM NhanVien\n",
    "    WHERE Tuoi IN (SELECT MAX(Tuoi) FROM NhanVien GROUP BY PhongBan)\n",
    "\"\"\")\n",
    "# Lấy tất cả kết quả\n",
    "rows = cursor.fetchall()\n",
    "# Hiển thị kết quả\n",
    "for row in rows:\n",
    "    print(row)"
   ]
  },
  {
   "cell_type": "code",
   "execution_count": null,
   "metadata": {},
   "outputs": [
    {
     "name": "stdout",
     "output_type": "stream",
     "text": [
      "(3, 'Le Van C', 28, 'Marketing')\n"
     ]
    }
   ],
   "source": [
    "# Cập nhật thông tin PhongBan của nhân viên \"Le Van C\"\n",
    "cursor.execute(\"\"\"\n",
    "    UPDATE NhanVien\n",
    "    SET PhongBan = 'Marketing'\n",
    "    WHERE HoTen = 'Le Van C'\n",
    "\"\"\")\n",
    "# Lưu thay đổi vào database\n",
    "conn.commit()\n",
    "# Kiểm tra kết quả\n",
    "cursor.execute(\"SELECT * FROM NhanVien WHERE HoTen = 'Le Van C'\")\n",
    "rows = cursor.fetchall()\n",
    "# Hiển thị thông tin sau khi cập nhật\n",
    "for row in rows:\n",
    "    print(row)"
   ]
  },
  {
   "cell_type": "code",
   "execution_count": null,
   "metadata": {},
   "outputs": [
    {
     "name": "stdout",
     "output_type": "stream",
     "text": [
      "('IT', 3)\n",
      "('Ke Toan', 4)\n",
      "('Marketing', 4)\n",
      "('Nhan Su', 3)\n"
     ]
    }
   ],
   "source": [
    "# Xóa nhân viên có MaNV = 2\n",
    "cursor.execute(\"DELETE FROM NhanVien WHERE MaNV = 2\")\n",
    "# Lưu thay đổi vào database\n",
    "conn.commit()\n",
    "# Đếm số nhân viên theo từng phòng ban\n",
    "cursor.execute(\"\"\"\n",
    "    SELECT PhongBan, COUNT(*) AS SoLuongNhanVien\n",
    "    FROM NhanVien\n",
    "    GROUP BY PhongBan\n",
    "\"\"\")\n",
    "# Lấy kết quả\n",
    "rows = cursor.fetchall()\n",
    "# Hiển thị thông tin số lượng nhân viên theo từng phòng ban\n",
    "for row in rows:\n",
    "    print(row) "
   ]
  },
  {
   "cell_type": "markdown",
   "metadata": {},
   "source": [
    "Bước 1: Import thư viện SQLite (import sqlite3)\n",
    "\n",
    "Bước 2: Kết nối đến database (conn = sqlite3.connect(\"NhanVien.db\")------ cursor = conn.cursor())\n",
    "\n",
    "Bước 3: Thực thi câu lệnh SQL (cursor.execute(SQL_CAU_LENH))\n",
    "\n",
    "Bước 4: Lưu thay đổi (conn.commit())"
   ]
  }
 ],
 "metadata": {
  "kernelspec": {
   "display_name": "Python 3",
   "language": "python",
   "name": "python3"
  },
  "language_info": {
   "codemirror_mode": {
    "name": "ipython",
    "version": 3
   },
   "file_extension": ".py",
   "mimetype": "text/x-python",
   "name": "python",
   "nbconvert_exporter": "python",
   "pygments_lexer": "ipython3",
   "version": "3.12.5"
  }
 },
 "nbformat": 4,
 "nbformat_minor": 2
}
