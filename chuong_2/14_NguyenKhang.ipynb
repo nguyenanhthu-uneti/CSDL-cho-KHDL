{
 "cells": [
  {
   "cell_type": "code",
   "execution_count": 1,
   "metadata": {},
   "outputs": [
    {
     "name": "stdout",
     "output_type": "stream",
     "text": [
      "Đã tạo bảng thành công\n"
     ]
    }
   ],
   "source": [
    "import sqlite3\n",
    "conn = sqlite3.connect('student.db')\n",
    "cursor = conn.cursor()\n",
    "def create_table():\n",
    "    cursor .execute('''CREATE TABLE student\n",
    "                    (student_id int primary key,\n",
    "                    name text,\n",
    "                    class text, \n",
    "                    course_id int, \n",
    "                    score float)''')\n",
    "    cursor.execute('''CREATE TABLE course\n",
    "                (id int, \n",
    "                course_name)''')\n",
    "create_table()\n",
    "print('Đã tạo bảng thành công')"
   ]
  },
  {
   "cell_type": "code",
   "execution_count": 3,
   "metadata": {},
   "outputs": [
    {
     "name": "stdout",
     "output_type": "stream",
     "text": [
      "(1, 'Nguyen Minh Hoang', 'May Tinh', 12, 6.7)\n",
      "(2, 'Tran Thi Lan', 'Kinh Te', 34, 9.2)\n",
      "(3, 'Pham Van Nam', 'Toan Tin', None, 7.9)\n",
      "(4, 'Le Thanh Huyen', 'Toan Tin', 20, 7.2)\n",
      "(5, 'Vu Quoc Anh', 'May Tinh', 24, 8.0)\n",
      "(6, 'Dang Thuy Linh', 'May Tinh', 24, 5.5)\n",
      "(7, 'Bui Tien Dung', 'Kinh Te', 34, 9.2)\n",
      "(8, 'Ho Ngoc Mai', 'Toan Tin', 20, 8.8)\n",
      "(9, 'Duong Huu Phuoc', 'Kinh Te', None, 7.2)\n",
      "(10, 'Cao Thi Hanh', 'May Tinh', None, 7.0)\n",
      "(12, 'Giai tich')\n",
      "(34, 'Thong ke')\n",
      "(26, 'Tin hoc')\n"
     ]
    }
   ],
   "source": [
    "cursor.execute('''INSERT INTO student VALUES\n",
    "               (1,'Nguyen Minh Hoang','May Tinh',12,6.7),\n",
    "               (2,'Tran Thi Lan','Kinh Te',34,9.2),\n",
    "               (3,'Pham Van Nam','Toan Tin',NULL,7.9),\n",
    "               (4,'Le Thanh Huyen','Toan Tin',20,7.2),\n",
    "               (5,'Vu Quoc Anh','May Tinh',24,8.0),\n",
    "               (6,'Dang Thuy Linh','May Tinh',24,5.5),\n",
    "               (7,'Bui Tien Dung','Kinh Te',34,9.2),\n",
    "               (8,'Ho Ngoc Mai','Toan Tin',20,8.8),\n",
    "               (9,'Duong Huu Phuoc','Kinh Te',NULL,7.2),\n",
    "               (10,'Cao Thi Hanh','May Tinh',NULL,7.0)''')\n",
    "cursor.execute('''INSERT INTO course VALUES\n",
    "               (12,'Giai tich'),\n",
    "               (34,'Thong ke'),\n",
    "               (26,'Tin hoc')''')\n",
    "conn.commit()\n",
    "table_in4 = cursor.execute('SELECT * FROM student')\n",
    "for i in table_in4:\n",
    "    print(i)\n",
    "table_2_in4 = cursor.execute('SELECT * FROM course')\n",
    "for i in table_2_in4:\n",
    "    print(i)"
   ]
  },
  {
   "cell_type": "markdown",
   "metadata": {},
   "source": [
    "# 1.Kết nối hai bảng trên theo những cách sau"
   ]
  },
  {
   "cell_type": "markdown",
   "metadata": {},
   "source": [
    "## Sử dụng tích Decartes"
   ]
  },
  {
   "cell_type": "code",
   "execution_count": 6,
   "metadata": {},
   "outputs": [
    {
     "name": "stdout",
     "output_type": "stream",
     "text": [
      "(1, 'Nguyen Minh Hoang', 'May Tinh', 12, 6.7, 12, 'Giai tich')\n",
      "(1, 'Nguyen Minh Hoang', 'May Tinh', 12, 6.7, 34, 'Thong ke')\n",
      "(1, 'Nguyen Minh Hoang', 'May Tinh', 12, 6.7, 26, 'Tin hoc')\n",
      "(2, 'Tran Thi Lan', 'Kinh Te', 34, 9.2, 12, 'Giai tich')\n",
      "(2, 'Tran Thi Lan', 'Kinh Te', 34, 9.2, 34, 'Thong ke')\n",
      "(2, 'Tran Thi Lan', 'Kinh Te', 34, 9.2, 26, 'Tin hoc')\n",
      "(3, 'Pham Van Nam', 'Toan Tin', None, 7.9, 12, 'Giai tich')\n",
      "(3, 'Pham Van Nam', 'Toan Tin', None, 7.9, 34, 'Thong ke')\n",
      "(3, 'Pham Van Nam', 'Toan Tin', None, 7.9, 26, 'Tin hoc')\n",
      "(4, 'Le Thanh Huyen', 'Toan Tin', 20, 7.2, 12, 'Giai tich')\n",
      "(4, 'Le Thanh Huyen', 'Toan Tin', 20, 7.2, 34, 'Thong ke')\n",
      "(4, 'Le Thanh Huyen', 'Toan Tin', 20, 7.2, 26, 'Tin hoc')\n",
      "(5, 'Vu Quoc Anh', 'May Tinh', 24, 8.0, 12, 'Giai tich')\n",
      "(5, 'Vu Quoc Anh', 'May Tinh', 24, 8.0, 34, 'Thong ke')\n",
      "(5, 'Vu Quoc Anh', 'May Tinh', 24, 8.0, 26, 'Tin hoc')\n",
      "(6, 'Dang Thuy Linh', 'May Tinh', 24, 5.5, 12, 'Giai tich')\n",
      "(6, 'Dang Thuy Linh', 'May Tinh', 24, 5.5, 34, 'Thong ke')\n",
      "(6, 'Dang Thuy Linh', 'May Tinh', 24, 5.5, 26, 'Tin hoc')\n",
      "(7, 'Bui Tien Dung', 'Kinh Te', 34, 9.2, 12, 'Giai tich')\n",
      "(7, 'Bui Tien Dung', 'Kinh Te', 34, 9.2, 34, 'Thong ke')\n",
      "(7, 'Bui Tien Dung', 'Kinh Te', 34, 9.2, 26, 'Tin hoc')\n",
      "(8, 'Ho Ngoc Mai', 'Toan Tin', 20, 8.8, 12, 'Giai tich')\n",
      "(8, 'Ho Ngoc Mai', 'Toan Tin', 20, 8.8, 34, 'Thong ke')\n",
      "(8, 'Ho Ngoc Mai', 'Toan Tin', 20, 8.8, 26, 'Tin hoc')\n",
      "(9, 'Duong Huu Phuoc', 'Kinh Te', None, 7.2, 12, 'Giai tich')\n",
      "(9, 'Duong Huu Phuoc', 'Kinh Te', None, 7.2, 34, 'Thong ke')\n",
      "(9, 'Duong Huu Phuoc', 'Kinh Te', None, 7.2, 26, 'Tin hoc')\n",
      "(10, 'Cao Thi Hanh', 'May Tinh', None, 7.0, 12, 'Giai tich')\n",
      "(10, 'Cao Thi Hanh', 'May Tinh', None, 7.0, 34, 'Thong ke')\n",
      "(10, 'Cao Thi Hanh', 'May Tinh', None, 7.0, 26, 'Tin hoc')\n"
     ]
    }
   ],
   "source": [
    "cursor.execute('''SELECT *\n",
    "                from student, course''')\n",
    "for i in cursor:\n",
    "    print(i)"
   ]
  },
  {
   "cell_type": "markdown",
   "metadata": {},
   "source": [
    "## Sử dụng JOIN"
   ]
  },
  {
   "cell_type": "markdown",
   "metadata": {},
   "source": [
    "### Join"
   ]
  },
  {
   "cell_type": "code",
   "execution_count": 10,
   "metadata": {},
   "outputs": [
    {
     "name": "stdout",
     "output_type": "stream",
     "text": [
      "(1, 'Nguyen Minh Hoang', 'May Tinh', 12, 6.7, 12, 'Giai tich')\n",
      "(2, 'Tran Thi Lan', 'Kinh Te', 34, 9.2, 34, 'Thong ke')\n",
      "(7, 'Bui Tien Dung', 'Kinh Te', 34, 9.2, 34, 'Thong ke')\n"
     ]
    }
   ],
   "source": [
    "cursor.execute('''select * from \n",
    "               student join course\n",
    "               on student.course_id = course.id''')\n",
    "for i in cursor:\n",
    "    print(i)"
   ]
  },
  {
   "cell_type": "markdown",
   "metadata": {},
   "source": [
    "### LEFT JOIN"
   ]
  },
  {
   "cell_type": "code",
   "execution_count": 11,
   "metadata": {},
   "outputs": [
    {
     "name": "stdout",
     "output_type": "stream",
     "text": [
      "(1, 'Nguyen Minh Hoang', 'May Tinh', 12, 6.7, 12, 'Giai tich')\n",
      "(2, 'Tran Thi Lan', 'Kinh Te', 34, 9.2, 34, 'Thong ke')\n",
      "(3, 'Pham Van Nam', 'Toan Tin', None, 7.9, None, None)\n",
      "(4, 'Le Thanh Huyen', 'Toan Tin', 20, 7.2, None, None)\n",
      "(5, 'Vu Quoc Anh', 'May Tinh', 24, 8.0, None, None)\n",
      "(6, 'Dang Thuy Linh', 'May Tinh', 24, 5.5, None, None)\n",
      "(7, 'Bui Tien Dung', 'Kinh Te', 34, 9.2, 34, 'Thong ke')\n",
      "(8, 'Ho Ngoc Mai', 'Toan Tin', 20, 8.8, None, None)\n",
      "(9, 'Duong Huu Phuoc', 'Kinh Te', None, 7.2, None, None)\n",
      "(10, 'Cao Thi Hanh', 'May Tinh', None, 7.0, None, None)\n"
     ]
    }
   ],
   "source": [
    "cursor.execute('''SELECT * FROM \n",
    "               student LEFT JOIN course\n",
    "               on student.course_id = course.id''')\n",
    "for i in cursor:\n",
    "    print(i)"
   ]
  },
  {
   "cell_type": "markdown",
   "metadata": {},
   "source": [
    "### RIGHT JOIN"
   ]
  },
  {
   "cell_type": "code",
   "execution_count": 13,
   "metadata": {},
   "outputs": [
    {
     "name": "stdout",
     "output_type": "stream",
     "text": [
      "(1, 'Nguyen Minh Hoang', 'May Tinh', 12, 6.7, 12, 'Giai tich')\n",
      "(2, 'Tran Thi Lan', 'Kinh Te', 34, 9.2, 34, 'Thong ke')\n",
      "(7, 'Bui Tien Dung', 'Kinh Te', 34, 9.2, 34, 'Thong ke')\n",
      "(None, None, None, None, None, 26, 'Tin hoc')\n"
     ]
    }
   ],
   "source": [
    "cursor.execute('''SELECT * FROM \n",
    "               student right JOIN course\n",
    "               on student.course_id = course.id''')\n",
    "for i in cursor:\n",
    "    print(i)"
   ]
  },
  {
   "cell_type": "markdown",
   "metadata": {},
   "source": [
    "# Cập nhật những giá trị course_id còn thiếu trong bảng student , trong đó các giá trị được điền là những giá trị nằm trong bảng course."
   ]
  },
  {
   "cell_type": "code",
   "execution_count": 22,
   "metadata": {},
   "outputs": [
    {
     "name": "stdout",
     "output_type": "stream",
     "text": [
      "(1, 'Nguyen Minh Hoang', 'May Tinh', 12, 6.7)\n",
      "(2, 'Tran Thi Lan', 'Kinh Te', 34, 9.2)\n",
      "(3, 'Pham Van Nam', 'Toan Tin', 34, 7.9)\n",
      "(4, 'Le Thanh Huyen', 'Toan Tin', 20, 7.2)\n",
      "(5, 'Vu Quoc Anh', 'May Tinh', 24, 8.0)\n",
      "(6, 'Dang Thuy Linh', 'May Tinh', 24, 5.5)\n",
      "(7, 'Bui Tien Dung', 'Kinh Te', 34, 9.2)\n",
      "(8, 'Ho Ngoc Mai', 'Toan Tin', 20, 8.8)\n",
      "(9, 'Duong Huu Phuoc', 'Kinh Te', 34, 7.2)\n",
      "(10, 'Cao Thi Hanh', 'May Tinh', 34, 7.0)\n"
     ]
    }
   ],
   "source": [
    "cursor.execute('''UPDATE student\n",
    "               SET course_id = (SELECT id FROM course ORDER BY RANDOM() LIMIT 1)\n",
    "                WHERE course_id IS NULL;\n",
    "               ''')\n",
    "\n",
    "cursor.execute('''select  * from student''')\n",
    "for i in cursor:\n",
    "    print(i)\n"
   ]
  },
  {
   "cell_type": "markdown",
   "metadata": {},
   "source": [
    "## a. Tổng số sinh viên, điểm trung bình của từng lớp"
   ]
  },
  {
   "cell_type": "code",
   "execution_count": 27,
   "metadata": {},
   "outputs": [
    {
     "name": "stdout",
     "output_type": "stream",
     "text": [
      "('Kinh Te', 3, 8.533333333333333)\n",
      "('May Tinh', 4, 6.8)\n",
      "('Toan Tin', 3, 7.966666666666668)\n"
     ]
    }
   ],
   "source": [
    "cursor.execute('''SELECT class, COUNT(name) as tong_sv,avg(score) as diem_tb\n",
    "               from student \n",
    "               group by class''')\n",
    "for i in cursor:\n",
    "    print(i)"
   ]
  },
  {
   "cell_type": "markdown",
   "metadata": {},
   "source": [
    "## b.Tổng số sinh viên điểm trung bình của từng môn học"
   ]
  },
  {
   "cell_type": "code",
   "execution_count": 29,
   "metadata": {},
   "outputs": [
    {
     "name": "stdout",
     "output_type": "stream",
     "text": [
      "('May Tinh', 12, 1, 6.7)\n",
      "('Toan Tin', 20, 2, 8.0)\n",
      "('May Tinh', 24, 2, 6.75)\n",
      "('Kinh Te', 34, 5, 8.1)\n"
     ]
    }
   ],
   "source": [
    "cursor.execute('''select class,course_id, count(name) as tong_sv, avg(score) as diem_tb\n",
    "               from student \n",
    "               group by course_id''')\n",
    "for i in cursor:\n",
    "    print(i)"
   ]
  },
  {
   "cell_type": "markdown",
   "metadata": {},
   "source": [
    "## c. Phân loại thi đua theo điểm số của từng môn học"
   ]
  },
  {
   "cell_type": "markdown",
   "metadata": {},
   "source": [
    "### i. Điểm TB >= 9.0: Xuất sắc"
   ]
  },
  {
   "cell_type": "code",
   "execution_count": 37,
   "metadata": {},
   "outputs": [],
   "source": [
    "cursor.execute('''select class,avg(score) as diem_trung_binh,\n",
    "               CASE\n",
    "                    WHEN AVG(score)>= 9.0 THEN 'Xuất Sắc'\n",
    "                    WHEN AVG(score)<=8.9 AND AVG(score)>= 6.0 THEN 'Tốt'\n",
    "                    ELSE 'Kém'\n",
    "                END AS Category\n",
    "               from student\n",
    "               group by course_id\n",
    "               having Category = 'Xuất sắc'\n",
    "               ''')\n",
    "for i in cursor:\n",
    "    print(i)"
   ]
  },
  {
   "cell_type": "markdown",
   "metadata": {},
   "source": [
    "## ii. Điểm TB loại tốt"
   ]
  },
  {
   "cell_type": "code",
   "execution_count": 38,
   "metadata": {},
   "outputs": [
    {
     "name": "stdout",
     "output_type": "stream",
     "text": [
      "('May Tinh', 6.7, 'Tốt')\n",
      "('Toan Tin', 8.0, 'Tốt')\n",
      "('May Tinh', 6.75, 'Tốt')\n",
      "('Kinh Te', 8.1, 'Tốt')\n"
     ]
    }
   ],
   "source": [
    "cursor.execute('''select class,avg(score) as diem_trung_binh,\n",
    "               CASE\n",
    "                    WHEN AVG(score)>= 9.0 THEN 'Xuất Sắc'\n",
    "                    WHEN AVG(score)<=8.9 AND AVG(score)>= 6.0 THEN 'Tốt'\n",
    "                    ELSE 'Kém'\n",
    "                END AS Category\n",
    "               from student\n",
    "               group by course_id\n",
    "               having Category = 'Tốt'\n",
    "               ''')\n",
    "for i in cursor:\n",
    "    print(i)"
   ]
  },
  {
   "cell_type": "markdown",
   "metadata": {},
   "source": [
    "## ii.Điểm TB loại Kém"
   ]
  },
  {
   "cell_type": "code",
   "execution_count": 39,
   "metadata": {},
   "outputs": [],
   "source": [
    "cursor.execute('''select class,avg(score) as diem_trung_binh,\n",
    "               CASE\n",
    "                    WHEN AVG(score)>= 9.0 THEN 'Xuất Sắc'\n",
    "                    WHEN AVG(score)<=8.9 AND AVG(score)>= 6.0 THEN 'Tốt'\n",
    "                    ELSE 'Kém'\n",
    "                END AS Category\n",
    "               from student\n",
    "               group by course_id\n",
    "               having Category = 'Kém'\n",
    "               ''')\n",
    "for i in cursor:\n",
    "    print(i)"
   ]
  },
  {
   "cell_type": "markdown",
   "metadata": {},
   "source": [
    "# Xếp loại sinh viên thông qua"
   ]
  },
  {
   "cell_type": "markdown",
   "metadata": {},
   "source": [
    "## a. Điểm số"
   ]
  },
  {
   "cell_type": "code",
   "execution_count": 59,
   "metadata": {},
   "outputs": [
    {
     "name": "stdout",
     "output_type": "stream",
     "text": [
      "(2, 'Tran Thi Lan', 'Kinh Te', 9.2, 1)\n",
      "(7, 'Bui Tien Dung', 'Kinh Te', 9.2, 2)\n",
      "(8, 'Ho Ngoc Mai', 'Toan Tin', 8.8, 3)\n",
      "(5, 'Vu Quoc Anh', 'May Tinh', 8.0, 4)\n",
      "(3, 'Pham Van Nam', 'Toan Tin', 7.9, 5)\n",
      "(4, 'Le Thanh Huyen', 'Toan Tin', 7.2, 6)\n",
      "(9, 'Duong Huu Phuoc', 'Kinh Te', 7.2, 7)\n",
      "(10, 'Cao Thi Hanh', 'May Tinh', 7.0, 8)\n",
      "(1, 'Nguyen Minh Hoang', 'May Tinh', 6.7, 9)\n",
      "(6, 'Dang Thuy Linh', 'May Tinh', 5.5, 10)\n"
     ]
    }
   ],
   "source": [
    "cursor.execute('''select student_id,name,class, score,ROW_NUMBER() OVER(ORDER BY score desc) as xep_hang\n",
    "               from student''')\n",
    "for i in cursor:\n",
    "    print(i)"
   ]
  },
  {
   "cell_type": "markdown",
   "metadata": {},
   "source": [
    "## b.Điểm số theo lớp học"
   ]
  },
  {
   "cell_type": "code",
   "execution_count": 61,
   "metadata": {},
   "outputs": [
    {
     "name": "stdout",
     "output_type": "stream",
     "text": [
      "(2, 'Tran Thi Lan', 'Kinh Te', 9.2, 1)\n",
      "(7, 'Bui Tien Dung', 'Kinh Te', 9.2, 2)\n",
      "(9, 'Duong Huu Phuoc', 'Kinh Te', 7.2, 3)\n",
      "(5, 'Vu Quoc Anh', 'May Tinh', 8.0, 1)\n",
      "(10, 'Cao Thi Hanh', 'May Tinh', 7.0, 2)\n",
      "(1, 'Nguyen Minh Hoang', 'May Tinh', 6.7, 3)\n",
      "(6, 'Dang Thuy Linh', 'May Tinh', 5.5, 4)\n",
      "(8, 'Ho Ngoc Mai', 'Toan Tin', 8.8, 1)\n",
      "(3, 'Pham Van Nam', 'Toan Tin', 7.9, 2)\n",
      "(4, 'Le Thanh Huyen', 'Toan Tin', 7.2, 3)\n"
     ]
    }
   ],
   "source": [
    "cursor.execute('''select student_id,name,class, score,ROW_NUMBER() OVER(PARTITION BY class ORDER BY score desc) as xep_hang\n",
    "               from student''')\n",
    "for i in cursor:\n",
    "    print(i)"
   ]
  },
  {
   "cell_type": "markdown",
   "metadata": {},
   "source": [
    "## c. Điểm số theo mã môn học"
   ]
  },
  {
   "cell_type": "code",
   "execution_count": 62,
   "metadata": {},
   "outputs": [
    {
     "name": "stdout",
     "output_type": "stream",
     "text": [
      "(1, 'Nguyen Minh Hoang', 'May Tinh', 12, 6.7, 1)\n",
      "(8, 'Ho Ngoc Mai', 'Toan Tin', 20, 8.8, 1)\n",
      "(4, 'Le Thanh Huyen', 'Toan Tin', 20, 7.2, 2)\n",
      "(5, 'Vu Quoc Anh', 'May Tinh', 24, 8.0, 1)\n",
      "(6, 'Dang Thuy Linh', 'May Tinh', 24, 5.5, 2)\n",
      "(2, 'Tran Thi Lan', 'Kinh Te', 34, 9.2, 1)\n",
      "(7, 'Bui Tien Dung', 'Kinh Te', 34, 9.2, 2)\n",
      "(3, 'Pham Van Nam', 'Toan Tin', 34, 7.9, 3)\n",
      "(9, 'Duong Huu Phuoc', 'Kinh Te', 34, 7.2, 4)\n",
      "(10, 'Cao Thi Hanh', 'May Tinh', 34, 7.0, 5)\n"
     ]
    }
   ],
   "source": [
    "cursor.execute('''select student_id,name,class,course_id, score,ROW_NUMBER() OVER(PARTITION BY course_id ORDER BY score desc) as xep_hang\n",
    "               from student\n",
    "               ''')\n",
    "for i in cursor:\n",
    "    print(i)"
   ]
  },
  {
   "cell_type": "markdown",
   "metadata": {},
   "source": [
    "### Top 3 Sinh viên đạt thứ hạng cao nhất trong từng trường hợp trên"
   ]
  },
  {
   "cell_type": "markdown",
   "metadata": {},
   "source": [
    "#### a. Điểm số"
   ]
  },
  {
   "cell_type": "code",
   "execution_count": 117,
   "metadata": {},
   "outputs": [
    {
     "name": "stdout",
     "output_type": "stream",
     "text": [
      "3 sinh viên có thứ hạng cao nhất theo điểm số\n",
      "(2, 'Tran Thi Lan', 'Kinh Te', 34, 9.2, 1)\n",
      "(7, 'Bui Tien Dung', 'Kinh Te', 34, 9.2, 2)\n",
      "(8, 'Ho Ngoc Mai', 'Toan Tin', 20, 8.8, 3)\n",
      "3 sinh viên có thứ hạng thấp nhất theo điểm số\n",
      "\n",
      "\n",
      "(6, 'Dang Thuy Linh', 'May Tinh', 24, 5.5, 1)\n",
      "(1, 'Nguyen Minh Hoang', 'May Tinh', 12, 6.7, 2)\n",
      "(10, 'Cao Thi Hanh', 'May Tinh', 34, 7.0, 3)\n"
     ]
    }
   ],
   "source": [
    "cursor.execute('''SELECT student_id,name,class,course_id, score, ROW_NUMBER() OVER ( ORDER BY score desc) \n",
    "               FROM student limit 3''')\n",
    "print('3 sinh viên có thứ hạng cao nhất theo điểm số')\n",
    "for i in cursor:\n",
    "    print(i)\n",
    "print('3 sinh viên có thứ hạng thấp nhất theo điểm số')\n",
    "cursor.execute('''SELECT student_id,name,class,course_id,score,ROW_NUMBER() OVER (ORDER BY score asc)\n",
    "               from student limit 3''')\n",
    "print('\\n')\n",
    "for i in cursor:\n",
    "    print(i)\n"
   ]
  },
  {
   "cell_type": "markdown",
   "metadata": {},
   "source": [
    "#### b. Điểm số theo lớp học"
   ]
  },
  {
   "cell_type": "code",
   "execution_count": 118,
   "metadata": {},
   "outputs": [
    {
     "name": "stdout",
     "output_type": "stream",
     "text": [
      "3 sinh viên có thứ hạng cao nhất theo lớp học\n",
      "(2, 'Tran Thi Lan', 'Kinh Te', 34, 9.2, 1)\n",
      "(7, 'Bui Tien Dung', 'Kinh Te', 34, 9.2, 2)\n",
      "(9, 'Duong Huu Phuoc', 'Kinh Te', 34, 7.2, 3)\n",
      "(5, 'Vu Quoc Anh', 'May Tinh', 24, 8.0, 1)\n",
      "(10, 'Cao Thi Hanh', 'May Tinh', 34, 7.0, 2)\n",
      "(1, 'Nguyen Minh Hoang', 'May Tinh', 12, 6.7, 3)\n",
      "(8, 'Ho Ngoc Mai', 'Toan Tin', 20, 8.8, 1)\n",
      "(3, 'Pham Van Nam', 'Toan Tin', 34, 7.9, 2)\n",
      "(4, 'Le Thanh Huyen', 'Toan Tin', 20, 7.2, 3)\n",
      "\n",
      "\n",
      "3 sinh viên có thứ hạng thấp nhất theo lớp học\n",
      "(9, 'Duong Huu Phuoc', 'Kinh Te', 34, 7.2, 1)\n",
      "(2, 'Tran Thi Lan', 'Kinh Te', 34, 9.2, 2)\n",
      "(7, 'Bui Tien Dung', 'Kinh Te', 34, 9.2, 3)\n",
      "(6, 'Dang Thuy Linh', 'May Tinh', 24, 5.5, 1)\n",
      "(1, 'Nguyen Minh Hoang', 'May Tinh', 12, 6.7, 2)\n",
      "(10, 'Cao Thi Hanh', 'May Tinh', 34, 7.0, 3)\n",
      "(4, 'Le Thanh Huyen', 'Toan Tin', 20, 7.2, 1)\n",
      "(3, 'Pham Van Nam', 'Toan Tin', 34, 7.9, 2)\n",
      "(8, 'Ho Ngoc Mai', 'Toan Tin', 20, 8.8, 3)\n"
     ]
    }
   ],
   "source": [
    "cursor.execute('''SELECT student_id,name,class,course_id, score,rank\n",
    "               FROM  (\n",
    "                select student_id,name,class,course_id, score,\n",
    "                    ROW_NUMBER() OVER (PARTITION BY class ORDER BY score desc) AS rank\n",
    "               FROM student ) ranked_students  \n",
    "               where rank <=3 \n",
    "               ''')\n",
    "print('3 sinh viên có thứ hạng cao nhất theo lớp học')\n",
    "for i in cursor:\n",
    "    print(i)\n",
    "print('\\n')\n",
    "print('3 sinh viên có thứ hạng thấp nhất theo lớp học')\n",
    "cursor.execute('''SELECT student_id,name,class,course_id,score,rank\n",
    "               from (select student_id,name,class, course_id ,score,\n",
    "                    ROW_NUMBER() OVER (PARTITION BY class ORDER BY score asc) AS rank\n",
    "               from student)\n",
    "               where rank <=3''')\n",
    "for i in cursor:\n",
    "    print(i)"
   ]
  },
  {
   "cell_type": "markdown",
   "metadata": {},
   "source": [
    "#### C.Điểm số theo mã môn học"
   ]
  },
  {
   "cell_type": "code",
   "execution_count": 125,
   "metadata": {},
   "outputs": [
    {
     "name": "stdout",
     "output_type": "stream",
     "text": [
      "3 sinh viên có thứ hạng cao nhất theo mã môn học\n",
      "(1, 'Nguyen Minh Hoang', 'May Tinh', 12, 6.7, 1)\n",
      "(4, 'Le Thanh Huyen', 'Toan Tin', 20, 7.2, 1)\n",
      "(8, 'Ho Ngoc Mai', 'Toan Tin', 20, 8.8, 2)\n",
      "(6, 'Dang Thuy Linh', 'May Tinh', 24, 5.5, 1)\n",
      "(5, 'Vu Quoc Anh', 'May Tinh', 24, 8.0, 2)\n",
      "(10, 'Cao Thi Hanh', 'May Tinh', 34, 7.0, 1)\n",
      "(9, 'Duong Huu Phuoc', 'Kinh Te', 34, 7.2, 2)\n",
      "(3, 'Pham Van Nam', 'Toan Tin', 34, 7.9, 3)\n",
      "\n",
      "3 sinh viên có điểm thấp nhất theo mã môn học \n",
      "(1, 'Nguyen Minh Hoang', 'May Tinh', 12, 6.7, 1)\n",
      "(4, 'Le Thanh Huyen', 'Toan Tin', 20, 7.2, 1)\n",
      "(8, 'Ho Ngoc Mai', 'Toan Tin', 20, 8.8, 2)\n",
      "(6, 'Dang Thuy Linh', 'May Tinh', 24, 5.5, 1)\n",
      "(5, 'Vu Quoc Anh', 'May Tinh', 24, 8.0, 2)\n",
      "(10, 'Cao Thi Hanh', 'May Tinh', 34, 7.0, 1)\n",
      "(9, 'Duong Huu Phuoc', 'Kinh Te', 34, 7.2, 2)\n",
      "(3, 'Pham Van Nam', 'Toan Tin', 34, 7.9, 3)\n"
     ]
    }
   ],
   "source": [
    "cursor.execute('''select student_id,name,class,course_id,score,rank\n",
    "               from (select student_id,name,class,course_id,score,\n",
    "                        ROW_NUMBER() OVER (PARTITION BY course_id ORDER BY score) as rank\n",
    "               from student) ranked\n",
    "               where rank <=3 ''')\n",
    "print('3 sinh viên có thứ hạng cao nhất theo mã môn học')\n",
    "for i in cursor:\n",
    "    print(i)\n",
    "\n",
    "cursor.execute('''select student_id,name,class,course_id,score,rank\n",
    "               from (select student_id, name,class,course_id,score,\n",
    "                    ROW_NUMBER() OVER(PARTITION BY course_id ORDER BY score asc) as rank\n",
    "               from student) ranked\n",
    "               where rank <=3''')\n",
    "print('\\n3 sinh viên có điểm thấp nhất theo mã môn học ')\n",
    "for i in cursor:\n",
    "    print(i)"
   ]
  },
  {
   "cell_type": "markdown",
   "metadata": {},
   "source": [
    "# 4. Bổ sung thêm một trường graduation_date có kiểu dữ liệu DATETIME vào bảng student"
   ]
  },
  {
   "cell_type": "code",
   "execution_count": 126,
   "metadata": {},
   "outputs": [
    {
     "data": {
      "text/plain": [
       "<sqlite3.Cursor at 0x24d42c962c0>"
      ]
     },
     "execution_count": 126,
     "metadata": {},
     "output_type": "execute_result"
    }
   ],
   "source": [
    "cursor.execute('''ALTER TABLE student\n",
    "               ADD graduation_date DATETIME''')"
   ]
  },
  {
   "cell_type": "markdown",
   "metadata": {},
   "source": [
    "## Tính thời gian tốt nghiệp"
   ]
  },
  {
   "cell_type": "code",
   "execution_count": null,
   "metadata": {},
   "outputs": [
    {
     "name": "stdout",
     "output_type": "stream",
     "text": [
      "(1, 'Nguyen Minh Hoang', 'May Tinh', 12, 6.7, '2025-03-21')\n",
      "(2, 'Tran Thi Lan', 'Kinh Te', 34, 9.2, '2025-03-13')\n",
      "(3, 'Pham Van Nam', 'Toan Tin', 34, 7.9, '2025-03-17')\n",
      "(4, 'Le Thanh Huyen', 'Toan Tin', 20, 7.2, '2025-03-18')\n",
      "(5, 'Vu Quoc Anh', 'May Tinh', 24, 8.0, '2025-03-16')\n",
      "(6, 'Dang Thuy Linh', 'May Tinh', 24, 5.5, '2025-03-22')\n",
      "(7, 'Bui Tien Dung', 'Kinh Te', 34, 9.2, '2025-03-14')\n",
      "(8, 'Ho Ngoc Mai', 'Toan Tin', 20, 8.8, '2025-03-15')\n",
      "(9, 'Duong Huu Phuoc', 'Kinh Te', 34, 7.2, '2025-03-19')\n",
      "(10, 'Cao Thi Hanh', 'May Tinh', 34, 7.0, '2025-03-20')\n"
     ]
    }
   ],
   "source": [
    "cursor.execute('''CREATE VIEW graduation_ as\n",
    "                select student_id,name,class,course_id, score,\n",
    "                    ROW_NUMBER() OVER (ORDER BY score desc) AS rank\n",
    "               FROM student \n",
    "                order by student_id \n",
    "               ''')\n",
    "cursor.execute('''\n",
    "    UPDATE student\n",
    "    SET graduation_date = (\n",
    "        SELECT DATE('now', '+' || rank || ' days')\n",
    "        FROM graduation_\n",
    "        WHERE graduation_.student_id = student.student_id\n",
    "    )\n",
    "    WHERE student_id IN (SELECT student_id FROM graduation_);\n",
    "''')\n",
    "cursor.execute('''select * from student''')\n",
    "for i in cursor:\n",
    "    print(i)\n"
   ]
  },
  {
   "cell_type": "code",
   "execution_count": null,
   "metadata": {},
   "outputs": [],
   "source": []
  }
 ],
 "metadata": {
  "kernelspec": {
   "display_name": "Python 3",
   "language": "python",
   "name": "python3"
  },
  "language_info": {
   "codemirror_mode": {
    "name": "ipython",
    "version": 3
   },
   "file_extension": ".py",
   "mimetype": "text/x-python",
   "name": "python",
   "nbconvert_exporter": "python",
   "pygments_lexer": "ipython3",
   "version": "3.11.5"
  }
 },
 "nbformat": 4,
 "nbformat_minor": 2
}
