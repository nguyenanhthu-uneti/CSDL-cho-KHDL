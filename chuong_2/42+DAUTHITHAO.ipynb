{
 "cells": [
  {
   "cell_type": "code",
   "execution_count": 49,
   "id": "97dcee65",
   "metadata": {},
   "outputs": [
    {
     "name": "stdout",
     "output_type": "stream",
     "text": [
      "Đã tạo bảng và chèn dữ liệu thành công!!\n"
     ]
    }
   ],
   "source": [
    "import sqlite3\n",
    "\n",
    "# Kết nối đến SQLite database\n",
    "conn = sqlite3.connect(\"school.db\")\n",
    "cursor = conn.cursor()\n",
    "\n",
    "# Tạo bảng course\n",
    "cursor.execute(\"\"\"\n",
    "CREATE TABLE IF NOT EXISTS course (\n",
    "    id INTEGER PRIMARY KEY,\n",
    "    course_name TEXT\n",
    ")\n",
    "\"\"\")\n",
    "\n",
    "# Tạo bảng student\n",
    "cursor.execute(\"\"\"\n",
    "CREATE TABLE IF NOT EXISTS student (\n",
    "    student_id INTEGER PRIMARY KEY,\n",
    "    name TEXT,\n",
    "    class TEXT,\n",
    "    course_id INTEGER NULL,\n",
    "    score REAL\n",
    ")\n",
    "\"\"\")\n",
    "\n",
    "# Chèn dữ liệu vào bảng course\n",
    "course_data = [\n",
    "    (12, \"Giai tich\"),\n",
    "    (34, \"Thong ke\"),\n",
    "    (26, \"Tin hoc\")]\n",
    "# Xóa dữ liệu cũ\n",
    "cursor.execute(\"DELETE FROM course\")\n",
    "\n",
    "cursor.executemany(\"INSERT INTO course VALUES (?, ?)\", course_data)\n",
    "\n",
    "# Chèn dữ liệu vào bảng student\n",
    "student_data = [\n",
    "    (1, \"Nguyen Minh Hoang\", \"May Tinh\", 12, 6.7),\n",
    "    (2, \"Tran Thi Lan\", \"Kinh Te\", 34, 9.2),\n",
    "    (3, \"Pham Van Nam\", \"Toan Tin\", None, 7.9),  # Giá trị trống\n",
    "    (4, \"Le Thanh Huyen\", \"Toan Tin\", 20, 7.2),\n",
    "    (5, \"Vu Quoc Anh\", \"May Tinh\", 24, 8.0),\n",
    "    (6, \"Dang Thuy Linh\", \"May Tinh\", 24, 5.5),\n",
    "    (7, \"Bui Tien Dung\", \"Kinh Te\", 34, 9.2),\n",
    "    (8, \"Ho Ngoc Mai\", \"Toan Tin\", 20, 8.8),\n",
    "    (9, \"Duong Huu Phuc\", \"Kinh Te\", None, 7.2),  # Giá trị trống\n",
    "    (10, \"Cao Thi Hanh\", \"May Tinh\", None, 7.0)]   # Giá trị trống\n",
    "cursor.execute(\"DELETE FROM student\")\n",
    "cursor.executemany(\"INSERT INTO student VALUES (?, ?, ?, ?, ?)\", student_data)\n",
    "\n",
    "# Lưu thay đổi và đóng kết nối\n",
    "conn.commit()\n",
    "conn.close()\n",
    "\n",
    "print(\"Đã tạo bảng và chèn dữ liệu thành công!!\")\n"
   ]
  },
  {
   "cell_type": "markdown",
   "id": "04d1342f",
   "metadata": {},
   "source": [
    "# Câu 1:"
   ]
  },
  {
   "cell_type": "code",
   "execution_count": 50,
   "id": "6fdc3b20",
   "metadata": {},
   "outputs": [
    {
     "name": "stdout",
     "output_type": "stream",
     "text": [
      "Kết nối 2 bảng bằng tích Descartes thành công!\n",
      "(1, 'Nguyen Minh Hoang', 'May Tinh', 12, 6.7, 12, 'Giai tich')\n",
      "(1, 'Nguyen Minh Hoang', 'May Tinh', 12, 6.7, 26, 'Tin hoc')\n",
      "(1, 'Nguyen Minh Hoang', 'May Tinh', 12, 6.7, 34, 'Thong ke')\n",
      "(2, 'Tran Thi Lan', 'Kinh Te', 34, 9.2, 12, 'Giai tich')\n",
      "(2, 'Tran Thi Lan', 'Kinh Te', 34, 9.2, 26, 'Tin hoc')\n",
      "(2, 'Tran Thi Lan', 'Kinh Te', 34, 9.2, 34, 'Thong ke')\n",
      "(3, 'Pham Van Nam', 'Toan Tin', None, 7.9, 12, 'Giai tich')\n",
      "(3, 'Pham Van Nam', 'Toan Tin', None, 7.9, 26, 'Tin hoc')\n",
      "(3, 'Pham Van Nam', 'Toan Tin', None, 7.9, 34, 'Thong ke')\n",
      "(4, 'Le Thanh Huyen', 'Toan Tin', 20, 7.2, 12, 'Giai tich')\n",
      "(4, 'Le Thanh Huyen', 'Toan Tin', 20, 7.2, 26, 'Tin hoc')\n",
      "(4, 'Le Thanh Huyen', 'Toan Tin', 20, 7.2, 34, 'Thong ke')\n",
      "(5, 'Vu Quoc Anh', 'May Tinh', 24, 8.0, 12, 'Giai tich')\n",
      "(5, 'Vu Quoc Anh', 'May Tinh', 24, 8.0, 26, 'Tin hoc')\n",
      "(5, 'Vu Quoc Anh', 'May Tinh', 24, 8.0, 34, 'Thong ke')\n",
      "(6, 'Dang Thuy Linh', 'May Tinh', 24, 5.5, 12, 'Giai tich')\n",
      "(6, 'Dang Thuy Linh', 'May Tinh', 24, 5.5, 26, 'Tin hoc')\n",
      "(6, 'Dang Thuy Linh', 'May Tinh', 24, 5.5, 34, 'Thong ke')\n",
      "(7, 'Bui Tien Dung', 'Kinh Te', 34, 9.2, 12, 'Giai tich')\n",
      "(7, 'Bui Tien Dung', 'Kinh Te', 34, 9.2, 26, 'Tin hoc')\n",
      "(7, 'Bui Tien Dung', 'Kinh Te', 34, 9.2, 34, 'Thong ke')\n",
      "(8, 'Ho Ngoc Mai', 'Toan Tin', 20, 8.8, 12, 'Giai tich')\n",
      "(8, 'Ho Ngoc Mai', 'Toan Tin', 20, 8.8, 26, 'Tin hoc')\n",
      "(8, 'Ho Ngoc Mai', 'Toan Tin', 20, 8.8, 34, 'Thong ke')\n",
      "(9, 'Duong Huu Phuc', 'Kinh Te', None, 7.2, 12, 'Giai tich')\n",
      "(9, 'Duong Huu Phuc', 'Kinh Te', None, 7.2, 26, 'Tin hoc')\n",
      "(9, 'Duong Huu Phuc', 'Kinh Te', None, 7.2, 34, 'Thong ke')\n",
      "(10, 'Cao Thi Hanh', 'May Tinh', None, 7.0, 12, 'Giai tich')\n",
      "(10, 'Cao Thi Hanh', 'May Tinh', None, 7.0, 26, 'Tin hoc')\n",
      "(10, 'Cao Thi Hanh', 'May Tinh', None, 7.0, 34, 'Thong ke')\n"
     ]
    }
   ],
   "source": [
    "# Thực hiện tích Descartes\n",
    "conn = sqlite3.connect(\"school.db\")\n",
    "cursor = conn.cursor()\n",
    "cursor.execute(\"SELECT * FROM student CROSS JOIN course\")\n",
    "result = cursor.fetchall()\n",
    "# In kết quả\n",
    "print(\"Kết nối 2 bảng bằng tích Descartes thành công!\")\n",
    "for row in result:\n",
    "    print(row)"
   ]
  },
  {
   "cell_type": "code",
   "execution_count": 51,
   "id": "4b9838ee",
   "metadata": {},
   "outputs": [
    {
     "name": "stdout",
     "output_type": "stream",
     "text": [
      "Kết nối 2 bảng bằng INNER JOIN thành công!\n",
      "(1, 'Nguyen Minh Hoang', 'May Tinh', 'Giai tich', 6.7)\n",
      "(2, 'Tran Thi Lan', 'Kinh Te', 'Thong ke', 9.2)\n",
      "(7, 'Bui Tien Dung', 'Kinh Te', 'Thong ke', 9.2)\n"
     ]
    }
   ],
   "source": [
    "# Thực hiện INNER JOIN\n",
    "cursor.execute(\"\"\"\n",
    "    SELECT student.student_id, student.name, student.class, course.course_name, student.score\n",
    "    FROM student\n",
    "    INNER JOIN course ON student.course_id = course.id;\n",
    "\"\"\")\n",
    "result = cursor.fetchall()\n",
    "# In kết quả\n",
    "print(\"Kết nối 2 bảng bằng INNER JOIN thành công!\")\n",
    "for row in result:\n",
    "    print(row)  "
   ]
  },
  {
   "cell_type": "code",
   "execution_count": 52,
   "id": "84ab7a10",
   "metadata": {},
   "outputs": [
    {
     "name": "stdout",
     "output_type": "stream",
     "text": [
      "Kết nối 2 bảng bằng LEFT JOIN thành công!\n",
      "(1, 'Nguyen Minh Hoang', 'May Tinh', 12, 6.7, 'Giai tich')\n",
      "(2, 'Tran Thi Lan', 'Kinh Te', 34, 9.2, 'Thong ke')\n",
      "(3, 'Pham Van Nam', 'Toan Tin', None, 7.9, None)\n",
      "(4, 'Le Thanh Huyen', 'Toan Tin', 20, 7.2, None)\n",
      "(5, 'Vu Quoc Anh', 'May Tinh', 24, 8.0, None)\n",
      "(6, 'Dang Thuy Linh', 'May Tinh', 24, 5.5, None)\n",
      "(7, 'Bui Tien Dung', 'Kinh Te', 34, 9.2, 'Thong ke')\n",
      "(8, 'Ho Ngoc Mai', 'Toan Tin', 20, 8.8, None)\n",
      "(9, 'Duong Huu Phuc', 'Kinh Te', None, 7.2, None)\n",
      "(10, 'Cao Thi Hanh', 'May Tinh', None, 7.0, None)\n"
     ]
    }
   ],
   "source": [
    "# Thực hiện LEFT JOIN\n",
    "cursor.execute(\"\"\"\n",
    "    SELECT student.*, course.course_name\n",
    "    FROM student\n",
    "    LEFT JOIN course ON student.course_id = course.id\n",
    "\"\"\")\n",
    "result = cursor.fetchall()\n",
    "print(\"Kết nối 2 bảng bằng LEFT JOIN thành công!\")\n",
    "for row in result:\n",
    "    print(row)\n"
   ]
  },
  {
   "cell_type": "code",
   "execution_count": 53,
   "id": "56a76766",
   "metadata": {},
   "outputs": [
    {
     "name": "stdout",
     "output_type": "stream",
     "text": [
      "Kết nối 2 bảng bằng RIGHT JOIN thành công!\n",
      "(12, 'Giai tich', 'Nguyen Minh Hoang', 'May Tinh', 6.7)\n",
      "(26, 'Tin hoc', None, None, None)\n",
      "(34, 'Thong ke', 'Bui Tien Dung', 'Kinh Te', 9.2)\n",
      "(34, 'Thong ke', 'Tran Thi Lan', 'Kinh Te', 9.2)\n"
     ]
    }
   ],
   "source": [
    "# Thực hiện RIGHT JOIN\n",
    "cursor.execute(\"\"\"\n",
    "    SELECT course.*, student.name, student.class, student.score\n",
    "    FROM course\n",
    "    LEFT JOIN student ON student.course_id = course.id\n",
    "\"\"\")\n",
    "result = cursor.fetchall()\n",
    "print(\"Kết nối 2 bảng bằng RIGHT JOIN thành công!\")\n",
    "for row in result:\n",
    "    print(row)\n"
   ]
  },
  {
   "cell_type": "code",
   "execution_count": 54,
   "id": "49068a5a",
   "metadata": {},
   "outputs": [
    {
     "name": "stdout",
     "output_type": "stream",
     "text": [
      "Kết nối 2 bảng bằng FULL OUTER JOIN thành công!\n",
      "(None, None, None, None, None, 'Tin hoc')\n",
      "(1, 'Nguyen Minh Hoang', 'May Tinh', 12, 6.7, 'Giai tich')\n",
      "(2, 'Tran Thi Lan', 'Kinh Te', 34, 9.2, 'Thong ke')\n",
      "(3, 'Pham Van Nam', 'Toan Tin', None, 7.9, None)\n",
      "(4, 'Le Thanh Huyen', 'Toan Tin', 20, 7.2, None)\n",
      "(5, 'Vu Quoc Anh', 'May Tinh', 24, 8.0, None)\n",
      "(6, 'Dang Thuy Linh', 'May Tinh', 24, 5.5, None)\n",
      "(7, 'Bui Tien Dung', 'Kinh Te', 34, 9.2, 'Thong ke')\n",
      "(8, 'Ho Ngoc Mai', 'Toan Tin', 20, 8.8, None)\n",
      "(9, 'Duong Huu Phuc', 'Kinh Te', None, 7.2, None)\n",
      "(10, 'Cao Thi Hanh', 'May Tinh', None, 7.0, None)\n"
     ]
    }
   ],
   "source": [
    "# Thực hiện FULL OUTER JOIN\n",
    "cursor.execute(\"\"\"\n",
    "    SELECT student.*, course.course_name\n",
    "    FROM student\n",
    "    LEFT JOIN course ON student.course_id = course.id\n",
    "    UNION\n",
    "    SELECT student.*, course.course_name\n",
    "    FROM course\n",
    "    LEFT JOIN student ON student.course_id = course.id;\n",
    "\"\"\")\n",
    "result = cursor.fetchall()\n",
    "print(\"Kết nối 2 bảng bằng FULL OUTER JOIN thành công!\")\n",
    "for row in result:\n",
    "    print(row)\n"
   ]
  },
  {
   "cell_type": "markdown",
   "id": "dfac0e56",
   "metadata": {},
   "source": [
    "# Câu 2:"
   ]
  },
  {
   "cell_type": "code",
   "execution_count": 55,
   "id": "2a46e085",
   "metadata": {},
   "outputs": [
    {
     "name": "stdout",
     "output_type": "stream",
     "text": [
      "Cập nhật và dọn dẹp dữ liệu thành công!\n"
     ]
    }
   ],
   "source": [
    "# Cập nhật course_id bị thiếu\n",
    "cursor.execute(\"\"\"\n",
    "    UPDATE student\n",
    "    SET course_id = (SELECT id FROM course ORDER BY RANDOM() LIMIT 1)\n",
    "    WHERE course_id IS NULL;\n",
    "\"\"\")\n",
    "\n",
    "# Xóa các bản ghi có course_id không hợp lệ\n",
    "cursor.execute(\"\"\"\n",
    "    DELETE FROM student\n",
    "    WHERE course_id NOT IN (SELECT id FROM course);\n",
    "\"\"\")\n",
    "conn.commit()\n",
    "\n",
    "print(\"Cập nhật và dọn dẹp dữ liệu thành công!\")"
   ]
  },
  {
   "cell_type": "code",
   "execution_count": 56,
   "id": "9ff38861",
   "metadata": {},
   "outputs": [
    {
     "name": "stdout",
     "output_type": "stream",
     "text": [
      "Lớp: Kinh Te, Tổng số sinh viên: 3, Điểm trung bình: 8.53\n",
      "Lớp: May Tinh, Tổng số sinh viên: 2, Điểm trung bình: 6.85\n",
      "Lớp: Toan Tin, Tổng số sinh viên: 1, Điểm trung bình: 7.90\n"
     ]
    }
   ],
   "source": [
    "# tổng số sinh viên, điểm trung bình của từng lớp\n",
    "cursor.execute(\"\"\"\n",
    "    SELECT class, COUNT(*) AS total_student, AVG(score) AS avg_score\n",
    "    FROM student\n",
    "    GROUP BY class;\n",
    "\"\"\")\n",
    "result = cursor.fetchall()\n",
    "for row in result:\n",
    "    print(f\"Lớp: {row[0]}, Tổng số sinh viên: {row[1]}, Điểm trung bình: {row[2]:.2f}\")\n"
   ]
  },
  {
   "cell_type": "code",
   "execution_count": 57,
   "id": "edb32804",
   "metadata": {},
   "outputs": [
    {
     "name": "stdout",
     "output_type": "stream",
     "text": [
      "Tổng số sinh viên: 6\n",
      "\n",
      "Điểm trung bình của từng môn học:\n",
      "Giai tich: 7.20\n",
      "Thong ke: 9.20\n"
     ]
    }
   ],
   "source": [
    "# Tổng số sinh viên, điểm trung bình của từng môn học\n",
    "# Tổng số sinh viên\n",
    "cursor.execute(\"SELECT COUNT(*) FROM student\")\n",
    "total_student = cursor.fetchone()[0]\n",
    "# Điểm trung bình của từng môn học\n",
    "cursor.execute(\"\"\"\n",
    "    SELECT course.course_name, AVG(student.score) AS average_score\n",
    "    FROM student\n",
    "    JOIN course ON student.course_id = course.id\n",
    "    GROUP BY course.course_name\n",
    "\"\"\")\n",
    "average_scores = cursor.fetchall()\n",
    "# In kết quả\n",
    "print(f\"Tổng số sinh viên: {total_student}\")\n",
    "print(\"\\nĐiểm trung bình của từng môn học:\")\n",
    "for course, avg_score in average_scores:\n",
    "    print(f\"{course}: {avg_score:.2f}\")\n"
   ]
  },
  {
   "cell_type": "code",
   "execution_count": 58,
   "id": "ab6a903a",
   "metadata": {},
   "outputs": [
    {
     "name": "stdout",
     "output_type": "stream",
     "text": [
      "Phân loại kết quả thi:\n",
      "Giai tich: 7.20 - Tốt\n",
      "Thong ke: 9.20 - Xuất sắc\n"
     ]
    }
   ],
   "source": [
    "# Phân loại thi đua theo số điểm của từng môn học\n",
    "cursor.execute(\"\"\"\n",
    "    SELECT course.course_name, \n",
    "           AVG(student.score) AS average_score,\n",
    "           CASE \n",
    "               WHEN AVG(student.score) >= 9.0 THEN 'Xuất sắc'\n",
    "               WHEN AVG(student.score) BETWEEN 6.0 AND 8.9 THEN 'Tốt'\n",
    "               WHEN AVG(student.score) < 6.0 THEN 'Kém'\n",
    "           END AS classification\n",
    "    FROM student\n",
    "    JOIN course ON student.course_id = course.id\n",
    "    GROUP BY course.course_name\n",
    "\"\"\")\n",
    "results = cursor.fetchall()\n",
    "print(\"Phân loại kết quả thi:\")\n",
    "for course, avg_score, classification in results:\n",
    "    print(f\"{course}: {avg_score:.2f} - {classification}\")"
   ]
  },
  {
   "cell_type": "markdown",
   "id": "7a4e1ee3",
   "metadata": {},
   "source": [
    "# Câu 3"
   ]
  },
  {
   "cell_type": "code",
   "execution_count": 61,
   "id": "f6806d00",
   "metadata": {},
   "outputs": [
    {
     "name": "stdout",
     "output_type": "stream",
     "text": [
      "Xếp hạng theo điểm số:\n",
      "[(2, 'Tran Thi Lan', 9.2, 1), (7, 'Bui Tien Dung', 9.2, 1), (3, 'Pham Van Nam', 7.9, 3), (9, 'Duong Huu Phuc', 7.2, 4), (10, 'Cao Thi Hanh', 7.0, 5), (1, 'Nguyen Minh Hoang', 6.7, 6)]\n",
      "\n",
      "Xếp hạng theo lớp học:\n",
      "[(2, 'Tran Thi Lan', 'Kinh Te', 9.2, 1), (7, 'Bui Tien Dung', 'Kinh Te', 9.2, 1), (9, 'Duong Huu Phuc', 'Kinh Te', 7.2, 3), (10, 'Cao Thi Hanh', 'May Tinh', 7.0, 1), (1, 'Nguyen Minh Hoang', 'May Tinh', 6.7, 2), (3, 'Pham Van Nam', 'Toan Tin', 7.9, 1)]\n",
      "\n",
      "Xếp hạng theo môn học:\n",
      "[(3, 'Pham Van Nam', 12, 7.9, 1), (9, 'Duong Huu Phuc', 12, 7.2, 2), (10, 'Cao Thi Hanh', 12, 7.0, 3), (1, 'Nguyen Minh Hoang', 12, 6.7, 4), (2, 'Tran Thi Lan', 34, 9.2, 1), (7, 'Bui Tien Dung', 34, 9.2, 1)]\n"
     ]
    }
   ],
   "source": [
    "# Xếp hạng theo điểm số\n",
    "cursor.execute(\"\"\"\n",
    "    SELECT student_id, name, score, \n",
    "           RANK() OVER (ORDER BY score DESC) AS rank\n",
    "    FROM student;\n",
    "\"\"\")\n",
    "print(\"Xếp hạng theo điểm số:\")\n",
    "print(cursor.fetchall())\n",
    "\n",
    "# Xếp hạng theo lớp học\n",
    "cursor.execute(\"\"\"\n",
    "    SELECT student_id, name, class, score, \n",
    "           RANK() OVER (PARTITION BY class ORDER BY score DESC) AS rank\n",
    "    FROM student;\n",
    "\"\"\")\n",
    "print(\"\\nXếp hạng theo lớp học:\")\n",
    "print(cursor.fetchall())\n",
    "\n",
    "# Xếp hạng theo mã môn học\n",
    "cursor.execute(\"\"\"\n",
    "    SELECT student_id, name, course_id, score, \n",
    "           RANK() OVER (PARTITION BY course_id ORDER BY score DESC) AS rank\n",
    "    FROM student;\n",
    "\"\"\")\n",
    "print(\"\\nXếp hạng theo môn học:\")\n",
    "print(cursor.fetchall())"
   ]
  },
  {
   "cell_type": "code",
   "execution_count": 67,
   "id": "c2fb99df",
   "metadata": {},
   "outputs": [
    {
     "name": "stdout",
     "output_type": "stream",
     "text": [
      "Top 3 sinh viên cao nhất & thấp nhất:\n",
      "(2, 'Tran Thi Lan', 9.2)\n",
      "(7, 'Bui Tien Dung', 9.2)\n",
      "(3, 'Pham Van Nam', 7.9)\n",
      "(9, 'Duong Huu Phuc', 7.2)\n",
      "(10, 'Cao Thi Hanh', 7.0)\n",
      "(1, 'Nguyen Minh Hoang', 6.7)\n"
     ]
    }
   ],
   "source": [
    "# Top 3 sinh viên cao nhất & thấp nhất theo điểm số cá nhân\n",
    "query = \"\"\"\n",
    "WITH top_students AS (\n",
    "    SELECT student_id, name, score\n",
    "    FROM student\n",
    "    ORDER BY score DESC\n",
    "    LIMIT 3\n",
    "),\n",
    "bottom_students AS (\n",
    "    SELECT student_id, name, score\n",
    "    FROM student\n",
    "    ORDER BY score ASC\n",
    "    LIMIT 3\n",
    ")\n",
    "SELECT * FROM top_students\n",
    "UNION ALL\n",
    "SELECT * FROM bottom_students\n",
    "ORDER BY score DESC;\n",
    "\"\"\"\n",
    "cursor.execute(query)\n",
    "results = cursor.fetchall()\n",
    "print(\"Top 3 sinh viên cao nhất & thấp nhất:\")\n",
    "for row in results:\n",
    "    print(row)"
   ]
  },
  {
   "cell_type": "code",
   "execution_count": 68,
   "id": "ad784334",
   "metadata": {},
   "outputs": [
    {
     "name": "stdout",
     "output_type": "stream",
     "text": [
      "Top 3 sinh viên cao nhất và thấp nhất theo từng lớp:\n",
      "(2, 'Tran Thi Lan', 'Kinh Te', 9.2, 'Top 3 Cao Nhất')\n",
      "(7, 'Bui Tien Dung', 'Kinh Te', 9.2, 'Top 3 Cao Nhất')\n",
      "(9, 'Duong Huu Phuc', 'Kinh Te', 7.2, 'Top 3 Cao Nhất')\n",
      "(2, 'Tran Thi Lan', 'Kinh Te', 9.2, 'Top 3 Thấp Nhất')\n",
      "(7, 'Bui Tien Dung', 'Kinh Te', 9.2, 'Top 3 Thấp Nhất')\n",
      "(9, 'Duong Huu Phuc', 'Kinh Te', 7.2, 'Top 3 Thấp Nhất')\n",
      "(10, 'Cao Thi Hanh', 'May Tinh', 7.0, 'Top 3 Cao Nhất')\n",
      "(1, 'Nguyen Minh Hoang', 'May Tinh', 6.7, 'Top 3 Cao Nhất')\n",
      "(10, 'Cao Thi Hanh', 'May Tinh', 7.0, 'Top 3 Thấp Nhất')\n",
      "(1, 'Nguyen Minh Hoang', 'May Tinh', 6.7, 'Top 3 Thấp Nhất')\n",
      "(3, 'Pham Van Nam', 'Toan Tin', 7.9, 'Top 3 Cao Nhất')\n",
      "(3, 'Pham Van Nam', 'Toan Tin', 7.9, 'Top 3 Thấp Nhất')\n"
     ]
    }
   ],
   "source": [
    "# Top 3 sinh viên cao nhất và thấp nhất theo từng lớp học\n",
    "query = \"\"\"\n",
    "WITH RankedStudents AS (\n",
    "    SELECT \n",
    "        student_id, \n",
    "        name, \n",
    "        class, \n",
    "        score,\n",
    "        RANK() OVER (PARTITION BY class ORDER BY score DESC) AS high_rank,\n",
    "        RANK() OVER (PARTITION BY class ORDER BY score ASC) AS low_rank\n",
    "    FROM student\n",
    ")\n",
    "SELECT student_id, name, class, score, 'Top 3 Cao Nhất' AS ranking_type\n",
    "FROM RankedStudents\n",
    "WHERE high_rank <= 3\n",
    "UNION ALL\n",
    "SELECT student_id, name, class, score, 'Top 3 Thấp Nhất' AS ranking_type\n",
    "FROM RankedStudents\n",
    "WHERE low_rank <= 3\n",
    "ORDER BY class, ranking_type, score DESC;\n",
    "\"\"\"\n",
    "cursor.execute(query)\n",
    "results = cursor.fetchall()\n",
    "print(\"Top 3 sinh viên cao nhất và thấp nhất theo từng lớp:\")\n",
    "for row in results:\n",
    "    print(row)"
   ]
  },
  {
   "cell_type": "code",
   "execution_count": 71,
   "id": "3e79b592",
   "metadata": {},
   "outputs": [
    {
     "name": "stdout",
     "output_type": "stream",
     "text": [
      "Top 3 sinh viên cao nhất và thấp nhất theo từng môn học:\n",
      "(9, 'Duong Huu Phuc', 12, 7.2, 'Top 3 thấp nhất')\n",
      "(10, 'Cao Thi Hanh', 12, 7.0, 'Top 3 thấp nhất')\n",
      "(1, 'Nguyen Minh Hoang', 12, 6.7, 'Top 3 thấp nhất')\n",
      "(3, 'Pham Van Nam', 12, 7.9, 'Top 3 cao nhất')\n",
      "(9, 'Duong Huu Phuc', 12, 7.2, 'Top 3 cao nhất')\n",
      "(10, 'Cao Thi Hanh', 12, 7.0, 'Top 3 cao nhất')\n",
      "(2, 'Tran Thi Lan', 34, 9.2, 'Top 3 thấp nhất')\n",
      "(7, 'Bui Tien Dung', 34, 9.2, 'Top 3 thấp nhất')\n",
      "(2, 'Tran Thi Lan', 34, 9.2, 'Top 3 cao nhất')\n",
      "(7, 'Bui Tien Dung', 34, 9.2, 'Top 3 cao nhất')\n"
     ]
    }
   ],
   "source": [
    "# Top 3 sinh viên cao nhất và thấp nhất theo từng môn học\n",
    "query = \"\"\"\n",
    "WITH RankedStudents AS (\n",
    "    SELECT \n",
    "        student_id, \n",
    "        name, \n",
    "        course_id, \n",
    "        score, \n",
    "        RANK() OVER (PARTITION BY course_id ORDER BY score DESC) AS high_rank,\n",
    "        RANK() OVER (PARTITION BY course_id ORDER BY score ASC) AS low_rank\n",
    "    FROM student\n",
    ")\n",
    "SELECT student_id, name, course_id, score, 'Top 3 cao nhất' AS rank_type\n",
    "FROM RankedStudents\n",
    "WHERE high_rank <= 3\n",
    "\n",
    "UNION ALL\n",
    "\n",
    "SELECT student_id, name, course_id, score, 'Top 3 thấp nhất' AS rank_type\n",
    "FROM RankedStudents\n",
    "WHERE low_rank <= 3\n",
    "\n",
    "ORDER BY course_id, rank_type DESC, score DESC;\n",
    "\"\"\"\n",
    "cursor.execute(query)\n",
    "results = cursor.fetchall()\n",
    "\n",
    "print(\"Top 3 sinh viên cao nhất và thấp nhất theo từng môn học:\")\n",
    "for row in results:\n",
    "    print(row)"
   ]
  },
  {
   "cell_type": "markdown",
   "id": "089e2a43",
   "metadata": {},
   "source": [
    "# Câu 4:"
   ]
  },
  {
   "cell_type": "code",
   "execution_count": null,
   "id": "7430c18c",
   "metadata": {},
   "outputs": [],
   "source": [
    "# Thêm cột graduation_date nếu chưa có\n",
    "cursor.execute(\"ALTER TABLE student ADD COLUMN graduation_date DATETIME\")"
   ]
  },
  {
   "cell_type": "code",
   "execution_count": 79,
   "id": "3a9c0f49",
   "metadata": {},
   "outputs": [
    {
     "name": "stdout",
     "output_type": "stream",
     "text": [
      "Danh sách sinh viên sau khi cập nhật ngày tốt nghiệp:\n",
      "(1, 'Nguyen Minh Hoang', 6.7, '2025-03-17')\n",
      "(2, 'Tran Thi Lan', 9.2, '2025-03-12')\n",
      "(3, 'Pham Van Nam', 7.9, '2025-03-14')\n",
      "(7, 'Bui Tien Dung', 9.2, '2025-03-12')\n",
      "(9, 'Duong Huu Phuc', 7.2, '2025-03-15')\n",
      "(10, 'Cao Thi Hanh', 7.0, '2025-03-16')\n"
     ]
    }
   ],
   "source": [
    "\n",
    "# Cập nhật graduation_date dựa vào thứ hạng theo điểm số\n",
    "query = \"\"\"\n",
    "WITH RankedStudents AS (\n",
    "    SELECT \n",
    "        student_id, \n",
    "        score,\n",
    "        RANK() OVER (ORDER BY score DESC) AS rank\n",
    "    FROM student\n",
    ")\n",
    "UPDATE student\n",
    "SET graduation_date = DATE('now', '+' || (\n",
    "    SELECT rank FROM RankedStudents WHERE student.student_id = RankedStudents.student_id\n",
    ") || ' days')\n",
    "\"\"\"\n",
    "cursor.execute(query)\n",
    "conn.commit()\n",
    "# Kiểm tra kết quả\n",
    "cursor.execute(\"SELECT student_id, name, score, graduation_date FROM student\")\n",
    "results = cursor.fetchall()\n",
    "\n",
    "print(\"Danh sách sinh viên sau khi cập nhật ngày tốt nghiệp:\")\n",
    "for row in results:\n",
    "    print(row)"
   ]
  }
 ],
 "metadata": {
  "kernelspec": {
   "display_name": "Python 3",
   "language": "python",
   "name": "python3"
  },
  "language_info": {
   "codemirror_mode": {
    "name": "ipython",
    "version": 3
   },
   "file_extension": ".py",
   "mimetype": "text/x-python",
   "name": "python",
   "nbconvert_exporter": "python",
   "pygments_lexer": "ipython3",
   "version": "3.11.4"
  }
 },
 "nbformat": 4,
 "nbformat_minor": 5
}
