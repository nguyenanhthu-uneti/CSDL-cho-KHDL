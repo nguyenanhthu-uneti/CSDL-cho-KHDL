{
 "cells": [
  {
   "cell_type": "markdown",
   "metadata": {},
   "source": [
    "# Bài tập chương 2"
   ]
  },
  {
   "cell_type": "markdown",
   "metadata": {},
   "source": [
    "# Tạo 2 bảng student và course"
   ]
  },
  {
   "cell_type": "code",
   "execution_count": 1,
   "metadata": {},
   "outputs": [
    {
     "name": "stdout",
     "output_type": "stream",
     "text": [
      "Database and tables created successfully!\n"
     ]
    }
   ],
   "source": [
    "import sqlite3\n",
    "\n",
    "# Kết nối hoặc tạo cơ sở dữ liệu\n",
    "conn = sqlite3.connect(\"school.db\")\n",
    "cursor = conn.cursor()\n",
    "\n",
    "# Tạo bảng course\n",
    "cursor.execute(\"\"\"\n",
    "CREATE TABLE IF NOT EXISTS course (\n",
    "    id INTEGER PRIMARY KEY,\n",
    "    course_name TEXT NOT NULL\n",
    ")\n",
    "\"\"\")\n",
    "\n",
    "# Tạo bảng student\n",
    "cursor.execute(\"\"\"\n",
    "CREATE TABLE IF NOT EXISTS student (\n",
    "    student_id INTEGER PRIMARY KEY,\n",
    "    name TEXT NOT NULL,\n",
    "    class TEXT NOT NULL,\n",
    "    course_id INTEGER,\n",
    "    score REAL,\n",
    "    FOREIGN KEY (course_id) REFERENCES course(id)\n",
    ")\n",
    "\"\"\")\n",
    "\n",
    "# Chèn dữ liệu vào bảng course\n",
    "courses = [\n",
    "    (12, \"Giai tich\"),\n",
    "    (34, \"Thong ke\"),\n",
    "    (26, \"Tin hoc\")\n",
    "]\n",
    "cursor.executemany(\"INSERT INTO course (id, course_name) VALUES (?, ?)\", courses)\n",
    "\n",
    "# Chèn dữ liệu vào bảng student\n",
    "students = [\n",
    "    (1, \"Nguyen Minh Hoang\", \"May Tinh\", 12, 6.7),\n",
    "    (2, \"Tran Thi Lan\", \"Kinh Te\", 34, 9.2),\n",
    "    (3, \"Pham Van Nam\", \"Toan Tin\", None, 7.9),\n",
    "    (4, \"Le Thanh Huyen\", \"Toan Tin\", 20, 7.2),\n",
    "    (5, \"Vu Quoc Anh\", \"May Tinh\", 24, 8.0),\n",
    "    (6, \"Dang Thuy Linh\", \"May Tinh\", 24, 5.5),\n",
    "    (7, \"Bui Tien Dung\", \"Kinh Te\", 34, 9.2),\n",
    "    (8, \"Ho Ngoc Mai\", \"Toan Tin\", 20, 8.8),\n",
    "    (9, \"Duong Huu Phuc\", \"Kinh Te\", None, 7.2),\n",
    "    (10, \"Cao Thi Hanh\", \"May Tinh\", None, 7.0)\n",
    "]\n",
    "cursor.executemany(\"INSERT INTO student (student_id, name, class, course_id, score) VALUES (?, ?, ?, ?, ?)\", students)\n",
    "\n",
    "# Lưu thay đổi và đóng kết nối\n",
    "conn.commit()\n",
    "conn.close()\n",
    "\n",
    "print(\"Database and tables created successfully!\")\n"
   ]
  },
  {
   "cell_type": "markdown",
   "metadata": {},
   "source": [
    "# 1. Hãy kết nối hai bảng trên theo những cách sau: - "
   ]
  },
  {
   "cell_type": "markdown",
   "metadata": {},
   "source": [
    "## Sử dụng tích Decartes. - "
   ]
  },
  {
   "cell_type": "code",
   "execution_count": 2,
   "metadata": {},
   "outputs": [
    {
     "name": "stdout",
     "output_type": "stream",
     "text": [
      "Tích Descartes:\n",
      "(1, 'Nguyen Minh Hoang', 'May Tinh', 12, 6.7, 12, 'Giai tich')\n",
      "(1, 'Nguyen Minh Hoang', 'May Tinh', 12, 6.7, 26, 'Tin hoc')\n",
      "(1, 'Nguyen Minh Hoang', 'May Tinh', 12, 6.7, 34, 'Thong ke')\n",
      "(2, 'Tran Thi Lan', 'Kinh Te', 34, 9.2, 12, 'Giai tich')\n",
      "(2, 'Tran Thi Lan', 'Kinh Te', 34, 9.2, 26, 'Tin hoc')\n",
      "(2, 'Tran Thi Lan', 'Kinh Te', 34, 9.2, 34, 'Thong ke')\n",
      "(3, 'Pham Van Nam', 'Toan Tin', None, 7.9, 12, 'Giai tich')\n",
      "(3, 'Pham Van Nam', 'Toan Tin', None, 7.9, 26, 'Tin hoc')\n",
      "(3, 'Pham Van Nam', 'Toan Tin', None, 7.9, 34, 'Thong ke')\n",
      "(4, 'Le Thanh Huyen', 'Toan Tin', 20, 7.2, 12, 'Giai tich')\n",
      "(4, 'Le Thanh Huyen', 'Toan Tin', 20, 7.2, 26, 'Tin hoc')\n",
      "(4, 'Le Thanh Huyen', 'Toan Tin', 20, 7.2, 34, 'Thong ke')\n",
      "(5, 'Vu Quoc Anh', 'May Tinh', 24, 8.0, 12, 'Giai tich')\n",
      "(5, 'Vu Quoc Anh', 'May Tinh', 24, 8.0, 26, 'Tin hoc')\n",
      "(5, 'Vu Quoc Anh', 'May Tinh', 24, 8.0, 34, 'Thong ke')\n",
      "(6, 'Dang Thuy Linh', 'May Tinh', 24, 5.5, 12, 'Giai tich')\n",
      "(6, 'Dang Thuy Linh', 'May Tinh', 24, 5.5, 26, 'Tin hoc')\n",
      "(6, 'Dang Thuy Linh', 'May Tinh', 24, 5.5, 34, 'Thong ke')\n",
      "(7, 'Bui Tien Dung', 'Kinh Te', 34, 9.2, 12, 'Giai tich')\n",
      "(7, 'Bui Tien Dung', 'Kinh Te', 34, 9.2, 26, 'Tin hoc')\n",
      "(7, 'Bui Tien Dung', 'Kinh Te', 34, 9.2, 34, 'Thong ke')\n",
      "(8, 'Ho Ngoc Mai', 'Toan Tin', 20, 8.8, 12, 'Giai tich')\n",
      "(8, 'Ho Ngoc Mai', 'Toan Tin', 20, 8.8, 26, 'Tin hoc')\n",
      "(8, 'Ho Ngoc Mai', 'Toan Tin', 20, 8.8, 34, 'Thong ke')\n",
      "(9, 'Duong Huu Phuc', 'Kinh Te', None, 7.2, 12, 'Giai tich')\n",
      "(9, 'Duong Huu Phuc', 'Kinh Te', None, 7.2, 26, 'Tin hoc')\n",
      "(9, 'Duong Huu Phuc', 'Kinh Te', None, 7.2, 34, 'Thong ke')\n",
      "(10, 'Cao Thi Hanh', 'May Tinh', None, 7.0, 12, 'Giai tich')\n",
      "(10, 'Cao Thi Hanh', 'May Tinh', None, 7.0, 26, 'Tin hoc')\n",
      "(10, 'Cao Thi Hanh', 'May Tinh', None, 7.0, 34, 'Thong ke')\n"
     ]
    }
   ],
   "source": [
    "import sqlite3\n",
    "\n",
    "conn = sqlite3.connect(\"school.db\")\n",
    "cursor = conn.cursor()\n",
    "\n",
    "query = \"\"\"\n",
    "SELECT * FROM student, course;\n",
    "\"\"\"\n",
    "cursor.execute(query)\n",
    "\n",
    "print(\"Tích Descartes:\")\n",
    "for row in cursor.fetchall():\n",
    "    print(row)\n",
    "\n",
    "conn.close()\n"
   ]
  },
  {
   "cell_type": "markdown",
   "metadata": {},
   "source": [
    "## Sử dụng JOIN: INNER JOIN, LEFT JOIN, RIGHT JOIN, FULL OUTER JOIN. "
   ]
  },
  {
   "cell_type": "markdown",
   "metadata": {},
   "source": [
    "### INNER JOIN"
   ]
  },
  {
   "cell_type": "code",
   "execution_count": 3,
   "metadata": {},
   "outputs": [
    {
     "name": "stdout",
     "output_type": "stream",
     "text": [
      "INNER JOIN:\n",
      "(1, 'Nguyen Minh Hoang', 'May Tinh', 12, 6.7, 'Giai tich')\n",
      "(2, 'Tran Thi Lan', 'Kinh Te', 34, 9.2, 'Thong ke')\n",
      "(7, 'Bui Tien Dung', 'Kinh Te', 34, 9.2, 'Thong ke')\n"
     ]
    }
   ],
   "source": [
    "conn = sqlite3.connect(\"school.db\")\n",
    "cursor = conn.cursor()\n",
    "\n",
    "query = \"\"\"\n",
    "SELECT student.student_id, student.name, student.class, student.course_id, student.score, course.course_name\n",
    "FROM student\n",
    "INNER JOIN course ON student.course_id = course.id;\n",
    "\"\"\"\n",
    "cursor.execute(query)\n",
    "\n",
    "print(\"INNER JOIN:\")\n",
    "for row in cursor.fetchall():\n",
    "    print(row)\n",
    "\n",
    "conn.close()\n"
   ]
  },
  {
   "cell_type": "markdown",
   "metadata": {},
   "source": [
    "### LEFT JOIN"
   ]
  },
  {
   "cell_type": "code",
   "execution_count": 4,
   "metadata": {},
   "outputs": [
    {
     "name": "stdout",
     "output_type": "stream",
     "text": [
      "LEFT JOIN:\n",
      "(1, 'Nguyen Minh Hoang', 'May Tinh', 12, 6.7, 'Giai tich')\n",
      "(2, 'Tran Thi Lan', 'Kinh Te', 34, 9.2, 'Thong ke')\n",
      "(3, 'Pham Van Nam', 'Toan Tin', None, 7.9, None)\n",
      "(4, 'Le Thanh Huyen', 'Toan Tin', 20, 7.2, None)\n",
      "(5, 'Vu Quoc Anh', 'May Tinh', 24, 8.0, None)\n",
      "(6, 'Dang Thuy Linh', 'May Tinh', 24, 5.5, None)\n",
      "(7, 'Bui Tien Dung', 'Kinh Te', 34, 9.2, 'Thong ke')\n",
      "(8, 'Ho Ngoc Mai', 'Toan Tin', 20, 8.8, None)\n",
      "(9, 'Duong Huu Phuc', 'Kinh Te', None, 7.2, None)\n",
      "(10, 'Cao Thi Hanh', 'May Tinh', None, 7.0, None)\n"
     ]
    }
   ],
   "source": [
    "conn = sqlite3.connect(\"school.db\")\n",
    "cursor = conn.cursor()\n",
    "\n",
    "query = \"\"\"\n",
    "SELECT student.student_id, student.name, student.class, student.course_id, student.score, course.course_name\n",
    "FROM student\n",
    "LEFT JOIN course ON student.course_id = course.id;\n",
    "\"\"\"\n",
    "cursor.execute(query)\n",
    "\n",
    "print(\"LEFT JOIN:\")\n",
    "for row in cursor.fetchall():\n",
    "    print(row)\n",
    "\n",
    "conn.close()\n"
   ]
  },
  {
   "cell_type": "markdown",
   "metadata": {},
   "source": [
    "### RIGHT JOIN"
   ]
  },
  {
   "cell_type": "code",
   "execution_count": 5,
   "metadata": {},
   "outputs": [
    {
     "name": "stdout",
     "output_type": "stream",
     "text": [
      "RIGHT JOIN (mô phỏng bằng LEFT JOIN):\n",
      "(1, 'Nguyen Minh Hoang', 'May Tinh', 12, 6.7, 'Giai tich')\n",
      "(None, None, None, None, None, 'Tin hoc')\n",
      "(7, 'Bui Tien Dung', 'Kinh Te', 34, 9.2, 'Thong ke')\n",
      "(2, 'Tran Thi Lan', 'Kinh Te', 34, 9.2, 'Thong ke')\n"
     ]
    }
   ],
   "source": [
    "conn = sqlite3.connect(\"school.db\")\n",
    "cursor = conn.cursor()\n",
    "\n",
    "query = \"\"\"\n",
    "SELECT student.student_id, student.name, student.class, student.course_id, student.score, course.course_name\n",
    "FROM course\n",
    "LEFT JOIN student ON student.course_id = course.id;\n",
    "\"\"\"\n",
    "cursor.execute(query)\n",
    "\n",
    "print(\"RIGHT JOIN (mô phỏng bằng LEFT JOIN):\")\n",
    "for row in cursor.fetchall():\n",
    "    print(row)\n",
    "\n",
    "conn.close()\n"
   ]
  },
  {
   "cell_type": "markdown",
   "metadata": {},
   "source": [
    "### FULL OUTER JOIN"
   ]
  },
  {
   "cell_type": "code",
   "execution_count": 6,
   "metadata": {},
   "outputs": [
    {
     "name": "stdout",
     "output_type": "stream",
     "text": [
      "FULL OUTER JOIN (mô phỏng bằng UNION):\n",
      "(None, None, None, None, None, 'Tin hoc')\n",
      "(1, 'Nguyen Minh Hoang', 'May Tinh', 12, 6.7, 'Giai tich')\n",
      "(2, 'Tran Thi Lan', 'Kinh Te', 34, 9.2, 'Thong ke')\n",
      "(3, 'Pham Van Nam', 'Toan Tin', None, 7.9, None)\n",
      "(4, 'Le Thanh Huyen', 'Toan Tin', 20, 7.2, None)\n",
      "(5, 'Vu Quoc Anh', 'May Tinh', 24, 8.0, None)\n",
      "(6, 'Dang Thuy Linh', 'May Tinh', 24, 5.5, None)\n",
      "(7, 'Bui Tien Dung', 'Kinh Te', 34, 9.2, 'Thong ke')\n",
      "(8, 'Ho Ngoc Mai', 'Toan Tin', 20, 8.8, None)\n",
      "(9, 'Duong Huu Phuc', 'Kinh Te', None, 7.2, None)\n",
      "(10, 'Cao Thi Hanh', 'May Tinh', None, 7.0, None)\n"
     ]
    }
   ],
   "source": [
    "conn = sqlite3.connect(\"school.db\")\n",
    "cursor = conn.cursor()\n",
    "\n",
    "query = \"\"\"\n",
    "SELECT student.student_id, student.name, student.class, student.course_id, student.score, course.course_name\n",
    "FROM student\n",
    "LEFT JOIN course ON student.course_id = course.id\n",
    "UNION\n",
    "SELECT student.student_id, student.name, student.class, student.course_id, student.score, course.course_name\n",
    "FROM course\n",
    "LEFT JOIN student ON student.course_id = course.id;\n",
    "\"\"\"\n",
    "cursor.execute(query)\n",
    "\n",
    "print(\"FULL OUTER JOIN (mô phỏng bằng UNION):\")\n",
    "for row in cursor.fetchall():\n",
    "    print(row)\n",
    "\n",
    "conn.close()\n"
   ]
  },
  {
   "cell_type": "markdown",
   "metadata": {},
   "source": [
    "# 2. Hãy cập nhật những giá trị course_id còn thiếu trong bảng student bằng câu lệnh SQL, trong đó các giá trị được điền là những giá trị nằm trong bảng course  và loại bỏ những bản ghi tham gia những môn học không tồn tại bảng course. Sau đó hãy cho biết: "
   ]
  },
  {
   "cell_type": "code",
   "execution_count": 7,
   "metadata": {},
   "outputs": [],
   "source": [
    "import sqlite3\n",
    "import random\n",
    "\n",
    "conn = sqlite3.connect(\"school.db\")\n",
    "cursor = conn.cursor()\n",
    "\n",
    "# Lấy danh sách course_id có trong bảng course\n",
    "cursor.execute(\"SELECT id FROM course\")\n",
    "course_ids = [row[0] for row in cursor.fetchall()]\n",
    "\n",
    "# Cập nhật course_id bị thiếu bằng cách chọn ngẫu nhiên từ danh sách có sẵn\n",
    "for course_id in course_ids:\n",
    "    cursor.execute(\"\"\"\n",
    "    UPDATE student\n",
    "    SET course_id = ?\n",
    "    WHERE course_id IS NULL\n",
    "    \"\"\", (random.choice(course_ids),))\n",
    "\n",
    "# Xóa sinh viên có course_id không tồn tại trong bảng course\n",
    "cursor.execute(\"\"\"\n",
    "DELETE FROM student\n",
    "WHERE course_id NOT IN (SELECT id FROM course)\n",
    "\"\"\")\n",
    "\n",
    "conn.commit()\n",
    "conn.close()\n"
   ]
  },
  {
   "cell_type": "markdown",
   "metadata": {},
   "source": [
    "## a. Tổng số sinh viên, điểm trung bình của từng lớp. \n"
   ]
  },
  {
   "cell_type": "code",
   "execution_count": 8,
   "metadata": {},
   "outputs": [
    {
     "name": "stdout",
     "output_type": "stream",
     "text": [
      "Tổng số sinh viên và điểm trung bình của từng lớp:\n",
      "('Kinh Te', 3, 8.533333333333333)\n",
      "('May Tinh', 2, 6.85)\n",
      "('Toan Tin', 1, 7.9)\n"
     ]
    }
   ],
   "source": [
    "conn = sqlite3.connect(\"school.db\")\n",
    "cursor = conn.cursor()\n",
    "\n",
    "query = \"\"\"\n",
    "SELECT class, COUNT(student_id) AS total_students, AVG(score) AS avg_score\n",
    "FROM student\n",
    "GROUP BY class;\n",
    "\"\"\"\n",
    "cursor.execute(query)\n",
    "\n",
    "print(\"Tổng số sinh viên và điểm trung bình của từng lớp:\")\n",
    "for row in cursor.fetchall():\n",
    "    print(row)\n",
    "\n",
    "conn.close()\n"
   ]
  },
  {
   "cell_type": "markdown",
   "metadata": {},
   "source": [
    "## b. Tổng số sinh viên, điểm trung bình của từng môn học. \n"
   ]
  },
  {
   "cell_type": "code",
   "execution_count": 9,
   "metadata": {},
   "outputs": [
    {
     "name": "stdout",
     "output_type": "stream",
     "text": [
      "Tổng số sinh viên và điểm trung bình của từng môn học:\n",
      "('Giai tich', 1, 6.7)\n",
      "('Thong ke', 5, 8.1)\n"
     ]
    }
   ],
   "source": [
    "conn = sqlite3.connect(\"school.db\")\n",
    "cursor = conn.cursor()\n",
    "\n",
    "query = \"\"\"\n",
    "SELECT course.course_name, COUNT(student.student_id) AS total_students, AVG(student.score) AS avg_score\n",
    "FROM student\n",
    "JOIN course ON student.course_id = course.id\n",
    "GROUP BY course.course_name;\n",
    "\"\"\"\n",
    "cursor.execute(query)\n",
    "\n",
    "print(\"Tổng số sinh viên và điểm trung bình của từng môn học:\")\n",
    "for row in cursor.fetchall():\n",
    "    print(row)\n",
    "\n",
    "conn.close()\n"
   ]
  },
  {
   "cell_type": "markdown",
   "metadata": {},
   "source": [
    "## c. Phân loại thi đua theo số điểm của từng môn học biết: \n",
    "- i. Điểm TB ≥  9.0: Xuất sắc. \n",
    "- ii. 6.0 ≤ Điểm TB ≤ 8.9: Tốt. \n",
    "- iii. Điểm TB < 6.0: Kém. "
   ]
  },
  {
   "cell_type": "code",
   "execution_count": 10,
   "metadata": {},
   "outputs": [
    {
     "name": "stdout",
     "output_type": "stream",
     "text": [
      "Phân loại thi đua theo môn học:\n",
      "('Giai tich', 6.7, 'Tốt')\n",
      "('Thong ke', 8.1, 'Tốt')\n"
     ]
    }
   ],
   "source": [
    "conn = sqlite3.connect(\"school.db\")\n",
    "cursor = conn.cursor()\n",
    "\n",
    "query = \"\"\"\n",
    "SELECT course.course_name,\n",
    "       AVG(student.score) AS avg_score,\n",
    "       CASE \n",
    "           WHEN AVG(student.score) >= 9.0 THEN 'Xuất sắc'\n",
    "           WHEN AVG(student.score) BETWEEN 6.0 AND 8.9 THEN 'Tốt'\n",
    "           ELSE 'Kém'\n",
    "       END AS ranking\n",
    "FROM student\n",
    "JOIN course ON student.course_id = course.id\n",
    "GROUP BY course.course_name;\n",
    "\"\"\"\n",
    "cursor.execute(query)\n",
    "\n",
    "print(\"Phân loại thi đua theo môn học:\")\n",
    "for row in cursor.fetchall():\n",
    "    print(row)\n",
    "\n",
    "conn.close()\n"
   ]
  },
  {
   "cell_type": "markdown",
   "metadata": {},
   "source": [
    "# 3. Hãy xếp hạng sinh viên thông qua: "
   ]
  },
  {
   "cell_type": "markdown",
   "metadata": {},
   "source": [
    "## - a. Điểm số. "
   ]
  },
  {
   "cell_type": "code",
   "execution_count": 11,
   "metadata": {},
   "outputs": [
    {
     "name": "stdout",
     "output_type": "stream",
     "text": [
      "Xếp hạng sinh viên theo điểm số:\n",
      "Top: (2, 'Tran Thi Lan', 'Kinh Te', 34, 9.2, 1)\n",
      "Top: (7, 'Bui Tien Dung', 'Kinh Te', 34, 9.2, 1)\n",
      "Top: (3, 'Pham Van Nam', 'Toan Tin', 34, 7.9, 3)\n",
      "Bottom: (9, 'Duong Huu Phuc', 'Kinh Te', 34, 7.2, 4)\n",
      "Bottom: (10, 'Cao Thi Hanh', 'May Tinh', 34, 7.0, 5)\n",
      "Bottom: (1, 'Nguyen Minh Hoang', 'May Tinh', 12, 6.7, 6)\n"
     ]
    }
   ],
   "source": [
    "import sqlite3\n",
    "\n",
    "conn = sqlite3.connect(\"school.db\")\n",
    "cursor = conn.cursor()\n",
    "\n",
    "query = \"\"\"\n",
    "SELECT student_id, name, class, course_id, score,\n",
    "       RANK() OVER (ORDER BY score DESC) AS rank\n",
    "FROM student;\n",
    "\"\"\"\n",
    "cursor.execute(query)\n",
    "\n",
    "print(\"Xếp hạng sinh viên theo điểm số:\")\n",
    "students = cursor.fetchall()\n",
    "for row in students[:3]:  # Top 3\n",
    "    print(\"Top:\", row)\n",
    "for row in students[-3:]:  # Bottom 3\n",
    "    print(\"Bottom:\", row)\n",
    "\n",
    "conn.close()\n"
   ]
  },
  {
   "cell_type": "markdown",
   "metadata": {},
   "source": [
    "## - b. Điểm số theo lớp học. \n"
   ]
  },
  {
   "cell_type": "code",
   "execution_count": 12,
   "metadata": {},
   "outputs": [
    {
     "name": "stdout",
     "output_type": "stream",
     "text": [
      "Xếp hạng sinh viên theo lớp:\n",
      "Top: (2, 'Tran Thi Lan', 'Kinh Te', 34, 9.2, 1)\n",
      "Top: (7, 'Bui Tien Dung', 'Kinh Te', 34, 9.2, 1)\n",
      "Top: (9, 'Duong Huu Phuc', 'Kinh Te', 34, 7.2, 3)\n",
      "Bottom: (10, 'Cao Thi Hanh', 'May Tinh', 34, 7.0, 1)\n",
      "Bottom: (1, 'Nguyen Minh Hoang', 'May Tinh', 12, 6.7, 2)\n",
      "Bottom: (3, 'Pham Van Nam', 'Toan Tin', 34, 7.9, 1)\n"
     ]
    }
   ],
   "source": [
    "conn = sqlite3.connect(\"school.db\")\n",
    "cursor = conn.cursor()\n",
    "\n",
    "query = \"\"\"\n",
    "SELECT student_id, name, class, course_id, score,\n",
    "       RANK() OVER (PARTITION BY class ORDER BY score DESC) AS rank\n",
    "FROM student;\n",
    "\"\"\"\n",
    "cursor.execute(query)\n",
    "\n",
    "print(\"Xếp hạng sinh viên theo lớp:\")\n",
    "students = cursor.fetchall()\n",
    "for row in students[:3]:  # Top 3\n",
    "    print(\"Top:\", row)\n",
    "for row in students[-3:]:  # Bottom 3\n",
    "    print(\"Bottom:\", row)\n",
    "\n",
    "conn.close()\n"
   ]
  },
  {
   "cell_type": "markdown",
   "metadata": {},
   "source": [
    "## - c. Điểm số theo mã môn học. \n",
    "- và cho biết top 3 sinh viện đạt thứ hạng cao nhất, top 3 sinh viên đạt thứ hạng thấp nhất theo \n",
    "từng trường hợp trên. "
   ]
  },
  {
   "cell_type": "code",
   "execution_count": 13,
   "metadata": {},
   "outputs": [
    {
     "name": "stdout",
     "output_type": "stream",
     "text": [
      "Xếp hạng sinh viên theo môn học:\n",
      "Top: (1, 'Nguyen Minh Hoang', 'May Tinh', 12, 6.7, 'Giai tich', 1)\n",
      "Top: (2, 'Tran Thi Lan', 'Kinh Te', 34, 9.2, 'Thong ke', 1)\n",
      "Top: (7, 'Bui Tien Dung', 'Kinh Te', 34, 9.2, 'Thong ke', 1)\n",
      "Bottom: (3, 'Pham Van Nam', 'Toan Tin', 34, 7.9, 'Thong ke', 3)\n",
      "Bottom: (9, 'Duong Huu Phuc', 'Kinh Te', 34, 7.2, 'Thong ke', 4)\n",
      "Bottom: (10, 'Cao Thi Hanh', 'May Tinh', 34, 7.0, 'Thong ke', 5)\n"
     ]
    }
   ],
   "source": [
    "conn = sqlite3.connect(\"school.db\")\n",
    "cursor = conn.cursor()\n",
    "\n",
    "query = \"\"\"\n",
    "SELECT student.student_id, student.name, student.class, student.course_id, student.score, course.course_name,\n",
    "       RANK() OVER (PARTITION BY student.course_id ORDER BY student.score DESC) AS rank\n",
    "FROM student\n",
    "JOIN course ON student.course_id = course.id;\n",
    "\"\"\"\n",
    "cursor.execute(query)\n",
    "\n",
    "print(\"Xếp hạng sinh viên theo môn học:\")\n",
    "students = cursor.fetchall()\n",
    "for row in students[:3]:  # Top 3\n",
    "    print(\"Top:\", row)\n",
    "for row in students[-3:]:  # Bottom 3\n",
    "    print(\"Bottom:\", row)\n",
    "\n",
    "conn.close()\n"
   ]
  },
  {
   "cell_type": "markdown",
   "metadata": {},
   "source": [
    "# 4. Hãy bổ sung thêm một trường graduation_date có kiểu dữ liệu là DATETIME vào bảng student để xác định thời gian tốt nghiệp của từng bạn, trong đó thời gian tốt nghiệp được xác định bởi thời gian hiện tại cộng với số hạng tương ứng của bạn đó tính theo điểm số."
   ]
  },
  {
   "cell_type": "markdown",
   "metadata": {},
   "source": [
    "## 1.Thêm cột graduation_date vào bảng student"
   ]
  },
  {
   "cell_type": "code",
   "execution_count": 14,
   "metadata": {},
   "outputs": [
    {
     "name": "stdout",
     "output_type": "stream",
     "text": [
      "Đã thêm cột graduation_date vào bảng student.\n"
     ]
    }
   ],
   "source": [
    "import sqlite3\n",
    "\n",
    "conn = sqlite3.connect(\"school.db\")\n",
    "cursor = conn.cursor()\n",
    "\n",
    "# Thêm cột mới nếu chưa tồn tại\n",
    "cursor.execute(\"ALTER TABLE student ADD COLUMN graduation_date DATETIME;\")\n",
    "\n",
    "conn.commit()\n",
    "conn.close()\n",
    "\n",
    "print(\"Đã thêm cột graduation_date vào bảng student.\")\n"
   ]
  },
  {
   "cell_type": "markdown",
   "metadata": {},
   "source": [
    "## 2. Cập nhật graduation_date dựa trên thứ hạng điểm số"
   ]
  },
  {
   "cell_type": "markdown",
   "metadata": {},
   "source": [
    "- Sinh viên có điểm số cao hơn sẽ tốt nghiệp sớm hơn.\n",
    "- Ngày tốt nghiệp được tính bằng thời gian hiện tại + thứ hạng của sinh viên (tính theo điểm)."
   ]
  },
  {
   "cell_type": "code",
   "execution_count": 15,
   "metadata": {},
   "outputs": [
    {
     "name": "stdout",
     "output_type": "stream",
     "text": [
      "Đã cập nhật graduation_date cho từng sinh viên theo thứ hạng điểm số.\n"
     ]
    }
   ],
   "source": [
    "import sqlite3\n",
    "from datetime import datetime, timedelta\n",
    "\n",
    "conn = sqlite3.connect(\"school.db\")\n",
    "cursor = conn.cursor()\n",
    "\n",
    "# Lấy danh sách sinh viên theo thứ hạng điểm số\n",
    "query = \"\"\"\n",
    "SELECT student_id, RANK() OVER (ORDER BY score DESC) AS rank FROM student;\n",
    "\"\"\"\n",
    "cursor.execute(query)\n",
    "students = cursor.fetchall()\n",
    "\n",
    "# Cập nhật ngày tốt nghiệp: ngày hiện tại + rank ngày\n",
    "current_date = datetime.now()\n",
    "\n",
    "for student_id, rank in students:\n",
    "    graduation_date = current_date + timedelta(days=rank)  # Cộng số ngày tương ứng với rank\n",
    "    cursor.execute(\"UPDATE student SET graduation_date = ? WHERE student_id = ?\", (graduation_date, student_id))\n",
    "\n",
    "conn.commit()\n",
    "conn.close()\n",
    "\n",
    "print(\"Đã cập nhật graduation_date cho từng sinh viên theo thứ hạng điểm số.\")\n"
   ]
  }
 ],
 "metadata": {
  "kernelspec": {
   "display_name": "Python 3",
   "language": "python",
   "name": "python3"
  },
  "language_info": {
   "codemirror_mode": {
    "name": "ipython",
    "version": 3
   },
   "file_extension": ".py",
   "mimetype": "text/x-python",
   "name": "python",
   "nbconvert_exporter": "python",
   "pygments_lexer": "ipython3",
   "version": "3.11.9"
  }
 },
 "nbformat": 4,
 "nbformat_minor": 2
}
