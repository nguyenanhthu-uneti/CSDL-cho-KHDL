{
 "cells": [
  {
   "cell_type": "code",
   "execution_count": 45,
   "metadata": {},
   "outputs": [
    {
     "data": {
      "text/plain": [
       "<sqlite3.Cursor at 0x22e5ec243c0>"
      ]
     },
     "execution_count": 45,
     "metadata": {},
     "output_type": "execute_result"
    }
   ],
   "source": [
    "import sqlite3\n",
    "import pandas as pd\n",
    "\n",
    "# Kết nối database (hoặc tạo mới)\n",
    "conn = sqlite3.connect(':memory:')\n",
    "cursor = conn.cursor()\n",
    "\n",
    "# Tạo bảng course\n",
    "cursor.execute('''CREATE TABLE course (\n",
    "    id INTEGER PRIMARY KEY,\n",
    "    course_name TEXT\n",
    ")''')\n",
    "cursor.executemany('INSERT INTO course (id, course_name) VALUES (?, ?)', [\n",
    "    (12, 'Giai tich'),\n",
    "    (34, 'Thong ke'),\n",
    "    (26, 'Tin hoc')\n",
    "])\n",
    "\n",
    "# Tạo bảng student\n",
    "cursor.execute('''CREATE TABLE student (\n",
    "    student_id INTEGER PRIMARY KEY,\n",
    "    name TEXT,\n",
    "    class TEXT,\n",
    "    course_id INTEGER,\n",
    "    score REAL\n",
    ")''')\n",
    "cursor.executemany('INSERT INTO student (student_id, name, class, course_id, score) VALUES (?, ?, ?, ?, ?)', [\n",
    "    (1, 'Nguyen Minh Hoang', 'May Tinh', 12, 6.7),\n",
    "    (2, 'Tran Thi Lan', 'Kinh Te', 34, 9.2),\n",
    "    (3, 'Pham Van Nam', 'Toan Tin', None, 7.9),\n",
    "    (4, 'Le Thanh Huyen', 'Toan Tin', 20, 7.2),\n",
    "    (5, 'Vu Quoc Anh', 'May Tinh', 24, 8.0),\n",
    "    (6, 'Dang Thuy Linh', 'May Tinh', 24, 5.5),\n",
    "    (7, 'Bui Tien Dung', 'Kinh Te', 34, 9.2),\n",
    "    (8, 'Ho Ngoc Mai', 'Toan Tin', 20, 8.8),\n",
    "    (9, 'Duong Huu Phuc', 'Kinh Te', None, 7.2),\n",
    "    (10, 'Cao Thi Hanh', 'May Tinh', None, 7.0)\n",
    "])"
   ]
  },
  {
   "cell_type": "code",
   "execution_count": 54,
   "metadata": {},
   "outputs": [
    {
     "name": "stdout",
     "output_type": "stream",
     "text": [
      "Kết nối hai bảng bằng tích Descartes:\n",
      "    student_id               name     class  course_id  score  \\\n",
      "0            1  Nguyen Minh Hoang  May Tinh       12.0    6.7   \n",
      "1            1  Nguyen Minh Hoang  May Tinh       12.0    6.7   \n",
      "2            1  Nguyen Minh Hoang  May Tinh       12.0    6.7   \n",
      "3            2       Tran Thi Lan   Kinh Te       34.0    9.2   \n",
      "4            2       Tran Thi Lan   Kinh Te       34.0    9.2   \n",
      "5            2       Tran Thi Lan   Kinh Te       34.0    9.2   \n",
      "6            3       Pham Van Nam  Toan Tin        NaN    7.9   \n",
      "7            3       Pham Van Nam  Toan Tin        NaN    7.9   \n",
      "8            3       Pham Van Nam  Toan Tin        NaN    7.9   \n",
      "9            4     Le Thanh Huyen  Toan Tin        NaN    7.2   \n",
      "10           4     Le Thanh Huyen  Toan Tin        NaN    7.2   \n",
      "11           4     Le Thanh Huyen  Toan Tin        NaN    7.2   \n",
      "12           5        Vu Quoc Anh  May Tinh        NaN    8.0   \n",
      "13           5        Vu Quoc Anh  May Tinh        NaN    8.0   \n",
      "14           5        Vu Quoc Anh  May Tinh        NaN    8.0   \n",
      "15           6     Dang Thuy Linh  May Tinh        NaN    5.5   \n",
      "16           6     Dang Thuy Linh  May Tinh        NaN    5.5   \n",
      "17           6     Dang Thuy Linh  May Tinh        NaN    5.5   \n",
      "18           7      Bui Tien Dung   Kinh Te       34.0    9.2   \n",
      "19           7      Bui Tien Dung   Kinh Te       34.0    9.2   \n",
      "20           7      Bui Tien Dung   Kinh Te       34.0    9.2   \n",
      "21           8        Ho Ngoc Mai  Toan Tin        NaN    8.8   \n",
      "22           8        Ho Ngoc Mai  Toan Tin        NaN    8.8   \n",
      "23           8        Ho Ngoc Mai  Toan Tin        NaN    8.8   \n",
      "24           9     Duong Huu Phuc   Kinh Te        NaN    7.2   \n",
      "25           9     Duong Huu Phuc   Kinh Te        NaN    7.2   \n",
      "26           9     Duong Huu Phuc   Kinh Te        NaN    7.2   \n",
      "27          10       Cao Thi Hanh  May Tinh        NaN    7.0   \n",
      "28          10       Cao Thi Hanh  May Tinh        NaN    7.0   \n",
      "29          10       Cao Thi Hanh  May Tinh        NaN    7.0   \n",
      "\n",
      "        graduation_date  id course_name  \n",
      "0   2025-04-13 07:44:16  12   Giai tich  \n",
      "1   2025-04-13 07:44:16  26     Tin hoc  \n",
      "2   2025-04-13 07:44:16  34    Thong ke  \n",
      "3   2025-05-13 07:44:16  12   Giai tich  \n",
      "4   2025-05-13 07:44:16  26     Tin hoc  \n",
      "5   2025-05-13 07:44:16  34    Thong ke  \n",
      "6   2025-06-12 07:44:16  12   Giai tich  \n",
      "7   2025-06-12 07:44:16  26     Tin hoc  \n",
      "8   2025-06-12 07:44:16  34    Thong ke  \n",
      "9   2025-07-12 07:44:16  12   Giai tich  \n",
      "10  2025-07-12 07:44:16  26     Tin hoc  \n",
      "11  2025-07-12 07:44:16  34    Thong ke  \n",
      "12  2025-08-11 07:44:16  12   Giai tich  \n",
      "13  2025-08-11 07:44:16  26     Tin hoc  \n",
      "14  2025-08-11 07:44:16  34    Thong ke  \n",
      "15  2025-09-10 07:44:16  12   Giai tich  \n",
      "16  2025-09-10 07:44:16  26     Tin hoc  \n",
      "17  2025-09-10 07:44:16  34    Thong ke  \n",
      "18  2025-10-10 07:44:16  12   Giai tich  \n",
      "19  2025-10-10 07:44:16  26     Tin hoc  \n",
      "20  2025-10-10 07:44:16  34    Thong ke  \n",
      "21  2025-11-09 07:44:16  12   Giai tich  \n",
      "22  2025-11-09 07:44:16  26     Tin hoc  \n",
      "23  2025-11-09 07:44:16  34    Thong ke  \n",
      "24  2025-12-09 07:44:16  12   Giai tich  \n",
      "25  2025-12-09 07:44:16  26     Tin hoc  \n",
      "26  2025-12-09 07:44:16  34    Thong ke  \n",
      "27  2026-01-08 07:44:16  12   Giai tich  \n",
      "28  2026-01-08 07:44:16  26     Tin hoc  \n",
      "29  2026-01-08 07:44:16  34    Thong ke  \n"
     ]
    }
   ],
   "source": [
    "# Kết nối hai bảng bằng tích Descartes (CROSS JOIN)\n",
    "cross_join_query = \"SELECT * FROM student CROSS JOIN course\"\n",
    "cross_join_result = pd.read_sql(cross_join_query, conn)\n",
    "\n",
    "print(\"Kết nối hai bảng bằng tích Descartes:\")\n",
    "print(cross_join_result)\n"
   ]
  },
  {
   "cell_type": "code",
   "execution_count": 55,
   "metadata": {},
   "outputs": [
    {
     "name": "stdout",
     "output_type": "stream",
     "text": [
      "\n",
      "INNER JOIN Result:\n",
      "   student_id               name     class  course_id  score  \\\n",
      "0           1  Nguyen Minh Hoang  May Tinh         12    6.7   \n",
      "1           2       Tran Thi Lan   Kinh Te         34    9.2   \n",
      "2           7      Bui Tien Dung   Kinh Te         34    9.2   \n",
      "\n",
      "       graduation_date  id course_name  \n",
      "0  2025-04-13 07:44:16  12   Giai tich  \n",
      "1  2025-05-13 07:44:16  34    Thong ke  \n",
      "2  2025-10-10 07:44:16  34    Thong ke  \n",
      "\n",
      "LEFT JOIN Result:\n",
      "   student_id               name     class  course_id  score  \\\n",
      "0           1  Nguyen Minh Hoang  May Tinh       12.0    6.7   \n",
      "1           2       Tran Thi Lan   Kinh Te       34.0    9.2   \n",
      "2           3       Pham Van Nam  Toan Tin        NaN    7.9   \n",
      "3           4     Le Thanh Huyen  Toan Tin        NaN    7.2   \n",
      "4           5        Vu Quoc Anh  May Tinh        NaN    8.0   \n",
      "5           6     Dang Thuy Linh  May Tinh        NaN    5.5   \n",
      "6           7      Bui Tien Dung   Kinh Te       34.0    9.2   \n",
      "7           8        Ho Ngoc Mai  Toan Tin        NaN    8.8   \n",
      "8           9     Duong Huu Phuc   Kinh Te        NaN    7.2   \n",
      "9          10       Cao Thi Hanh  May Tinh        NaN    7.0   \n",
      "\n",
      "       graduation_date    id course_name  \n",
      "0  2025-04-13 07:44:16  12.0   Giai tich  \n",
      "1  2025-05-13 07:44:16  34.0    Thong ke  \n",
      "2  2025-06-12 07:44:16   NaN        None  \n",
      "3  2025-07-12 07:44:16   NaN        None  \n",
      "4  2025-08-11 07:44:16   NaN        None  \n",
      "5  2025-09-10 07:44:16   NaN        None  \n",
      "6  2025-10-10 07:44:16  34.0    Thong ke  \n",
      "7  2025-11-09 07:44:16   NaN        None  \n",
      "8  2025-12-09 07:44:16   NaN        None  \n",
      "9  2026-01-08 07:44:16   NaN        None  \n",
      "\n",
      "RIGHT JOIN (Simulation) Result:\n",
      "   id course_name  student_id               name     class  course_id  score  \\\n",
      "0  12   Giai tich         1.0  Nguyen Minh Hoang  May Tinh       12.0    6.7   \n",
      "1  26     Tin hoc         NaN               None      None        NaN    NaN   \n",
      "2  34    Thong ke         7.0      Bui Tien Dung   Kinh Te       34.0    9.2   \n",
      "3  34    Thong ke         2.0       Tran Thi Lan   Kinh Te       34.0    9.2   \n",
      "\n",
      "       graduation_date  \n",
      "0  2025-04-13 07:44:16  \n",
      "1                 None  \n",
      "2  2025-10-10 07:44:16  \n",
      "3  2025-05-13 07:44:16  \n",
      "\n",
      "FULL OUTER JOIN (Simulation) Result:\n",
      "    student_id               name     class          course_id     score  \\\n",
      "0            1  Nguyen Minh Hoang  May Tinh                 12       6.7   \n",
      "1            2       Tran Thi Lan   Kinh Te                 34       9.2   \n",
      "2            3       Pham Van Nam  Toan Tin               None       7.9   \n",
      "3            4     Le Thanh Huyen  Toan Tin               None       7.2   \n",
      "4            5        Vu Quoc Anh  May Tinh               None       8.0   \n",
      "5            6     Dang Thuy Linh  May Tinh               None       5.5   \n",
      "6            7      Bui Tien Dung   Kinh Te                 34       9.2   \n",
      "7            8        Ho Ngoc Mai  Toan Tin               None       8.8   \n",
      "8            9     Duong Huu Phuc   Kinh Te               None       7.2   \n",
      "9           10       Cao Thi Hanh  May Tinh               None       7.0   \n",
      "10          12          Giai tich         1  Nguyen Minh Hoang  May Tinh   \n",
      "11          26            Tin hoc      None               None      None   \n",
      "12          34           Thong ke         2       Tran Thi Lan   Kinh Te   \n",
      "13          34           Thong ke         7      Bui Tien Dung   Kinh Te   \n",
      "\n",
      "        graduation_date    id          course_name  \n",
      "0   2025-04-13 07:44:16  12.0            Giai tich  \n",
      "1   2025-05-13 07:44:16  34.0             Thong ke  \n",
      "2   2025-06-12 07:44:16   NaN                 None  \n",
      "3   2025-07-12 07:44:16   NaN                 None  \n",
      "4   2025-08-11 07:44:16   NaN                 None  \n",
      "5   2025-09-10 07:44:16   NaN                 None  \n",
      "6   2025-10-10 07:44:16  34.0             Thong ke  \n",
      "7   2025-11-09 07:44:16   NaN                 None  \n",
      "8   2025-12-09 07:44:16   NaN                 None  \n",
      "9   2026-01-08 07:44:16   NaN                 None  \n",
      "10                   12   6.7  2025-04-13 07:44:16  \n",
      "11                 None   NaN                 None  \n",
      "12                   34   9.2  2025-05-13 07:44:16  \n",
      "13                   34   9.2  2025-10-10 07:44:16  \n"
     ]
    }
   ],
   "source": [
    "# Cập nhật course_id bị thiếu\n",
    "cursor.execute('''UPDATE student SET course_id = NULL WHERE course_id NOT IN (SELECT id FROM course)''')\n",
    "\n",
    "# Kết nối bảng student và course với các loại JOIN\n",
    "joins = {\n",
    "    \"INNER JOIN\": \"SELECT * FROM student INNER JOIN course ON student.course_id = course.id\",\n",
    "    \"LEFT JOIN\": \"SELECT * FROM student LEFT JOIN course ON student.course_id = course.id\",\n",
    "    \"RIGHT JOIN (Simulation)\": \"SELECT * FROM course LEFT JOIN student ON student.course_id = course.id\",\n",
    "    \"FULL OUTER JOIN (Simulation)\": \"SELECT * FROM student LEFT JOIN course ON student.course_id = course.id UNION SELECT * FROM course LEFT JOIN student ON student.course_id = course.id\"\n",
    "}\n",
    "for join_type, query in joins.items():\n",
    "    print(f\"\\n{join_type} Result:\")\n",
    "    print(pd.read_sql(query, conn))"
   ]
  },
  {
   "cell_type": "code",
   "execution_count": 47,
   "metadata": {},
   "outputs": [
    {
     "name": "stdout",
     "output_type": "stream",
     "text": [
      "Thống kê theo lớp:\n",
      "          total_students  avg_score\n",
      "class                              \n",
      "Kinh Te                3   8.533333\n",
      "May Tinh               4   6.800000\n",
      "Toan Tin               3   7.966667\n"
     ]
    }
   ],
   "source": [
    "\n",
    "# Thống kê theo lớp học\n",
    "class_stats = df.groupby('class').agg({'student_id': 'count', 'score': 'mean'}).rename(columns={'student_id': 'total_students', 'score': 'avg_score'})\n",
    "print(\"Thống kê theo lớp:\")\n",
    "print(class_stats)"
   ]
  },
  {
   "cell_type": "code",
   "execution_count": 48,
   "metadata": {},
   "outputs": [
    {
     "name": "stdout",
     "output_type": "stream",
     "text": [
      "Thống kê theo môn học:\n",
      "             total_students  avg_score\n",
      "course_name                           \n",
      "Giai tich                 1        6.7\n",
      "Thong ke                  2        9.2\n"
     ]
    }
   ],
   "source": [
    "# Thống kê theo môn học\n",
    "course_stats = df.groupby('course_name').agg({'student_id': 'count', 'score': 'mean'}).rename(columns={'student_id': 'total_students', 'score': 'avg_score'})\n",
    "print(\"Thống kê theo môn học:\")\n",
    "print(course_stats)"
   ]
  },
  {
   "cell_type": "code",
   "execution_count": 49,
   "metadata": {},
   "outputs": [
    {
     "name": "stdout",
     "output_type": "stream",
     "text": [
      "Phân loại điểm:\n",
      "  course_name  avg_score classification\n",
      "0        None   7.371429            Tốt\n",
      "1   Giai tich   6.700000            Tốt\n",
      "2    Thong ke   9.200000       Xuất sắc\n"
     ]
    }
   ],
   "source": [
    "# Phân loại điểm\n",
    "classification_query = '''SELECT course.course_name, AVG(student.score) AS avg_score, \n",
    "CASE \n",
    "    WHEN AVG(student.score) >= 9.0 THEN 'Xuất sắc'\n",
    "    WHEN AVG(student.score) >= 6.0 THEN 'Tốt'\n",
    "    ELSE 'Kém' \n",
    "END AS classification\n",
    "FROM student LEFT JOIN course ON student.course_id = course.id GROUP BY course.course_name'''\n",
    "print(\"Phân loại điểm:\")\n",
    "print(pd.read_sql(classification_query, conn))"
   ]
  },
  {
   "cell_type": "code",
   "execution_count": 50,
   "metadata": {},
   "outputs": [
    {
     "name": "stdout",
     "output_type": "stream",
     "text": [
      "Xếp hạng sinh viên theo điểm số:\n",
      "   student_id           name     class course_name  score\n",
      "1           2   Tran Thi Lan   Kinh Te    Thong ke    9.2\n",
      "6           7  Bui Tien Dung   Kinh Te    Thong ke    9.2\n",
      "7           8    Ho Ngoc Mai  Toan Tin        None    8.8\n",
      "   student_id               name     class course_name  score\n",
      "9          10       Cao Thi Hanh  May Tinh        None    7.0\n",
      "0           1  Nguyen Minh Hoang  May Tinh   Giai tich    6.7\n",
      "5           6     Dang Thuy Linh  May Tinh        None    5.5\n"
     ]
    }
   ],
   "source": [
    "# Xếp hạng sinh viên theo điểm số\n",
    "df_ranked = df.sort_values(by='score', ascending=False)\n",
    "print(\"Xếp hạng sinh viên theo điểm số:\")\n",
    "print(df_ranked.head(3))  # Top 3\n",
    "print(df_ranked.tail(3))  # Bottom 3"
   ]
  },
  {
   "cell_type": "code",
   "execution_count": 51,
   "metadata": {},
   "outputs": [
    {
     "name": "stdout",
     "output_type": "stream",
     "text": [
      "Xếp hạng sinh viên theo lớp học:\n",
      "      class               name  score  rank\n",
      "0   Kinh Te       Tran Thi Lan    9.2     1\n",
      "1   Kinh Te      Bui Tien Dung    9.2     1\n",
      "2   Kinh Te     Duong Huu Phuc    7.2     3\n",
      "3  May Tinh        Vu Quoc Anh    8.0     1\n",
      "4  May Tinh       Cao Thi Hanh    7.0     2\n",
      "5  May Tinh  Nguyen Minh Hoang    6.7     3\n",
      "6  May Tinh     Dang Thuy Linh    5.5     4\n",
      "7  Toan Tin        Ho Ngoc Mai    8.8     1\n",
      "8  Toan Tin       Pham Van Nam    7.9     2\n",
      "9  Toan Tin     Le Thanh Huyen    7.2     3\n"
     ]
    }
   ],
   "source": [
    "# Xếp hạng sinh viên theo lớp học\n",
    "class_rank_query = '''SELECT class, name, score, RANK() OVER (PARTITION BY class ORDER BY score DESC) AS rank FROM student'''\n",
    "print(\"Xếp hạng sinh viên theo lớp học:\")\n",
    "print(pd.read_sql(class_rank_query, conn))"
   ]
  },
  {
   "cell_type": "code",
   "execution_count": 52,
   "metadata": {},
   "outputs": [
    {
     "name": "stdout",
     "output_type": "stream",
     "text": [
      "Xếp hạng sinh viên theo mã môn học:\n",
      "   course_id               name  score  rank\n",
      "0        NaN        Ho Ngoc Mai    8.8     1\n",
      "1        NaN        Vu Quoc Anh    8.0     2\n",
      "2        NaN       Pham Van Nam    7.9     3\n",
      "3        NaN     Le Thanh Huyen    7.2     4\n",
      "4        NaN     Duong Huu Phuc    7.2     4\n",
      "5        NaN       Cao Thi Hanh    7.0     6\n",
      "6        NaN     Dang Thuy Linh    5.5     7\n",
      "7       12.0  Nguyen Minh Hoang    6.7     1\n",
      "8       34.0       Tran Thi Lan    9.2     1\n",
      "9       34.0      Bui Tien Dung    9.2     1\n"
     ]
    }
   ],
   "source": [
    "# Xếp hạng sinh viên theo mã môn học\n",
    "course_rank_query = '''SELECT course_id, name, score, RANK() OVER (PARTITION BY course_id ORDER BY score DESC) AS rank FROM student'''\n",
    "print(\"Xếp hạng sinh viên theo mã môn học:\")\n",
    "print(pd.read_sql(course_rank_query, conn))\n"
   ]
  },
  {
   "cell_type": "code",
   "execution_count": 53,
   "metadata": {},
   "outputs": [
    {
     "name": "stdout",
     "output_type": "stream",
     "text": [
      "   student_id               name     class  course_id  score  \\\n",
      "0           1  Nguyen Minh Hoang  May Tinh       12.0    6.7   \n",
      "1           2       Tran Thi Lan   Kinh Te       34.0    9.2   \n",
      "2           3       Pham Van Nam  Toan Tin        NaN    7.9   \n",
      "3           4     Le Thanh Huyen  Toan Tin        NaN    7.2   \n",
      "4           5        Vu Quoc Anh  May Tinh        NaN    8.0   \n",
      "5           6     Dang Thuy Linh  May Tinh        NaN    5.5   \n",
      "6           7      Bui Tien Dung   Kinh Te       34.0    9.2   \n",
      "7           8        Ho Ngoc Mai  Toan Tin        NaN    8.8   \n",
      "8           9     Duong Huu Phuc   Kinh Te        NaN    7.2   \n",
      "9          10       Cao Thi Hanh  May Tinh        NaN    7.0   \n",
      "\n",
      "       graduation_date  \n",
      "0  2025-04-13 07:44:16  \n",
      "1  2025-05-13 07:44:16  \n",
      "2  2025-06-12 07:44:16  \n",
      "3  2025-07-12 07:44:16  \n",
      "4  2025-08-11 07:44:16  \n",
      "5  2025-09-10 07:44:16  \n",
      "6  2025-10-10 07:44:16  \n",
      "7  2025-11-09 07:44:16  \n",
      "8  2025-12-09 07:44:16  \n",
      "9  2026-01-08 07:44:16  \n"
     ]
    }
   ],
   "source": [
    "# Bổ sung trường graduation_date\n",
    "cursor.execute(\"ALTER TABLE student ADD COLUMN graduation_date DATETIME\")\n",
    "\n",
    "# Tính ngày tốt nghiệp giả định\n",
    "import datetime\n",
    "for idx, row in df_ranked.iterrows():\n",
    "    rank = df_ranked[df_ranked['student_id'] == row['student_id']].index[0] + 1\n",
    "    grad_date = datetime.datetime.now() + datetime.timedelta(days=int(rank) * 30)\n",
    "    cursor.execute(\"UPDATE student SET graduation_date = ? WHERE student_id = ?\", (grad_date.strftime(\"%Y-%m-%d %H:%M:%S\"), row['student_id']))\n",
    "\n",
    "\n",
    "# Hiển thị dữ liệu sau khi cập nhật\n",
    "final_query = \"SELECT * FROM student\"\n",
    "final_df = pd.read_sql(final_query, conn)\n",
    "print(final_df)\n"
   ]
  }
 ],
 "metadata": {
  "kernelspec": {
   "display_name": "base",
   "language": "python",
   "name": "python3"
  },
  "language_info": {
   "codemirror_mode": {
    "name": "ipython",
    "version": 3
   },
   "file_extension": ".py",
   "mimetype": "text/x-python",
   "name": "python",
   "nbconvert_exporter": "python",
   "pygments_lexer": "ipython3",
   "version": "3.12.7"
  }
 },
 "nbformat": 4,
 "nbformat_minor": 2
}
