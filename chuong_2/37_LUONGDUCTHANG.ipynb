{
 "cells": [
  {
   "cell_type": "code",
   "execution_count": 2,
   "metadata": {},
   "outputs": [],
   "source": [
    "import sqlite3\n",
    "import pandas as pd\n"
   ]
  },
  {
   "cell_type": "code",
   "execution_count": 3,
   "metadata": {},
   "outputs": [],
   "source": [
    "# Create a database in memory\n",
    "conn = sqlite3.connect(\"university.db\")\n",
    "cursor = conn.cursor()"
   ]
  },
  {
   "cell_type": "code",
   "execution_count": 4,
   "metadata": {},
   "outputs": [
    {
     "data": {
      "text/plain": [
       "<sqlite3.Cursor at 0x255fe0a0dc0>"
      ]
     },
     "execution_count": 4,
     "metadata": {},
     "output_type": "execute_result"
    }
   ],
   "source": [
    "# create a table\n",
    "cursor.execute(\"DROP TABLE IF EXISTS students\")\n",
    "cursor.execute(\n",
    "          '''CREATE TABLE students(\n",
    "          student_id INTEGER PRIMARY KEY,\n",
    "          name TEXT NOT NULL,\n",
    "          class TEXT NOT NULL,\n",
    "          course_id INTEGER,\n",
    "          score FLOAT NOT NULL\n",
    "          )'''\n",
    "          )\n",
    "\n"
   ]
  },
  {
   "cell_type": "code",
   "execution_count": 5,
   "metadata": {},
   "outputs": [],
   "source": [
    "cursor.execute(\"DROP TABLE IF EXISTS course\")\n",
    "\n",
    "cursor.execute(''' \n",
    "                CREATE TABLE course(\n",
    "                id INTERGER PRIMARY KEY,\n",
    "                course_name TEXT NOT NULL)''')\n",
    "\n",
    "conn.commit()"
   ]
  },
  {
   "cell_type": "code",
   "execution_count": 6,
   "metadata": {},
   "outputs": [
    {
     "data": {
      "text/plain": [
       "<function Connection.commit()>"
      ]
     },
     "execution_count": 6,
     "metadata": {},
     "output_type": "execute_result"
    }
   ],
   "source": [
    "cursor.executescript('''\n",
    "INSERT INTO students (student_id, name, class, course_id, score) VALUES\n",
    "(1, 'Nguyen Minh Hoang', 'May Tinh', 12, 6.7),\n",
    "(2, 'Tran Thi Lan', 'Kinh Te', 34, 9.2),\n",
    "(3, 'Pham Van Nam', 'Toan Tin',NULL ,7.9),\n",
    "(4, 'Le Thanh Huyen', 'Toan Tin', 20, 7.2),\n",
    "(5, 'Vu Quoc Anh', 'Toan Tin', 24, 8.0),\n",
    "(6, 'Dang Thuy Linh', 'May Tinh', 24, 8.0),\n",
    "(7, 'Bui Tien Dung', 'Kinh Te', 34, 9.2),\n",
    "(8, 'Ho Ngoc Mai', 'Toan Tin', 20, 8.8),\n",
    "(9, 'Dang Huu Phuoc', 'Kinh Te',NULL ,7.2),\n",
    "(10,'Cao Thi Hanh','May Tinh',NULL ,7.0);\n",
    "\n",
    "INSERT INTO course (id, course_name) VALUES\n",
    "(12,'Giai Tich'),\n",
    "(34, 'Thong Ke'),\n",
    "(26, 'Tin hoc');\n",
    "''')\n",
    "\n",
    "conn.commit"
   ]
  },
  {
   "cell_type": "code",
   "execution_count": 7,
   "metadata": {},
   "outputs": [
    {
     "name": "stdout",
     "output_type": "stream",
     "text": [
      "(1, 'Nguyen Minh Hoang', 'May Tinh', 12, 6.7)\n",
      "(2, 'Tran Thi Lan', 'Kinh Te', 34, 9.2)\n",
      "(3, 'Pham Van Nam', 'Toan Tin', None, 7.9)\n",
      "(4, 'Le Thanh Huyen', 'Toan Tin', 20, 7.2)\n",
      "(5, 'Vu Quoc Anh', 'Toan Tin', 24, 8.0)\n",
      "(6, 'Dang Thuy Linh', 'May Tinh', 24, 8.0)\n",
      "(7, 'Bui Tien Dung', 'Kinh Te', 34, 9.2)\n",
      "(8, 'Ho Ngoc Mai', 'Toan Tin', 20, 8.8)\n",
      "(9, 'Dang Huu Phuoc', 'Kinh Te', None, 7.2)\n",
      "(10, 'Cao Thi Hanh', 'May Tinh', None, 7.0)\n"
     ]
    }
   ],
   "source": [
    "cursor.execute(\"select * from students\")\n",
    "rows = cursor.fetchall()\n",
    "for row in rows:\n",
    "    print(row)"
   ]
  },
  {
   "cell_type": "code",
   "execution_count": 8,
   "metadata": {},
   "outputs": [
    {
     "name": "stdout",
     "output_type": "stream",
     "text": [
      "(12, 'Giai Tich')\n",
      "(34, 'Thong Ke')\n",
      "(26, 'Tin hoc')\n"
     ]
    }
   ],
   "source": [
    "cursor.execute(\"select * from course\")\n",
    "rows = cursor.fetchall()\n",
    "for row in rows:\n",
    "    print(row)"
   ]
  },
  {
   "cell_type": "code",
   "execution_count": 9,
   "metadata": {},
   "outputs": [
    {
     "name": "stdout",
     "output_type": "stream",
     "text": [
      "(1, 'Nguyen Minh Hoang', 'May Tinh', 12, 6.7, 12, 'Giai Tich')\n",
      "(1, 'Nguyen Minh Hoang', 'May Tinh', 12, 6.7, 34, 'Thong Ke')\n",
      "(1, 'Nguyen Minh Hoang', 'May Tinh', 12, 6.7, 26, 'Tin hoc')\n",
      "(2, 'Tran Thi Lan', 'Kinh Te', 34, 9.2, 12, 'Giai Tich')\n",
      "(2, 'Tran Thi Lan', 'Kinh Te', 34, 9.2, 34, 'Thong Ke')\n",
      "(2, 'Tran Thi Lan', 'Kinh Te', 34, 9.2, 26, 'Tin hoc')\n",
      "(3, 'Pham Van Nam', 'Toan Tin', None, 7.9, 12, 'Giai Tich')\n",
      "(3, 'Pham Van Nam', 'Toan Tin', None, 7.9, 34, 'Thong Ke')\n",
      "(3, 'Pham Van Nam', 'Toan Tin', None, 7.9, 26, 'Tin hoc')\n",
      "(4, 'Le Thanh Huyen', 'Toan Tin', 20, 7.2, 12, 'Giai Tich')\n",
      "(4, 'Le Thanh Huyen', 'Toan Tin', 20, 7.2, 34, 'Thong Ke')\n",
      "(4, 'Le Thanh Huyen', 'Toan Tin', 20, 7.2, 26, 'Tin hoc')\n",
      "(5, 'Vu Quoc Anh', 'Toan Tin', 24, 8.0, 12, 'Giai Tich')\n",
      "(5, 'Vu Quoc Anh', 'Toan Tin', 24, 8.0, 34, 'Thong Ke')\n",
      "(5, 'Vu Quoc Anh', 'Toan Tin', 24, 8.0, 26, 'Tin hoc')\n",
      "(6, 'Dang Thuy Linh', 'May Tinh', 24, 8.0, 12, 'Giai Tich')\n",
      "(6, 'Dang Thuy Linh', 'May Tinh', 24, 8.0, 34, 'Thong Ke')\n",
      "(6, 'Dang Thuy Linh', 'May Tinh', 24, 8.0, 26, 'Tin hoc')\n",
      "(7, 'Bui Tien Dung', 'Kinh Te', 34, 9.2, 12, 'Giai Tich')\n",
      "(7, 'Bui Tien Dung', 'Kinh Te', 34, 9.2, 34, 'Thong Ke')\n",
      "(7, 'Bui Tien Dung', 'Kinh Te', 34, 9.2, 26, 'Tin hoc')\n",
      "(8, 'Ho Ngoc Mai', 'Toan Tin', 20, 8.8, 12, 'Giai Tich')\n",
      "(8, 'Ho Ngoc Mai', 'Toan Tin', 20, 8.8, 34, 'Thong Ke')\n",
      "(8, 'Ho Ngoc Mai', 'Toan Tin', 20, 8.8, 26, 'Tin hoc')\n",
      "(9, 'Dang Huu Phuoc', 'Kinh Te', None, 7.2, 12, 'Giai Tich')\n",
      "(9, 'Dang Huu Phuoc', 'Kinh Te', None, 7.2, 34, 'Thong Ke')\n",
      "(9, 'Dang Huu Phuoc', 'Kinh Te', None, 7.2, 26, 'Tin hoc')\n",
      "(10, 'Cao Thi Hanh', 'May Tinh', None, 7.0, 12, 'Giai Tich')\n",
      "(10, 'Cao Thi Hanh', 'May Tinh', None, 7.0, 34, 'Thong Ke')\n",
      "(10, 'Cao Thi Hanh', 'May Tinh', None, 7.0, 26, 'Tin hoc')\n"
     ]
    }
   ],
   "source": [
    "''' kết nối hai bảng '''\n",
    "# 1. sử dụng Decartes\n",
    "cursor.execute(\"select * from students, course\")\n",
    "rows = cursor.fetchall()\n",
    "for row in rows:\n",
    "    print(row)"
   ]
  },
  {
   "cell_type": "code",
   "execution_count": 10,
   "metadata": {},
   "outputs": [
    {
     "name": "stdout",
     "output_type": "stream",
     "text": [
      "(1, 'Nguyen Minh Hoang', 'May Tinh', 12, 6.7, 12, 'Giai Tich')\n",
      "(2, 'Tran Thi Lan', 'Kinh Te', 34, 9.2, 34, 'Thong Ke')\n",
      "(7, 'Bui Tien Dung', 'Kinh Te', 34, 9.2, 34, 'Thong Ke')\n"
     ]
    }
   ],
   "source": [
    "# 2. sử dụng joins\n",
    "cursor.execute(\"select * from students,course where students.course_id = course.id\")\n",
    "rows = cursor.fetchall()\n",
    "for row in rows:\n",
    "               print(row)"
   ]
  },
  {
   "cell_type": "code",
   "execution_count": 11,
   "metadata": {},
   "outputs": [
    {
     "name": "stdout",
     "output_type": "stream",
     "text": [
      "(1, 'Nguyen Minh Hoang', 'May Tinh', 12, 6.7, 12, 'Giai Tich')\n",
      "(2, 'Tran Thi Lan', 'Kinh Te', 34, 9.2, 34, 'Thong Ke')\n",
      "(7, 'Bui Tien Dung', 'Kinh Te', 34, 9.2, 34, 'Thong Ke')\n"
     ]
    }
   ],
   "source": [
    "# sử dụng inner join == joins\n",
    "cursor.execute(\"select * from students inner join course on students.course_id = course.id\")\n",
    "rows = cursor.fetchall()\n",
    "for row in rows:\n",
    "    print(row)"
   ]
  },
  {
   "cell_type": "code",
   "execution_count": 12,
   "metadata": {},
   "outputs": [
    {
     "name": "stdout",
     "output_type": "stream",
     "text": [
      "(1, 'Nguyen Minh Hoang', 'May Tinh', 12, 6.7, 12, 'Giai Tich')\n",
      "(2, 'Tran Thi Lan', 'Kinh Te', 34, 9.2, 34, 'Thong Ke')\n",
      "(3, 'Pham Van Nam', 'Toan Tin', None, 7.9, None, None)\n",
      "(4, 'Le Thanh Huyen', 'Toan Tin', 20, 7.2, None, None)\n",
      "(5, 'Vu Quoc Anh', 'Toan Tin', 24, 8.0, None, None)\n",
      "(6, 'Dang Thuy Linh', 'May Tinh', 24, 8.0, None, None)\n",
      "(7, 'Bui Tien Dung', 'Kinh Te', 34, 9.2, 34, 'Thong Ke')\n",
      "(8, 'Ho Ngoc Mai', 'Toan Tin', 20, 8.8, None, None)\n",
      "(9, 'Dang Huu Phuoc', 'Kinh Te', None, 7.2, None, None)\n",
      "(10, 'Cao Thi Hanh', 'May Tinh', None, 7.0, None, None)\n"
     ]
    }
   ],
   "source": [
    "# sử dụng left join\n",
    "cursor.execute(\"select * from students left join course on students.course_id = course.id\")\n",
    "rows = cursor.fetchall()\n",
    "for row in rows:\n",
    "    print(row)"
   ]
  },
  {
   "cell_type": "code",
   "execution_count": 13,
   "metadata": {},
   "outputs": [
    {
     "name": "stdout",
     "output_type": "stream",
     "text": [
      "(1, 'Nguyen Minh Hoang', 'May Tinh', 12, 6.7, 12, 'Giai Tich')\n",
      "(2, 'Tran Thi Lan', 'Kinh Te', 34, 9.2, 34, 'Thong Ke')\n",
      "(7, 'Bui Tien Dung', 'Kinh Te', 34, 9.2, 34, 'Thong Ke')\n",
      "(None, None, None, None, None, 26, 'Tin hoc')\n"
     ]
    }
   ],
   "source": [
    "# sử dụng right join\n",
    "cursor.execute(\"select * from students right join course on students.course_id = course.id\")\n",
    "rows = cursor.fetchall()\n",
    "for row in rows:\n",
    "    print(row)"
   ]
  },
  {
   "cell_type": "code",
   "execution_count": 14,
   "metadata": {},
   "outputs": [
    {
     "name": "stdout",
     "output_type": "stream",
     "text": [
      "(1, 'Nguyen Minh Hoang', 'May Tinh', 12, 6.7, 12, 'Giai Tich')\n",
      "(2, 'Tran Thi Lan', 'Kinh Te', 34, 9.2, 34, 'Thong Ke')\n",
      "(3, 'Pham Van Nam', 'Toan Tin', None, 7.9, None, None)\n",
      "(4, 'Le Thanh Huyen', 'Toan Tin', 20, 7.2, None, None)\n",
      "(5, 'Vu Quoc Anh', 'Toan Tin', 24, 8.0, None, None)\n",
      "(6, 'Dang Thuy Linh', 'May Tinh', 24, 8.0, None, None)\n",
      "(7, 'Bui Tien Dung', 'Kinh Te', 34, 9.2, 34, 'Thong Ke')\n",
      "(8, 'Ho Ngoc Mai', 'Toan Tin', 20, 8.8, None, None)\n",
      "(9, 'Dang Huu Phuoc', 'Kinh Te', None, 7.2, None, None)\n",
      "(10, 'Cao Thi Hanh', 'May Tinh', None, 7.0, None, None)\n",
      "(None, None, None, None, None, 26, 'Tin hoc')\n"
     ]
    }
   ],
   "source": [
    "# sử dụng full outer  join\n",
    "cursor.execute(\"select * from students full outer join course on students.course_id = course.id\")\n",
    "rows = cursor.fetchall()\n",
    "for row in rows:\n",
    "    print(row)"
   ]
  },
  {
   "cell_type": "markdown",
   "metadata": {},
   "source": [
    "INNER JOIN: Chỉ lấy bản ghi có course_id = id\n",
    "LEFT JOIN: Giữ tất cả sinh viên, kể cả khi họ không có khóa học (course_name = NULL)\n",
    "RIGHT JOIN: Giữ tất cả khóa học, kể cả khi không có sinh viên nào (student_id = NULL)\n",
    "FULL OUTER JOIN: Giữ cả sinh viên và khóa học, ngay cả khi không khớp\n",
    "Dùng WHERE ... IS NULL để lọc ra các bản ghi không khớp"
   ]
  },
  {
   "cell_type": "code",
   "execution_count": 15,
   "metadata": {},
   "outputs": [],
   "source": [
    "cursor.execute(\"\"\"update students \n",
    "                    set course_id = (select id from course order by RANDOM() Limit 1) \n",
    "                    where course_id is null\"\"\")\n",
    "\n",
    "conn.commit()"
   ]
  },
  {
   "cell_type": "code",
   "execution_count": 16,
   "metadata": {},
   "outputs": [],
   "source": [
    "cursor.execute(\"\"\"\n",
    "                delete from students\n",
    "                where course_id not in (select id from course)\"\"\")\n",
    "conn.commit()"
   ]
  },
  {
   "cell_type": "code",
   "execution_count": 17,
   "metadata": {},
   "outputs": [
    {
     "name": "stdout",
     "output_type": "stream",
     "text": [
      "(1, 'Nguyen Minh Hoang', 'May Tinh', 12, 6.7)\n",
      "(2, 'Tran Thi Lan', 'Kinh Te', 34, 9.2)\n",
      "(3, 'Pham Van Nam', 'Toan Tin', 34, 7.9)\n",
      "(7, 'Bui Tien Dung', 'Kinh Te', 34, 9.2)\n",
      "(9, 'Dang Huu Phuoc', 'Kinh Te', 34, 7.2)\n",
      "(10, 'Cao Thi Hanh', 'May Tinh', 34, 7.0)\n"
     ]
    }
   ],
   "source": [
    "cursor.execute(\"\"\"\n",
    "                    select * \n",
    "                    from students\"\"\")\n",
    "rows = cursor.fetchall()\n",
    "\n",
    "for row in rows:\n",
    "    print(row)"
   ]
  },
  {
   "cell_type": "code",
   "execution_count": 18,
   "metadata": {},
   "outputs": [
    {
     "name": "stdout",
     "output_type": "stream",
     "text": [
      "Tổng số sinh viên, điểm trung bình của từng lớp học\n",
      "      Class  count_number  Average Score\n",
      "0   Kinh Te             3       8.533333\n",
      "1  May Tinh             2       6.850000\n",
      "2  Toan Tin             1       7.900000\n"
     ]
    }
   ],
   "source": [
    "# average score of each class\n",
    "cursor.execute(\"\"\"\n",
    "                select class,count(student_id) as count_number,avg(score)\n",
    "                from students\n",
    "                Group by class\"\"\")\n",
    "rows = cursor.fetchall()\n",
    "\n",
    "df = pd.DataFrame(rows, columns=[\"Class\",\"count_number\", \"Average Score\"])\n",
    "\n",
    "# In bảng đẹp hơn\n",
    "print(\"Tổng số sinh viên, điểm trung bình của từng lớp học\")\n",
    "print(df)"
   ]
  },
  {
   "cell_type": "code",
   "execution_count": 19,
   "metadata": {},
   "outputs": [
    {
     "name": "stdout",
     "output_type": "stream",
     "text": [
      "Tổng số sinh viên, điểm trung bình của từng môn học\n",
      "   course_id  count_number  Average Score course name\n",
      "0         12             1            6.7   Giai Tich\n",
      "1         34             5            8.1    Thong Ke\n"
     ]
    }
   ],
   "source": [
    "# average score of each subject\n",
    "cursor.execute(\"\"\"\n",
    "                select course_id,count(student_id) as count_number,avg(score), course_name\n",
    "                from students, course\n",
    "                where students.course_id = course.id\n",
    "                group by course_id\"\"\")\n",
    "rows = cursor.fetchall()\n",
    "\n",
    "df = pd.DataFrame(rows, columns=[\"course_id\",\"count_number\", \"Average Score\", \"course name\"])\n",
    "\n",
    "# In bảng đẹp hơn\n",
    "print(\"Tổng số sinh viên, điểm trung bình của từng môn học\")\n",
    "print(df)"
   ]
  },
  {
   "cell_type": "code",
   "execution_count": 20,
   "metadata": {},
   "outputs": [
    {
     "name": "stdout",
     "output_type": "stream",
     "text": [
      "   course_id  count_number  Average Score course name category\n",
      "0         12             1            6.7   Giai Tich      tot\n",
      "1         34             5            8.1    Thong Ke      tot\n"
     ]
    }
   ],
   "source": [
    "# classificaiton score with each subject \n",
    "# average score of each subject\n",
    "cursor.execute(\"\"\"\n",
    "                select course_id,count(student_id) as count_number,avg(score),course_name,\n",
    "                case\n",
    "                    when avg(score) >= 9.0 then \"xuat sac\"\n",
    "                    when avg(score) >= 6.0 and avg(score) <= 8.9 then \"tot\"\n",
    "                    else \"kem\"\n",
    "                end as \"category\"\n",
    "                from students, course\n",
    "                where students.course_id = course.id\n",
    "                group by course_id\"\"\")\n",
    "rows = cursor.fetchall()\n",
    "\n",
    "df = pd.DataFrame(rows, columns=[\"course_id\",\"count_number\", \"Average Score\", \"course name\",\"category\"])\n",
    "\n",
    "# In bảng đẹp hơn\n",
    "print(df)"
   ]
  },
  {
   "cell_type": "code",
   "execution_count": 21,
   "metadata": {
    "scrolled": true
   },
   "outputs": [
    {
     "name": "stdout",
     "output_type": "stream",
     "text": [
      "                name  score  ranked\n",
      "0      Bui Tien Dung    9.2       1\n",
      "1       Tran Thi Lan    9.2       2\n",
      "2       Pham Van Nam    7.9       3\n",
      "3     Dang Huu Phuoc    7.2       4\n",
      "4       Cao Thi Hanh    7.0       5\n",
      "5  Nguyen Minh Hoang    6.7       6\n",
      "\n",
      "\n",
      "3 sinh vien cao điểm nhất\n",
      "            name  score  ranked\n",
      "0  Bui Tien Dung    9.2       1\n",
      "1   Tran Thi Lan    9.2       2\n",
      "2   Pham Van Nam    7.9       3\n",
      "\n",
      "\n",
      "3 sinh viên thấp điểm nhất\n",
      "                name  score  ranked\n",
      "3     Dang Huu Phuoc    7.2       4\n",
      "4       Cao Thi Hanh    7.0       5\n",
      "5  Nguyen Minh Hoang    6.7       6\n"
     ]
    }
   ],
   "source": [
    "cursor.execute(\"\"\"\n",
    "                select name, score,\n",
    "                row_number() over (order by score DESC,name ASC) as ranked\n",
    "                from students\"\"\")\n",
    "rows = cursor.fetchall()\n",
    "\n",
    "df = pd.DataFrame(rows, columns=[\"name\", \"score\",\"ranked\"])\n",
    "\n",
    "# In bảng đẹp hơn\n",
    "print(df)\n",
    "print(\"\\n\")\n",
    "print(\"3 sinh vien cao điểm nhất\")\n",
    "print(df.iloc[:3,:])\n",
    "print(\"\\n\")\n",
    "print(\"3 sinh viên thấp điểm nhất\")\n",
    "print(df.iloc[-3:,:])"
   ]
  },
  {
   "cell_type": "code",
   "execution_count": 22,
   "metadata": {},
   "outputs": [
    {
     "name": "stdout",
     "output_type": "stream",
     "text": [
      "                name  score     class  ranked\n",
      "0      Bui Tien Dung    9.2   Kinh Te       1\n",
      "1       Tran Thi Lan    9.2   Kinh Te       2\n",
      "2     Dang Huu Phuoc    7.2   Kinh Te       3\n",
      "3       Cao Thi Hanh    7.0  May Tinh       1\n",
      "4  Nguyen Minh Hoang    6.7  May Tinh       2\n",
      "5       Pham Van Nam    7.9  Toan Tin       1\n",
      "\n",
      "\n",
      "3 sinh vien cao điểm nhất của từng lớp\n",
      "                name  score     class  ranked\n",
      "0      Bui Tien Dung    9.2   Kinh Te       1\n",
      "1       Tran Thi Lan    9.2   Kinh Te       2\n",
      "2     Dang Huu Phuoc    7.2   Kinh Te       3\n",
      "3       Cao Thi Hanh    7.0  May Tinh       1\n",
      "4  Nguyen Minh Hoang    6.7  May Tinh       2\n",
      "5       Pham Van Nam    7.9  Toan Tin       1\n"
     ]
    }
   ],
   "source": [
    "cursor.execute(\"\"\"\n",
    "                select name, score, class,\n",
    "                row_number() over (partition by class order by score DESC,name ASC) as ranked\n",
    "                from students\"\"\")\n",
    "rows = cursor.fetchall()\n",
    "\n",
    "df = pd.DataFrame(rows, columns=[\"name\", \"score\",\"class\",\"ranked\"])\n",
    "\n",
    "# In bảng đẹp hơn\n",
    "print(df)\n",
    "print(\"\\n\")\n",
    "print(\"3 sinh vien cao điểm nhất của từng lớp\")\n",
    "top_class = df[df[\"ranked\"] <= 3]\n",
    "print(top_class)"
   ]
  },
  {
   "cell_type": "code",
   "execution_count": 23,
   "metadata": {},
   "outputs": [
    {
     "name": "stdout",
     "output_type": "stream",
     "text": [
      "\n",
      "\n",
      "3 sinh viên thấp điểm nhất của từng lớp\n",
      "                name  score     class  ranked\n",
      "0     Dang Huu Phuoc    7.2   Kinh Te       1\n",
      "1      Bui Tien Dung    9.2   Kinh Te       2\n",
      "2       Tran Thi Lan    9.2   Kinh Te       3\n",
      "3  Nguyen Minh Hoang    6.7  May Tinh       1\n",
      "4       Cao Thi Hanh    7.0  May Tinh       2\n",
      "5       Pham Van Nam    7.9  Toan Tin       1\n"
     ]
    }
   ],
   "source": [
    "cursor.execute(\"\"\"\n",
    "                select name, score, class,\n",
    "                row_number() over (partition by class order by score ASC,name ASC) as ranked\n",
    "                from students\"\"\")\n",
    "rows = cursor.fetchall()\n",
    "\n",
    "df = pd.DataFrame(rows, columns=[\"name\", \"score\",\"class\",\"ranked\"])\n",
    "print(\"\\n\")\n",
    "print(\"3 sinh viên thấp điểm nhất của từng lớp\")\n",
    "bottom_class = df[df[\"ranked\"] <= 3]\n",
    "print(bottom_class)"
   ]
  },
  {
   "cell_type": "code",
   "execution_count": 24,
   "metadata": {},
   "outputs": [
    {
     "name": "stdout",
     "output_type": "stream",
     "text": [
      "                name  score  course_id  ranked\n",
      "0  Nguyen Minh Hoang    6.7         12       1\n",
      "1      Bui Tien Dung    9.2         34       1\n",
      "2       Tran Thi Lan    9.2         34       2\n",
      "3       Pham Van Nam    7.9         34       3\n",
      "4     Dang Huu Phuoc    7.2         34       4\n",
      "5       Cao Thi Hanh    7.0         34       5\n",
      "top 3 sinh vien cao điểm nhất theo mã môn học\n",
      "                name  score  course_id  ranked\n",
      "0  Nguyen Minh Hoang    6.7         12       1\n",
      "1      Bui Tien Dung    9.2         34       1\n",
      "2       Tran Thi Lan    9.2         34       2\n",
      "3       Pham Van Nam    7.9         34       3\n"
     ]
    }
   ],
   "source": [
    "cursor.execute(\"\"\"\n",
    "                select name, score, course_id,\n",
    "                row_number() over (partition by course_id order by score DESC,name ASC) as ranked\n",
    "                from students\"\"\")\n",
    "rows = cursor.fetchall()\n",
    "\n",
    "df = pd.DataFrame(rows, columns=[\"name\", \"score\",\"course_id\",\"ranked\"])\n",
    "\n",
    "# In bảng đẹp hơn\n",
    "print(df)\n",
    "\n",
    "print(\"top 3 sinh vien cao điểm nhất theo mã môn học\")\n",
    "top_course = df[df[\"ranked\"] <= 3]\n",
    "print(top_course)"
   ]
  },
  {
   "cell_type": "code",
   "execution_count": 25,
   "metadata": {},
   "outputs": [
    {
     "name": "stdout",
     "output_type": "stream",
     "text": [
      "top 3 sinh vien thấp điểm nhất theo mã môn học\n",
      "                name  score  course_id  ranked\n",
      "0  Nguyen Minh Hoang    6.7         12       1\n",
      "1       Cao Thi Hanh    7.0         34       1\n",
      "2     Dang Huu Phuoc    7.2         34       2\n",
      "3       Pham Van Nam    7.9         34       3\n"
     ]
    }
   ],
   "source": [
    "cursor.execute(\"\"\"\n",
    "                select name, score, course_id,\n",
    "                row_number() over (partition by course_id order by score ASC,name ASC) as ranked\n",
    "                from students\"\"\")\n",
    "rows = cursor.fetchall()\n",
    "\n",
    "df = pd.DataFrame(rows, columns=[\"name\", \"score\",\"course_id\",\"ranked\"])\n",
    "\n",
    "\n",
    "\n",
    "print(\"top 3 sinh vien thấp điểm nhất theo mã môn học\")\n",
    "top_course = df[df[\"ranked\"] <= 3]\n",
    "print(top_course)"
   ]
  }
 ],
 "metadata": {
  "kernelspec": {
   "display_name": "Python 3",
   "language": "python",
   "name": "python3"
  },
  "language_info": {
   "codemirror_mode": {
    "name": "ipython",
    "version": 3
   },
   "file_extension": ".py",
   "mimetype": "text/x-python",
   "name": "python",
   "nbconvert_exporter": "python",
   "pygments_lexer": "ipython3",
   "version": "3.12.6"
  }
 },
 "nbformat": 4,
 "nbformat_minor": 2
}
