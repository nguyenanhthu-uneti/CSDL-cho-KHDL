{
 "cells": [
  {
   "cell_type": "code",
   "execution_count": 1,
   "metadata": {},
   "outputs": [],
   "source": [
    "import sqlite3\n",
    "\n",
    "# Kết nối đến SQLite\n",
    "db = sqlite3.connect(\"school.db\")\n",
    "cursor = db.cursor()\n",
    "\n",
    "# Tạo bảng course\n",
    "cursor.execute('''\n",
    "CREATE TABLE IF NOT EXISTS course (\n",
    "    id INTEGER PRIMARY KEY,\n",
    "    course_name TEXT NOT NULL\n",
    ");\n",
    "''')\n",
    "\n",
    "# Tạo bảng student\n",
    "cursor.execute('''\n",
    "CREATE TABLE IF NOT EXISTS student (\n",
    "    student_id INTEGER PRIMARY KEY,\n",
    "    name TEXT NOT NULL,\n",
    "    class TEXT NOT NULL,\n",
    "    course_id INTEGER,\n",
    "    score REAL\n",
    ");\n",
    "''')\n",
    "\n",
    "# Lưu thay đổi và đóng kết nối\n",
    "db.commit()\n",
    "db.close()\n"
   ]
  },
  {
   "cell_type": "code",
   "execution_count": 2,
   "metadata": {},
   "outputs": [],
   "source": [
    "# Kết nối đến SQLite\n",
    "db = sqlite3.connect(\"school.db\")\n",
    "cursor = db.cursor()\n",
    "\n",
    "# Thêm dữ liệu vào bảng course\n",
    "cursor.executemany('''\n",
    "INSERT INTO course (id, course_name) VALUES (?, ?)''', [\n",
    "    (12, 'Giai tich'),\n",
    "    (34, 'Thong ke'),\n",
    "    (26, 'Tin hoc')\n",
    "])\n",
    "\n",
    "# Thêm dữ liệu vào bảng student\n",
    "cursor.executemany('''\n",
    "INSERT INTO student (student_id, name, class, course_id, score) VALUES (?, ?, ?, ?, ?)''', [\n",
    "    (1, 'Nguyen Minh Hoang', 'May Tinh', 12, 6.7),\n",
    "    (2, 'Tran Thi Lan', 'Kinh Te', 34, 9.2),\n",
    "    (3, 'Pham Van Nam', 'Toan Tin', None, 7.9),\n",
    "    (4, 'Le Thanh Huyen', 'Toan Tin', 20, 7.2),\n",
    "    (5, 'Vu Quoc Anh', 'May Tinh', 24, 8.0),\n",
    "    (6, 'Dang Thuy Linh', 'May Tinh', 24, 5.5),\n",
    "    (7, 'Bui Tien Dung', 'Kinh Te', 34, 9.2),\n",
    "    (8, 'Ho Ngoc Mai', 'Toan Tin', 20, 8.8),\n",
    "    (9, 'Duong Huu Phuc', 'Kinh Te', None, 7.2),\n",
    "    (10, 'Cao Thi Hanh', 'May Tinh', None, 7.0)\n",
    "])\n",
    "\n",
    "# Lưu thay đổi\n",
    "db.commit()\n"
   ]
  },
  {
   "cell_type": "code",
   "execution_count": 3,
   "metadata": {},
   "outputs": [
    {
     "name": "stdout",
     "output_type": "stream",
     "text": [
      "\n",
      "Bảng Student: [(1, 'Nguyen Minh Hoang', 'May Tinh', 12, 6.7), (2, 'Tran Thi Lan', 'Kinh Te', 34, 9.2), (3, 'Pham Van Nam', 'Toan Tin', None, 7.9), (4, 'Le Thanh Huyen', 'Toan Tin', 20, 7.2), (5, 'Vu Quoc Anh', 'May Tinh', 24, 8.0), (6, 'Dang Thuy Linh', 'May Tinh', 24, 5.5), (7, 'Bui Tien Dung', 'Kinh Te', 34, 9.2), (8, 'Ho Ngoc Mai', 'Toan Tin', 20, 8.8), (9, 'Duong Huu Phuc', 'Kinh Te', None, 7.2), (10, 'Cao Thi Hanh', 'May Tinh', None, 7.0)]\n",
      "\n",
      "Bảng Course: [(12, 'Giai tich'), (26, 'Tin hoc'), (34, 'Thong ke')]\n"
     ]
    }
   ],
   "source": [
    "\n",
    "# Hiển thị dữ liệu bảng student\n",
    "cursor.execute('SELECT * FROM student')\n",
    "students = cursor.fetchall()\n",
    "print(\"\\nBảng Student:\",students)\n",
    "\n",
    "# Hiển thị dữ liệu bảng course\n",
    "cursor.execute('SELECT * FROM course')\n",
    "courses = cursor.fetchall()\n",
    "print(\"\\nBảng Course:\",courses)"
   ]
  },
  {
   "cell_type": "code",
   "execution_count": 4,
   "metadata": {},
   "outputs": [
    {
     "name": "stdout",
     "output_type": "stream",
     "text": [
      "\n",
      "INNER JOIN Student và Course:\n",
      "(1, 'Nguyen Minh Hoang', 'May Tinh', 12, 6.7, 12, 'Giai tich')\n",
      "(2, 'Tran Thi Lan', 'Kinh Te', 34, 9.2, 34, 'Thong ke')\n",
      "(7, 'Bui Tien Dung', 'Kinh Te', 34, 9.2, 34, 'Thong ke')\n"
     ]
    }
   ],
   "source": [
    "# Truy vấn INNER JOIN\n",
    "cursor.execute('''\n",
    "SELECT * FROM student JOIN course ON student.course_id = course.id\n",
    "''')\n",
    "inner_join_results = cursor.fetchall()\n",
    "print(\"\\nINNER JOIN Student và Course:\")\n",
    "for row in inner_join_results:\n",
    "    print(row)\n",
    "\n"
   ]
  },
  {
   "cell_type": "code",
   "execution_count": 5,
   "metadata": {},
   "outputs": [
    {
     "name": "stdout",
     "output_type": "stream",
     "text": [
      "\n",
      "LEFT JOIN Student và Course:\n",
      "(1, 'Nguyen Minh Hoang', 'May Tinh', 12, 6.7, 12, 'Giai tich')\n",
      "(2, 'Tran Thi Lan', 'Kinh Te', 34, 9.2, 34, 'Thong ke')\n",
      "(3, 'Pham Van Nam', 'Toan Tin', None, 7.9, None, None)\n",
      "(4, 'Le Thanh Huyen', 'Toan Tin', 20, 7.2, None, None)\n",
      "(5, 'Vu Quoc Anh', 'May Tinh', 24, 8.0, None, None)\n",
      "(6, 'Dang Thuy Linh', 'May Tinh', 24, 5.5, None, None)\n",
      "(7, 'Bui Tien Dung', 'Kinh Te', 34, 9.2, 34, 'Thong ke')\n",
      "(8, 'Ho Ngoc Mai', 'Toan Tin', 20, 8.8, None, None)\n",
      "(9, 'Duong Huu Phuc', 'Kinh Te', None, 7.2, None, None)\n",
      "(10, 'Cao Thi Hanh', 'May Tinh', None, 7.0, None, None)\n"
     ]
    }
   ],
   "source": [
    "# Truy vấn LEFT JOIN\n",
    "cursor.execute('''\n",
    "SELECT * FROM student LEFT JOIN course ON student.course_id = course.id\n",
    "''')\n",
    "left_join_results = cursor.fetchall()\n",
    "print(\"\\nLEFT JOIN Student và Course:\")\n",
    "for row in left_join_results:\n",
    "    print(row)"
   ]
  },
  {
   "cell_type": "code",
   "execution_count": 6,
   "metadata": {},
   "outputs": [
    {
     "name": "stdout",
     "output_type": "stream",
     "text": [
      "\n",
      "RIGHT JOIN Student và Course:\n",
      "(12, 'Giai tich', 1, 'Nguyen Minh Hoang', 'May Tinh', 12, 6.7)\n",
      "(26, 'Tin hoc', None, None, None, None, None)\n",
      "(34, 'Thong ke', 7, 'Bui Tien Dung', 'Kinh Te', 34, 9.2)\n",
      "(34, 'Thong ke', 2, 'Tran Thi Lan', 'Kinh Te', 34, 9.2)\n"
     ]
    }
   ],
   "source": [
    "# Truy vấn RIGHT JOIN \n",
    "cursor.execute('''\n",
    "SELECT * FROM course LEFT JOIN student ON student.course_id = course.id\n",
    "''')\n",
    "right_join_results = cursor.fetchall()\n",
    "print(\"\\nRIGHT JOIN Student và Course:\")\n",
    "for row in right_join_results:\n",
    "    print(row)"
   ]
  },
  {
   "cell_type": "code",
   "execution_count": 7,
   "metadata": {},
   "outputs": [
    {
     "name": "stdout",
     "output_type": "stream",
     "text": [
      "\n",
      "FULL OUTER JOIN  Student và Course:\n",
      "(1, 'Nguyen Minh Hoang', 'May Tinh', 12, 6.7, 12, 'Giai tich')\n",
      "(2, 'Tran Thi Lan', 'Kinh Te', 34, 9.2, 34, 'Thong ke')\n",
      "(3, 'Pham Van Nam', 'Toan Tin', None, 7.9, None, None)\n",
      "(4, 'Le Thanh Huyen', 'Toan Tin', 20, 7.2, None, None)\n",
      "(5, 'Vu Quoc Anh', 'May Tinh', 24, 8.0, None, None)\n",
      "(6, 'Dang Thuy Linh', 'May Tinh', 24, 5.5, None, None)\n",
      "(7, 'Bui Tien Dung', 'Kinh Te', 34, 9.2, 34, 'Thong ke')\n",
      "(8, 'Ho Ngoc Mai', 'Toan Tin', 20, 8.8, None, None)\n",
      "(9, 'Duong Huu Phuc', 'Kinh Te', None, 7.2, None, None)\n",
      "(10, 'Cao Thi Hanh', 'May Tinh', None, 7.0, None, None)\n",
      "(12, 'Giai tich', 1, 'Nguyen Minh Hoang', 'May Tinh', 12, 6.7)\n",
      "(26, 'Tin hoc', None, None, None, None, None)\n",
      "(34, 'Thong ke', 2, 'Tran Thi Lan', 'Kinh Te', 34, 9.2)\n",
      "(34, 'Thong ke', 7, 'Bui Tien Dung', 'Kinh Te', 34, 9.2)\n"
     ]
    }
   ],
   "source": [
    "# Truy vấn  FULL OUTER JOIN \n",
    "cursor.execute('''\n",
    "SELECT * FROM student LEFT JOIN course ON student.course_id = course.id\n",
    "UNION\n",
    "SELECT * FROM course LEFT JOIN student ON student.course_id = course.id\n",
    "''')\n",
    "full_outer_join_results = cursor.fetchall()\n",
    "print(\"\\nFULL OUTER JOIN  Student và Course:\")\n",
    "for row in full_outer_join_results:\n",
    "    print(row)\n"
   ]
  },
  {
   "cell_type": "code",
   "execution_count": 8,
   "metadata": {},
   "outputs": [],
   "source": [
    "import sqlite3\n",
    "import random\n",
    "\n",
    "# Kết nối đến database\n",
    "db = sqlite3.connect(\"school.db\")\n",
    "cursor = db.cursor()\n",
    "\n",
    "# Lấy danh sách tất cả course_id hợp lệ\n",
    "cursor.execute(\"SELECT id FROM course\")\n",
    "course_ids = [row[0] for row in cursor.fetchall()]\n",
    "\n",
    "\n",
    "# Nếu có course_id hợp lệ, cập nhật các giá trị NULL\n",
    "if course_ids:\n",
    "    random_course_id = random.choice(course_ids)  # Chọn một ID ngẫu nhiên\n",
    "    cursor.execute(\"\"\"\n",
    "        UPDATE student \n",
    "        SET course_id = ?\n",
    "        WHERE course_id IS NULL\n",
    "    \"\"\", (random_course_id,))\n",
    "    db.commit()\n",
    "\n",
    "# Đóng kết nối\n",
    "db.close()"
   ]
  },
  {
   "cell_type": "code",
   "execution_count": 9,
   "metadata": {},
   "outputs": [],
   "source": [
    "import sqlite3\n",
    "\n",
    "# Kết nối đến database\n",
    "db = sqlite3.connect(\"school.db\")\n",
    "cursor = db.cursor()\n",
    "\n",
    "# Xóa các bản ghi có course_id không hợp lệ\n",
    "cursor.execute(\"\"\"\n",
    "    DELETE FROM student \n",
    "    WHERE course_id NOT IN (SELECT id FROM course)\n",
    "\"\"\")\n",
    "\n",
    "# Lưu thay đổi\n",
    "db.commit()\n",
    "db.close()"
   ]
  },
  {
   "cell_type": "code",
   "execution_count": 10,
   "metadata": {},
   "outputs": [
    {
     "name": "stdout",
     "output_type": "stream",
     "text": [
      "\n",
      "Bảng Student: [(1, 'Nguyen Minh Hoang', 'May Tinh', 12, 6.7), (2, 'Tran Thi Lan', 'Kinh Te', 34, 9.2), (3, 'Pham Van Nam', 'Toan Tin', 26, 7.9), (7, 'Bui Tien Dung', 'Kinh Te', 34, 9.2), (9, 'Duong Huu Phuc', 'Kinh Te', 26, 7.2), (10, 'Cao Thi Hanh', 'May Tinh', 26, 7.0)]\n",
      "\n",
      "Bảng Course: [(12, 'Giai tich'), (26, 'Tin hoc'), (34, 'Thong ke')]\n"
     ]
    }
   ],
   "source": [
    "# Kết nối đến database\n",
    "db = sqlite3.connect(\"school.db\")\n",
    "cursor = db.cursor()\n",
    "# Hiển thị dữ liệu bảng student\n",
    "cursor.execute('SELECT * FROM student')\n",
    "students = cursor.fetchall()\n",
    "print(\"\\nBảng Student:\",students)\n",
    "\n",
    "# Hiển thị dữ liệu bảng course\n",
    "cursor.execute('SELECT * FROM course')\n",
    "courses = cursor.fetchall()\n",
    "print(\"\\nBảng Course:\",courses)"
   ]
  },
  {
   "cell_type": "code",
   "execution_count": 11,
   "metadata": {},
   "outputs": [
    {
     "name": "stdout",
     "output_type": "stream",
     "text": [
      "Lớp: Kinh Te, Tổng sinh viên: 3, Điểm trung bình: 8.53\n",
      "Lớp: May Tinh, Tổng sinh viên: 2, Điểm trung bình: 6.85\n",
      "Lớp: Toan Tin, Tổng sinh viên: 1, Điểm trung bình: 7.90\n"
     ]
    }
   ],
   "source": [
    "# Kết nối đến database\n",
    "db = sqlite3.connect(\"school.db\")\n",
    "cursor = db.cursor()\n",
    "\n",
    "# Truy vấn tổng số sinh viên và điểm trung bình của từng lớp\n",
    "cursor.execute(\"\"\"\n",
    "    SELECT class, \n",
    "           COUNT(student_id) AS total_students, \n",
    "           AVG(score) AS avg_score\n",
    "    FROM student\n",
    "    GROUP BY class\n",
    "\"\"\")\n",
    "\n",
    "# Lấy kết quả và hiển thị\n",
    "results = cursor.fetchall()\n",
    "for row in results:\n",
    "    print(f\"Lớp: {row[0]}, Tổng sinh viên: {row[1]}, Điểm trung bình: {row[2]:.2f}\")\n",
    "\n",
    "db.close()"
   ]
  },
  {
   "cell_type": "code",
   "execution_count": 12,
   "metadata": {},
   "outputs": [
    {
     "name": "stdout",
     "output_type": "stream",
     "text": [
      "Môn học: Giai tich, Tổng sinh viên: 1, Điểm trung bình: 6.70\n",
      "Môn học: Thong ke, Tổng sinh viên: 2, Điểm trung bình: 9.20\n",
      "Môn học: Tin hoc, Tổng sinh viên: 3, Điểm trung bình: 7.37\n"
     ]
    }
   ],
   "source": [
    "import sqlite3\n",
    "\n",
    "# Kết nối đến database\n",
    "db = sqlite3.connect(\"school.db\")\n",
    "cursor = db.cursor()\n",
    "\n",
    "# Truy vấn tổng số sinh viên và điểm trung bình của từng môn học\n",
    "cursor.execute(\"\"\"\n",
    "    SELECT course.course_name, \n",
    "           COUNT(student.student_id) AS total_students, \n",
    "           COALESCE(AVG(student.score), NULL) AS avg_score\n",
    "    FROM course\n",
    "    LEFT JOIN student ON student.course_id = course.id\n",
    "    GROUP BY course.course_name\n",
    "\"\"\")\n",
    "\n",
    "# Lấy kết quả và hiển thị\n",
    "results = cursor.fetchall()\n",
    "for row in results:\n",
    "    avg_score = f\"{row[2]:.2f}\" if row[2] is not None else \"N/A\"\n",
    "    print(f\"Môn học: {row[0]}, Tổng sinh viên: {row[1]}, Điểm trung bình: {avg_score}\")\n",
    "\n",
    "db.close()\n"
   ]
  },
  {
   "cell_type": "code",
   "execution_count": 13,
   "metadata": {},
   "outputs": [
    {
     "name": "stdout",
     "output_type": "stream",
     "text": [
      "\n",
      "--- Danh sách môn học Xuất sắc (≥ 9.0) ---\n",
      "Môn học: Thong ke, Tổng sinh viên: 2, Điểm trung bình: 9.20\n",
      "\n",
      "--- Danh sách môn học Tốt (6.0 - 8.9) ---\n",
      "Môn học: Giai tich, Tổng sinh viên: 1, Điểm trung bình: 6.70\n",
      "Môn học: Tin hoc, Tổng sinh viên: 3, Điểm trung bình: 7.37\n",
      "\n",
      "--- Danh sách môn học Kém (< 6.0) ---\n"
     ]
    }
   ],
   "source": [
    "import sqlite3\n",
    "\n",
    "# Kết nối đến database\n",
    "db = sqlite3.connect(\"school.db\")\n",
    "cursor = db.cursor()\n",
    "\n",
    "# Hàm truy vấn và hiển thị kết quả\n",
    "def fetch_courses_by_score_range(condition, label):\n",
    "    query = f\"\"\"\n",
    "        SELECT course.course_name, \n",
    "               COUNT(student.student_id) AS total_students, \n",
    "               AVG(student.score) AS avg_score\n",
    "        FROM course\n",
    "        LEFT JOIN student ON student.course_id = course.id\n",
    "        GROUP BY course.course_name\n",
    "        HAVING {condition};\n",
    "    \"\"\"\n",
    "    cursor.execute(query)\n",
    "    results = cursor.fetchall()\n",
    "    \n",
    "    print(f\"\\n--- {label} ---\")\n",
    "    for row in results:\n",
    "        avg_score = f\"{row[2]:.2f}\" if row[2] is not None else \"N/A\"\n",
    "        print(f\"Môn học: {row[0]}, Tổng sinh viên: {row[1]}, Điểm trung bình: {avg_score}\")\n",
    "\n",
    "# Danh sách môn học theo các mức điểm trung bình\n",
    "fetch_courses_by_score_range(\"AVG(student.score) >= 9.0\", \"Danh sách môn học Xuất sắc (≥ 9.0)\")\n",
    "fetch_courses_by_score_range(\"AVG(student.score) BETWEEN 6.0 AND 8.9\", \"Danh sách môn học Tốt (6.0 - 8.9)\")\n",
    "fetch_courses_by_score_range(\"AVG(student.score) < 6.0\", \"Danh sách môn học Kém (< 6.0)\")\n",
    "\n",
    "# Đóng kết nối\n",
    "db.close()\n"
   ]
  },
  {
   "cell_type": "code",
   "execution_count": 14,
   "metadata": {},
   "outputs": [
    {
     "name": "stdout",
     "output_type": "stream",
     "text": [
      "\n",
      "--- Xếp hạng sinh viên theo điểm số chung ---\n",
      "(2, 'Tran Thi Lan', 'Kinh Te', 34, 9.2, 1)\n",
      "(7, 'Bui Tien Dung', 'Kinh Te', 34, 9.2, 1)\n",
      "(3, 'Pham Van Nam', 'Toan Tin', 26, 7.9, 2)\n",
      "(9, 'Duong Huu Phuc', 'Kinh Te', 26, 7.2, 3)\n",
      "(10, 'Cao Thi Hanh', 'May Tinh', 26, 7.0, 4)\n",
      "(1, 'Nguyen Minh Hoang', 'May Tinh', 12, 6.7, 5)\n",
      "\n",
      "--- Xếp hạng sinh viên theo điểm số trong từng lớp ---\n",
      "(2, 'Tran Thi Lan', 'Kinh Te', 34, 9.2, 1)\n",
      "(7, 'Bui Tien Dung', 'Kinh Te', 34, 9.2, 1)\n",
      "(9, 'Duong Huu Phuc', 'Kinh Te', 26, 7.2, 2)\n",
      "(10, 'Cao Thi Hanh', 'May Tinh', 26, 7.0, 1)\n",
      "(1, 'Nguyen Minh Hoang', 'May Tinh', 12, 6.7, 2)\n",
      "(3, 'Pham Van Nam', 'Toan Tin', 26, 7.9, 1)\n",
      "\n",
      "--- Xếp hạng sinh viên theo điểm số trong từng môn học ---\n",
      "(1, 'Nguyen Minh Hoang', 'May Tinh', 'Giai tich', 6.7, 1)\n",
      "(2, 'Tran Thi Lan', 'Kinh Te', 'Thong ke', 9.2, 1)\n",
      "(7, 'Bui Tien Dung', 'Kinh Te', 'Thong ke', 9.2, 1)\n",
      "(3, 'Pham Van Nam', 'Toan Tin', 'Tin hoc', 7.9, 1)\n",
      "(9, 'Duong Huu Phuc', 'Kinh Te', 'Tin hoc', 7.2, 2)\n",
      "(10, 'Cao Thi Hanh', 'May Tinh', 'Tin hoc', 7.0, 3)\n"
     ]
    }
   ],
   "source": [
    "import sqlite3\n",
    "\n",
    "# Kết nối đến database\n",
    "db = sqlite3.connect(\"school.db\")\n",
    "cursor = db.cursor()\n",
    "\n",
    "# Xếp hạng sinh viên theo điểm số chung\n",
    "cursor.execute(\"\"\"\n",
    "    SELECT student_id, name, class, course_id, score,\n",
    "           (SELECT COUNT(DISTINCT s2.score) FROM student s2 WHERE s2.score > s1.score) + 1 AS overall_rank\n",
    "    FROM student s1\n",
    "    ORDER BY score DESC;\n",
    "\"\"\")\n",
    "overall_rankings = cursor.fetchall()\n",
    "print(\"\\n--- Xếp hạng sinh viên theo điểm số chung ---\")\n",
    "for row in overall_rankings:\n",
    "    print(row)\n",
    "\n",
    "# Xếp hạng sinh viên theo điểm số trong từng lớp\n",
    "cursor.execute(\"\"\"\n",
    "    SELECT student_id, name, class, course_id, score,\n",
    "           (SELECT COUNT(DISTINCT s2.score) \n",
    "            FROM student s2 \n",
    "            WHERE s2.class = s1.class AND s2.score > s1.score) + 1 AS class_rank\n",
    "    FROM student s1\n",
    "    ORDER BY class, score DESC;\n",
    "\"\"\")\n",
    "class_rankings = cursor.fetchall()\n",
    "print(\"\\n--- Xếp hạng sinh viên theo điểm số trong từng lớp ---\")\n",
    "for row in class_rankings:\n",
    "    print(row)\n",
    "\n",
    "# Xếp hạng sinh viên theo điểm số trong từng môn học\n",
    "cursor.execute(\"\"\"\n",
    "    SELECT student.student_id, student.name, student.class, course.course_name, student.score,\n",
    "           (SELECT COUNT(DISTINCT s2.score)\n",
    "            FROM student s2 \n",
    "            WHERE s2.course_id = student.course_id AND s2.score > student.score) + 1 AS course_rank\n",
    "    FROM student \n",
    "    LEFT JOIN course ON student.course_id = course.id\n",
    "    ORDER BY course_name, score DESC;\n",
    "\"\"\")\n",
    "course_rankings = cursor.fetchall()\n",
    "print(\"\\n--- Xếp hạng sinh viên theo điểm số trong từng môn học ---\")\n",
    "for row in course_rankings:\n",
    "    print(row)\n",
    "\n",
    "# Đóng kết nối\n",
    "db.close()\n"
   ]
  },
  {
   "cell_type": "code",
   "execution_count": 15,
   "metadata": {},
   "outputs": [],
   "source": [
    "import sqlite3\n",
    "import pandas as pd\n",
    "\n",
    "# Kết nối đến database\n",
    "db = sqlite3.connect(\"school.db\")\n",
    "cursor = db.cursor()\n",
    "# Đọc dữ liệu từ bảng student và course\n",
    "students_df = pd.read_sql_query(\"SELECT * FROM student\", db)\n",
    "courses_df = pd.read_sql_query(\"SELECT * FROM course\", db)"
   ]
  },
  {
   "cell_type": "code",
   "execution_count": 16,
   "metadata": {},
   "outputs": [
    {
     "name": "stdout",
     "output_type": "stream",
     "text": [
      "Top 3 sinh viên có điểm cao nhất:\n",
      "   student_id            name     class  course_id  score\n",
      "0           2    Tran Thi Lan   Kinh Te         34    9.2\n",
      "1           7   Bui Tien Dung   Kinh Te         34    9.2\n",
      "2           3    Pham Van Nam  Toan Tin         26    7.9\n",
      "3           9  Duong Huu Phuc   Kinh Te         26    7.2\n",
      "\n",
      "Top 3 sinh viên có điểm thấp nhất:\n",
      "   student_id               name     class  course_id  score\n",
      "0           1  Nguyen Minh Hoang  May Tinh         12    6.7\n",
      "1          10       Cao Thi Hanh  May Tinh         26    7.0\n",
      "2           9     Duong Huu Phuc   Kinh Te         26    7.2\n"
     ]
    }
   ],
   "source": [
    "# Kết nối đến database\n",
    "db = sqlite3.connect(\"school.db\")\n",
    "cursor = db.cursor()\n",
    "def get_top_n_students(n=3, order='DESC'):\n",
    "    query = f'''\n",
    "    SELECT student_id, name, class, course_id, score\n",
    "    FROM student s1\n",
    "    WHERE (SELECT COUNT(DISTINCT s2.score) FROM student s2 WHERE s2.score {('>' if order == 'DESC' else '<')} s1.score) < {n}\n",
    "    ORDER BY score {order};\n",
    "    '''\n",
    "    return pd.read_sql_query(query, db)\n",
    "\n",
    "\n",
    "# Lấy top 3 sinh viên có điểm cao nhất/thấp nhất\n",
    "top_3_highest = get_top_n_students(3, 'DESC')\n",
    "top_3_lowest = get_top_n_students(3, 'ASC')\n",
    "\n",
    "# Đóng kết nối\n",
    "db.close()\n",
    "\n",
    "# Hiển thị kết quả\n",
    "print(\"Top 3 sinh viên có điểm cao nhất:\")\n",
    "print(top_3_highest)\n",
    "\n",
    "print(\"\\nTop 3 sinh viên có điểm thấp nhất:\")\n",
    "print(top_3_lowest)\n",
    "\n",
    "\n"
   ]
  },
  {
   "cell_type": "code",
   "execution_count": 23,
   "metadata": {},
   "outputs": [
    {
     "name": "stdout",
     "output_type": "stream",
     "text": [
      "\n",
      "Top 3 sinh viên có điểm cao nhất theo từng lớp:\n",
      "   student_id               name     class  course_id  score\n",
      "0           2       Tran Thi Lan   Kinh Te         34    9.2\n",
      "1           7      Bui Tien Dung   Kinh Te         34    9.2\n",
      "2           9     Duong Huu Phuc   Kinh Te         26    7.2\n",
      "3          10       Cao Thi Hanh  May Tinh         26    7.0\n",
      "4           1  Nguyen Minh Hoang  May Tinh         12    6.7\n",
      "5           3       Pham Van Nam  Toan Tin         26    7.9\n",
      "\n",
      "Top 3 sinh viên có điểm thấp nhất theo từng lớp:\n",
      "   student_id               name     class  course_id  score\n",
      "0           9     Duong Huu Phuc   Kinh Te         26    7.2\n",
      "1           2       Tran Thi Lan   Kinh Te         34    9.2\n",
      "2           7      Bui Tien Dung   Kinh Te         34    9.2\n",
      "3           1  Nguyen Minh Hoang  May Tinh         12    6.7\n",
      "4          10       Cao Thi Hanh  May Tinh         26    7.0\n",
      "5           3       Pham Van Nam  Toan Tin         26    7.9\n"
     ]
    }
   ],
   "source": [
    "# Kết nối đến database\n",
    "db = sqlite3.connect(\"school.db\")\n",
    "cursor = db.cursor()\n",
    "# Top 3 sinh viên có điểm cao nhất/thấp nhất theo từng lớp\n",
    "def get_top_n_students_by_class(n=3, order='DESC'):\n",
    "    query = f'''\n",
    "    SELECT student_id, name, class, course_id, score\n",
    "    FROM student s1\n",
    "    WHERE (\n",
    "        SELECT COUNT(*) \n",
    "        FROM student s2 \n",
    "        WHERE s2.class = s1.class AND s2.score {('>' if order == 'DESC' else '<')} s1.score\n",
    "    ) < {n}\n",
    "    ORDER BY class, score {order};\n",
    "    '''\n",
    "    return pd.read_sql_query(query, db)\n",
    "\n",
    "# Lấy top 3 sinh viên có điểm cao nhất/thấp nhất theo từng lớp\n",
    "top_3_by_class_highest = get_top_n_students_by_class(3, 'DESC')\n",
    "top_3_by_class_lowest = get_top_n_students_by_class(3, 'ASC')\n",
    "\n",
    "print(\"\\nTop 3 sinh viên có điểm cao nhất theo từng lớp:\")\n",
    "print(top_3_by_class_highest)\n",
    "\n",
    "print(\"\\nTop 3 sinh viên có điểm thấp nhất theo từng lớp:\")\n",
    "print(top_3_by_class_lowest)\n"
   ]
  },
  {
   "cell_type": "code",
   "execution_count": 18,
   "metadata": {},
   "outputs": [
    {
     "name": "stdout",
     "output_type": "stream",
     "text": [
      "\n",
      "Top 3 sinh viên có điểm cao nhất theo từng lớp:\n",
      "   student_id               name     class  course_id  score\n",
      "0           2       Tran Thi Lan   Kinh Te         34    9.2\n",
      "1           7      Bui Tien Dung   Kinh Te         34    9.2\n",
      "2           9     Duong Huu Phuc   Kinh Te         26    7.2\n",
      "3          10       Cao Thi Hanh  May Tinh         26    7.0\n",
      "4           1  Nguyen Minh Hoang  May Tinh         12    6.7\n",
      "5           3       Pham Van Nam  Toan Tin         26    7.9\n",
      "\n",
      "Top 3 sinh viên có điểm thấp nhất theo từng lớp:\n",
      "   student_id               name     class  course_id  score\n",
      "0           9     Duong Huu Phuc   Kinh Te         26    7.2\n",
      "1           2       Tran Thi Lan   Kinh Te         34    9.2\n",
      "2           7      Bui Tien Dung   Kinh Te         34    9.2\n",
      "3           1  Nguyen Minh Hoang  May Tinh         12    6.7\n",
      "4          10       Cao Thi Hanh  May Tinh         26    7.0\n",
      "5           3       Pham Van Nam  Toan Tin         26    7.9\n"
     ]
    }
   ],
   "source": [
    "# Kết nối đến database\n",
    "db = sqlite3.connect(\"school.db\")\n",
    "cursor = db.cursor()\n",
    "# Top 3 sinh viên có điểm cao nhất/thấp nhất theo từng lớp\n",
    "def get_top_n_students_by_class(n=3, order='DESC'):\n",
    "    query = f'''\n",
    "    SELECT student_id, name, class, course_id, score\n",
    "    FROM student s1\n",
    "    WHERE (\n",
    "        SELECT COUNT(*) \n",
    "        FROM student s2 \n",
    "        WHERE s2.class = s1.class AND s2.score {('>' if order == 'DESC' else '<')} s1.score\n",
    "    ) < {n}\n",
    "    ORDER BY class, score {order};\n",
    "    '''\n",
    "    return pd.read_sql_query(query, db)\n",
    "\n",
    "# Lấy top 3 sinh viên có điểm cao nhất/thấp nhất theo từng lớp\n",
    "top_3_by_class_highest = get_top_n_students_by_class(3, 'DESC')\n",
    "top_3_by_class_lowest = get_top_n_students_by_class(3, 'ASC')\n",
    "\n",
    "print(\"\\nTop 3 sinh viên có điểm cao nhất theo từng lớp:\")\n",
    "print(top_3_by_class_highest)\n",
    "\n",
    "print(\"\\nTop 3 sinh viên có điểm thấp nhất theo từng lớp:\")\n",
    "print(top_3_by_class_lowest)\n"
   ]
  },
  {
   "cell_type": "code",
   "execution_count": 19,
   "metadata": {},
   "outputs": [
    {
     "name": "stdout",
     "output_type": "stream",
     "text": [
      "\n",
      "Top 3 sinh viên có điểm cao nhất theo từng môn học:\n",
      "   student_id               name     class course_name  score\n",
      "0           1  Nguyen Minh Hoang  May Tinh   Giai tich    6.7\n",
      "1           2       Tran Thi Lan   Kinh Te    Thong ke    9.2\n",
      "2           7      Bui Tien Dung   Kinh Te    Thong ke    9.2\n",
      "3           3       Pham Van Nam  Toan Tin     Tin hoc    7.9\n",
      "4           9     Duong Huu Phuc   Kinh Te     Tin hoc    7.2\n",
      "5          10       Cao Thi Hanh  May Tinh     Tin hoc    7.0\n",
      "\n",
      "Top 3 sinh viên có điểm thấp nhất theo từng môn học:\n",
      "   student_id               name     class course_name  score\n",
      "0           1  Nguyen Minh Hoang  May Tinh   Giai tich    6.7\n",
      "1           2       Tran Thi Lan   Kinh Te    Thong ke    9.2\n",
      "2           7      Bui Tien Dung   Kinh Te    Thong ke    9.2\n",
      "3          10       Cao Thi Hanh  May Tinh     Tin hoc    7.0\n",
      "4           9     Duong Huu Phuc   Kinh Te     Tin hoc    7.2\n",
      "5           3       Pham Van Nam  Toan Tin     Tin hoc    7.9\n"
     ]
    }
   ],
   "source": [
    "# Top 3 sinh viên có điểm cao nhất/thấp nhất theo từng môn học\n",
    "def get_top_n_students_by_course(n=3, order='DESC'):\n",
    "    query = f'''\n",
    "    SELECT student_id, name, class, course_name, score\n",
    "    FROM student\n",
    "    JOIN course ON student.course_id = course.id\n",
    "    WHERE (\n",
    "        SELECT COUNT(*) \n",
    "        FROM student s2\n",
    "        WHERE s2.course_id = student.course_id AND s2.score {('>' if order == 'DESC' else '<')} student.score\n",
    "    ) < {n}\n",
    "    ORDER BY course_name, score {order};\n",
    "    '''\n",
    "    return pd.read_sql_query(query, db)\n",
    "# Lấy top 3 sinh viên có điểm cao nhất/thấp nhất theo từng môn học\n",
    "top_3_by_course_highest = get_top_n_students_by_course(3, 'DESC')\n",
    "top_3_by_course_lowest = get_top_n_students_by_course(3, 'ASC')\n",
    "print(\"\\nTop 3 sinh viên có điểm cao nhất theo từng môn học:\")\n",
    "print(top_3_by_course_highest)\n",
    "\n",
    "print(\"\\nTop 3 sinh viên có điểm thấp nhất theo từng môn học:\")\n",
    "print(top_3_by_course_lowest)\n"
   ]
  },
  {
   "cell_type": "code",
   "execution_count": null,
   "metadata": {},
   "outputs": [
    {
     "name": "stdout",
     "output_type": "stream",
     "text": [
      "   student_id               name  score graduation_date\n",
      "0           2       Tran Thi Lan    9.2      2025-04-12\n",
      "1           7      Bui Tien Dung    9.2      2025-04-12\n",
      "2           3       Pham Van Nam    7.9      2025-05-12\n",
      "3           9     Duong Huu Phuc    7.2      2025-06-11\n",
      "4          10       Cao Thi Hanh    7.0      2025-07-11\n",
      "5           1  Nguyen Minh Hoang    6.7      2025-08-10\n"
     ]
    }
   ],
   "source": [
    "import sqlite3\n",
    "import pandas as pd\n",
    "from datetime import datetime, timedelta\n",
    "\n",
    "# Kết nối đến database\n",
    "db = sqlite3.connect(\"school.db\")\n",
    "cursor = db.cursor()\n",
    "\n",
    "# Đọc dữ liệu từ bảng student\n",
    "students_df = pd.read_sql_query(\"SELECT student_id, name, score FROM student\", db)\n",
    "\n",
    "# Xếp hạng sinh viên theo điểm số (DENSE_RANK)\n",
    "students_df[\"ranking\"] = students_df[\"score\"].rank(method=\"dense\", ascending=False)\n",
    "\n",
    "\n",
    "# Cập nhật graduation_date: Lấy ngày hiện tại + số tháng tương ứng với thứ hạng\n",
    "current_date = datetime.now()\n",
    "students_df[\"graduation_date\"] = students_df[\"ranking\"].apply(lambda x: (current_date + timedelta(days=int(x) * 30)).strftime(\"%Y-%m-%d\"))\n",
    "\n",
    "# Cập nhật lại dữ liệu vào bảng student\n",
    "for index, row in students_df.iterrows():\n",
    "    cursor.execute(\"\"\"\n",
    "        UPDATE students\n",
    "        SET graduation_date = ?\n",
    "        WHERE student_id = ?;\n",
    "    \"\"\", (row[\"graduation_date\"], row[\"student_id\"]))\n",
    "\n",
    "# Lưu thay đổi\n",
    "db.commit()\n",
    "\n",
    "# Kiểm tra kết quả\n",
    "updated_df = pd.read_sql_query(\"SELECT student_id, name, score, graduation_date FROM student ORDER BY graduation_date\", db)\n",
    "db.close()\n",
    "\n",
    "# Hiển thị kết quả\n",
    "print(updated_df)\n"
   ]
  }
 ],
 "metadata": {
  "kernelspec": {
   "display_name": "Python 3",
   "language": "python",
   "name": "python3"
  },
  "language_info": {
   "codemirror_mode": {
    "name": "ipython",
    "version": 3
   },
   "file_extension": ".py",
   "mimetype": "text/x-python",
   "name": "python",
   "nbconvert_exporter": "python",
   "pygments_lexer": "ipython3",
   "version": "3.11.9"
  }
 },
 "nbformat": 4,
 "nbformat_minor": 2
}
