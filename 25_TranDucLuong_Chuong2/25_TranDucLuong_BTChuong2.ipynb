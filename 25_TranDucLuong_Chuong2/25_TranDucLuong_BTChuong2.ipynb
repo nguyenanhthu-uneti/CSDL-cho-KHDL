{
 "cells": [
  {
   "cell_type": "code",
   "execution_count": 1,
   "metadata": {},
   "outputs": [
    {
     "data": {
      "text/plain": [
       "<sqlite3.Cursor at 0x211ea8608f0>"
      ]
     },
     "execution_count": 1,
     "metadata": {},
     "output_type": "execute_result"
    }
   ],
   "source": [
    "import sqlite3\n",
    "\n",
    "# Kết nối đến database\n",
    "conn = sqlite3.connect(\"student.db\")\n",
    "cursor = conn.cursor()\n",
    "\n",
    "# Tạo bảng Student\n",
    "cursor.execute('''\n",
    "CREATE TABLE IF NOT EXISTS Student (\n",
    "    student_id INTEGER PRIMARY KEY,\n",
    "    name TEXT NOT NULL,\n",
    "    class TEXT NOT NULL,\n",
    "    course_id INTEGER,\n",
    "    score REAL\n",
    ");\n",
    "''')\n",
    "\n",
    "# Tạo bảng Course\n",
    "cursor.execute('''\n",
    "CREATE TABLE IF NOT EXISTS Course (\n",
    "    id INTEGER PRIMARY KEY,\n",
    "    course_name TEXT NOT NULL\n",
    ");\n",
    "''')\n",
    "\n",
    "# Dữ liệu mẫu cho Student\n",
    "students = [\n",
    "    (1, 'Nguyen Minh Hoang', 'May Tinh', 12, 6.7),\n",
    "    (2, 'Tran Thi Lan', 'Kinh Te', 34, 9.2),\n",
    "    (3, 'Pham Van Nam', 'Toan Tin', None, 7.9),\n",
    "    (4, 'Le Thanh Huyen', 'Toan Tin', 20, 7.2),\n",
    "    (5, 'Vu Quoc Anh', 'May Tinh', 24, 8.0),\n",
    "    (6, 'Dang Thuy Linh', 'May Tinh', 24, 5.5),\n",
    "    (7, 'Bui Tien Dung', 'Kinh Te', 34, 9.2),\n",
    "    (8, 'Ho Ngoc Mai', 'Toan Tin', 20, 8.8),\n",
    "    (9, 'Duong Huu Phuc', 'Kinh Te', None, 7.2),\n",
    "    (10, 'Cao Thi Hanh', 'May Tinh', None, 7.0)\n",
    "]\n",
    "\n",
    "# Dữ liệu mẫu cho Course\n",
    "courses = [\n",
    "    (12, 'Giai tich'),\n",
    "    (34, 'Thong ke'),\n",
    "    (26, 'Tin hoc')\n",
    "]\n",
    "\n",
    "# Chèn dữ liệu vào bảng\n",
    "cursor.executemany(\"INSERT OR IGNORE INTO Student VALUES (?, ?, ?, ?, ?)\", students)\n",
    "cursor.executemany(\"INSERT OR IGNORE INTO Course VALUES (?, ?)\", courses)\n"
   ]
  },
  {
   "cell_type": "code",
   "execution_count": 2,
   "metadata": {},
   "outputs": [
    {
     "name": "stdout",
     "output_type": "stream",
     "text": [
      "(1, 'Nguyen Minh Hoang', 'May Tinh', 12, 6.7)\n",
      "(2, 'Tran Thi Lan', 'Kinh Te', 34, 9.2)\n",
      "(3, 'Pham Van Nam', 'Toan Tin', None, 7.9)\n",
      "(4, 'Le Thanh Huyen', 'Toan Tin', 20, 7.2)\n",
      "(5, 'Vu Quoc Anh', 'May Tinh', 24, 8.0)\n",
      "(6, 'Dang Thuy Linh', 'May Tinh', 24, 5.5)\n",
      "(7, 'Bui Tien Dung', 'Kinh Te', 34, 9.2)\n",
      "(8, 'Ho Ngoc Mai', 'Toan Tin', 20, 8.8)\n",
      "(9, 'Duong Huu Phuc', 'Kinh Te', None, 7.2)\n",
      "(10, 'Cao Thi Hanh', 'May Tinh', None, 7.0)\n"
     ]
    }
   ],
   "source": [
    "cursor.execute(\"SELECT * FROM student;\")\n",
    "rows = cursor.fetchall()\n",
    "for row in rows: \n",
    "    print(row)"
   ]
  },
  {
   "cell_type": "code",
   "execution_count": 3,
   "metadata": {},
   "outputs": [
    {
     "data": {
      "text/plain": [
       "<sqlite3.Cursor at 0x211ea8608f0>"
      ]
     },
     "execution_count": 3,
     "metadata": {},
     "output_type": "execute_result"
    }
   ],
   "source": [
    "# Dữ liệu mẫu cho Course\n",
    "courses = [\n",
    "    (12, 'Giai tich'),\n",
    "    (34, 'Thong ke'),\n",
    "    (26, 'Tin hoc')\n",
    "]\n",
    "\n",
    "# Chèn dữ liệu vào bảng\n",
    "cursor.executemany(\"INSERT OR IGNORE INTO Student VALUES (?, ?, ?, ?, ?)\", students)\n",
    "cursor.executemany(\"INSERT OR IGNORE INTO Course VALUES (?, ?)\", courses)\n"
   ]
  },
  {
   "cell_type": "markdown",
   "metadata": {},
   "source": [
    "Descartes\n"
   ]
  },
  {
   "cell_type": "code",
   "execution_count": 4,
   "metadata": {},
   "outputs": [
    {
     "name": "stdout",
     "output_type": "stream",
     "text": [
      "(1, 'Nguyen Minh Hoang', 'May Tinh', 12, 6.7, 12, 'Giai tich')\n",
      "(1, 'Nguyen Minh Hoang', 'May Tinh', 12, 6.7, 26, 'Tin hoc')\n",
      "(1, 'Nguyen Minh Hoang', 'May Tinh', 12, 6.7, 34, 'Thong ke')\n",
      "(2, 'Tran Thi Lan', 'Kinh Te', 34, 9.2, 12, 'Giai tich')\n",
      "(2, 'Tran Thi Lan', 'Kinh Te', 34, 9.2, 26, 'Tin hoc')\n",
      "(2, 'Tran Thi Lan', 'Kinh Te', 34, 9.2, 34, 'Thong ke')\n",
      "(3, 'Pham Van Nam', 'Toan Tin', None, 7.9, 12, 'Giai tich')\n",
      "(3, 'Pham Van Nam', 'Toan Tin', None, 7.9, 26, 'Tin hoc')\n",
      "(3, 'Pham Van Nam', 'Toan Tin', None, 7.9, 34, 'Thong ke')\n",
      "(4, 'Le Thanh Huyen', 'Toan Tin', 20, 7.2, 12, 'Giai tich')\n",
      "(4, 'Le Thanh Huyen', 'Toan Tin', 20, 7.2, 26, 'Tin hoc')\n",
      "(4, 'Le Thanh Huyen', 'Toan Tin', 20, 7.2, 34, 'Thong ke')\n",
      "(5, 'Vu Quoc Anh', 'May Tinh', 24, 8.0, 12, 'Giai tich')\n",
      "(5, 'Vu Quoc Anh', 'May Tinh', 24, 8.0, 26, 'Tin hoc')\n",
      "(5, 'Vu Quoc Anh', 'May Tinh', 24, 8.0, 34, 'Thong ke')\n",
      "(6, 'Dang Thuy Linh', 'May Tinh', 24, 5.5, 12, 'Giai tich')\n",
      "(6, 'Dang Thuy Linh', 'May Tinh', 24, 5.5, 26, 'Tin hoc')\n",
      "(6, 'Dang Thuy Linh', 'May Tinh', 24, 5.5, 34, 'Thong ke')\n",
      "(7, 'Bui Tien Dung', 'Kinh Te', 34, 9.2, 12, 'Giai tich')\n",
      "(7, 'Bui Tien Dung', 'Kinh Te', 34, 9.2, 26, 'Tin hoc')\n",
      "(7, 'Bui Tien Dung', 'Kinh Te', 34, 9.2, 34, 'Thong ke')\n",
      "(8, 'Ho Ngoc Mai', 'Toan Tin', 20, 8.8, 12, 'Giai tich')\n",
      "(8, 'Ho Ngoc Mai', 'Toan Tin', 20, 8.8, 26, 'Tin hoc')\n",
      "(8, 'Ho Ngoc Mai', 'Toan Tin', 20, 8.8, 34, 'Thong ke')\n",
      "(9, 'Duong Huu Phuc', 'Kinh Te', None, 7.2, 12, 'Giai tich')\n",
      "(9, 'Duong Huu Phuc', 'Kinh Te', None, 7.2, 26, 'Tin hoc')\n",
      "(9, 'Duong Huu Phuc', 'Kinh Te', None, 7.2, 34, 'Thong ke')\n",
      "(10, 'Cao Thi Hanh', 'May Tinh', None, 7.0, 12, 'Giai tich')\n",
      "(10, 'Cao Thi Hanh', 'May Tinh', None, 7.0, 26, 'Tin hoc')\n",
      "(10, 'Cao Thi Hanh', 'May Tinh', None, 7.0, 34, 'Thong ke')\n"
     ]
    }
   ],
   "source": [
    "cursor.execute(\"SELECT * FROM Student, Course;\")\n",
    "rows = cursor.fetchall()\n",
    "for row in rows: \n",
    "    print(row)"
   ]
  },
  {
   "cell_type": "markdown",
   "metadata": {},
   "source": [
    "Inner Join\n"
   ]
  },
  {
   "cell_type": "code",
   "execution_count": 5,
   "metadata": {},
   "outputs": [
    {
     "name": "stdout",
     "output_type": "stream",
     "text": [
      "(1, 'Nguyen Minh Hoang', 'May Tinh', 12, 6.7, 'Giai tich')\n",
      "(2, 'Tran Thi Lan', 'Kinh Te', 34, 9.2, 'Thong ke')\n",
      "(7, 'Bui Tien Dung', 'Kinh Te', 34, 9.2, 'Thong ke')\n"
     ]
    }
   ],
   "source": [
    "cursor.execute(\"SELECT Student.*, Course.course_name FROM Student INNER JOIN Course ON Student.course_id = Course.id;\")\n",
    "rows = cursor.fetchall()\n",
    "for row in rows:\n",
    "    print(row)"
   ]
  },
  {
   "cell_type": "markdown",
   "metadata": {},
   "source": [
    "Left Join\n"
   ]
  },
  {
   "cell_type": "code",
   "execution_count": 6,
   "metadata": {},
   "outputs": [
    {
     "name": "stdout",
     "output_type": "stream",
     "text": [
      "(1, 'Nguyen Minh Hoang', 'May Tinh', 12, 6.7, 'Giai tich')\n",
      "(2, 'Tran Thi Lan', 'Kinh Te', 34, 9.2, 'Thong ke')\n",
      "(3, 'Pham Van Nam', 'Toan Tin', None, 7.9, None)\n",
      "(4, 'Le Thanh Huyen', 'Toan Tin', 20, 7.2, None)\n",
      "(5, 'Vu Quoc Anh', 'May Tinh', 24, 8.0, None)\n",
      "(6, 'Dang Thuy Linh', 'May Tinh', 24, 5.5, None)\n",
      "(7, 'Bui Tien Dung', 'Kinh Te', 34, 9.2, 'Thong ke')\n",
      "(8, 'Ho Ngoc Mai', 'Toan Tin', 20, 8.8, None)\n",
      "(9, 'Duong Huu Phuc', 'Kinh Te', None, 7.2, None)\n",
      "(10, 'Cao Thi Hanh', 'May Tinh', None, 7.0, None)\n"
     ]
    }
   ],
   "source": [
    "cursor.execute(\"SELECT Student.*, Course.course_name FROM Student LEFT JOIN Course ON Student.course_id = Course.id;\")\n",
    "rows = cursor.fetchall()\n",
    "for row in rows:\n",
    "    print(row)"
   ]
  },
  {
   "cell_type": "markdown",
   "metadata": {},
   "source": [
    "Right Join\n"
   ]
  },
  {
   "cell_type": "code",
   "execution_count": 7,
   "metadata": {},
   "outputs": [
    {
     "name": "stdout",
     "output_type": "stream",
     "text": [
      "(1, 'Nguyen Minh Hoang', 'May Tinh', 12, 6.7, 'Giai tich')\n",
      "(None, None, None, None, None, 'Tin hoc')\n",
      "(7, 'Bui Tien Dung', 'Kinh Te', 34, 9.2, 'Thong ke')\n",
      "(2, 'Tran Thi Lan', 'Kinh Te', 34, 9.2, 'Thong ke')\n"
     ]
    }
   ],
   "source": [
    "cursor.execute(\"SELECT Student.*, Course.course_name FROM Course LEFT JOIN Student ON Student.course_id = Course.id;\")\n",
    "rows = cursor.fetchall()\n",
    "for row in rows:\n",
    "    print(row)"
   ]
  },
  {
   "cell_type": "markdown",
   "metadata": {},
   "source": [
    "Full Outer Join"
   ]
  },
  {
   "cell_type": "code",
   "execution_count": 8,
   "metadata": {},
   "outputs": [
    {
     "name": "stdout",
     "output_type": "stream",
     "text": [
      "(None, None, None, None, None, 'Tin hoc')\n",
      "(1, 'Nguyen Minh Hoang', 'May Tinh', 12, 6.7, 'Giai tich')\n",
      "(2, 'Tran Thi Lan', 'Kinh Te', 34, 9.2, 'Thong ke')\n",
      "(3, 'Pham Van Nam', 'Toan Tin', None, 7.9, None)\n",
      "(4, 'Le Thanh Huyen', 'Toan Tin', 20, 7.2, None)\n",
      "(5, 'Vu Quoc Anh', 'May Tinh', 24, 8.0, None)\n",
      "(6, 'Dang Thuy Linh', 'May Tinh', 24, 5.5, None)\n",
      "(7, 'Bui Tien Dung', 'Kinh Te', 34, 9.2, 'Thong ke')\n",
      "(8, 'Ho Ngoc Mai', 'Toan Tin', 20, 8.8, None)\n",
      "(9, 'Duong Huu Phuc', 'Kinh Te', None, 7.2, None)\n",
      "(10, 'Cao Thi Hanh', 'May Tinh', None, 7.0, None)\n"
     ]
    }
   ],
   "source": [
    "cursor.execute(\"SELECT Student.*, Course.course_name FROM Student LEFT JOIN Course ON Student.course_id = Course.id UNION SELECT Student.*, Course.course_name FROM Course LEFT JOIN Student ON Student.course_id = Course.id;\")\n",
    "rows = cursor.fetchall()\n",
    "for row in rows:\n",
    "    print(row)"
   ]
  },
  {
   "cell_type": "code",
   "execution_count": 9,
   "metadata": {},
   "outputs": [
    {
     "name": "stdout",
     "output_type": "stream",
     "text": [
      "(1, 'Nguyen Minh Hoang', 'May Tinh', 12, 6.7)\n",
      "(2, 'Tran Thi Lan', 'Kinh Te', 34, 9.2)\n",
      "(3, 'Pham Van Nam', 'Toan Tin', 12, 7.9)\n",
      "(7, 'Bui Tien Dung', 'Kinh Te', 34, 9.2)\n",
      "(9, 'Duong Huu Phuc', 'Kinh Te', 12, 7.2)\n",
      "(10, 'Cao Thi Hanh', 'May Tinh', 12, 7.0)\n"
     ]
    }
   ],
   "source": [
    "cursor.execute(\"UPDATE Student SET course_id = (SELECT MIN(id) FROM Course) WHERE course_id IS NULL\")\n",
    "cursor.execute(\"DELETE FROM Student WHERE course_id NOT IN (SELECT id FROM Course)\")\n",
    "cursor.execute(\"select * from Student\")\n",
    "rows = cursor.fetchall()\n",
    "for row in rows:\n",
    "    print(row)"
   ]
  },
  {
   "cell_type": "code",
   "execution_count": 10,
   "metadata": {},
   "outputs": [
    {
     "name": "stdout",
     "output_type": "stream",
     "text": [
      "\n",
      "Tổng số sinh viên và điểm trung bình của từng lớp:\n",
      "('Kinh Te', 3, 8.533333333333333)\n",
      "('May Tinh', 2, 6.85)\n",
      "('Toan Tin', 1, 7.9)\n"
     ]
    }
   ],
   "source": [
    "# Truy vấn tổng số sinh viên và điểm trung bình của từng lớp\n",
    "cursor.execute(\"SELECT class, COUNT(student_id) AS total_students, AVG(score) AS average_score FROM Student GROUP BY class\")\n",
    "print(\"\\nTổng số sinh viên và điểm trung bình của từng lớp:\")\n",
    "rows = cursor.fetchall()\n",
    "for row in rows:\n",
    "    print(row)\n"
   ]
  },
  {
   "cell_type": "code",
   "execution_count": 11,
   "metadata": {},
   "outputs": [
    {
     "ename": "SyntaxError",
     "evalue": "EOL while scanning string literal (618036766.py, line 2)",
     "output_type": "error",
     "traceback": [
      "\u001b[1;36m  File \u001b[1;32m\"C:\\Users\\tranl\\AppData\\Local\\Temp\\ipykernel_23020\\618036766.py\"\u001b[1;36m, line \u001b[1;32m2\u001b[0m\n\u001b[1;33m    cursor.execute(\"SELECT course_id, AVG(score) AS average_score,\u001b[0m\n\u001b[1;37m                                                                   ^\u001b[0m\n\u001b[1;31mSyntaxError\u001b[0m\u001b[1;31m:\u001b[0m EOL while scanning string literal\n"
     ]
    }
   ],
   "source": [
    "# Phân loại thi đua theo điểm trung bình của từng môn học\n",
    "cursor.execute(\"SELECT course_id, AVG(score) AS average_score, \n",
    "                CASE \n",
    "                    WHEN AVG(score) >= 9.0 THEN 'Xuất sắc' \n",
    "                    WHEN AVG(score) >= 6.0 THEN 'Tốt' \n",
    "                    ELSE 'Kém' \n",
    "                END AS classification \n",
    "                FROM Student GROUP BY course_id\")\n",
    "print(\"\\nPhân loại thi đua theo điểm trung bình của từng môn học:\")\n",
    "rows = cursor.fetchall()\n",
    "for row in rows:\n",
    "    print(row)\n",
    "\n",
    "# Lưu thay đổi và đóng kết nối\n",
    "conn.commit()\n",
    "conn.close()\n",
    "\n",
    "print(\"\\nDữ liệu đã được cập nhật và hiển thị thành công từ SQLite!\")\n"
   ]
  },
  {
   "cell_type": "code",
   "execution_count": null,
   "metadata": {},
   "outputs": [
    {
     "name": "stdout",
     "output_type": "stream",
     "text": [
      "\n",
      "Top 3 sinh viên có điểm cao nhất:\n",
      "\n",
      "Top 3 sinh viên có điểm cao nhất:\n",
      "[(2, 'Tran Thi Lan', 9.2), (7, 'Bui Tien Dung', 9.2), (3, 'Pham Van Nam', 7.9)]\n"
     ]
    }
   ],
   "source": [
    "#3\n",
    "students = cursor.fetchall()\n",
    "for student in students:\n",
    "    print(student)\n",
    "\n",
    "# Xếp hạng sinh viên theo điểm số chung\n",
    "print(\"\\nTop 3 sinh viên có điểm cao nhất:\")\n",
    "print(\"\\nTop 3 sinh viên có điểm cao nhất:\")\n",
    "cursor.execute(\"\"\"\n",
    "    SELECT student_id, name, score \n",
    "    FROM Student \n",
    "    ORDER BY score DESC \n",
    "    LIMIT 3\n",
    "\"\"\")\n",
    "print(cursor.fetchall())\n"
   ]
  },
  {
   "cell_type": "code",
   "execution_count": 13,
   "metadata": {},
   "outputs": [
    {
     "name": "stdout",
     "output_type": "stream",
     "text": [
      "\n",
      "Top 3 sinh viên có điểm thấp nhất:\n",
      "[(1, 'Nguyen Minh Hoang', 6.7), (10, 'Cao Thi Hanh', 7.0), (9, 'Duong Huu Phuc', 7.2)]\n"
     ]
    }
   ],
   "source": [
    "print(\"\\nTop 3 sinh viên có điểm thấp nhất:\")\n",
    "cursor.execute(\"\"\"\n",
    "    SELECT student_id, name, score \n",
    "    FROM Student \n",
    "    ORDER BY score ASC \n",
    "    LIMIT 3\n",
    "\"\"\")\n",
    "print(cursor.fetchall())\n"
   ]
  },
  {
   "cell_type": "code",
   "execution_count": 14,
   "metadata": {},
   "outputs": [
    {
     "name": "stdout",
     "output_type": "stream",
     "text": [
      "\n",
      "Top 3 sinh viên có điểm cao nhất trong từng lớp:\n",
      "[(2, 'Tran Thi Lan', 'Kinh Te', 9.2), (7, 'Bui Tien Dung', 'Kinh Te', 9.2), (9, 'Duong Huu Phuc', 'Kinh Te', 7.2), (10, 'Cao Thi Hanh', 'May Tinh', 7.0), (1, 'Nguyen Minh Hoang', 'May Tinh', 6.7), (3, 'Pham Van Nam', 'Toan Tin', 7.9)]\n"
     ]
    }
   ],
   "source": [
    "# Xếp hạng sinh viên theo lớp học\n",
    "print(\"\\nTop 3 sinh viên có điểm cao nhất trong từng lớp:\")\n",
    "cursor.execute(\"\"\"\n",
    "    SELECT student_id, name, class, score \n",
    "    FROM (\n",
    "        SELECT student_id, name, class, score, \n",
    "               RANK() OVER (PARTITION BY class ORDER BY score DESC) AS rank_high \n",
    "        FROM Student\n",
    "    ) WHERE rank_high <= 3\n",
    "\"\"\")\n",
    "print(cursor.fetchall())"
   ]
  },
  {
   "cell_type": "code",
   "execution_count": 15,
   "metadata": {},
   "outputs": [
    {
     "name": "stdout",
     "output_type": "stream",
     "text": [
      "\n",
      "Top 3 sinh viên có điểm thấp nhất trong từng lớp:\n",
      "[(9, 'Duong Huu Phuc', 'Kinh Te', 7.2), (2, 'Tran Thi Lan', 'Kinh Te', 9.2), (7, 'Bui Tien Dung', 'Kinh Te', 9.2), (1, 'Nguyen Minh Hoang', 'May Tinh', 6.7), (10, 'Cao Thi Hanh', 'May Tinh', 7.0), (3, 'Pham Van Nam', 'Toan Tin', 7.9)]\n"
     ]
    }
   ],
   "source": [
    "print(\"\\nTop 3 sinh viên có điểm thấp nhất trong từng lớp:\")\n",
    "cursor.execute(\"\"\"\n",
    "    SELECT student_id, name, class, score \n",
    "    FROM (\n",
    "        SELECT student_id, name, class, score, \n",
    "               RANK() OVER (PARTITION BY class ORDER BY score ASC) AS rank_low \n",
    "        FROM Student\n",
    "    ) WHERE rank_low <= 3\n",
    "\"\"\")\n",
    "print(cursor.fetchall())\n"
   ]
  },
  {
   "cell_type": "code",
   "execution_count": 16,
   "metadata": {},
   "outputs": [
    {
     "name": "stdout",
     "output_type": "stream",
     "text": [
      "\n",
      "Top 3 sinh viên có điểm cao nhất trong từng môn học:\n",
      "[(3, 'Pham Van Nam', 12, 7.9), (9, 'Duong Huu Phuc', 12, 7.2), (10, 'Cao Thi Hanh', 12, 7.0), (2, 'Tran Thi Lan', 34, 9.2), (7, 'Bui Tien Dung', 34, 9.2)]\n"
     ]
    }
   ],
   "source": [
    "# Xếp hạng sinh viên theo môn học\n",
    "print(\"\\nTop 3 sinh viên có điểm cao nhất trong từng môn học:\")\n",
    "cursor.execute(\"\"\"\n",
    "    SELECT student_id, name, course_id, score \n",
    "    FROM (\n",
    "        SELECT student_id, name, course_id, score, \n",
    "               RANK() OVER (PARTITION BY course_id ORDER BY score DESC) AS rank_high \n",
    "        FROM Student\n",
    "    ) WHERE rank_high <= 3\n",
    "\"\"\")\n",
    "print(cursor.fetchall())\n"
   ]
  },
  {
   "cell_type": "code",
   "execution_count": 17,
   "metadata": {},
   "outputs": [
    {
     "name": "stdout",
     "output_type": "stream",
     "text": [
      "\n",
      "Top 3 sinh viên có điểm thấp nhất trong từng môn học:\n",
      "[(1, 'Nguyen Minh Hoang', 12, 6.7), (10, 'Cao Thi Hanh', 12, 7.0), (9, 'Duong Huu Phuc', 12, 7.2), (2, 'Tran Thi Lan', 34, 9.2), (7, 'Bui Tien Dung', 34, 9.2)]\n"
     ]
    }
   ],
   "source": [
    "print(\"\\nTop 3 sinh viên có điểm thấp nhất trong từng môn học:\")\n",
    "cursor.execute(\"\"\"\n",
    "    SELECT student_id, name, course_id, score \n",
    "    FROM (\n",
    "        SELECT student_id, name, course_id, score, \n",
    "               RANK() OVER (PARTITION BY course_id ORDER BY score ASC) AS rank_low \n",
    "        FROM Student\n",
    "    ) WHERE rank_low <= 3\n",
    "\"\"\")\n",
    "print(cursor.fetchall())"
   ]
  },
  {
   "cell_type": "code",
   "execution_count": 21,
   "metadata": {},
   "outputs": [
    {
     "name": "stdout",
     "output_type": "stream",
     "text": [
      "\n",
      "Đã cập nhật ngày tốt nghiệp cho sinh viên dựa trên thứ hạng theo điểm số!\n",
      "(1, 'Nguyen Minh Hoang', 'May Tinh', 12, 6.7, '2025-03-19 22:36:20.602045')\n",
      "(2, 'Tran Thi Lan', 'Kinh Te', 34, 9.2, '2025-03-14 22:36:20.602045')\n",
      "(3, 'Pham Van Nam', 'Toan Tin', 12, 7.9, '2025-03-16 22:36:20.602045')\n",
      "(7, 'Bui Tien Dung', 'Kinh Te', 34, 9.2, '2025-03-15 22:36:20.602045')\n",
      "(9, 'Duong Huu Phuc', 'Kinh Te', 12, 7.2, '2025-03-17 22:36:20.602045')\n",
      "(10, 'Cao Thi Hanh', 'May Tinh', 12, 7.0, '2025-03-18 22:36:20.602045')\n"
     ]
    }
   ],
   "source": [
    "#4\n",
    "import datetime\n",
    "\n",
    "# Kiểm tra xem cột graduation_date đã tồn tại chưa\n",
    "cursor.execute(\"PRAGMA table_info(Student)\")\n",
    "columns = [col[1] for col in cursor.fetchall()]\n",
    "if \"graduation_date\" not in columns:\n",
    "    cursor.execute(\"\"\"\n",
    "    ALTER TABLE Student ADD COLUMN graduation_date DATETIME\n",
    "    \"\"\")\n",
    "\n",
    "# Lấy danh sách sinh viên sắp xếp theo điểm số giảm dần\n",
    "cursor.execute(\"SELECT student_id, score FROM Student ORDER BY score DESC\")\n",
    "students = cursor.fetchall()\n",
    "\n",
    "# Xác định ngày tốt nghiệp dựa trên thứ hạng (thêm số ngày bằng thứ hạng vào ngày hiện tại)\n",
    "current_date = datetime.datetime.now()\n",
    "for rank, (student_id, score) in enumerate(students, start=1):\n",
    "    graduation_date = current_date + datetime.timedelta(days=rank)\n",
    "    cursor.execute(\"UPDATE Student SET graduation_date = ? WHERE student_id = ?\", (graduation_date, student_id))\n",
    "\n",
    "# Lưu thay đổi và đóng kết nối\n",
    "conn.commit()\n",
    "\n",
    "\n",
    "print(\"\\nĐã cập nhật ngày tốt nghiệp cho sinh viên dựa trên thứ hạng theo điểm số!\")\n",
    "cursor.execute(\"select * from Student\")\n",
    "rows = cursor.fetchall()\n",
    "for row in rows:\n",
    "    print(row)\n"
   ]
  }
 ],
 "metadata": {
  "kernelspec": {
   "display_name": "Python 3",
   "language": "python",
   "name": "python3"
  },
  "language_info": {
   "codemirror_mode": {
    "name": "ipython",
    "version": 3
   },
   "file_extension": ".py",
   "mimetype": "text/x-python",
   "name": "python",
   "nbconvert_exporter": "python",
   "pygments_lexer": "ipython3",
   "version": "3.7.9"
  }
 },
 "nbformat": 4,
 "nbformat_minor": 2
}
