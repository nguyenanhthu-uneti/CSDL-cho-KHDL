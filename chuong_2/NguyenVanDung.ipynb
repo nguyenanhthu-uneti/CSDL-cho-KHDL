{
 "cells": [
  {
   "cell_type": "markdown",
   "metadata": {},
   "source": [
    "Câu 1: Tạo một bảng có tên NhanVien"
   ]
  },
  {
   "cell_type": "code",
   "execution_count": null,
   "metadata": {},
   "outputs": [],
   "source": [
    "import sqlite3\n",
    "\n",
    "conn = sqlite3.connect('my_database.db')\n",
    "conn.execute(\"PRAGMA journal_mode=WAL;\")\n",
    "cursor = conn.cursor()\n",
    "\n",
    "# Tạo bảng NhanVien nếu nó chưa tồn tại\n",
    "cursor.execute('''\n",
    "    CREATE TABLE IF NOT EXISTS NhanVien (\n",
    "        MaNV INTEGER PRIMARY KEY,\n",
    "        HoTen TEXT NOT NULL,\n",
    "        Tuoi INTEGER,\n",
    "        PhongBan TEXT\n",
    "    );\n",
    "''')\n",
    "\n",
    "# Nhập dữ liệu vào bảng\n",
    "cursor.executemany('''\n",
    "    INSERT INTO NhanVien (MaNV, HoTen, Tuoi, PhongBan) \n",
    "    VALUES (?, ?, ?, ?)\n",
    "''', [\n",
    "    (1, 'Nguyen Van A', 30, 'Ke Toan'),\n",
    "    (2, 'Tran Thi B', 25, 'Nhan Su'),\n",
    "    (3, 'Le Van C', 28, 'Ke Toan'),\n",
    "    (4, 'Pham Thi D', 32, 'Ke Toan'),\n",
    "    (5, 'Vu Van E', 26, 'IT'),\n",
    "    (6, 'Nguyen Thi F', 29, 'Marketing'),\n",
    "    (7, 'Le Thi G', 27, 'Nhan Su'),\n",
    "    (8, 'Hoang Van H', 35, 'Ke Toan'),\n",
    "    (9, 'Pham Van I', 33, 'Marketing'),\n",
    "    (10, 'Tran Van J', 24, 'IT'),\n",
    "    (11, 'Dang Thi K', 31, 'Nhan Su'),\n",
    "    (12, 'Nguyen Van L', 28, 'Ke Toan'),\n",
    "    (13, 'Tran Thi M', 26, 'Marketing'),\n",
    "    (14, 'Pham Van N', 30, 'Nhan Su'),\n",
    "    (15, 'Hoang Thi O', 27, 'IT')\n",
    "])\n",
    "\n",
    "conn.commit()  # Lưu thay đổi\n",
    "conn.close()  # Đóng kết nối\n"
   ]
  },
  {
   "cell_type": "markdown",
   "metadata": {},
   "source": [
    "Câu 3:Lấy toàn bộ thông tin của nhân viên trong bảng NhanVien"
   ]
  },
  {
   "cell_type": "code",
   "execution_count": 3,
   "metadata": {},
   "outputs": [
    {
     "name": "stdout",
     "output_type": "stream",
     "text": [
      "(1, 'Nguyen Van A', 30, 'Ke Toan')\n",
      "(2, 'Tran Thi B', 25, 'Nhan Su')\n",
      "(3, 'Le Van C', 28, 'Ke Toan')\n",
      "(4, 'Pham Thi D', 32, 'Ke Toan')\n",
      "(5, 'Vu Van E', 26, 'IT')\n",
      "(6, 'Nguyen Thi F', 29, 'Marketing')\n",
      "(7, 'Le Thi G', 27, 'Nhan Su')\n",
      "(8, 'Hoang Van H', 35, 'Ke Toan')\n",
      "(9, 'Pham Van I', 33, 'Marketing')\n",
      "(10, 'Tran Van J', 24, 'IT')\n",
      "(11, 'Dang Thi K', 31, 'Nhan Su')\n",
      "(12, 'Nguyen Van L', 28, 'Ke Toan')\n",
      "(13, 'Tran Thi M', 26, 'Marketing')\n",
      "(14, 'Pham Van N', 30, 'Nhan Su')\n",
      "(15, 'Hoang Thi O', 27, 'IT')\n"
     ]
    }
   ],
   "source": [
    "conn = sqlite3.connect('my_database.db')\n",
    "cursor = conn.cursor()\n",
    "\n",
    "# Truy vấn tất cả các nhân viên trong bảng NhanVien\n",
    "cursor.execute(\"SELECT * FROM NhanVien\")\n",
    "rows = cursor.fetchall()\n",
    "\n",
    "# In kết quả\n",
    "for row in rows:\n",
    "    print(row)\n",
    "\n",
    "conn.close()  # Đóng kết nối\n"
   ]
  },
  {
   "cell_type": "markdown",
   "metadata": {},
   "source": [
    "Câu 4:Truy vấn HoTen và Tuoi của các nhân viên trong phòng IT"
   ]
  },
  {
   "cell_type": "code",
   "execution_count": 4,
   "metadata": {},
   "outputs": [
    {
     "name": "stdout",
     "output_type": "stream",
     "text": [
      "('Vu Van E', 26)\n",
      "('Tran Van J', 24)\n",
      "('Hoang Thi O', 27)\n"
     ]
    }
   ],
   "source": [
    "conn = sqlite3.connect('my_database.db')\n",
    "cursor = conn.cursor()\n",
    "\n",
    "# Truy vấn HoTen và Tuoi của các nhân viên trong phòng IT\n",
    "cursor.execute(\"SELECT HoTen, Tuoi FROM NhanVien WHERE PhongBan = 'IT'\")\n",
    "rows = cursor.fetchall()\n",
    "\n",
    "# In kết quả\n",
    "for row in rows:\n",
    "    print(row)\n",
    "\n",
    "conn.close()  # Đóng kết nối\n"
   ]
  },
  {
   "cell_type": "code",
   "execution_count": null,
   "metadata": {},
   "outputs": [],
   "source": [
    "Câu 5:Truy vấn nhân viên có tuổi > 25"
   ]
  },
  {
   "cell_type": "code",
   "execution_count": 5,
   "metadata": {},
   "outputs": [
    {
     "name": "stdout",
     "output_type": "stream",
     "text": [
      "(1, 'Nguyen Van A', 30, 'Ke Toan')\n",
      "(3, 'Le Van C', 28, 'Ke Toan')\n",
      "(4, 'Pham Thi D', 32, 'Ke Toan')\n",
      "(5, 'Vu Van E', 26, 'IT')\n",
      "(6, 'Nguyen Thi F', 29, 'Marketing')\n",
      "(7, 'Le Thi G', 27, 'Nhan Su')\n",
      "(8, 'Hoang Van H', 35, 'Ke Toan')\n",
      "(9, 'Pham Van I', 33, 'Marketing')\n",
      "(11, 'Dang Thi K', 31, 'Nhan Su')\n",
      "(12, 'Nguyen Van L', 28, 'Ke Toan')\n",
      "(13, 'Tran Thi M', 26, 'Marketing')\n",
      "(14, 'Pham Van N', 30, 'Nhan Su')\n",
      "(15, 'Hoang Thi O', 27, 'IT')\n"
     ]
    }
   ],
   "source": [
    "conn = sqlite3.connect('my_database.db')\n",
    "cursor = conn.cursor()\n",
    "\n",
    "# Truy vấn nhân viên có tuổi > 25\n",
    "cursor.execute(\"SELECT * FROM NhanVien WHERE Tuoi > 25\")\n",
    "rows = cursor.fetchall()\n",
    "\n",
    "# In kết quả\n",
    "for row in rows:\n",
    "    print(row)\n",
    "\n",
    "conn.close()  # Đóng kết nối"
   ]
  },
  {
   "cell_type": "markdown",
   "metadata": {},
   "source": [
    "Câu 6:Truy vấn nhân viên lớn tuổi nhất trong mỗi phòng ban"
   ]
  },
  {
   "cell_type": "code",
   "execution_count": null,
   "metadata": {},
   "outputs": [],
   "source": [
    "conn = sqlite3.connect('my_database.db')\n",
    "cursor = conn.cursor()\n",
    "\n",
    "# Truy vấn nhân viên lớn tuổi nhất trong mỗi phòng ban\n",
    "cursor.execute('''\n",
    "    SELECT PhongBan, HoTen, MAX(Tuoi)\n",
    "    FROM NhanVien\n",
    "    GROUP BY PhongBan\n",
    "''')\n",
    "\n",
    "rows = cursor.fetchall()\n",
    "\n",
    "# In kết quả\n",
    "print(\"Nhân viên lớn tuổi nhất trong mỗi phòng ban:\")\n",
    "for row in rows:\n",
    "    print(f\"Phòng ban: {row[0]}, Nhân viên: {row[1]}, Tuổi: {row[2]}\")\n",
    "\n",
    "conn.close()  # Đóng kết nối"
   ]
  },
  {
   "cell_type": "markdown",
   "metadata": {},
   "source": [
    "Câu 7:Chuyển đổi thông tin PhongBan của nhân viên “Le Van C” sang “Marketing” (có vấn đề gặp phải khi thực\n",
    "hiện chuyển đổi thông tin hay không? Nếu có, vấn đề đó là gì và hãy đề xuất biện pháp giải quyết)."
   ]
  },
  {
   "cell_type": "code",
   "execution_count": 6,
   "metadata": {},
   "outputs": [
    {
     "name": "stdout",
     "output_type": "stream",
     "text": [
      "(1, 'Nguyen Van A', 30, 'Ke Toan')\n",
      "(2, 'Tran Thi B', 25, 'Nhan Su')\n",
      "(3, 'Le Van C', 28, 'Marketing')\n",
      "(4, 'Pham Thi D', 32, 'Ke Toan')\n",
      "(5, 'Vu Van E', 26, 'IT')\n",
      "(6, 'Nguyen Thi F', 29, 'Marketing')\n",
      "(7, 'Le Thi G', 27, 'Nhan Su')\n",
      "(8, 'Hoang Van H', 35, 'Ke Toan')\n",
      "(9, 'Pham Van I', 33, 'Marketing')\n",
      "(10, 'Tran Van J', 24, 'IT')\n",
      "(11, 'Dang Thi K', 31, 'Nhan Su')\n",
      "(12, 'Nguyen Van L', 28, 'Ke Toan')\n",
      "(13, 'Tran Thi M', 26, 'Marketing')\n",
      "(14, 'Pham Van N', 30, 'Nhan Su')\n",
      "(15, 'Hoang Thi O', 27, 'IT')\n"
     ]
    }
   ],
   "source": [
    "conn = sqlite3.connect('my_database.db')\n",
    "cursor = conn.cursor()\n",
    "# Cập nhật phòng ban cho nhân viên \"Le Van C\"\n",
    "cursor.execute(\"UPDATE NhanVien SET PhongBan = ? WHERE HoTen = ?\", ('Marketing', 'Le Van C'))\n",
    "cursor.execute(\"SELECT * FROM NhanVien\")\n",
    "rows = cursor.fetchall()\n",
    "\n",
    "# In kết quả\n",
    "for row in rows:\n",
    "    print(row)\n",
    "\n",
    "conn.commit()  # Lưu thay đổi\n",
    "conn.close()  # Đóng kết nối\n"
   ]
  },
  {
   "cell_type": "markdown",
   "metadata": {},
   "source": [
    "Nếu có vấn đề xảy ra khi chuyển đổi thông tin cần:\n",
    "    1.Cần kiểm tra tính duy nhất của dữ liệu sử dụng MaNV thay vì dùng HoTen\n",
    "    2.kiểm tra dữ liệu trước khi cập nhật"
   ]
  },
  {
   "cell_type": "code",
   "execution_count": null,
   "metadata": {},
   "outputs": [],
   "source": [
    "conn = sqlite3.connect('my_database.db')\n",
    "cursor = conn.cursor()\n",
    "\n",
    "#Xóa nhân viên có MaNV = 2\n",
    "cursor.execute(\"DELETE FROM NhanVien WHERE MaNV = 2\")\n",
    "\n",
    "# Lưu thay đổi\n",
    "conn.commit()\n",
    "\n",
    "#Truy vấn số lượng nhân viên trong mỗi phòng ban\n",
    "cursor.execute('''\n",
    "    SELECT PhongBan, COUNT(*) \n",
    "    FROM NhanVien\n",
    "    GROUP BY PhongBan\n",
    "''')\n",
    "\n",
    "rows = cursor.fetchall()\n",
    "\n",
    "# In kết quả\n",
    "print(\"Số nhân viên trong mỗi phòng ban:\")\n",
    "for row in rows:\n",
    "    print(f\"Phòng ban: {row[0]}, Số lượng nhân viên: {row[1]}\")\n",
    "\n",
    "conn.close()  # Đóng kết nối"
   ]
  }
 ],
 "metadata": {
  "kernelspec": {
   "display_name": "Python 3",
   "language": "python",
   "name": "python3"
  },
  "language_info": {
   "codemirror_mode": {
    "name": "ipython",
    "version": 3
   },
   "file_extension": ".py",
   "mimetype": "text/x-python",
   "name": "python",
   "nbconvert_exporter": "python",
   "pygments_lexer": "ipython3",
   "version": "3.11.9"
  }
 },
 "nbformat": 4,
 "nbformat_minor": 2
}