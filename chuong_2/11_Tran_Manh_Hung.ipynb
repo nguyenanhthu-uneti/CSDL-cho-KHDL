{
 "cells": [
  {
   "cell_type": "code",
   "execution_count": 1,
   "metadata": {},
   "outputs": [],
   "source": [
    "import sqlite3\n",
    "from datetime import datetime, timedelta"
   ]
  },
  {
   "cell_type": "code",
   "execution_count": 2,
   "metadata": {},
   "outputs": [],
   "source": [
    "conn = sqlite3.connect('chuong_2.db')\n",
    "\n",
    "cursor = conn.cursor()"
   ]
  },
  {
   "cell_type": "code",
   "execution_count": 4,
   "metadata": {},
   "outputs": [
    {
     "data": {
      "text/plain": [
       "<sqlite3.Cursor at 0x2ac53dac0c0>"
      ]
     },
     "execution_count": 4,
     "metadata": {},
     "output_type": "execute_result"
    }
   ],
   "source": [
    "#Tạo bảng student và course\n",
    "cursor.execute('''CREATE TABLE student(\n",
    "                student_id INT PRIMARY KEY,\n",
    "                name VarChar(50),\n",
    "                class VarChar(20),\n",
    "                course_id INT,\n",
    "                score FLOAT\n",
    "               )''')\n",
    "cursor.execute('''CREATE TABLE course(\n",
    "                id INT PRIMARY KEY,\n",
    "                course_name VarChar(20)\n",
    "               )''')"
   ]
  },
  {
   "cell_type": "code",
   "execution_count": 5,
   "metadata": {},
   "outputs": [],
   "source": [
    "#Chèn bản ghi vào bảng NhanVien\n",
    "cursor.execute(\"\"\"INSERT INTO student (student_id, name, class, course_id, score) VALUES\n",
    "                (1, 'Nguyen Minh Hoang', 'May Tinh', 12, 6.7),\n",
    "                (2, 'Tran Thi Lan', 'Kinh Te', 34, 9.2),\n",
    "                (3, 'Pham Van Nam', 'Toan Tin', NULL, 7.9),\n",
    "                (4, 'Le Thanh Huyen', 'Toan Tin', 20, 7.2),\n",
    "                (5, 'Vu Quoc Anh', 'May Tinh', 24, 8),\n",
    "                (6, 'Dang Thuy Linh', 'May Tinh', 24, 5.5),\n",
    "                (7, 'Bui Tien Dung', 'Kinh Te', 34, 9.2),\n",
    "                (8, 'Ho Ngoc Mai', 'Toan Tin', 20, 8.8),\n",
    "                (9, 'Duong Huu Phuc', 'Kinh Te', NULL, 7.2),\n",
    "                (10, 'Cao Thi Hanh', 'May Tinh', NULL, 7.0)\n",
    "                ;\"\"\")\n",
    "cursor.execute(\"\"\"INSERT INTO course (id, course_name) VALUES\n",
    "                (12, 'Giai tich'),\n",
    "                (34, 'Thong ke'),\n",
    "                (26, 'Tin hoc')\n",
    "                ;\"\"\")\n",
    "conn.commit()"
   ]
  },
  {
   "cell_type": "code",
   "execution_count": null,
   "metadata": {},
   "outputs": [
    {
     "data": {
      "text/plain": [
       "[(1, 'Nguyen Minh Hoang', 'May Tinh', 12, 6.7, 12, 'Giai tich'),\n",
       " (1, 'Nguyen Minh Hoang', 'May Tinh', 12, 6.7, 34, 'Thong ke'),\n",
       " (1, 'Nguyen Minh Hoang', 'May Tinh', 12, 6.7, 26, 'Tin hoc'),\n",
       " (2, 'Tran Thi Lan', 'Kinh Te', 34, 9.2, 12, 'Giai tich'),\n",
       " (2, 'Tran Thi Lan', 'Kinh Te', 34, 9.2, 34, 'Thong ke'),\n",
       " (2, 'Tran Thi Lan', 'Kinh Te', 34, 9.2, 26, 'Tin hoc'),\n",
       " (3, 'Pham Van Nam', 'Toan Tin', None, 7.9, 12, 'Giai tich'),\n",
       " (3, 'Pham Van Nam', 'Toan Tin', None, 7.9, 34, 'Thong ke'),\n",
       " (3, 'Pham Van Nam', 'Toan Tin', None, 7.9, 26, 'Tin hoc'),\n",
       " (4, 'Le Thanh Huyen', 'Toan Tin', 20, 7.2, 12, 'Giai tich'),\n",
       " (4, 'Le Thanh Huyen', 'Toan Tin', 20, 7.2, 34, 'Thong ke'),\n",
       " (4, 'Le Thanh Huyen', 'Toan Tin', 20, 7.2, 26, 'Tin hoc'),\n",
       " (5, 'Vu Quoc Anh', 'May Tinh', 24, 8.0, 12, 'Giai tich'),\n",
       " (5, 'Vu Quoc Anh', 'May Tinh', 24, 8.0, 34, 'Thong ke'),\n",
       " (5, 'Vu Quoc Anh', 'May Tinh', 24, 8.0, 26, 'Tin hoc'),\n",
       " (6, 'Dang Thuy Linh', 'May Tinh', 24, 5.5, 12, 'Giai tich'),\n",
       " (6, 'Dang Thuy Linh', 'May Tinh', 24, 5.5, 34, 'Thong ke'),\n",
       " (6, 'Dang Thuy Linh', 'May Tinh', 24, 5.5, 26, 'Tin hoc'),\n",
       " (7, 'Bui Tien Dung', 'Kinh Te', 34, 9.2, 12, 'Giai tich'),\n",
       " (7, 'Bui Tien Dung', 'Kinh Te', 34, 9.2, 34, 'Thong ke'),\n",
       " (7, 'Bui Tien Dung', 'Kinh Te', 34, 9.2, 26, 'Tin hoc'),\n",
       " (8, 'Ho Ngoc Mai', 'Toan Tin', 20, 8.8, 12, 'Giai tich'),\n",
       " (8, 'Ho Ngoc Mai', 'Toan Tin', 20, 8.8, 34, 'Thong ke'),\n",
       " (8, 'Ho Ngoc Mai', 'Toan Tin', 20, 8.8, 26, 'Tin hoc'),\n",
       " (9, 'Duong Huu Phuc', 'Kinh Te', None, 7.2, 12, 'Giai tich'),\n",
       " (9, 'Duong Huu Phuc', 'Kinh Te', None, 7.2, 34, 'Thong ke'),\n",
       " (9, 'Duong Huu Phuc', 'Kinh Te', None, 7.2, 26, 'Tin hoc'),\n",
       " (10, 'Cao Thi Hanh', 'May Tinh', None, 7.0, 12, 'Giai tich'),\n",
       " (10, 'Cao Thi Hanh', 'May Tinh', None, 7.0, 34, 'Thong ke'),\n",
       " (10, 'Cao Thi Hanh', 'May Tinh', None, 7.0, 26, 'Tin hoc')]"
      ]
     },
     "execution_count": 6,
     "metadata": {},
     "output_type": "execute_result"
    }
   ],
   "source": [
    "# Sử dụng tích Descartes\n",
    "cursor.execute(\"SELECT * FROM student, course\")\n",
    "cursor.fetchall()"
   ]
  },
  {
   "cell_type": "code",
   "execution_count": null,
   "metadata": {},
   "outputs": [
    {
     "data": {
      "text/plain": [
       "[(1, 'Nguyen Minh Hoang', 'May Tinh', 12, 6.7, 12, 'Giai tich'),\n",
       " (2, 'Tran Thi Lan', 'Kinh Te', 34, 9.2, 34, 'Thong ke'),\n",
       " (7, 'Bui Tien Dung', 'Kinh Te', 34, 9.2, 34, 'Thong ke')]"
      ]
     },
     "execution_count": 9,
     "metadata": {},
     "output_type": "execute_result"
    }
   ],
   "source": [
    "# Sử dụng INNER JOIN\n",
    "cursor.execute(\"SELECT * FROM student INNER JOIN course ON student.course_id = course.id\")\n",
    "cursor.fetchall()"
   ]
  },
  {
   "cell_type": "code",
   "execution_count": null,
   "metadata": {},
   "outputs": [
    {
     "data": {
      "text/plain": [
       "[(1, 'Nguyen Minh Hoang', 'May Tinh', 12, 6.7, 12, 'Giai tich'),\n",
       " (2, 'Tran Thi Lan', 'Kinh Te', 34, 9.2, 34, 'Thong ke'),\n",
       " (3, 'Pham Van Nam', 'Toan Tin', None, 7.9, None, None),\n",
       " (4, 'Le Thanh Huyen', 'Toan Tin', 20, 7.2, None, None),\n",
       " (5, 'Vu Quoc Anh', 'May Tinh', 24, 8.0, None, None),\n",
       " (6, 'Dang Thuy Linh', 'May Tinh', 24, 5.5, None, None),\n",
       " (7, 'Bui Tien Dung', 'Kinh Te', 34, 9.2, 34, 'Thong ke'),\n",
       " (8, 'Ho Ngoc Mai', 'Toan Tin', 20, 8.8, None, None),\n",
       " (9, 'Duong Huu Phuc', 'Kinh Te', None, 7.2, None, None),\n",
       " (10, 'Cao Thi Hanh', 'May Tinh', None, 7.0, None, None)]"
      ]
     },
     "execution_count": 10,
     "metadata": {},
     "output_type": "execute_result"
    }
   ],
   "source": [
    "# Sử dụng LEFT JOIN\n",
    "cursor.execute(\"SELECT * FROM student LEFT JOIN course ON student.course_id = course.id\")\n",
    "cursor.fetchall()"
   ]
  },
  {
   "cell_type": "code",
   "execution_count": null,
   "metadata": {},
   "outputs": [
    {
     "data": {
      "text/plain": [
       "[(1, 'Nguyen Minh Hoang', 'May Tinh', 12, 6.7, 12, 'Giai tich'),\n",
       " (2, 'Tran Thi Lan', 'Kinh Te', 34, 9.2, 34, 'Thong ke'),\n",
       " (7, 'Bui Tien Dung', 'Kinh Te', 34, 9.2, 34, 'Thong ke'),\n",
       " (None, None, None, None, None, 26, 'Tin hoc')]"
      ]
     },
     "execution_count": 11,
     "metadata": {},
     "output_type": "execute_result"
    }
   ],
   "source": [
    "# Sử dụng RIGHT JOIN\n",
    "cursor.execute(\"SELECT * FROM student RIGHT JOIN course ON student.course_id = course.id\")\n",
    "cursor.fetchall()"
   ]
  },
  {
   "cell_type": "code",
   "execution_count": null,
   "metadata": {},
   "outputs": [
    {
     "data": {
      "text/plain": [
       "[(1, 'Nguyen Minh Hoang', 'May Tinh', 12, 6.7, 12, 'Giai tich'),\n",
       " (2, 'Tran Thi Lan', 'Kinh Te', 34, 9.2, 34, 'Thong ke'),\n",
       " (3, 'Pham Van Nam', 'Toan Tin', None, 7.9, None, None),\n",
       " (4, 'Le Thanh Huyen', 'Toan Tin', 20, 7.2, None, None),\n",
       " (5, 'Vu Quoc Anh', 'May Tinh', 24, 8.0, None, None),\n",
       " (6, 'Dang Thuy Linh', 'May Tinh', 24, 5.5, None, None),\n",
       " (7, 'Bui Tien Dung', 'Kinh Te', 34, 9.2, 34, 'Thong ke'),\n",
       " (8, 'Ho Ngoc Mai', 'Toan Tin', 20, 8.8, None, None),\n",
       " (9, 'Duong Huu Phuc', 'Kinh Te', None, 7.2, None, None),\n",
       " (10, 'Cao Thi Hanh', 'May Tinh', None, 7.0, None, None),\n",
       " (None, None, None, None, None, 26, 'Tin hoc')]"
      ]
     },
     "execution_count": 12,
     "metadata": {},
     "output_type": "execute_result"
    }
   ],
   "source": [
    "# Sử dụng FULL OUTER JOIN\n",
    "cursor.execute(\"SELECT * FROM student FULL OUTER JOIN course ON student.course_id = course.id\")\n",
    "cursor.fetchall()"
   ]
  },
  {
   "cell_type": "code",
   "execution_count": null,
   "metadata": {},
   "outputs": [
    {
     "data": {
      "text/plain": [
       "[(1, 'Nguyen Minh Hoang', 'May Tinh', 12, 6.7),\n",
       " (2, 'Tran Thi Lan', 'Kinh Te', 34, 9.2),\n",
       " (3, 'Pham Van Nam', 'Toan Tin', 26, 7.9),\n",
       " (4, 'Le Thanh Huyen', 'Toan Tin', 20, 7.2),\n",
       " (5, 'Vu Quoc Anh', 'May Tinh', 24, 8.0),\n",
       " (6, 'Dang Thuy Linh', 'May Tinh', 24, 5.5),\n",
       " (7, 'Bui Tien Dung', 'Kinh Te', 34, 9.2),\n",
       " (8, 'Ho Ngoc Mai', 'Toan Tin', 20, 8.8),\n",
       " (9, 'Duong Huu Phuc', 'Kinh Te', 26, 7.2),\n",
       " (10, 'Cao Thi Hanh', 'May Tinh', 26, 7.0)]"
      ]
     },
     "execution_count": 7,
     "metadata": {},
     "output_type": "execute_result"
    }
   ],
   "source": [
    "# Cập nhật giá trị course_id còn thiếu trong bảng student\n",
    "cursor.execute(\"\"\"\n",
    "UPDATE student\n",
    "SET course_id = 26\n",
    "WHERE course_id IS NULL;\n",
    "\"\"\")\n",
    "conn.commit()\n",
    "\n",
    "cursor.execute(\"SELECT * FROM student\")\n",
    "cursor.fetchall()"
   ]
  },
  {
   "cell_type": "code",
   "execution_count": null,
   "metadata": {},
   "outputs": [
    {
     "data": {
      "text/plain": [
       "[(1, 'Nguyen Minh Hoang', 'May Tinh', 12, 6.7),\n",
       " (2, 'Tran Thi Lan', 'Kinh Te', 34, 9.2),\n",
       " (3, 'Pham Van Nam', 'Toan Tin', 26, 7.9),\n",
       " (7, 'Bui Tien Dung', 'Kinh Te', 34, 9.2),\n",
       " (9, 'Duong Huu Phuc', 'Kinh Te', 26, 7.2),\n",
       " (10, 'Cao Thi Hanh', 'May Tinh', 26, 7.0)]"
      ]
     },
     "execution_count": 8,
     "metadata": {},
     "output_type": "execute_result"
    }
   ],
   "source": [
    "# Xóa bỏ các bản ghi tham gia các môn học không tồn tại trong bảng course\n",
    "cursor.execute(\"\"\"\n",
    "DELETE FROM student \n",
    "WHERE course_id NOT IN (SELECT id FROM course)\n",
    "\"\"\")\n",
    "conn.commit()\n",
    "\n",
    "cursor.execute(\"SELECT * FROM student\")\n",
    "cursor.fetchall()"
   ]
  },
  {
   "cell_type": "code",
   "execution_count": 14,
   "metadata": {},
   "outputs": [
    {
     "data": {
      "text/plain": [
       "[('Kinh Te', 3, 8.533333333333333),\n",
       " ('May Tinh', 2, 6.85),\n",
       " ('Toan Tin', 1, 7.9)]"
      ]
     },
     "execution_count": 14,
     "metadata": {},
     "output_type": "execute_result"
    }
   ],
   "source": [
    "# Tổng số sinh viên và điểm trung bình của cả lớp\n",
    "cursor.execute(\"\"\"\n",
    "SELECT class, COUNT(*), AVG(score) FROM student\n",
    "    GROUP BY class\n",
    "\"\"\")\n",
    "cursor.fetchall()"
   ]
  },
  {
   "cell_type": "code",
   "execution_count": null,
   "metadata": {},
   "outputs": [
    {
     "data": {
      "text/plain": [
       "[('Giai tich', 1, 6.7),\n",
       " ('Thong ke', 2, 9.2),\n",
       " ('Tin hoc', 3, 7.366666666666667)]"
      ]
     },
     "execution_count": 17,
     "metadata": {},
     "output_type": "execute_result"
    }
   ],
   "source": [
    "# Tổng số học sinh và điểm trung bình của từng môn học\n",
    "cursor.execute(\"\"\"\n",
    "SELECT c.course_name, COUNT(s.student_id), AVG(s.score)\n",
    "FROM student s\n",
    "JOIN course c ON s.course_id = c.id\n",
    "GROUP BY c.course_name;\n",
    "\"\"\")\n",
    "cursor.fetchall()"
   ]
  },
  {
   "cell_type": "code",
   "execution_count": 22,
   "metadata": {},
   "outputs": [
    {
     "data": {
      "text/plain": [
       "[(1, 'Nguyen Minh Hoang', 'May Tinh', 12, 6.7, 'Tốt'),\n",
       " (2, 'Tran Thi Lan', 'Kinh Te', 34, 9.2, 'Xuất sắc'),\n",
       " (3, 'Pham Van Nam', 'Toan Tin', 26, 7.9, 'Tốt'),\n",
       " (7, 'Bui Tien Dung', 'Kinh Te', 34, 9.2, 'Xuất sắc'),\n",
       " (9, 'Duong Huu Phuc', 'Kinh Te', 26, 7.2, 'Tốt'),\n",
       " (10, 'Cao Thi Hanh', 'May Tinh', 26, 7.0, 'Tốt')]"
      ]
     },
     "execution_count": 22,
     "metadata": {},
     "output_type": "execute_result"
    }
   ],
   "source": [
    "# Phân loại sinh viên theo điểm\n",
    "cursor.execute(\"ALTER TABLE student ADD COLUMN rank VarChar(20) \")\n",
    "cursor.execute(\"\"\"            \n",
    "UPDATE student SET rank = CASE\n",
    "    WHEN score >= 9.0 THEN 'Xuất sắc'\n",
    "    WHEN score >= 6.0 THEN 'Tốt'\n",
    "    ELSE 'Kém'\n",
    "END\n",
    "\"\"\")\n",
    "conn.commit()\n",
    "\n",
    "cursor.execute(\"SELECT * FROM student\")\n",
    "cursor.fetchall()"
   ]
  },
  {
   "cell_type": "code",
   "execution_count": 23,
   "metadata": {},
   "outputs": [
    {
     "data": {
      "text/plain": [
       "[(2, 'Tran Thi Lan', 'Kinh Te', 34, 9.2, 'Xuất sắc'),\n",
       " (7, 'Bui Tien Dung', 'Kinh Te', 34, 9.2, 'Xuất sắc'),\n",
       " (3, 'Pham Van Nam', 'Toan Tin', 26, 7.9, 'Tốt'),\n",
       " (9, 'Duong Huu Phuc', 'Kinh Te', 26, 7.2, 'Tốt'),\n",
       " (10, 'Cao Thi Hanh', 'May Tinh', 26, 7.0, 'Tốt'),\n",
       " (1, 'Nguyen Minh Hoang', 'May Tinh', 12, 6.7, 'Tốt')]"
      ]
     },
     "execution_count": 23,
     "metadata": {},
     "output_type": "execute_result"
    }
   ],
   "source": [
    "# Xếp hạng học sinh theo điểm số\n",
    "cursor.execute(\"SELECT * FROM student ORDER BY score DESC\")\n",
    "cursor.fetchall()"
   ]
  },
  {
   "cell_type": "code",
   "execution_count": 29,
   "metadata": {},
   "outputs": [
    {
     "data": {
      "text/plain": [
       "[(2, 'Tran Thi Lan', 'Kinh Te', 34, 9.2, 'Xuất sắc'),\n",
       " (7, 'Bui Tien Dung', 'Kinh Te', 34, 9.2, 'Xuất sắc'),\n",
       " (9, 'Duong Huu Phuc', 'Kinh Te', 26, 7.2, 'Tốt'),\n",
       " (10, 'Cao Thi Hanh', 'May Tinh', 26, 7.0, 'Tốt'),\n",
       " (1, 'Nguyen Minh Hoang', 'May Tinh', 12, 6.7, 'Tốt'),\n",
       " (3, 'Pham Van Nam', 'Toan Tin', 26, 7.9, 'Tốt')]"
      ]
     },
     "execution_count": 29,
     "metadata": {},
     "output_type": "execute_result"
    }
   ],
   "source": [
    "# Xếp hạng điểm số học sinh theo lớp học\n",
    "cursor.execute(\"SELECT * FROM student ORDER BY class, score DESC\")\n",
    "cursor.fetchall()"
   ]
  },
  {
   "cell_type": "code",
   "execution_count": 30,
   "metadata": {},
   "outputs": [
    {
     "data": {
      "text/plain": [
       "[(1, 'Nguyen Minh Hoang', 'May Tinh', 12, 6.7, 'Tốt'),\n",
       " (3, 'Pham Van Nam', 'Toan Tin', 26, 7.9, 'Tốt'),\n",
       " (9, 'Duong Huu Phuc', 'Kinh Te', 26, 7.2, 'Tốt'),\n",
       " (10, 'Cao Thi Hanh', 'May Tinh', 26, 7.0, 'Tốt'),\n",
       " (2, 'Tran Thi Lan', 'Kinh Te', 34, 9.2, 'Xuất sắc'),\n",
       " (7, 'Bui Tien Dung', 'Kinh Te', 34, 9.2, 'Xuất sắc')]"
      ]
     },
     "execution_count": 30,
     "metadata": {},
     "output_type": "execute_result"
    }
   ],
   "source": [
    "# Xếp hạng điểm số học sinh theo mã môn học\n",
    "cursor.execute(\"SELECT * FROM student ORDER BY course_id, score DESC\")\n",
    "cursor.fetchall()"
   ]
  },
  {
   "cell_type": "code",
   "execution_count": null,
   "metadata": {},
   "outputs": [
    {
     "data": {
      "text/plain": [
       "[(2, 'Tran Thi Lan', 'Kinh Te', 34, 9.2, 'Xuất sắc'),\n",
       " (7, 'Bui Tien Dung', 'Kinh Te', 34, 9.2, 'Xuất sắc'),\n",
       " (3, 'Pham Van Nam', 'Toan Tin', 26, 7.9, 'Tốt')]"
      ]
     },
     "execution_count": 31,
     "metadata": {},
     "output_type": "execute_result"
    }
   ],
   "source": [
    "# Xếp hạng 3 học sinh điểm cao nhất.\n",
    "cursor.execute(\"SELECT * FROM student ORDER BY score DESC LIMIT 3\")\n",
    "cursor.fetchall()"
   ]
  },
  {
   "cell_type": "code",
   "execution_count": null,
   "metadata": {},
   "outputs": [
    {
     "data": {
      "text/plain": [
       "[(1, 'Nguyen Minh Hoang', 'May Tinh', 12, 6.7, 'Tốt'),\n",
       " (10, 'Cao Thi Hanh', 'May Tinh', 26, 7.0, 'Tốt'),\n",
       " (9, 'Duong Huu Phuc', 'Kinh Te', 26, 7.2, 'Tốt')]"
      ]
     },
     "execution_count": 32,
     "metadata": {},
     "output_type": "execute_result"
    }
   ],
   "source": [
    "# Xếp hạng 3 học sinh điểm thấp nhất.\n",
    "cursor.execute(\"SELECT * FROM student ORDER BY score ASC LIMIT 3\")\n",
    "cursor.fetchall()"
   ]
  },
  {
   "cell_type": "code",
   "execution_count": null,
   "metadata": {},
   "outputs": [
    {
     "data": {
      "text/plain": [
       "[(1, 'Nguyen Minh Hoang', 'May Tinh', 12, 6.7, 'Tốt', '2025-03-19'),\n",
       " (2, 'Tran Thi Lan', 'Kinh Te', 34, 9.2, 'Xuất sắc', '2025-03-14'),\n",
       " (3, 'Pham Van Nam', 'Toan Tin', 26, 7.9, 'Tốt', '2025-03-16'),\n",
       " (7, 'Bui Tien Dung', 'Kinh Te', 34, 9.2, 'Xuất sắc', '2025-03-15'),\n",
       " (9, 'Duong Huu Phuc', 'Kinh Te', 26, 7.2, 'Tốt', '2025-03-17'),\n",
       " (10, 'Cao Thi Hanh', 'May Tinh', 26, 7.0, 'Tốt', '2025-03-18')]"
      ]
     },
     "execution_count": 60,
     "metadata": {},
     "output_type": "execute_result"
    }
   ],
   "source": [
    "# Tính thời gian tốt nghiệp\n",
    "cursor.execute(\"ALTER TABLE student ADD COLUMN graduation_date DATETIME\")\n",
    "current_time = datetime.now()\n",
    "rows = cursor.execute(\"SELECT * FROM student ORDER BY score DESC\").fetchall()\n",
    "for rank, row in enumerate(rows, start=1):\n",
    "    graduation_date = current_time + timedelta(days=rank)\n",
    "    # cursor.execute(f\"\"\"\n",
    "    # UPDATE student\n",
    "    # SET graduation_date = {graduation_date.strftime('%Y-%m-%d')}\n",
    "    # WHERE student_id = {row[0]};\n",
    "    # \"\"\")\n",
    "    cursor.execute(\"UPDATE student SET graduation_date = ? WHERE student_id = ?\", \n",
    "                   (graduation_date.strftime('%Y-%m-%d'), row[0]))\n",
    "conn.commit()\n",
    "\n",
    "cursor.execute(\"SELECT * FROM student\")\n",
    "cursor.fetchall()    "
   ]
  }
 ],
 "metadata": {
  "kernelspec": {
   "display_name": "data_analysis_env",
   "language": "python",
   "name": "python3"
  },
  "language_info": {
   "codemirror_mode": {
    "name": "ipython",
    "version": 3
   },
   "file_extension": ".py",
   "mimetype": "text/x-python",
   "name": "python",
   "nbconvert_exporter": "python",
   "pygments_lexer": "ipython3",
   "version": "3.11.11"
  }
 },
 "nbformat": 4,
 "nbformat_minor": 2
}
