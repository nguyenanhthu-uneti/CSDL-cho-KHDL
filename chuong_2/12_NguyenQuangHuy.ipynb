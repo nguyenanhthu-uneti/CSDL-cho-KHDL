{
 "cells": [
  {
   "cell_type": "code",
   "execution_count": 1,
   "metadata": {},
   "outputs": [],
   "source": [
    "import sqlite3\n",
    "\n",
    "# Kết nối hoặc tạo database SQLite\n",
    "conn = sqlite3.connect(\"university.db\")\n",
    "cursor = conn.cursor()\n"
   ]
  },
  {
   "cell_type": "code",
   "execution_count": 4,
   "metadata": {},
   "outputs": [],
   "source": [
    "cursor.execute(\"\"\"\n",
    "CREATE TABLE IF NOT EXISTS course (\n",
    "    course_id INTEGER PRIMARY KEY,\n",
    "    course_name TEXT NOT NULL\n",
    ");\n",
    "\"\"\")\n",
    "conn.commit()"
   ]
  },
  {
   "cell_type": "code",
   "execution_count": 5,
   "metadata": {},
   "outputs": [],
   "source": [
    "cursor.executemany(\"\"\"\n",
    "INSERT INTO course (course_id, course_name) VALUES (?, ?)\n",
    "\"\"\", [\n",
    "    (12, 'Giai tich'),\n",
    "    (34, 'Thong ke'),\n",
    "    (26, 'Tin hoc')\n",
    "])\n",
    "conn.commit()\n"
   ]
  },
  {
   "cell_type": "code",
   "execution_count": 6,
   "metadata": {},
   "outputs": [],
   "source": [
    "cursor.execute(\"\"\"\n",
    "CREATE TABLE IF NOT EXISTS student (\n",
    "    student_id INTEGER PRIMARY KEY,\n",
    "    name TEXT NOT NULL,\n",
    "    class TEXT NOT NULL,\n",
    "    course_id INTEGER,\n",
    "    score REAL,\n",
    "    FOREIGN KEY (course_id) REFERENCES course(course_id)\n",
    ");\n",
    "\"\"\")\n",
    "conn.commit()"
   ]
  },
  {
   "cell_type": "code",
   "execution_count": null,
   "metadata": {},
   "outputs": [],
   "source": [
    "cursor.executemany(\"\"\"\n",
    "INSERT INTO student (student_id, name, class, course_id, score) VALUES (?, ?, ?, ?, ?)\n",
    "\"\"\", [\n",
    "    (1, 'Nguyen Minh Hoang', 'May Tinh', 12, 6.7),\n",
    "    (2, 'Tran Thi Lan', 'Kinh Te', 34, 9.2),\n",
    "    (3, 'Pham Van Nam', 'Toan Tin', None, 7.9),\n",
    "    (4, 'Le Thanh Huyen', 'Toan Tin', 20, 7.2), \n",
    "    (5, 'Vu Quoc Anh', 'May Tinh', 24, 8.0),\n",
    "    (6, 'Dang Thuy Linh', 'May Tinh', 24, 5.5),\n",
    "    (7, 'Bui Tien Dung', 'Kinh Te', 34, 9.2),\n",
    "    (8, 'Ho Ngoc Mai', 'Toan Tin', 20, 8.8),\n",
    "    (9, 'Duong Huu Phuc', 'Kinh Te', None, 7.2),\n",
    "    (10, 'Cao Thi Hanh', 'May Tinh', None, 7.0)\n",
    "])\n",
    "conn.commit()"
   ]
  },
  {
   "cell_type": "markdown",
   "metadata": {},
   "source": [
    " 1. Kết nối hai bảng Student và Course"
   ]
  },
  {
   "cell_type": "code",
   "execution_count": null,
   "metadata": {},
   "outputs": [
    {
     "data": {
      "text/plain": [
       "[(1, 'Nguyen Minh Hoang', 'May Tinh', 12, 6.7, 12, 'Giai tich'),\n",
       " (1, 'Nguyen Minh Hoang', 'May Tinh', 12, 6.7, 26, 'Tin hoc'),\n",
       " (1, 'Nguyen Minh Hoang', 'May Tinh', 12, 6.7, 34, 'Thong ke'),\n",
       " (2, 'Tran Thi Lan', 'Kinh Te', 34, 9.2, 12, 'Giai tich'),\n",
       " (2, 'Tran Thi Lan', 'Kinh Te', 34, 9.2, 26, 'Tin hoc'),\n",
       " (2, 'Tran Thi Lan', 'Kinh Te', 34, 9.2, 34, 'Thong ke'),\n",
       " (3, 'Pham Van Nam', 'Toan Tin', None, 7.9, 12, 'Giai tich'),\n",
       " (3, 'Pham Van Nam', 'Toan Tin', None, 7.9, 26, 'Tin hoc'),\n",
       " (3, 'Pham Van Nam', 'Toan Tin', None, 7.9, 34, 'Thong ke'),\n",
       " (4, 'Le Thanh Huyen', 'Toan Tin', 20, 7.2, 12, 'Giai tich'),\n",
       " (4, 'Le Thanh Huyen', 'Toan Tin', 20, 7.2, 26, 'Tin hoc'),\n",
       " (4, 'Le Thanh Huyen', 'Toan Tin', 20, 7.2, 34, 'Thong ke'),\n",
       " (5, 'Vu Quoc Anh', 'May Tinh', 24, 8.0, 12, 'Giai tich'),\n",
       " (5, 'Vu Quoc Anh', 'May Tinh', 24, 8.0, 26, 'Tin hoc'),\n",
       " (5, 'Vu Quoc Anh', 'May Tinh', 24, 8.0, 34, 'Thong ke'),\n",
       " (6, 'Dang Thuy Linh', 'May Tinh', 24, 5.5, 12, 'Giai tich'),\n",
       " (6, 'Dang Thuy Linh', 'May Tinh', 24, 5.5, 26, 'Tin hoc'),\n",
       " (6, 'Dang Thuy Linh', 'May Tinh', 24, 5.5, 34, 'Thong ke'),\n",
       " (7, 'Bui Tien Dung', 'Kinh Te', 34, 9.2, 12, 'Giai tich'),\n",
       " (7, 'Bui Tien Dung', 'Kinh Te', 34, 9.2, 26, 'Tin hoc'),\n",
       " (7, 'Bui Tien Dung', 'Kinh Te', 34, 9.2, 34, 'Thong ke'),\n",
       " (8, 'Ho Ngoc Mai', 'Toan Tin', 20, 8.8, 12, 'Giai tich'),\n",
       " (8, 'Ho Ngoc Mai', 'Toan Tin', 20, 8.8, 26, 'Tin hoc'),\n",
       " (8, 'Ho Ngoc Mai', 'Toan Tin', 20, 8.8, 34, 'Thong ke'),\n",
       " (9, 'Duong Huu Phuc', 'Kinh Te', None, 7.2, 12, 'Giai tich'),\n",
       " (9, 'Duong Huu Phuc', 'Kinh Te', None, 7.2, 26, 'Tin hoc'),\n",
       " (9, 'Duong Huu Phuc', 'Kinh Te', None, 7.2, 34, 'Thong ke'),\n",
       " (10, 'Cao Thi Hanh', 'May Tinh', None, 7.0, 12, 'Giai tich'),\n",
       " (10, 'Cao Thi Hanh', 'May Tinh', None, 7.0, 26, 'Tin hoc'),\n",
       " (10, 'Cao Thi Hanh', 'May Tinh', None, 7.0, 34, 'Thong ke')]"
      ]
     },
     "execution_count": 3,
     "metadata": {},
     "output_type": "execute_result"
    }
   ],
   "source": [
    "# Tích Decartes\n",
    "cursor.execute(''' SELECT * FROM Student, Course;''')\n",
    "conn.commit()\n",
    "cursor.fetchall()"
   ]
  },
  {
   "cell_type": "code",
   "execution_count": 5,
   "metadata": {},
   "outputs": [
    {
     "data": {
      "text/plain": [
       "[(1, 'Nguyen Minh Hoang', 'May Tinh', 12, 6.7, 12, 'Giai tich'),\n",
       " (2, 'Tran Thi Lan', 'Kinh Te', 34, 9.2, 34, 'Thong ke'),\n",
       " (7, 'Bui Tien Dung', 'Kinh Te', 34, 9.2, 34, 'Thong ke')]"
      ]
     },
     "execution_count": 5,
     "metadata": {},
     "output_type": "execute_result"
    }
   ],
   "source": [
    "#INNER JOIN\n",
    "cursor.execute(''' SELECT * FROM Student INNER JOIN Course ON Student.course_id = Course.course_id;''')\n",
    "conn.commit()\n",
    "cursor.fetchall()"
   ]
  },
  {
   "cell_type": "code",
   "execution_count": 6,
   "metadata": {},
   "outputs": [
    {
     "data": {
      "text/plain": [
       "[(1, 'Nguyen Minh Hoang', 'May Tinh', 12, 6.7, 12, 'Giai tich'),\n",
       " (2, 'Tran Thi Lan', 'Kinh Te', 34, 9.2, 34, 'Thong ke'),\n",
       " (3, 'Pham Van Nam', 'Toan Tin', None, 7.9, None, None),\n",
       " (4, 'Le Thanh Huyen', 'Toan Tin', 20, 7.2, None, None),\n",
       " (5, 'Vu Quoc Anh', 'May Tinh', 24, 8.0, None, None),\n",
       " (6, 'Dang Thuy Linh', 'May Tinh', 24, 5.5, None, None),\n",
       " (7, 'Bui Tien Dung', 'Kinh Te', 34, 9.2, 34, 'Thong ke'),\n",
       " (8, 'Ho Ngoc Mai', 'Toan Tin', 20, 8.8, None, None),\n",
       " (9, 'Duong Huu Phuc', 'Kinh Te', None, 7.2, None, None),\n",
       " (10, 'Cao Thi Hanh', 'May Tinh', None, 7.0, None, None)]"
      ]
     },
     "execution_count": 6,
     "metadata": {},
     "output_type": "execute_result"
    }
   ],
   "source": [
    "#LEFT JOIN\n",
    "cursor.execute(''' SELECT * FROM Student LEFT JOIN Course ON Student.course_id = Course.course_id;''')\n",
    "conn.commit()\n",
    "cursor.fetchall()"
   ]
  },
  {
   "cell_type": "code",
   "execution_count": 7,
   "metadata": {},
   "outputs": [
    {
     "data": {
      "text/plain": [
       "[(1, 'Nguyen Minh Hoang', 'May Tinh', 12, 6.7, 12, 'Giai tich'),\n",
       " (2, 'Tran Thi Lan', 'Kinh Te', 34, 9.2, 34, 'Thong ke'),\n",
       " (7, 'Bui Tien Dung', 'Kinh Te', 34, 9.2, 34, 'Thong ke'),\n",
       " (None, None, None, None, None, 26, 'Tin hoc')]"
      ]
     },
     "execution_count": 7,
     "metadata": {},
     "output_type": "execute_result"
    }
   ],
   "source": [
    "#RIGHT JOIN\n",
    "cursor.execute(''' SELECT * FROM Student RIGHT JOIN Course ON Student.course_id = Course.course_id;''')\n",
    "conn.commit()\n",
    "cursor.fetchall()"
   ]
  },
  {
   "cell_type": "code",
   "execution_count": 8,
   "metadata": {},
   "outputs": [
    {
     "data": {
      "text/plain": [
       "[(1, 'Nguyen Minh Hoang', 'May Tinh', 12, 6.7, 12, 'Giai tich'),\n",
       " (2, 'Tran Thi Lan', 'Kinh Te', 34, 9.2, 34, 'Thong ke'),\n",
       " (3, 'Pham Van Nam', 'Toan Tin', None, 7.9, None, None),\n",
       " (4, 'Le Thanh Huyen', 'Toan Tin', 20, 7.2, None, None),\n",
       " (5, 'Vu Quoc Anh', 'May Tinh', 24, 8.0, None, None),\n",
       " (6, 'Dang Thuy Linh', 'May Tinh', 24, 5.5, None, None),\n",
       " (7, 'Bui Tien Dung', 'Kinh Te', 34, 9.2, 34, 'Thong ke'),\n",
       " (8, 'Ho Ngoc Mai', 'Toan Tin', 20, 8.8, None, None),\n",
       " (9, 'Duong Huu Phuc', 'Kinh Te', None, 7.2, None, None),\n",
       " (10, 'Cao Thi Hanh', 'May Tinh', None, 7.0, None, None),\n",
       " (None, None, None, None, None, 26, 'Tin hoc')]"
      ]
     },
     "execution_count": 8,
     "metadata": {},
     "output_type": "execute_result"
    }
   ],
   "source": [
    "# FULL OUTER JOIN\n",
    "cursor.execute(''' SELECT * FROM Student FULL OUTER JOIN Course ON Student.course_id = Course.course_id;''')\n",
    "conn.commit()\n",
    "cursor.fetchall()"
   ]
  },
  {
   "cell_type": "markdown",
   "metadata": {},
   "source": [
    "2. Cập nhật course_id trong bảng student và thống kê\n"
   ]
  },
  {
   "cell_type": "code",
   "execution_count": 17,
   "metadata": {},
   "outputs": [],
   "source": [
    "# Cập nhật course_id từ bảng course\n",
    "cursor.execute(''' UPDATE Student SET course_id = 12 WHERE course_id IS NULL;''')\n",
    "conn.commit()"
   ]
  },
  {
   "cell_type": "code",
   "execution_count": null,
   "metadata": {},
   "outputs": [],
   "source": [
    "# Xóa sinh viên có course_id không tồn tại\n",
    "cursor.execute(''' DELETE FROM Student WHERE course_id NOT IN (SELECT course_id FROM Course);''')\n",
    "conn.commit()"
   ]
  },
  {
   "cell_type": "code",
   "execution_count": 22,
   "metadata": {},
   "outputs": [
    {
     "data": {
      "text/plain": [
       "[('Kinh Te', 3, 8.53), ('May Tinh', 2, 6.85), ('Toan Tin', 1, 7.9)]"
      ]
     },
     "execution_count": 22,
     "metadata": {},
     "output_type": "execute_result"
    }
   ],
   "source": [
    "#Tổng số sinh viên và điểm trung bình theo từng lớp\n",
    "cursor.execute(''' SELECT class, COUNT(*) AS total_students, ROUND(AVG(score), 2) AS avg_score\n",
    "FROM Student\n",
    "GROUP BY class;''')\n",
    "conn.commit()\n",
    "cursor.fetchall()"
   ]
  },
  {
   "cell_type": "code",
   "execution_count": 31,
   "metadata": {},
   "outputs": [
    {
     "data": {
      "text/plain": [
       "[('Giai tich', 4, 7.2), ('Thong ke', 2, 9.2)]"
      ]
     },
     "execution_count": 31,
     "metadata": {},
     "output_type": "execute_result"
    }
   ],
   "source": [
    "#Tổng số sinh viên và điểm trung bình theo từng môn học\n",
    "cursor.execute(''' SELECT course.course_name, \n",
    "                    COUNT(*) AS total_students, \n",
    "                    AVG(student.score) AS avg_score\n",
    "FROM student\n",
    "JOIN course ON student.course_id = course.course_id\n",
    "GROUP BY course.course_name;''')\n",
    "conn.commit()\n",
    "cursor.fetchall()"
   ]
  },
  {
   "cell_type": "code",
   "execution_count": 20,
   "metadata": {},
   "outputs": [
    {
     "data": {
      "text/plain": [
       "[('Giai tich', 'Tốt'), ('Thong ke', 'Xuất sắc')]"
      ]
     },
     "execution_count": 20,
     "metadata": {},
     "output_type": "execute_result"
    }
   ],
   "source": [
    "#Phân loại thi đua theo số điểm của từng môn học\n",
    "cursor.execute(''' SELECT course_name,\n",
    "        CASE \n",
    "        WHEN AVG(score) > 9.0 THEN 'Xuất sắc'\n",
    "        WHEN AVG(score) BETWEEN 6.0 AND 8.9 THEN 'Tốt'\n",
    "        ELSE 'Kém'\n",
    "    END AS performance_class\n",
    "FROM student\n",
    "JOIN course ON student.course_id = course.course_id\n",
    "GROUP BY course_name;''')\n",
    "conn.commit()\n",
    "cursor.fetchall()"
   ]
  },
  {
   "cell_type": "markdown",
   "metadata": {},
   "source": [
    "3. Xếp hạng sinh viên"
   ]
  },
  {
   "cell_type": "code",
   "execution_count": null,
   "metadata": {},
   "outputs": [
    {
     "data": {
      "text/plain": [
       "[('Tran Thi Lan', 9.2, 1),\n",
       " ('Bui Tien Dung', 9.2, 1),\n",
       " ('Pham Van Nam', 7.9, 2),\n",
       " ('Duong Huu Phuc', 7.2, 3),\n",
       " ('Cao Thi Hanh', 7.0, 4),\n",
       " ('Nguyen Minh Hoang', 6.7, 5)]"
      ]
     },
     "execution_count": 32,
     "metadata": {},
     "output_type": "execute_result"
    }
   ],
   "source": [
    "#Theo điểm số (Hiển thị top 3 sinh viên có điểm số cao nhất và thấp nhất)\n",
    "cursor.execute(''' SELECT name, score, DENSE_RANK() OVER (ORDER BY score DESC) AS rank\n",
    "FROM Student;''')\n",
    "conn.commit()\n",
    "cursor.fetchall()"
   ]
  },
  {
   "cell_type": "code",
   "execution_count": null,
   "metadata": {},
   "outputs": [
    {
     "data": {
      "text/plain": [
       "[('Tran Thi Lan', 'Kinh Te', 9.2, 1),\n",
       " ('Bui Tien Dung', 'Kinh Te', 9.2, 1),\n",
       " ('Duong Huu Phuc', 'Kinh Te', 7.2, 2),\n",
       " ('Cao Thi Hanh', 'May Tinh', 7.0, 1),\n",
       " ('Nguyen Minh Hoang', 'May Tinh', 6.7, 2),\n",
       " ('Pham Van Nam', 'Toan Tin', 7.9, 1)]"
      ]
     },
     "execution_count": 36,
     "metadata": {},
     "output_type": "execute_result"
    }
   ],
   "source": [
    "#Theo lớp học (Hiển thị top 3 sinh viên có điểm số cao nhất và thấp nhất)\n",
    "cursor.execute(''' SELECT name, class, score, DENSE_RANK() OVER (PARTITION BY class ORDER BY score DESC) AS rank\n",
    "FROM Student;''')\n",
    "conn.commit()\n",
    "cursor.fetchall()"
   ]
  },
  {
   "cell_type": "code",
   "execution_count": 37,
   "metadata": {},
   "outputs": [
    {
     "data": {
      "text/plain": [
       "[('Pham Van Nam', 'Giai tich', 7.9, 1),\n",
       " ('Duong Huu Phuc', 'Giai tich', 7.2, 2),\n",
       " ('Cao Thi Hanh', 'Giai tich', 7.0, 3),\n",
       " ('Nguyen Minh Hoang', 'Giai tich', 6.7, 4),\n",
       " ('Tran Thi Lan', 'Thong ke', 9.2, 1),\n",
       " ('Bui Tien Dung', 'Thong ke', 9.2, 1)]"
      ]
     },
     "execution_count": 37,
     "metadata": {},
     "output_type": "execute_result"
    }
   ],
   "source": [
    "#Theo môn học (Hiển thị top 3 sinh viên có điểm số cao nhất và thấp nhất)\n",
    "cursor.execute(''' SELECT name, course_name, score, DENSE_RANK() OVER (PARTITION BY course_name ORDER BY score DESC) AS rank\n",
    "FROM Student\n",
    "JOIN Course ON Student.course_id = Course.course_id;''')\n",
    "conn.commit()\n",
    "cursor.fetchall()"
   ]
  },
  {
   "cell_type": "markdown",
   "metadata": {},
   "source": [
    "4. Thêm trường graduation_date"
   ]
  },
  {
   "cell_type": "code",
   "execution_count": 39,
   "metadata": {},
   "outputs": [
    {
     "data": {
      "text/plain": [
       "[(1, 'Nguyen Minh Hoang', 'May Tinh', 12, 6.7, '2030-03-12'),\n",
       " (2, 'Tran Thi Lan', 'Kinh Te', 34, 9.2, '2026-03-12'),\n",
       " (3, 'Pham Van Nam', 'Toan Tin', 12, 7.9, '2027-03-12'),\n",
       " (7, 'Bui Tien Dung', 'Kinh Te', 34, 9.2, '2026-03-12'),\n",
       " (9, 'Duong Huu Phuc', 'Kinh Te', 12, 7.2, '2028-03-12'),\n",
       " (10, 'Cao Thi Hanh', 'May Tinh', 12, 7.0, '2029-03-12')]"
      ]
     },
     "execution_count": 39,
     "metadata": {},
     "output_type": "execute_result"
    }
   ],
   "source": [
    "# thêm graduation_date\n",
    "cursor.execute('''ALTER TABLE Student ADD graduation_date DATETIME;''')\n",
    "conn.commit()\n",
    "\n",
    "# Tạo một bảng tạm thời với rankrank của sinh viên\n",
    "cursor.execute('''\n",
    "CREATE TEMP TABLE StudentRanks AS\n",
    "SELECT student_id, DENSE_RANK() OVER (ORDER BY score DESC) AS rank\n",
    "FROM Student;\n",
    "''')\n",
    "conn.commit()\n",
    "\n",
    "# Update graduation_date dựa trên rank\n",
    "cursor.execute('''\n",
    "UPDATE Student\n",
    "SET graduation_date = DATE('now', '+' || (SELECT rank FROM StudentRanks WHERE Student.student_id = StudentRanks.student_id) || ' years');\n",
    "''')\n",
    "conn.commit()\n",
    "\n",
    "cursor.execute('SELECT * FROM Student;')\n",
    "cursor.fetchall()"
   ]
  }
 ],
 "metadata": {
  "kernelspec": {
   "display_name": "Python 3",
   "language": "python",
   "name": "python3"
  },
  "language_info": {
   "codemirror_mode": {
    "name": "ipython",
    "version": 3
   },
   "file_extension": ".py",
   "mimetype": "text/x-python",
   "name": "python",
   "nbconvert_exporter": "python",
   "pygments_lexer": "ipython3",
   "version": "3.11.9"
  }
 },
 "nbformat": 4,
 "nbformat_minor": 2
}
