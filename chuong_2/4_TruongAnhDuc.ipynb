{
 "cells": [
  {
   "cell_type": "code",
   "execution_count": 77,
   "metadata": {},
   "outputs": [],
   "source": [
    "import sqlite3\n",
    "import pandas as pd\n",
    "from datetime import datetime, timedelta\n"
   ]
  },
  {
   "cell_type": "code",
   "execution_count": 79,
   "metadata": {},
   "outputs": [
    {
     "data": {
      "text/plain": [
       "<sqlite3.Cursor at 0x2a95312f1c0>"
      ]
     },
     "execution_count": 79,
     "metadata": {},
     "output_type": "execute_result"
    }
   ],
   "source": [
    "# Kết nối đến database SQLite\n",
    "conn = sqlite3.connect(':memory:')\n",
    "cursor = conn.cursor()\n",
    "\n",
    "# Tạo bảng student\n",
    "cursor.execute('''\n",
    "    CREATE TABLE student (\n",
    "        student_id INTEGER PRIMARY KEY,\n",
    "        name TEXT,\n",
    "        class TEXT,\n",
    "        course_id INTEGER,\n",
    "        score REAL\n",
    "    )\n",
    "''')\n",
    "\n",
    "# Tạo bảng course\n",
    "cursor.execute('''\n",
    "    CREATE TABLE course (\n",
    "        id INTEGER PRIMARY KEY,\n",
    "        course_name TEXT\n",
    "    )\n",
    "''')\n",
    "\n",
    "# Thêm dữ liệu vào bảng student\n",
    "students = [\n",
    "    (1, 'Nguyen Minh Hoang', 'May Tinh', 12, 6.7),\n",
    "    (2, 'Tran Thi Lan', 'Kinh Te', 34, 9.2),\n",
    "    (3, 'Pham Van Nam', 'Toan Tin', None, 7.9),\n",
    "    (4, 'Le Thanh Huyen', 'Toan Tin', 20, 7.2),\n",
    "    (5, 'Vu Quoc Anh', 'May Tinh', 24, 8.0),\n",
    "    (6, 'Dang Thuy Linh', 'May Tinh', 24, 5.5),\n",
    "    (7, 'Bui Tien Dung', 'Kinh Te', 34, 9.2),\n",
    "    (8, 'Ho Ngoc Mai', 'Toan Tin', 20, 8.8),\n",
    "    (9, 'Duong Huu Phuc', 'Kinh Te', None, 7.2),\n",
    "    (10, 'Cao Thi Hanh', 'May Tinh', None, 7.0)\n",
    "]\n",
    "cursor.executemany('INSERT INTO student VALUES (?, ?, ?, ?, ?)', students)\n",
    "\n",
    "# Thêm dữ liệu vào bảng course\n",
    "courses = [(12, 'Giai tich'), (34, 'Thong ke'), (26, 'Tin hoc')]\n",
    "cursor.executemany('INSERT INTO course VALUES (?, ?)', courses)\n"
   ]
  },
  {
   "cell_type": "code",
   "execution_count": 80,
   "metadata": {},
   "outputs": [
    {
     "name": "stdout",
     "output_type": "stream",
     "text": [
      "LEFT JOIN Result:\n",
      "   student_id               name     class  course_id  score course_name\n",
      "0           1  Nguyen Minh Hoang  May Tinh       12.0    6.7   Giai tich\n",
      "1           2       Tran Thi Lan   Kinh Te       34.0    9.2    Thong ke\n",
      "2           3       Pham Van Nam  Toan Tin        NaN    7.9        None\n",
      "3           4     Le Thanh Huyen  Toan Tin       20.0    7.2        None\n",
      "4           5        Vu Quoc Anh  May Tinh       24.0    8.0        None\n",
      "5           6     Dang Thuy Linh  May Tinh       24.0    5.5        None\n",
      "6           7      Bui Tien Dung   Kinh Te       34.0    9.2    Thong ke\n",
      "7           8        Ho Ngoc Mai  Toan Tin       20.0    8.8        None\n",
      "8           9     Duong Huu Phuc   Kinh Te        NaN    7.2        None\n",
      "9          10       Cao Thi Hanh  May Tinh        NaN    7.0        None\n",
      "Cartesian Product Result:\n",
      "    student_id               name     class  course_id  score  id course_name\n",
      "0            1  Nguyen Minh Hoang  May Tinh       12.0    6.7  12   Giai tich\n",
      "1            1  Nguyen Minh Hoang  May Tinh       12.0    6.7  26     Tin hoc\n",
      "2            1  Nguyen Minh Hoang  May Tinh       12.0    6.7  34    Thong ke\n",
      "3            2       Tran Thi Lan   Kinh Te       34.0    9.2  12   Giai tich\n",
      "4            2       Tran Thi Lan   Kinh Te       34.0    9.2  26     Tin hoc\n",
      "5            2       Tran Thi Lan   Kinh Te       34.0    9.2  34    Thong ke\n",
      "6            3       Pham Van Nam  Toan Tin        NaN    7.9  12   Giai tich\n",
      "7            3       Pham Van Nam  Toan Tin        NaN    7.9  26     Tin hoc\n",
      "8            3       Pham Van Nam  Toan Tin        NaN    7.9  34    Thong ke\n",
      "9            4     Le Thanh Huyen  Toan Tin       20.0    7.2  12   Giai tich\n",
      "10           4     Le Thanh Huyen  Toan Tin       20.0    7.2  26     Tin hoc\n",
      "11           4     Le Thanh Huyen  Toan Tin       20.0    7.2  34    Thong ke\n",
      "12           5        Vu Quoc Anh  May Tinh       24.0    8.0  12   Giai tich\n",
      "13           5        Vu Quoc Anh  May Tinh       24.0    8.0  26     Tin hoc\n",
      "14           5        Vu Quoc Anh  May Tinh       24.0    8.0  34    Thong ke\n",
      "15           6     Dang Thuy Linh  May Tinh       24.0    5.5  12   Giai tich\n",
      "16           6     Dang Thuy Linh  May Tinh       24.0    5.5  26     Tin hoc\n",
      "17           6     Dang Thuy Linh  May Tinh       24.0    5.5  34    Thong ke\n",
      "18           7      Bui Tien Dung   Kinh Te       34.0    9.2  12   Giai tich\n",
      "19           7      Bui Tien Dung   Kinh Te       34.0    9.2  26     Tin hoc\n",
      "20           7      Bui Tien Dung   Kinh Te       34.0    9.2  34    Thong ke\n",
      "21           8        Ho Ngoc Mai  Toan Tin       20.0    8.8  12   Giai tich\n",
      "22           8        Ho Ngoc Mai  Toan Tin       20.0    8.8  26     Tin hoc\n",
      "23           8        Ho Ngoc Mai  Toan Tin       20.0    8.8  34    Thong ke\n",
      "24           9     Duong Huu Phuc   Kinh Te        NaN    7.2  12   Giai tich\n",
      "25           9     Duong Huu Phuc   Kinh Te        NaN    7.2  26     Tin hoc\n",
      "26           9     Duong Huu Phuc   Kinh Te        NaN    7.2  34    Thong ke\n",
      "27          10       Cao Thi Hanh  May Tinh        NaN    7.0  12   Giai tich\n",
      "28          10       Cao Thi Hanh  May Tinh        NaN    7.0  26     Tin hoc\n",
      "29          10       Cao Thi Hanh  May Tinh        NaN    7.0  34    Thong ke\n"
     ]
    }
   ],
   "source": [
    "# 1. Thực hiện JOIN\n",
    "query = '''\n",
    "    SELECT s.student_id, s.name, s.class, s.course_id, s.score, c.course_name\n",
    "    FROM student s\n",
    "    LEFT JOIN course c ON s.course_id = c.id\n",
    "'''\n",
    "result = pd.read_sql_query(query, conn)\n",
    "print(\"LEFT JOIN Result:\")\n",
    "print(result)\n",
    "\n",
    "# 1.1. Thực hiện tích Descartes\n",
    "query_cartesian = \"SELECT * FROM student, course;\"\n",
    "cartesian_result = pd.read_sql_query(query_cartesian, conn)\n",
    "print(\"Cartesian Product Result:\")\n",
    "print(cartesian_result)\n"
   ]
  },
  {
   "cell_type": "code",
   "execution_count": 81,
   "metadata": {},
   "outputs": [],
   "source": [
    "# 2. Cập nhật course_id còn thiếu và loại bỏ dữ liệu không hợp lệ\n",
    "cursor.execute(\"\"\"\n",
    "UPDATE student \n",
    "SET course_id = (SELECT MIN(id) FROM course) \n",
    "WHERE course_id IS NULL\n",
    "\"\"\")\n",
    "conn.commit()\n",
    "\n",
    "cursor.execute(\"\"\"\n",
    "DELETE FROM student \n",
    "WHERE course_id NOT IN (SELECT id FROM course)\n",
    "\"\"\")\n",
    "conn.commit()"
   ]
  },
  {
   "cell_type": "code",
   "execution_count": 82,
   "metadata": {},
   "outputs": [
    {
     "name": "stdout",
     "output_type": "stream",
     "text": [
      "\n",
      "Dữ liệu sinh viên sau khi cập nhật course_id:\n",
      "   student_id               name     class  course_id  score\n",
      "0           1  Nguyen Minh Hoang  May Tinh         12    6.7\n",
      "1           2       Tran Thi Lan   Kinh Te         34    9.2\n",
      "2           3       Pham Van Nam  Toan Tin         12    7.9\n",
      "3           7      Bui Tien Dung   Kinh Te         34    9.2\n",
      "4           9     Duong Huu Phuc   Kinh Te         12    7.2\n",
      "5          10       Cao Thi Hanh  May Tinh         12    7.0\n"
     ]
    }
   ],
   "source": [
    "updated_students_df = pd.read_sql(\"SELECT * FROM student\", conn)\n",
    "print(\"\\nDữ liệu sinh viên sau khi cập nhật course_id:\")\n",
    "print(updated_students_df)\n"
   ]
  },
  {
   "cell_type": "code",
   "execution_count": 83,
   "metadata": {},
   "outputs": [
    {
     "name": "stdout",
     "output_type": "stream",
     "text": [
      "Summary by Class:\n",
      "      class  total_students  avg_score\n",
      "0   Kinh Te               3   8.533333\n",
      "1  May Tinh               2   6.850000\n",
      "2  Toan Tin               1   7.900000\n",
      "Summary by Course:\n",
      "   course_id  total_students  avg_score\n",
      "0         12               4        7.2\n",
      "1         34               2        9.2\n"
     ]
    }
   ],
   "source": [
    "# 3. Tính toán tổng số sinh viên và điểm trung bình\n",
    "summary_class = pd.read_sql_query('''\n",
    "    SELECT class, COUNT(*) as total_students, AVG(score) as avg_score\n",
    "    FROM student\n",
    "    GROUP BY class\n",
    "''', conn)\n",
    "print(\"Summary by Class:\")\n",
    "print(summary_class)\n",
    "\n",
    "summary_course = pd.read_sql_query('''\n",
    "    SELECT course_id, COUNT(*) as total_students, AVG(score) as avg_score\n",
    "    FROM student\n",
    "    GROUP BY course_id\n",
    "''', conn)\n",
    "print(\"Summary by Course:\")\n",
    "print(summary_course)"
   ]
  },
  {
   "cell_type": "code",
   "execution_count": 84,
   "metadata": {},
   "outputs": [],
   "source": [
    "# 4. Phân loại sinh viên theo điểm\n",
    "cursor.execute('ALTER TABLE student ADD COLUMN rank TEXT')\n",
    "cursor.execute('''\n",
    "    UPDATE student SET rank = CASE\n",
    "        WHEN score >= 9.0 THEN 'Xuất sắc'\n",
    "        WHEN score >= 6.0 THEN 'Tốt'\n",
    "        ELSE 'Kém'\n",
    "    END\n",
    "''')\n",
    "conn.commit()"
   ]
  },
  {
   "cell_type": "code",
   "execution_count": 85,
   "metadata": {},
   "outputs": [
    {
     "name": "stdout",
     "output_type": "stream",
     "text": [
      "Top 3 Students:\n",
      "   student_id           name     class  course_id  score      rank\n",
      "0           2   Tran Thi Lan   Kinh Te         34    9.2  Xuất sắc\n",
      "1           7  Bui Tien Dung   Kinh Te         34    9.2  Xuất sắc\n",
      "2           3   Pham Van Nam  Toan Tin         12    7.9       Tốt\n",
      "Bottom 3 Students:\n",
      "   student_id               name     class  course_id  score rank\n",
      "0           1  Nguyen Minh Hoang  May Tinh         12    6.7  Tốt\n",
      "1          10       Cao Thi Hanh  May Tinh         12    7.0  Tốt\n",
      "2           9     Duong Huu Phuc   Kinh Te         12    7.2  Tốt\n"
     ]
    }
   ],
   "source": [
    "# 5. Xếp hạng sinh viên theo điểm\n",
    "query_top3 = 'SELECT * FROM student ORDER BY score DESC LIMIT 3'\n",
    "query_bottom3 = 'SELECT * FROM student ORDER BY score ASC LIMIT 3'\n",
    "\n",
    "top_students = pd.read_sql_query(query_top3, conn)\n",
    "bottom_students = pd.read_sql_query(query_bottom3, conn)\n",
    "print(\"Top 3 Students:\")\n",
    "print(top_students)\n",
    "print(\"Bottom 3 Students:\")\n",
    "print(bottom_students)\n"
   ]
  },
  {
   "cell_type": "code",
   "execution_count": 87,
   "metadata": {},
   "outputs": [
    {
     "name": "stdout",
     "output_type": "stream",
     "text": [
      "Final Student Data with Graduation Date:\n",
      "   student_id               name     class  course_id  score      rank  \\\n",
      "0           1  Nguyen Minh Hoang  May Tinh         12    6.7       Tốt   \n",
      "1           2       Tran Thi Lan   Kinh Te         34    9.2  Xuất sắc   \n",
      "2           3       Pham Van Nam  Toan Tin         12    7.9       Tốt   \n",
      "3           7      Bui Tien Dung   Kinh Te         34    9.2  Xuất sắc   \n",
      "4           9     Duong Huu Phuc   Kinh Te         12    7.2       Tốt   \n",
      "5          10       Cao Thi Hanh  May Tinh         12    7.0       Tốt   \n",
      "\n",
      "  graduation_date  \n",
      "0      2025-09-09  \n",
      "1      2025-04-12  \n",
      "2      2025-06-11  \n",
      "3      2025-05-12  \n",
      "4      2025-07-11  \n",
      "5      2025-08-10  \n"
     ]
    }
   ],
   "source": [
    "# 6. Kiểm tra và thêm trường graduation_date nếu chưa có\n",
    "cursor.execute(\"PRAGMA table_info(student)\")\n",
    "columns = [row[1] for row in cursor.fetchall()]\n",
    "if \"graduation_date\" not in columns:\n",
    "    cursor.execute('ALTER TABLE student ADD COLUMN graduation_date TEXT')\n",
    "\n",
    "current_date = datetime.now()\n",
    "\n",
    "# Cập nhật ngày tốt nghiệp dựa trên xếp hạng điểm số\n",
    "students = cursor.execute('SELECT student_id, score FROM student WHERE score IS NOT NULL ORDER BY score DESC').fetchall()\n",
    "\n",
    "for rank, (student_id, score) in enumerate(students, start=1):\n",
    "    grad_date = current_date + timedelta(days=rank * 30)\n",
    "    cursor.execute('UPDATE student SET graduation_date = ? WHERE student_id = ?', (grad_date.strftime('%Y-%m-%d'), student_id))\n",
    "\n",
    "conn.commit()\n",
    "\n",
    "# Kiểm tra dữ liệu sau khi cập nhật\n",
    "final_data = pd.read_sql_query('SELECT * FROM student', conn)\n",
    "print(\"Final Student Data with Graduation Date:\")\n",
    "print(final_data)"
   ]
  },
  {
   "cell_type": "code",
   "execution_count": 88,
   "metadata": {},
   "outputs": [],
   "source": [
    "conn.close()\n"
   ]
  }
 ],
 "metadata": {
  "kernelspec": {
   "display_name": "base",
   "language": "python",
   "name": "python3"
  },
  "language_info": {
   "codemirror_mode": {
    "name": "ipython",
    "version": 3
   },
   "file_extension": ".py",
   "mimetype": "text/x-python",
   "name": "python",
   "nbconvert_exporter": "python",
   "pygments_lexer": "ipython3",
   "version": "3.12.4"
  }
 },
 "nbformat": 4,
 "nbformat_minor": 2
}
