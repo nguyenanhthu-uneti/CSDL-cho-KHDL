{
 "cells": [
  {
   "cell_type": "code",
   "execution_count": 8,
   "id": "2adccced-3ee5-4130-a791-858cf2e2748d",
   "metadata": {},
   "outputs": [],
   "source": [
    "import sqlite3\n",
    "import pandas as pd "
   ]
  },
  {
   "cell_type": "code",
   "execution_count": 4,
   "id": "f6c14fb8-81d3-4ddc-aaf5-2a01c3228885",
   "metadata": {},
   "outputs": [],
   "source": [
    "# Kết nối SQLite (tạo file database trong bộ nhớ hoặc lưu vào file)\n",
    "conn = sqlite3.connect(\"students.db\")  # Tạo file database students.db\n",
    "cursor = conn.cursor()"
   ]
  },
  {
   "cell_type": "code",
   "execution_count": 5,
   "id": "d7ea311d-911c-4494-89da-05af3fe358a9",
   "metadata": {},
   "outputs": [],
   "source": [
    "cursor.execute(\"DROP TABLE IF EXISTS student;\")\n",
    "cursor.execute(\"DROP TABLE IF EXISTS course;\")\n",
    "\n",
    "#Tạo bảng student\n",
    "cursor.execute(\"\"\"\n",
    "CREATE TABLE IF NOT EXISTS student (\n",
    "    student_id INTEGER PRIMARY KEY,\n",
    "    name TEXT,\n",
    "    class TEXT,\n",
    "    course_id INTEGER,\n",
    "    score REAL\n",
    ");\n",
    "\"\"\")\n",
    "\n",
    "# Tạo bảng course\n",
    "cursor.execute(\"\"\"\n",
    "CREATE TABLE IF NOT EXISTS course (\n",
    "    id INTEGER PRIMARY KEY,\n",
    "    course_name TEXT\n",
    ");\n",
    "\"\"\")\n",
    "\n",
    "# Lưu thay đổi vào database\n",
    "conn.commit()\n"
   ]
  },
  {
   "cell_type": "code",
   "execution_count": 6,
   "id": "ebe3a4e5-387c-472f-8b8d-108a6f64152b",
   "metadata": {},
   "outputs": [],
   "source": [
    "# Dữ liệu cho bảng student (giữ nguyên None nếu thiếu course_id)\n",
    "student_data = [\n",
    "    (1, \"Nguyen Minh Hoang\", \"May Tinh\", 12, 6.7),\n",
    "    (2, \"Tran Thi Lan\", \"Kinh Te\", 34, 9.2),\n",
    "    (3, \"Pham Van Nam\", \"Toan Tin\", None, 7.9),  # Thiếu course_id\n",
    "    (4, \"Le Thanh Huyen\", \"Toan Tin\", 20, 7.2),\n",
    "    (5, \"Vu Quoc Anh\", \"May Tinh\", 24, 8.0),\n",
    "    (6, \"Dang Thuy Linh\", \"May Tinh\", 24, 5.5),\n",
    "    (7, \"Bui Tien Dung\", \"Kinh Te\", 34, 9.2),\n",
    "    (8, \"Ho Ngoc Mai\", \"Toan Tin\", 20, 8.8),\n",
    "    (9, \"Duong Huu Phuc\", \"Kinh Te\", None, 7.2),  # Thiếu course_id\n",
    "    (10, \"Cao Thi Hanh\", \"May Tinh\", None, 7.0)   # Thiếu course_id\n",
    "]\n",
    "\n",
    "# Dữ liệu cho bảng course\n",
    "course_data = [\n",
    "    (12, \"Giai tich\"),\n",
    "    (34, \"Thong ke\"),\n",
    "    (26, \"Tin hoc\")\n",
    "]\n",
    "# Chèn dữ liệu vào bảng student và course\n",
    "cursor.executemany(\"INSERT OR IGNORE INTO student VALUES (?, ?, ?, ?, ?);\", student_data)\n",
    "cursor.executemany(\"INSERT OR IGNORE INTO course VALUES (?, ?);\", course_data)\n",
    "conn.commit()"
   ]
  },
  {
   "cell_type": "code",
   "execution_count": 7,
   "id": "7ec0e2c0-41c6-4744-be20-c10392700513",
   "metadata": {},
   "outputs": [
    {
     "name": "stdout",
     "output_type": "stream",
     "text": [
      "Bảng Student:\n"
     ]
    },
    {
     "data": {
      "text/html": [
       "<div>\n",
       "<style scoped>\n",
       "    .dataframe tbody tr th:only-of-type {\n",
       "        vertical-align: middle;\n",
       "    }\n",
       "\n",
       "    .dataframe tbody tr th {\n",
       "        vertical-align: top;\n",
       "    }\n",
       "\n",
       "    .dataframe thead th {\n",
       "        text-align: right;\n",
       "    }\n",
       "</style>\n",
       "<table border=\"1\" class=\"dataframe\">\n",
       "  <thead>\n",
       "    <tr style=\"text-align: right;\">\n",
       "      <th></th>\n",
       "      <th>student_id</th>\n",
       "      <th>name</th>\n",
       "      <th>class</th>\n",
       "      <th>course_id</th>\n",
       "      <th>score</th>\n",
       "    </tr>\n",
       "  </thead>\n",
       "  <tbody>\n",
       "    <tr>\n",
       "      <th>0</th>\n",
       "      <td>1</td>\n",
       "      <td>Nguyen Minh Hoang</td>\n",
       "      <td>May Tinh</td>\n",
       "      <td>12.0</td>\n",
       "      <td>6.7</td>\n",
       "    </tr>\n",
       "    <tr>\n",
       "      <th>1</th>\n",
       "      <td>2</td>\n",
       "      <td>Tran Thi Lan</td>\n",
       "      <td>Kinh Te</td>\n",
       "      <td>34.0</td>\n",
       "      <td>9.2</td>\n",
       "    </tr>\n",
       "    <tr>\n",
       "      <th>2</th>\n",
       "      <td>3</td>\n",
       "      <td>Pham Van Nam</td>\n",
       "      <td>Toan Tin</td>\n",
       "      <td>NaN</td>\n",
       "      <td>7.9</td>\n",
       "    </tr>\n",
       "    <tr>\n",
       "      <th>3</th>\n",
       "      <td>4</td>\n",
       "      <td>Le Thanh Huyen</td>\n",
       "      <td>Toan Tin</td>\n",
       "      <td>20.0</td>\n",
       "      <td>7.2</td>\n",
       "    </tr>\n",
       "    <tr>\n",
       "      <th>4</th>\n",
       "      <td>5</td>\n",
       "      <td>Vu Quoc Anh</td>\n",
       "      <td>May Tinh</td>\n",
       "      <td>24.0</td>\n",
       "      <td>8.0</td>\n",
       "    </tr>\n",
       "    <tr>\n",
       "      <th>5</th>\n",
       "      <td>6</td>\n",
       "      <td>Dang Thuy Linh</td>\n",
       "      <td>May Tinh</td>\n",
       "      <td>24.0</td>\n",
       "      <td>5.5</td>\n",
       "    </tr>\n",
       "    <tr>\n",
       "      <th>6</th>\n",
       "      <td>7</td>\n",
       "      <td>Bui Tien Dung</td>\n",
       "      <td>Kinh Te</td>\n",
       "      <td>34.0</td>\n",
       "      <td>9.2</td>\n",
       "    </tr>\n",
       "    <tr>\n",
       "      <th>7</th>\n",
       "      <td>8</td>\n",
       "      <td>Ho Ngoc Mai</td>\n",
       "      <td>Toan Tin</td>\n",
       "      <td>20.0</td>\n",
       "      <td>8.8</td>\n",
       "    </tr>\n",
       "    <tr>\n",
       "      <th>8</th>\n",
       "      <td>9</td>\n",
       "      <td>Duong Huu Phuc</td>\n",
       "      <td>Kinh Te</td>\n",
       "      <td>NaN</td>\n",
       "      <td>7.2</td>\n",
       "    </tr>\n",
       "    <tr>\n",
       "      <th>9</th>\n",
       "      <td>10</td>\n",
       "      <td>Cao Thi Hanh</td>\n",
       "      <td>May Tinh</td>\n",
       "      <td>NaN</td>\n",
       "      <td>7.0</td>\n",
       "    </tr>\n",
       "  </tbody>\n",
       "</table>\n",
       "</div>"
      ],
      "text/plain": [
       "   student_id               name     class  course_id  score\n",
       "0           1  Nguyen Minh Hoang  May Tinh       12.0    6.7\n",
       "1           2       Tran Thi Lan   Kinh Te       34.0    9.2\n",
       "2           3       Pham Van Nam  Toan Tin        NaN    7.9\n",
       "3           4     Le Thanh Huyen  Toan Tin       20.0    7.2\n",
       "4           5        Vu Quoc Anh  May Tinh       24.0    8.0\n",
       "5           6     Dang Thuy Linh  May Tinh       24.0    5.5\n",
       "6           7      Bui Tien Dung   Kinh Te       34.0    9.2\n",
       "7           8        Ho Ngoc Mai  Toan Tin       20.0    8.8\n",
       "8           9     Duong Huu Phuc   Kinh Te        NaN    7.2\n",
       "9          10       Cao Thi Hanh  May Tinh        NaN    7.0"
      ]
     },
     "metadata": {},
     "output_type": "display_data"
    },
    {
     "name": "stdout",
     "output_type": "stream",
     "text": [
      "Bảng Course:\n"
     ]
    },
    {
     "data": {
      "text/html": [
       "<div>\n",
       "<style scoped>\n",
       "    .dataframe tbody tr th:only-of-type {\n",
       "        vertical-align: middle;\n",
       "    }\n",
       "\n",
       "    .dataframe tbody tr th {\n",
       "        vertical-align: top;\n",
       "    }\n",
       "\n",
       "    .dataframe thead th {\n",
       "        text-align: right;\n",
       "    }\n",
       "</style>\n",
       "<table border=\"1\" class=\"dataframe\">\n",
       "  <thead>\n",
       "    <tr style=\"text-align: right;\">\n",
       "      <th></th>\n",
       "      <th>id</th>\n",
       "      <th>course_name</th>\n",
       "    </tr>\n",
       "  </thead>\n",
       "  <tbody>\n",
       "    <tr>\n",
       "      <th>0</th>\n",
       "      <td>12</td>\n",
       "      <td>Giai tich</td>\n",
       "    </tr>\n",
       "    <tr>\n",
       "      <th>1</th>\n",
       "      <td>26</td>\n",
       "      <td>Tin hoc</td>\n",
       "    </tr>\n",
       "    <tr>\n",
       "      <th>2</th>\n",
       "      <td>34</td>\n",
       "      <td>Thong ke</td>\n",
       "    </tr>\n",
       "  </tbody>\n",
       "</table>\n",
       "</div>"
      ],
      "text/plain": [
       "   id course_name\n",
       "0  12   Giai tich\n",
       "1  26     Tin hoc\n",
       "2  34    Thong ke"
      ]
     },
     "metadata": {},
     "output_type": "display_data"
    }
   ],
   "source": [
    "# Đọc dữ liệu từ bảng student để kiểm tra\n",
    "df_student = pd.read_sql_query(\"SELECT * FROM student;\", conn)\n",
    "df_course = pd.read_sql_query(\"SELECT * FROM course;\", conn)\n",
    "\n",
    "# Hiển thị kết quả\n",
    "print(\"Bảng Student:\")\n",
    "display(df_student)\n",
    "\n",
    "print(\"Bảng Course:\")\n",
    "display(df_course)\n",
    "\n",
    "# Đóng kết nối\n",
    "conn.close()"
   ]
  },
  {
   "cell_type": "markdown",
   "id": "8842a9a3",
   "metadata": {},
   "source": [
    "# JOIN bảng Student và Course:"
   ]
  },
  {
   "cell_type": "code",
   "execution_count": 11,
   "id": "c01ba62e",
   "metadata": {},
   "outputs": [
    {
     "name": "stdout",
     "output_type": "stream",
     "text": [
      "INNER JOIN:\n",
      "    student_id               name     class  course_id  score  id course_name\n",
      "0           1  Nguyen Minh Hoang  May Tinh       12.0    6.7  12   Giai tich\n",
      "1           2       Tran Thi Lan   Kinh Te       34.0    9.2  34    Thong ke\n",
      "2           7      Bui Tien Dung   Kinh Te       34.0    9.2  34    Thong ke\n"
     ]
    }
   ],
   "source": [
    "df_inner = df_student.merge(df_course, left_on='course_id', right_on='id', how='inner')\n",
    "print(\"INNER JOIN:\\n\", df_inner)\n"
   ]
  },
  {
   "cell_type": "code",
   "execution_count": 13,
   "id": "25311946",
   "metadata": {},
   "outputs": [
    {
     "name": "stdout",
     "output_type": "stream",
     "text": [
      "RIGHT JOIN:\n",
      "    student_id               name     class  course_id  score  id course_name\n",
      "0         1.0  Nguyen Minh Hoang  May Tinh       12.0    6.7  12   Giai tich\n",
      "1         NaN                NaN       NaN        NaN    NaN  26     Tin hoc\n",
      "2         2.0       Tran Thi Lan   Kinh Te       34.0    9.2  34    Thong ke\n",
      "3         7.0      Bui Tien Dung   Kinh Te       34.0    9.2  34    Thong ke\n"
     ]
    }
   ],
   "source": [
    "df_right = df_student.merge(df_course, left_on='course_id', right_on='id', how='right')\n",
    "print(\"RIGHT JOIN:\\n\", df_right)\n"
   ]
  },
  {
   "cell_type": "markdown",
   "id": "6b9a6567",
   "metadata": {},
   "source": [
    "# 2 Hãy cập nhật những giá trị course_id còn thiếu trong bảng studenttrong đó các giá trị được điền là những giá trị nằm trong bảng course và loại bỏ nhữngbản ghi tham gia những môn học không tồn tại bảng course."
   ]
  },
  {
   "cell_type": "code",
   "execution_count": 17,
   "id": "9ace51fa",
   "metadata": {},
   "outputs": [
    {
     "name": "stdout",
     "output_type": "stream",
     "text": [
      "Bảng Student sau khi cập nhật course_id:\n",
      "    student_id               name     class  course_id  score\n",
      "0           1  Nguyen Minh Hoang  May Tinh       12.0    6.7\n",
      "1           2       Tran Thi Lan   Kinh Te       34.0    9.2\n",
      "2           3       Pham Van Nam  Toan Tin       26.0    7.9\n",
      "6           7      Bui Tien Dung   Kinh Te       34.0    9.2\n",
      "8           9     Duong Huu Phuc   Kinh Te       26.0    7.2\n",
      "9          10       Cao Thi Hanh  May Tinh       12.0    7.0\n"
     ]
    }
   ],
   "source": [
    "import numpy as np\n",
    "\n",
    "# Điền các giá trị course_id bị thiếu bằng giá trị hợp lệ bất kỳ từ df_course\n",
    "valid_course_ids = df_course['id'].tolist()\n",
    "df_student['course_id'] = df_student['course_id'].apply(lambda x: np.random.choice(valid_course_ids) if pd.isna(x) else x)\n",
    "\n",
    "# Loại bỏ sinh viên có course_id không tồn tại trong bảng Course\n",
    "df_student = df_student[df_student['course_id'].isin(df_course['id'])]\n",
    "\n",
    "print(\"Bảng Student sau khi cập nhật course_id:\\n\", df_student)\n"
   ]
  },
  {
   "cell_type": "markdown",
   "id": "08c2d027",
   "metadata": {},
   "source": [
    "+ a. Tổng số sinh viên, điểm trung bình của từng lớp."
   ]
  },
  {
   "cell_type": "code",
   "execution_count": 18,
   "id": "825aed09",
   "metadata": {},
   "outputs": [
    {
     "name": "stdout",
     "output_type": "stream",
     "text": [
      "Tổng số sinh viên và điểm trung bình theo từng lớp:\n",
      "       class  total_students  avg_score\n",
      "0   Kinh Te               3   8.533333\n",
      "1  May Tinh               2   6.850000\n",
      "2  Toan Tin               1   7.900000\n"
     ]
    }
   ],
   "source": [
    "df_class_stats = df_student.groupby('class').agg(\n",
    "    total_students=('student_id', 'count'),\n",
    "    avg_score=('score', 'mean')\n",
    ").reset_index()\n",
    "\n",
    "print(\"Tổng số sinh viên và điểm trung bình theo từng lớp:\\n\", df_class_stats)\n"
   ]
  },
  {
   "cell_type": "markdown",
   "id": "d97c0653",
   "metadata": {},
   "source": [
    "+ b,Tổng số sinh viên, điểm trung bình của từng môn học"
   ]
  },
  {
   "cell_type": "code",
   "execution_count": 20,
   "id": "62a227d4",
   "metadata": {},
   "outputs": [
    {
     "name": "stdout",
     "output_type": "stream",
     "text": [
      "Tổng số sinh viên và điểm trung bình của  từng môn học:\n",
      "   course_name  total_students  avg_score\n",
      "0   Giai tich               2       6.85\n",
      "1    Thong ke               2       9.20\n",
      "2     Tin hoc               2       7.55\n"
     ]
    }
   ],
   "source": [
    "df_merged = df_student.merge(df_course, left_on='course_id', right_on='id')\n",
    "\n",
    "df_course_stats = df_merged.groupby('course_name').agg(\n",
    "    total_students=('student_id', 'count'),\n",
    "    avg_score=('score', 'mean')\n",
    ").reset_index()\n",
    "\n",
    "print(\"Tổng số sinh viên và điểm trung bình của  từng môn học:\\n\", df_course_stats)\n"
   ]
  },
  {
   "cell_type": "markdown",
   "id": "7168be52",
   "metadata": {},
   "source": [
    "+ c, Phân loại thi đua theo số điểm của từng môn học biết:"
   ]
  },
  {
   "cell_type": "code",
   "execution_count": 21,
   "id": "e945ef6c",
   "metadata": {},
   "outputs": [
    {
     "name": "stdout",
     "output_type": "stream",
     "text": [
      "Phân loại thi đua theo từng môn học:\n",
      "   course_name  total_students  avg_score classification\n",
      "0   Giai tich               2       6.85            Tốt\n",
      "1    Thong ke               2       9.20       Xuất sắc\n",
      "2     Tin hoc               2       7.55            Tốt\n"
     ]
    }
   ],
   "source": [
    "def classify(score):\n",
    "    if score >= 9.0:\n",
    "        return 'Xuất sắc'\n",
    "    elif 6.0 <= score <= 8.9:\n",
    "        return 'Tốt'\n",
    "    else:\n",
    "        return 'Kém'\n",
    "\n",
    "df_course_stats['classification'] = df_course_stats['avg_score'].apply(classify)\n",
    "\n",
    "print(\"Phân loại thi đua theo từng môn học:\\n\", df_course_stats)\n"
   ]
  },
  {
   "cell_type": "markdown",
   "id": "a6a6a6cb",
   "metadata": {},
   "source": [
    "# 3. Hãy xếp hạng sinh viên thông qua:"
   ]
  },
  {
   "cell_type": "markdown",
   "id": "24af15bc",
   "metadata": {},
   "source": [
    "+ a. Điểm số:"
   ]
  },
  {
   "cell_type": "code",
   "execution_count": 23,
   "id": "6107395b",
   "metadata": {},
   "outputs": [
    {
     "name": "stdout",
     "output_type": "stream",
     "text": [
      "Xếp hạng sinh viên theo điểm số chung:\n",
      "    student_id               name  score  rank_overall\n",
      "1           2       Tran Thi Lan    9.2           1.0\n",
      "6           7      Bui Tien Dung    9.2           1.0\n",
      "2           3       Pham Van Nam    7.9           2.0\n",
      "8           9     Duong Huu Phuc    7.2           3.0\n",
      "9          10       Cao Thi Hanh    7.0           4.0\n",
      "0           1  Nguyen Minh Hoang    6.7           5.0\n"
     ]
    }
   ],
   "source": [
    "df_student['rank_overall'] = df_student['score'].rank(method='dense', ascending=False)\n",
    "df_student = df_student.sort_values(by='rank_overall')\n",
    "print(\"Xếp hạng sinh viên theo điểm số chung:\\n\", df_student[['student_id', 'name', 'score', 'rank_overall']])\n"
   ]
  },
  {
   "cell_type": "markdown",
   "id": "b9aaf91b",
   "metadata": {},
   "source": [
    "+ b. Điểm số theo lớp học:\n"
   ]
  },
  {
   "cell_type": "code",
   "execution_count": 24,
   "id": "16c445d1",
   "metadata": {},
   "outputs": [
    {
     "name": "stdout",
     "output_type": "stream",
     "text": [
      "Xếp hạng sinh viên theo điểm số trong từng lớp:\n",
      "    student_id               name     class  score  rank_by_class\n",
      "1           2       Tran Thi Lan   Kinh Te    9.2            1.0\n",
      "6           7      Bui Tien Dung   Kinh Te    9.2            1.0\n",
      "8           9     Duong Huu Phuc   Kinh Te    7.2            2.0\n",
      "9          10       Cao Thi Hanh  May Tinh    7.0            1.0\n",
      "0           1  Nguyen Minh Hoang  May Tinh    6.7            2.0\n",
      "2           3       Pham Van Nam  Toan Tin    7.9            1.0\n"
     ]
    }
   ],
   "source": [
    "df_student['rank_by_class'] = df_student.groupby('class')['score'].rank(method='dense', ascending=False)\n",
    "df_student = df_student.sort_values(by=['class', 'rank_by_class'])\n",
    "print(\"Xếp hạng sinh viên theo điểm số trong từng lớp:\\n\", df_student[['student_id', 'name', 'class', 'score', 'rank_by_class']])\n"
   ]
  },
  {
   "cell_type": "markdown",
   "id": "d5fbb713",
   "metadata": {},
   "source": [
    "+ c,Điểm số theo mã môn học :"
   ]
  },
  {
   "cell_type": "code",
   "execution_count": 25,
   "id": "f7dee1dc",
   "metadata": {},
   "outputs": [
    {
     "name": "stdout",
     "output_type": "stream",
     "text": [
      "Xếp hạng sinh viên theo điểm số trong từng môn học:\n",
      "    student_id               name  course_id  score  rank_by_course\n",
      "9          10       Cao Thi Hanh       12.0    7.0             1.0\n",
      "0           1  Nguyen Minh Hoang       12.0    6.7             2.0\n",
      "2           3       Pham Van Nam       26.0    7.9             1.0\n",
      "8           9     Duong Huu Phuc       26.0    7.2             2.0\n",
      "1           2       Tran Thi Lan       34.0    9.2             1.0\n",
      "6           7      Bui Tien Dung       34.0    9.2             1.0\n"
     ]
    }
   ],
   "source": [
    "df_student['rank_by_course'] = df_student.groupby('course_id')['score'].rank(method='dense', ascending=False)\n",
    "df_student = df_student.sort_values(by=['course_id', 'rank_by_course'])\n",
    "print(\"Xếp hạng sinh viên theo điểm số trong từng môn học:\\n\", df_student[['student_id', 'name', 'course_id', 'score', 'rank_by_course']])\n"
   ]
  },
  {
   "cell_type": "code",
   "execution_count": 27,
   "id": "5f6a542b",
   "metadata": {},
   "outputs": [
    {
     "name": "stdout",
     "output_type": "stream",
     "text": [
      " Top 3 sinh viên có điểm cao nhất toàn bộ:\n",
      "    student_id           name  score  rank_overall\n",
      "1           2   Tran Thi Lan    9.2           1.0\n",
      "6           7  Bui Tien Dung    9.2           1.0\n",
      "2           3   Pham Van Nam    7.9           2.0\n",
      "\n",
      " Top 3 sinh viên có điểm thấp nhất toàn bộ:\n",
      "    student_id               name  score  rank_overall\n",
      "0           1  Nguyen Minh Hoang    6.7           5.0\n",
      "9          10       Cao Thi Hanh    7.0           4.0\n",
      "8           9     Duong Huu Phuc    7.2           3.0\n"
     ]
    }
   ],
   "source": [
    "top_3_highest_overall = df_student.nsmallest(3, 'rank_overall')\n",
    "top_3_lowest_overall = df_student.nlargest(3, 'rank_overall')\n",
    "\n",
    "print(\" Top 3 sinh viên có điểm cao nhất toàn bộ:\\n\", top_3_highest_overall[['student_id', 'name', 'score', 'rank_overall']])\n",
    "print(\"\\n Top 3 sinh viên có điểm thấp nhất toàn bộ:\\n\", top_3_lowest_overall[['student_id', 'name', 'score', 'rank_overall']])\n"
   ]
  },
  {
   "cell_type": "markdown",
   "id": "6e7ce4b8",
   "metadata": {},
   "source": [
    "# 4.  BBổ sung thêm một trường graduation_date có kiểu dữ liệu là DATETIME vào bảngstudent để xác định thời gian tốt nghiệp của từng bạn, trong đó thời gian tốt nghiệp đượcxác định bởi thời gian hiện tại cộng với số hạng tương ứng của bạn đó tính theo điểm số:"
   ]
  },
  {
   "cell_type": "code",
   "execution_count": 28,
   "id": "5b3195b7",
   "metadata": {},
   "outputs": [
    {
     "name": "stdout",
     "output_type": "stream",
     "text": [
      "   student_id               name  score  rank_overall  \\\n",
      "9          10       Cao Thi Hanh    7.0           4.0   \n",
      "0           1  Nguyen Minh Hoang    6.7           5.0   \n",
      "2           3       Pham Van Nam    7.9           2.0   \n",
      "8           9     Duong Huu Phuc    7.2           3.0   \n",
      "1           2       Tran Thi Lan    9.2           1.0   \n",
      "6           7      Bui Tien Dung    9.2           1.0   \n",
      "\n",
      "             graduation_date  \n",
      "9 2025-07-08 14:18:21.061879  \n",
      "0 2025-08-07 14:18:21.061879  \n",
      "2 2025-05-09 14:18:21.061879  \n",
      "8 2025-06-08 14:18:21.061879  \n",
      "1 2025-04-09 14:18:21.061879  \n",
      "6 2025-04-09 14:18:21.061879  \n"
     ]
    }
   ],
   "source": [
    "import pandas as pd\n",
    "import numpy as np\n",
    "from datetime import datetime, timedelta\n",
    "\n",
    "# Lấy ngày hiện tại\n",
    "current_date = datetime.now()\n",
    "\n",
    "# Thêm cột graduation_date: ngày hiện tại + (số thứ hạng * 30 ngày)\n",
    "df_student['graduation_date'] = current_date + df_student['rank_overall'].apply(lambda x: timedelta(days=x * 30))\n",
    "\n",
    "# Hiển thị kết quả\n",
    "print(df_student[['student_id', 'name', 'score', 'rank_overall', 'graduation_date']])\n"
   ]
  },
  {
   "cell_type": "markdown",
   "id": "92fd3fd0",
   "metadata": {},
   "source": [
    "Sinh viên có rank 1 (cao nhất, điểm 9.2) tốt nghiệp sớm nhất vào 09/04/2025.\n",
    "\n",
    "Sinh viên có rank 2 tốt nghiệp sau đó một tháng vào 09/05/2025.\n",
    "\n",
    "Sinh viên có rank 3, 4, 5 tiếp tục tốt nghiệp muộn hơn, mỗi người cách nhau khoảng 30 ngày."
   ]
  },
  {
   "cell_type": "code",
   "execution_count": 29,
   "id": "ab79a70d",
   "metadata": {},
   "outputs": [
    {
     "data": {
      "text/html": [
       "<div>\n",
       "<style scoped>\n",
       "    .dataframe tbody tr th:only-of-type {\n",
       "        vertical-align: middle;\n",
       "    }\n",
       "\n",
       "    .dataframe tbody tr th {\n",
       "        vertical-align: top;\n",
       "    }\n",
       "\n",
       "    .dataframe thead th {\n",
       "        text-align: right;\n",
       "    }\n",
       "</style>\n",
       "<table border=\"1\" class=\"dataframe\">\n",
       "  <thead>\n",
       "    <tr style=\"text-align: right;\">\n",
       "      <th></th>\n",
       "      <th>student_id</th>\n",
       "      <th>name</th>\n",
       "      <th>score</th>\n",
       "      <th>rank_overall</th>\n",
       "      <th>graduation_date</th>\n",
       "    </tr>\n",
       "  </thead>\n",
       "  <tbody>\n",
       "    <tr>\n",
       "      <th>6</th>\n",
       "      <td>7</td>\n",
       "      <td>Bui Tien Dung</td>\n",
       "      <td>9.2</td>\n",
       "      <td>1.0</td>\n",
       "      <td>2025-04-09 14:18:21.061879</td>\n",
       "    </tr>\n",
       "    <tr>\n",
       "      <th>1</th>\n",
       "      <td>2</td>\n",
       "      <td>Tran Thi Lan</td>\n",
       "      <td>9.2</td>\n",
       "      <td>1.0</td>\n",
       "      <td>2025-04-09 14:18:21.061879</td>\n",
       "    </tr>\n",
       "    <tr>\n",
       "      <th>2</th>\n",
       "      <td>3</td>\n",
       "      <td>Pham Van Nam</td>\n",
       "      <td>7.9</td>\n",
       "      <td>2.0</td>\n",
       "      <td>2025-05-09 14:18:21.061879</td>\n",
       "    </tr>\n",
       "    <tr>\n",
       "      <th>8</th>\n",
       "      <td>9</td>\n",
       "      <td>Duong Huu Phuc</td>\n",
       "      <td>7.2</td>\n",
       "      <td>3.0</td>\n",
       "      <td>2025-06-08 14:18:21.061879</td>\n",
       "    </tr>\n",
       "    <tr>\n",
       "      <th>9</th>\n",
       "      <td>10</td>\n",
       "      <td>Cao Thi Hanh</td>\n",
       "      <td>7.0</td>\n",
       "      <td>4.0</td>\n",
       "      <td>2025-07-08 14:18:21.061879</td>\n",
       "    </tr>\n",
       "    <tr>\n",
       "      <th>0</th>\n",
       "      <td>1</td>\n",
       "      <td>Nguyen Minh Hoang</td>\n",
       "      <td>6.7</td>\n",
       "      <td>5.0</td>\n",
       "      <td>2025-08-07 14:18:21.061879</td>\n",
       "    </tr>\n",
       "  </tbody>\n",
       "</table>\n",
       "</div>"
      ],
      "text/plain": [
       "   student_id               name  score  rank_overall  \\\n",
       "6           7      Bui Tien Dung    9.2           1.0   \n",
       "1           2       Tran Thi Lan    9.2           1.0   \n",
       "2           3       Pham Van Nam    7.9           2.0   \n",
       "8           9     Duong Huu Phuc    7.2           3.0   \n",
       "9          10       Cao Thi Hanh    7.0           4.0   \n",
       "0           1  Nguyen Minh Hoang    6.7           5.0   \n",
       "\n",
       "             graduation_date  \n",
       "6 2025-04-09 14:18:21.061879  \n",
       "1 2025-04-09 14:18:21.061879  \n",
       "2 2025-05-09 14:18:21.061879  \n",
       "8 2025-06-08 14:18:21.061879  \n",
       "9 2025-07-08 14:18:21.061879  \n",
       "0 2025-08-07 14:18:21.061879  "
      ]
     },
     "execution_count": 29,
     "metadata": {},
     "output_type": "execute_result"
    }
   ],
   "source": [
    "df_student[['student_id', 'name', 'score', 'rank_overall', 'graduation_date']].sort_values(by='rank_overall')\n"
   ]
  }
 ],
 "metadata": {
  "kernelspec": {
   "display_name": "Python 3",
   "language": "python",
   "name": "python3"
  },
  "language_info": {
   "codemirror_mode": {
    "name": "ipython",
    "version": 3
   },
   "file_extension": ".py",
   "mimetype": "text/x-python",
   "name": "python",
   "nbconvert_exporter": "python",
   "pygments_lexer": "ipython3",
   "version": "3.13.2"
  }
 },
 "nbformat": 4,
 "nbformat_minor": 5
}
