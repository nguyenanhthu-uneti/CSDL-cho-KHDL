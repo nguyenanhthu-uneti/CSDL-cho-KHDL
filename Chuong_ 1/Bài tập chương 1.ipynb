{
    "cells": [
        {
            "cell_type": "code",
            "execution_count": 10,
            "metadata": {
                "azdata_cell_guid": "136db2e3-823a-48ef-a9e6-8467f801f8ff",
                "language": "sql",
                "tags": []
            },
            "outputs": [
                {
                    "data": {
                        "text/html": [
                            "Commands completed successfully."
                        ]
                    },
                    "metadata": {},
                    "output_type": "display_data"
                },
                {
                    "data": {
                        "text/html": [
                            "Total execution time: 00:00:00.008"
                        ]
                    },
                    "metadata": {},
                    "output_type": "display_data"
                }
            ],
            "source": [
                "Câu 1\n",
                "DROP TABLE NhanVien;\n",
                "CREATE TABLE NhanVien (\n",
                "    MaNV integer primary key,\n",
                "    HoTen varchar (50),\n",
                "    Tuoi integer,\n",
                "    PhongBan varchar (50),\n",
                ");"
            ]
        },
        {
            "cell_type": "code",
            "execution_count": 9,
            "metadata": {
                "azdata_cell_guid": "dcb8e993-2cba-471f-95d1-c402a317222c",
                "language": "sql"
            },
            "outputs": [
                {
                    "ename": "",
                    "evalue": "Msg 3701, Level 11, State 5, Line 1\nCannot drop the table 'NhanVien', because it does not exist or you do not have permission.",
                    "output_type": "error",
                    "traceback": []
                },
                {
                    "data": {
                        "text/html": [
                            "Total execution time: 00:00:00.005"
                        ]
                    },
                    "metadata": {},
                    "output_type": "display_data"
                }
            ],
            "source": [
                "Câu 2\n",
                "insert into NhanVien (MaNV,HoTen,Tuoi,PhongBan) Values\n",
                "(1,'Nguyen Van A',30,'Ke toan'),\n",
                "(2, 'Tran Thi B',25, 'Nhan Su'),\n",
                "(3, 'Le Van C',28, 'IT'),\n",
                "(4, 'Pham Thi D', 32, 'Ke Toan'), \n",
                "(5, 'Vu Van E', 26, 'IT'),\n",
                "(6, 'Nguyen Thi F', 29, 'Marketing'),  \n",
                "(7, 'Le Thi G', 27, 'Nhan Su'),\n",
                "(8, 'Hoang Van H', 35, 'Ke Toan'),  \n",
                "(9, 'Pham Van I', 33, 'Marketing'),  \n",
                "(10, 'Tran Van J', 24, 'IT'),\n",
                "(11, 'Dang Thi K', 31, 'Nhan Su'),  \n",
                "(12, 'Nguyen Van L', 28, 'Ke Toan'),  \n",
                "(13, 'Tran Van M', 29, 'Marketing'), \n",
                "(14, 'Pham Van N', 30, 'Nhan Su'),  \n",
                "(15, 'Hoang Thi O', 27, 'IT');\n"
            ]
        },
        {
            "cell_type": "code",
            "execution_count": 12,
            "metadata": {
                "azdata_cell_guid": "b342614d-6357-41be-8352-a4cac55117c3",
                "language": "sql"
            },
            "outputs": [
                {
                    "ename": "",
                    "evalue": "Msg 2705, Level 16, State 4, Line 2\nColumn names in each table must be unique. Column name 'NgayNhap' in table 'NhanVien' is specified more than once.",
                    "output_type": "error",
                    "traceback": []
                },
                {
                    "data": {
                        "text/html": [
                            "Total execution time: 00:00:00.030"
                        ]
                    },
                    "metadata": {},
                    "output_type": "display_data"
                }
            ],
            "source": [
                "#Câu 3: Lấy toàn bộ thông tin của nhân viên trong bảng NhanVien\n",
                "SELECT * FROM NhanVien;"
            ]
        },
        {
            "cell_type": "code",
            "execution_count": null,
            "metadata": {},
            "outputs": [],
            "source": [
                "#Câu 4:Truy vấn HoTen và Tuoi của các nhân viên trong phòng IT\n",
                "SELECT HoTen, Tuoi \n",
                "FROM NhanVien \n",
                "WHERE PhongBan = 'IT';"
            ]
        },
        {
            "cell_type": "code",
            "execution_count": null,
            "metadata": {},
            "outputs": [],
            "source": [
                "#Câu 5: Tìm nhân viên có độ tuổi lớn hơn 25\n",
                "SELECT * \n",
                "FROM NhanVien \n",
                "WHERE Tuoi > 25;"
            ]
        },
        {
            "cell_type": "code",
            "execution_count": null,
            "metadata": {},
            "outputs": [],
            "source": [
                "#Câu 6: Cho biết nhân viên lớn tuổi nhất của mỗi PhongBan\n",
                "SELECT PhongBan, HoTen, Tuoi\n",
                "FROM NhanVien AS nv1\n",
                "WHERE Tuoi = (\n",
                "    SELECT MAX(Tuoi) \n",
                "    FROM NhanVien AS nv2\n",
                "    WHERE nv1.PhongBan = nv2.PhongBan\n",
                ");"
            ]
        },
        {
            "cell_type": "code",
            "execution_count": null,
            "metadata": {},
            "outputs": [],
            "source": [
                "#Câu 7: Chuyển đổi thông tin PhongBan của nhân viên Le Van C từ IT sang Marketing\n",
                "SELECT * FROM NhanVien WHERE HoTen = 'Le Van C';\n",
                "UPDATE NhanVien\n",
                "SET PhongBan = 'Marketing'\n",
                "WHERE MaNV = 3;\n"
            ]
        },
        {
            "cell_type": "code",
            "execution_count": null,
            "metadata": {},
            "outputs": [],
            "source": [
                "#Câu 8: Xoá nhân viên có \"MaSV=2\" rồi cho biết mõi phong ban có bao nhiêu người\n",
                "DELETE FROM NhanVien \n",
                "WHERE MaNV = 2;\n",
                "SELECT PhongBan, COUNT(*) AS SoLuongNhanVien\n",
                "FROM NhanVien\n",
                "GROUP BY PhongBan;"
            ]
        }
    ],
    "metadata": {
        "kernelspec": {
            "display_name": "SQL",
            "language": "sql",
            "name": "SQL"
        },
        "language_info": {
            "name": "sql",
            "version": ""
        }
    },
    "nbformat": 4,
    "nbformat_minor": 2
}
