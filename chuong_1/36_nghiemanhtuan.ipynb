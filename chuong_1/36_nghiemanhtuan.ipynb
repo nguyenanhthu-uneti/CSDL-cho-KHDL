{
 "cells": [
  {
   "cell_type": "code",
   "execution_count": 3,
   "metadata": {},
   "outputs": [],
   "source": [
    "import sqlite3\n",
    "\n",
    "# Kết nối đến SQLite và bật chế độ WAL\n",
    "conn = sqlite3.connect(\"nhanvien.db\")\n",
    "conn.execute(\"PRAGMA journal_mode=WAL;\")\n",
    "cursor = conn.cursor()"
   ]
  },
  {
   "cell_type": "code",
   "execution_count": 4,
   "metadata": {},
   "outputs": [
    {
     "data": {
      "text/plain": [
       "<sqlite3.Cursor at 0x1c0d00e25c0>"
      ]
     },
     "execution_count": 4,
     "metadata": {},
     "output_type": "execute_result"
    }
   ],
   "source": [
    "# 1. Tạo bảng NhanVien (nếu chưa tồn tại)\n",
    "cursor.execute('''\n",
    "    CREATE TABLE IF NOT EXISTS NhanVien (\n",
    "        MaNV INTEGER PRIMARY KEY,\n",
    "        HoTen TEXT,\n",
    "        Tuoi INTEGER,\n",
    "        PhongBan TEXT\n",
    "    )\n",
    "''')"
   ]
  },
  {
   "cell_type": "code",
   "execution_count": 5,
   "metadata": {},
   "outputs": [
    {
     "name": "stdout",
     "output_type": "stream",
     "text": [
      "Dữ liệu đã được chèn thành công.\n"
     ]
    }
   ],
   "source": [
    "# 2. Chèn dữ liệu vào bảng (xóa trước khi chèn lại để tránh trùng lặp)\n",
    "cursor.execute(\"DELETE FROM NhanVien\")\n",
    "data = [\n",
    "    (1, 'Nguyen Van A', 30, 'Ke Toan'),\n",
    "    (2, 'Tran Thi B', 25, 'Nhan Su'),\n",
    "    (3, 'Le Van C', 28, 'IT'),\n",
    "    (4, 'Pham Thi D', 32, 'Ke Toan'),\n",
    "    (5, 'Vu Van E', 26, 'IT'),\n",
    "    (6, 'Nguyen Thi F', 29, 'Marketing'),\n",
    "    (7, 'Le Thi G', 27, 'Nhan Su'),\n",
    "    (8, 'Hoang Van H', 35, 'Ke Toan'),\n",
    "    (9, 'Pham Van I', 33, 'Marketing'),\n",
    "    (10, 'Tran Van J', 24, 'IT'),\n",
    "    (11, 'Dang Thi K', 31, 'Nhan Su'),\n",
    "    (12, 'Nguyen Van L', 28, 'Ke Toan'),\n",
    "    (13, 'Tran Thi M', 26, 'Marketing'),\n",
    "    (14, 'Pham Van N', 30, 'Nhan Su'),\n",
    "    (15, 'Hoang Thi O', 27, 'IT')\n",
    "]\n",
    "\n",
    "cursor.executemany(\"INSERT INTO NhanVien VALUES (?, ?, ?, ?)\", data)\n",
    "conn.commit()\n",
    "print(\"Dữ liệu đã được chèn thành công.\")"
   ]
  },
  {
   "cell_type": "code",
   "execution_count": 6,
   "metadata": {},
   "outputs": [
    {
     "name": "stdout",
     "output_type": "stream",
     "text": [
      "\n",
      "3. Thông tin toàn bộ nhân viên:\n",
      "(1, 'Nguyen Van A', 30, 'Ke Toan')\n",
      "(2, 'Tran Thi B', 25, 'Nhan Su')\n",
      "(3, 'Le Van C', 28, 'IT')\n",
      "(4, 'Pham Thi D', 32, 'Ke Toan')\n",
      "(5, 'Vu Van E', 26, 'IT')\n",
      "(6, 'Nguyen Thi F', 29, 'Marketing')\n",
      "(7, 'Le Thi G', 27, 'Nhan Su')\n",
      "(8, 'Hoang Van H', 35, 'Ke Toan')\n",
      "(9, 'Pham Van I', 33, 'Marketing')\n",
      "(10, 'Tran Van J', 24, 'IT')\n",
      "(11, 'Dang Thi K', 31, 'Nhan Su')\n",
      "(12, 'Nguyen Van L', 28, 'Ke Toan')\n",
      "(13, 'Tran Thi M', 26, 'Marketing')\n",
      "(14, 'Pham Van N', 30, 'Nhan Su')\n",
      "(15, 'Hoang Thi O', 27, 'IT')\n"
     ]
    }
   ],
   "source": [
    "# 3. Lấy toàn bộ thông tin nhân viên\n",
    "cursor.execute(\"SELECT * FROM NhanVien\")\n",
    "print(\"\\n3. Thông tin toàn bộ nhân viên:\")\n",
    "for row in cursor.fetchall():\n",
    "    print(row)"
   ]
  },
  {
   "cell_type": "code",
   "execution_count": 7,
   "metadata": {},
   "outputs": [
    {
     "name": "stdout",
     "output_type": "stream",
     "text": [
      "\n",
      "4. HoTen và Tuoi của nhân viên phòng IT:\n",
      "('Le Van C', 28)\n",
      "('Vu Van E', 26)\n",
      "('Tran Van J', 24)\n",
      "('Hoang Thi O', 27)\n"
     ]
    }
   ],
   "source": [
    "# 4. Truy vấn HoTen và Tuoi của nhân viên phòng IT\n",
    "cursor.execute(\"SELECT HoTen, Tuoi FROM NhanVien WHERE PhongBan = 'IT'\")\n",
    "print(\"\\n4. HoTen và Tuoi của nhân viên phòng IT:\")\n",
    "for row in cursor.fetchall():\n",
    "    print(row)"
   ]
  },
  {
   "cell_type": "code",
   "execution_count": 8,
   "metadata": {},
   "outputs": [
    {
     "name": "stdout",
     "output_type": "stream",
     "text": [
      "\n",
      "5. Nhân viên có độ tuổi lớn hơn 25:\n",
      "(1, 'Nguyen Van A', 30, 'Ke Toan')\n",
      "(3, 'Le Van C', 28, 'IT')\n",
      "(4, 'Pham Thi D', 32, 'Ke Toan')\n",
      "(5, 'Vu Van E', 26, 'IT')\n",
      "(6, 'Nguyen Thi F', 29, 'Marketing')\n",
      "(7, 'Le Thi G', 27, 'Nhan Su')\n",
      "(8, 'Hoang Van H', 35, 'Ke Toan')\n",
      "(9, 'Pham Van I', 33, 'Marketing')\n",
      "(11, 'Dang Thi K', 31, 'Nhan Su')\n",
      "(12, 'Nguyen Van L', 28, 'Ke Toan')\n",
      "(13, 'Tran Thi M', 26, 'Marketing')\n",
      "(14, 'Pham Van N', 30, 'Nhan Su')\n",
      "(15, 'Hoang Thi O', 27, 'IT')\n"
     ]
    }
   ],
   "source": [
    "# 5. Tìm nhân viên có độ tuổi lớn hơn 25\n",
    "cursor.execute(\"SELECT * FROM NhanVien WHERE Tuoi > 25\")\n",
    "print(\"\\n5. Nhân viên có độ tuổi lớn hơn 25:\")\n",
    "for row in cursor.fetchall():\n",
    "    print(row)"
   ]
  },
  {
   "cell_type": "code",
   "execution_count": 9,
   "metadata": {},
   "outputs": [
    {
     "name": "stdout",
     "output_type": "stream",
     "text": [
      "\n",
      "6. Nhân viên lớn tuổi nhất của mỗi phòng ban:\n",
      "('IT', 'Le Van C', 28)\n",
      "('Ke Toan', 'Hoang Van H', 35)\n",
      "('Marketing', 'Pham Van I', 33)\n",
      "('Nhan Su', 'Dang Thi K', 31)\n"
     ]
    }
   ],
   "source": [
    "# 6. Nhân viên lớn tuổi nhất của mỗi phòng ban\n",
    "cursor.execute('''\n",
    "    SELECT PhongBan, HoTen, Tuoi \n",
    "    FROM NhanVien \n",
    "    WHERE (PhongBan, Tuoi) IN (\n",
    "        SELECT PhongBan, MAX(Tuoi) \n",
    "        FROM NhanVien \n",
    "        GROUP BY PhongBan\n",
    "    )\n",
    "''')\n",
    "print(\"\\n6. Nhân viên lớn tuổi nhất của mỗi phòng ban:\")\n",
    "for row in cursor.fetchall():\n",
    "    print(row)"
   ]
  },
  {
   "cell_type": "code",
   "execution_count": null,
   "metadata": {},
   "outputs": [
    {
     "name": "stdout",
     "output_type": "stream",
     "text": [
      "\n",
      "7. Đã cập nhật PhongBan của Le Van C sang Marketing.\n",
      "Thông tin sau khi cập nhật:\n",
      "(3, 'Le Van C', 28, 'Marketing')\n"
     ]
    }
   ],
   "source": [
    "# 7. Cập nhật PhongBan của Le Van C sang Marketing\n",
    "cursor.execute(\"UPDATE NhanVien SET PhongBan = 'Marketing' WHERE HoTen = 'Le Van C'\")\n",
    "conn.commit()\n",
    "print(\"\\n7. Đã cập nhật PhongBan của Le Van C sang Marketing.\")\n",
    "\n",
    "# Kiểm tra lại thông tin của Le Van C sau khi cập nhật\n",
    "cursor.execute(\"SELECT * FROM NhanVien WHERE MaNV = 3\")\n",
    "print(\"Thông tin sau khi cập nhật:\")\n",
    "print(cursor.fetchone())\n",
    "\n",
    "# Kết quả không có vấn đề.\n",
    "# Nếu có khả năng bị trùng HoTen = 'Le Van C' thì nên dùng MaNV = 3 để xác định giá trị duy nhất ở vị trị muốn thay đổi.  "
   ]
  },
  {
   "cell_type": "code",
   "execution_count": 13,
   "metadata": {},
   "outputs": [
    {
     "name": "stdout",
     "output_type": "stream",
     "text": [
      "\n",
      "8. Đã xóa nhân viên có MaNV = 2.\n",
      "Số lượng nhân viên theo phòng ban:\n",
      "('IT', 3)\n",
      "('Ke Toan', 4)\n",
      "('Marketing', 4)\n",
      "('Nhan Su', 3)\n"
     ]
    }
   ],
   "source": [
    "# 8. Xóa nhân viên có MaNV = 2 và đếm số nhân viên theo phòng ban\n",
    "cursor.execute(\"DELETE FROM NhanVien WHERE MaNV = 2\")\n",
    "conn.commit()\n",
    "print(\"\\n8. Đã xóa nhân viên có MaNV = 2.\")\n",
    "\n",
    "cursor.execute(\"SELECT PhongBan, COUNT(*) FROM NhanVien GROUP BY PhongBan\")\n",
    "print(\"Số lượng nhân viên theo phòng ban:\")\n",
    "for row in cursor.fetchall():\n",
    "    print(row)\n",
    "\n",
    "# Đóng kết nối\n",
    "conn.close()"
   ]
  }
 ],
 "metadata": {
  "kernelspec": {
   "display_name": "base",
   "language": "python",
   "name": "python3"
  },
  "language_info": {
   "codemirror_mode": {
    "name": "ipython",
    "version": 3
   },
   "file_extension": ".py",
   "mimetype": "text/x-python",
   "name": "python",
   "nbconvert_exporter": "python",
   "pygments_lexer": "ipython3",
   "version": "3.11.5"
  }
 },
 "nbformat": 4,
 "nbformat_minor": 2
}
