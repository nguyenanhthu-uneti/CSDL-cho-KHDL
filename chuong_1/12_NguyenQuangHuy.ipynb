{
 "cells": [
  {
   "cell_type": "code",
   "execution_count": null,
   "metadata": {},
   "outputs": [],
   "source": [
    "import sqlite3\n",
    "conn = sqlite3.connect('Nhan_Vien.db')\n",
    "cursor = conn.cursor()\n",
    "#1. Tạo bảng NhanVien\n",
    "cursor.execute('''CREATE TABLE NhanVien ( MaNV INT PRIMARY KEY, HoTen NVARCHAR(50), Tuoi INT, PhongBan NVARCHAR(50))''')"
   ]
  },
  {
   "cell_type": "code",
   "execution_count": null,
   "metadata": {},
   "outputs": [],
   "source": [
    "#2. Chèn bảng ghi \n",
    "cursor.execute(\"\"\"INSERT INTO NhanVien (MaNV, HoTen, Tuoi, PhongBan) values\n",
    "(1, 'Nguyen Van A', 30, 'Ke Toan'),\n",
    "(2, 'Tran Thi B', 25, 'Nhan Su'),\n",
    "(3, 'Le Van C', 28, 'IT'),\n",
    "(4, 'Pham Thi D', 32, 'Ke Toan'),\n",
    "(5, 'Vu Van E', 26, 'IT'),\n",
    "(6, 'Nguyen Thi F', 29, 'Marketing'),\n",
    "(7, 'Le Thi G', 27, 'Nhan Su'),\n",
    "(8, 'Hoang Van H', 35, 'Ke Toan'),\n",
    "(9, 'Pham Van I', 33, 'Marketing'),\n",
    "(10, 'Tran Van J', 24, 'IT'),\n",
    "(11, 'Dang Thi K', 31, 'Nhan Su'),\n",
    "(12, 'Nguyen Van L', 28, 'Ke Toan'),\n",
    "(13, 'Tran Thi M', 26, 'Marketing'),\n",
    "(14, 'Pham Van N', 30, 'Nhan Su'),\n",
    "(15, 'Hoang Thi O', 27, 'IT');\"\"\")\n",
    "conn.commit()"
   ]
  },
  {
   "cell_type": "code",
   "execution_count": null,
   "metadata": {},
   "outputs": [
    {
     "data": {
      "text/plain": [
       "[(1, 'Nguyen Van A', 30, 'Ke Toan'),\n",
       " (2, 'Tran Thi B', 25, 'Nhan Su'),\n",
       " (3, 'Le Van C', 28, 'IT'),\n",
       " (4, 'Pham Thi D', 32, 'Ke Toan'),\n",
       " (5, 'Vu Van E', 26, 'IT'),\n",
       " (6, 'Nguyen Thi F', 29, 'Marketing'),\n",
       " (7, 'Le Thi G', 27, 'Nhan Su'),\n",
       " (8, 'Hoang Van H', 35, 'Ke Toan'),\n",
       " (9, 'Pham Van I', 33, 'Marketing'),\n",
       " (10, 'Tran Van J', 24, 'IT'),\n",
       " (11, 'Dang Thi K', 31, 'Nhan Su'),\n",
       " (12, 'Nguyen Van L', 28, 'Ke Toan'),\n",
       " (13, 'Tran Thi M', 26, 'Marketing'),\n",
       " (14, 'Pham Van N', 30, 'Nhan Su'),\n",
       " (15, 'Hoang Thi O', 27, 'IT')]"
      ]
     },
     "execution_count": 11,
     "metadata": {},
     "output_type": "execute_result"
    }
   ],
   "source": [
    "#3. Lấy toàn bộ thông tin của nhân viên trong bảng NhanVien\n",
    "cursor.execute(\"SELECT * FROM NhanVien\")\n",
    "cursor.fetchall()"
   ]
  },
  {
   "cell_type": "code",
   "execution_count": 13,
   "metadata": {},
   "outputs": [
    {
     "data": {
      "text/plain": [
       "[('Le Van C', 28), ('Vu Van E', 26), ('Tran Van J', 24), ('Hoang Thi O', 27)]"
      ]
     },
     "execution_count": 13,
     "metadata": {},
     "output_type": "execute_result"
    }
   ],
   "source": [
    "#4. Truy vấn HoTen và Tuoi của các nhân viên trong phòng IT\n",
    "cursor.execute(\"SELECT HoTen, Tuoi FROM NhanVien WHERE PhongBan = 'IT'\")\n",
    "cursor.fetchall()"
   ]
  },
  {
   "cell_type": "code",
   "execution_count": 14,
   "metadata": {},
   "outputs": [
    {
     "data": {
      "text/plain": [
       "[(1, 'Nguyen Van A', 30, 'Ke Toan'),\n",
       " (3, 'Le Van C', 28, 'IT'),\n",
       " (4, 'Pham Thi D', 32, 'Ke Toan'),\n",
       " (5, 'Vu Van E', 26, 'IT'),\n",
       " (6, 'Nguyen Thi F', 29, 'Marketing'),\n",
       " (7, 'Le Thi G', 27, 'Nhan Su'),\n",
       " (8, 'Hoang Van H', 35, 'Ke Toan'),\n",
       " (9, 'Pham Van I', 33, 'Marketing'),\n",
       " (11, 'Dang Thi K', 31, 'Nhan Su'),\n",
       " (12, 'Nguyen Van L', 28, 'Ke Toan'),\n",
       " (13, 'Tran Thi M', 26, 'Marketing'),\n",
       " (14, 'Pham Van N', 30, 'Nhan Su'),\n",
       " (15, 'Hoang Thi O', 27, 'IT')]"
      ]
     },
     "execution_count": 14,
     "metadata": {},
     "output_type": "execute_result"
    }
   ],
   "source": [
    "#5. lấy danh sách nhân viên có tuổi lớn hơn 25\n",
    "cursor.execute(\"SELECT * FROM NhanVien WHERE Tuoi > 25\")\n",
    "cursor.fetchall()"
   ]
  },
  {
   "cell_type": "code",
   "execution_count": 15,
   "metadata": {},
   "outputs": [
    {
     "data": {
      "text/plain": [
       "[('IT', 'Le Van C', 28),\n",
       " ('Ke Toan', 'Hoang Van H', 35),\n",
       " ('Marketing', 'Pham Van I', 33),\n",
       " ('Nhan Su', 'Dang Thi K', 31)]"
      ]
     },
     "execution_count": 15,
     "metadata": {},
     "output_type": "execute_result"
    }
   ],
   "source": [
    "#6. Cho biết nhân viên lớn tuổi nhất các PhongBan\n",
    "cursor.execute(\"SELECT PhongBan, HoTen ,MAX(Tuoi) FROM NhanVien GROUP BY PhongBan\")\n",
    "cursor.fetchall()"
   ]
  },
  {
   "cell_type": "code",
   "execution_count": 17,
   "metadata": {},
   "outputs": [
    {
     "data": {
      "text/plain": [
       "[(3, 'Le Van C', 28, 'Marketing')]"
      ]
     },
     "execution_count": 17,
     "metadata": {},
     "output_type": "execute_result"
    }
   ],
   "source": [
    "#7. Chuyển đổi thông tin PhongBan của nhân viên “Le Van C” sang “Marketing” \n",
    "cursor.execute(\"UPDATE NhanVien SET PhongBan = 'Marketing' WHERE HoTen = 'Le Van C'\")\n",
    "conn.commit()\n",
    "# kiểm tra kết quảquả\n",
    "cursor.execute(\"SELECT * FROM NhanVien WHERE HoTen = 'Le Van C'\")\n",
    "cursor.fetchall()"
   ]
  },
  {
   "cell_type": "markdown",
   "metadata": {},
   "source": [
    "Câu hỏi phụ:\n",
    "\n",
    "Không có vấn đề gì khi thực hiện lệnh chuyển đổi thông tin. nếu có thì:\n",
    "\n",
    "a. Chỉ mới UPDATE PhongBan mà chưa kiểm tra nhân viên \"Le Van C\" có tồn tại trong cơ sở dữ liệu hay không?\n",
    "\n",
    "b. TTồn tại nhiều nhân viên trùng tên. Lệnh UPDATE sẽ cập nhật PhongBan của tất cả nhân viên có tên \"Le Van C\", dẫn đến sai lệch thông tin.\n"
   ]
  },
  {
   "cell_type": "code",
   "execution_count": 1,
   "metadata": {},
   "outputs": [],
   "source": [
    "#cách sửa lỗi Câu hỏi phụ\n",
    "\n",
    "#a. kiểm tra số lượng nhân viên có tên \"Le Van C\" trước khi cập nhật\n",
    "cursor.execute(\"SELECT COUNT(*) FROM NhanVien WHERE HoTen = 'Le Van C'\")\n",
    "count = cursor.fetchone()[0]\n",
    "if count > 0:\n",
    "    cursor.execute(\"UPDATE NhanVien SET PhongBan = 'Marketing' WHERE HoTen = 'Le Van C'\")\n",
    "    conn.commit()\n",
    "    print(f\"Đã cập nhật PhongBan cho {count} nhân viên tên 'Le Van C'\")\n",
    "else:\n",
    "    print(\"Không tìm thấy nhân viên nào tên 'Le Van C'\")\n",
    "\n",
    "#b.\n",
    "cursor.execute(\" UPDATE NhanVien Set PhongBan = 'IT' where HoTen = 'Le Van C' and MaNV = ? \") \n",
    "conn.commit()\n"
   ]
  },
  {
   "cell_type": "code",
   "execution_count": null,
   "metadata": {},
   "outputs": [],
   "source": [
    "#8. Xoá nhân viên có MaNV = '2' rồi cho biết mỗi phòng ban có bao nhiêu người\n",
    "cursor.execute(\"DELETE FROM NhanVien WHERE MaNV = 2\")\n",
    "cursor.execute(\"SELECT PhongBan, COUNT(*) FROM NhanVien GROUP BY PhongBan\")\n",
    "cursor.fetchall()"
   ]
  },
  {
   "cell_type": "code",
   "execution_count": null,
   "metadata": {},
   "outputs": [],
   "source": [
    "# Đóng kết Nối\n",
    "conn.close()"
   ]
  }
 ],
 "metadata": {
  "kernelspec": {
   "display_name": "Python 3",
   "language": "python",
   "name": "python3"
  },
  "language_info": {
   "codemirror_mode": {
    "name": "ipython",
    "version": 3
   },
   "file_extension": ".py",
   "mimetype": "text/x-python",
   "name": "python",
   "nbconvert_exporter": "python",
   "pygments_lexer": "ipython3",
   "version": "3.11.9"
  }
 },
 "nbformat": 4,
 "nbformat_minor": 2
}
