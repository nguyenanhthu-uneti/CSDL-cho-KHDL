{
 "cells": [
  {
   "cell_type": "code",
   "execution_count": 2,
   "metadata": {},
   "outputs": [],
   "source": [
    "import sqlite3\n",
    "import pandas as pd\n",
    "from datetime import datetime, timedelta\n",
    "\n",
    "# Kết nối SQLite trong bộ nhớ\n",
    "conn = sqlite3.connect(':memory:')\n",
    "cursor = conn.cursor()\n",
    "\n",
    "# Tạo bảng student\n",
    "cursor.execute('''\n",
    "    CREATE TABLE student (\n",
    "        student_id INTEGER PRIMARY KEY,\n",
    "        name TEXT,\n",
    "        class TEXT,\n",
    "        course_id INTEGER,\n",
    "        score REAL\n",
    "    )\n",
    "''')\n",
    "\n",
    "# Tạo bảng course\n",
    "cursor.execute('''\n",
    "    CREATE TABLE course (\n",
    "        id INTEGER PRIMARY KEY,\n",
    "        course_name TEXT\n",
    "    )\n",
    "''')\n",
    "\n",
    "# Chèn dữ liệu vào bảng student\n",
    "students_data = [\n",
    "    (1, 'Nguyen Minh Hoang', 'May Tinh', 12, 6.7),\n",
    "    (2, 'Tran Thi Lan', 'Kinh Te', 34, 9.2),\n",
    "    (3, 'Pham Van Nam', 'Toan Tin', None, 7.9),\n",
    "    (4, 'Le Thanh Huyen', 'Toan Tin', 20, 7.2),\n",
    "    (5, 'Vu Quoc Anh', 'May Tinh', 24, 8.0),\n",
    "    (6, 'Dang Thuy Linh', 'May Tinh', 24, 5.5),\n",
    "    (7, 'Bui Tien Dung', 'Kinh Te', 34, 9.2),\n",
    "    (8, 'Ho Ngoc Mai', 'Toan Tin', 20, 8.8),\n",
    "    (9, 'Duong Huu Phuc', 'Kinh Te', None, 7.2),\n",
    "    (10, 'Cao Thi Hanh', 'May Tinh', None, 7.0)\n",
    "]\n",
    "cursor.executemany(\"INSERT INTO student VALUES (?, ?, ?, ?, ?)\", students_data)\n",
    "\n",
    "# Chèn dữ liệu vào bảng course\n",
    "courses_data = [(12, 'Giai tich'), (34, 'Thong ke'), (26, 'Tin hoc')]\n",
    "cursor.executemany(\"INSERT INTO course VALUES (?, ?)\", courses_data)\n",
    "\n",
    "conn.commit()"
   ]
  },
  {
   "cell_type": "code",
   "execution_count": 3,
   "metadata": {},
   "outputs": [
    {
     "name": "stdout",
     "output_type": "stream",
     "text": [
      "\n",
      "Tích Decartes:\n",
      "   student_id               name     class  course_id  score  id course_name\n",
      "0           1  Nguyen Minh Hoang  May Tinh       12.0    6.7  12   Giai tich\n",
      "1           1  Nguyen Minh Hoang  May Tinh       12.0    6.7  26     Tin hoc\n",
      "2           1  Nguyen Minh Hoang  May Tinh       12.0    6.7  34    Thong ke\n",
      "3           2       Tran Thi Lan   Kinh Te       34.0    9.2  12   Giai tich\n",
      "4           2       Tran Thi Lan   Kinh Te       34.0    9.2  26     Tin hoc\n"
     ]
    }
   ],
   "source": [
    "# 1. Tích Decartes (Cross Join)\n",
    "df_cross = pd.read_sql_query(\"\"\"\n",
    "    SELECT * FROM student CROSS JOIN course;\n",
    "\"\"\", conn)\n",
    "print(\"\\nTích Decartes:\")\n",
    "print(df_cross.head())\n"
   ]
  },
  {
   "cell_type": "code",
   "execution_count": 4,
   "metadata": {},
   "outputs": [
    {
     "name": "stdout",
     "output_type": "stream",
     "text": [
      "\n",
      "INNER JOIN:\n",
      "   student_id               name     class  course_id  score course_name\n",
      "0           1  Nguyen Minh Hoang  May Tinh         12    6.7   Giai tich\n",
      "1           2       Tran Thi Lan   Kinh Te         34    9.2    Thong ke\n",
      "2           7      Bui Tien Dung   Kinh Te         34    9.2    Thong ke\n"
     ]
    }
   ],
   "source": [
    "# 2. INNER JOIN\n",
    "df_inner = pd.read_sql_query(\"\"\"\n",
    "    SELECT student.*, course.course_name\n",
    "    FROM student\n",
    "    INNER JOIN course ON student.course_id = course.id;\n",
    "\"\"\", conn)\n",
    "print(\"\\nINNER JOIN:\")\n",
    "print(df_inner)"
   ]
  },
  {
   "cell_type": "code",
   "execution_count": 5,
   "metadata": {},
   "outputs": [
    {
     "name": "stdout",
     "output_type": "stream",
     "text": [
      "\n",
      "LEFT JOIN:\n",
      "   student_id               name     class  course_id  score course_name\n",
      "0           1  Nguyen Minh Hoang  May Tinh       12.0    6.7   Giai tich\n",
      "1           2       Tran Thi Lan   Kinh Te       34.0    9.2    Thong ke\n",
      "2           3       Pham Van Nam  Toan Tin        NaN    7.9        None\n",
      "3           4     Le Thanh Huyen  Toan Tin       20.0    7.2        None\n",
      "4           5        Vu Quoc Anh  May Tinh       24.0    8.0        None\n",
      "5           6     Dang Thuy Linh  May Tinh       24.0    5.5        None\n",
      "6           7      Bui Tien Dung   Kinh Te       34.0    9.2    Thong ke\n",
      "7           8        Ho Ngoc Mai  Toan Tin       20.0    8.8        None\n",
      "8           9     Duong Huu Phuc   Kinh Te        NaN    7.2        None\n",
      "9          10       Cao Thi Hanh  May Tinh        NaN    7.0        None\n"
     ]
    }
   ],
   "source": [
    "# 3. LEFT JOIN\n",
    "df_left = pd.read_sql_query(\"\"\"\n",
    "    SELECT student.*, course.course_name\n",
    "    FROM student\n",
    "    LEFT JOIN course ON student.course_id = course.id;\n",
    "\"\"\", conn)\n",
    "print(\"\\nLEFT JOIN:\")\n",
    "print(df_left)"
   ]
  },
  {
   "cell_type": "code",
   "execution_count": 6,
   "metadata": {},
   "outputs": [
    {
     "name": "stdout",
     "output_type": "stream",
     "text": [
      "\n",
      "RIGHT JOIN:\n",
      "   student_id               name     class  course_id  score course_name\n",
      "0         1.0  Nguyen Minh Hoang  May Tinh       12.0    6.7   Giai tich\n",
      "1         NaN               None      None        NaN    NaN     Tin hoc\n",
      "2         7.0      Bui Tien Dung   Kinh Te       34.0    9.2    Thong ke\n",
      "3         2.0       Tran Thi Lan   Kinh Te       34.0    9.2    Thong ke\n"
     ]
    }
   ],
   "source": [
    "\n",
    "# 4. RIGHT JOIN (SQLite không hỗ trợ trực tiếp RIGHT JOIN, ta đảo lại bảng)\n",
    "df_right = pd.read_sql_query(\"\"\"\n",
    "    SELECT student.*, course.course_name\n",
    "    FROM course\n",
    "    LEFT JOIN student ON student.course_id = course.id;\n",
    "\"\"\", conn)\n",
    "print(\"\\nRIGHT JOIN:\")\n",
    "print(df_right)\n"
   ]
  },
  {
   "cell_type": "code",
   "execution_count": 7,
   "metadata": {},
   "outputs": [
    {
     "name": "stdout",
     "output_type": "stream",
     "text": [
      "\n",
      "FULL OUTER JOIN:\n",
      "    student_id               name     class  course_id  score course_name\n",
      "0          NaN               None      None        NaN    NaN     Tin hoc\n",
      "1          1.0  Nguyen Minh Hoang  May Tinh       12.0    6.7   Giai tich\n",
      "2          2.0       Tran Thi Lan   Kinh Te       34.0    9.2    Thong ke\n",
      "3          3.0       Pham Van Nam  Toan Tin        NaN    7.9        None\n",
      "4          4.0     Le Thanh Huyen  Toan Tin       20.0    7.2        None\n",
      "5          5.0        Vu Quoc Anh  May Tinh       24.0    8.0        None\n",
      "6          6.0     Dang Thuy Linh  May Tinh       24.0    5.5        None\n",
      "7          7.0      Bui Tien Dung   Kinh Te       34.0    9.2    Thong ke\n",
      "8          8.0        Ho Ngoc Mai  Toan Tin       20.0    8.8        None\n",
      "9          9.0     Duong Huu Phuc   Kinh Te        NaN    7.2        None\n",
      "10        10.0       Cao Thi Hanh  May Tinh        NaN    7.0        None\n"
     ]
    }
   ],
   "source": [
    "\n",
    "# 5. FULL OUTER JOIN (SQLite không hỗ trợ trực tiếp, cần UNION)\n",
    "df_full = pd.read_sql_query(\"\"\"\n",
    "    SELECT student.*, course.course_name\n",
    "    FROM student\n",
    "    LEFT JOIN course ON student.course_id = course.id\n",
    "    UNION\n",
    "    SELECT student.*, course.course_name\n",
    "    FROM student\n",
    "    RIGHT JOIN course ON student.course_id = course.id;\n",
    "\"\"\", conn)\n",
    "print(\"\\nFULL OUTER JOIN:\")\n",
    "print(df_full)\n"
   ]
  },
  {
   "cell_type": "code",
   "execution_count": 8,
   "metadata": {},
   "outputs": [],
   "source": [
    "# 6. Cập nhật course_id còn thiếu bằng giá trị hợp lệ\n",
    "cursor.execute(\"\"\"\n",
    "    UPDATE student\n",
    "    SET course_id = (SELECT id FROM course ORDER BY RANDOM() LIMIT 1)\n",
    "    WHERE course_id IS NULL;\n",
    "\"\"\")\n",
    "conn.commit()\n"
   ]
  },
  {
   "cell_type": "code",
   "execution_count": 9,
   "metadata": {},
   "outputs": [
    {
     "name": "stdout",
     "output_type": "stream",
     "text": [
      "\n",
      "Tổng số sinh viên và điểm trung bình từng lớp:\n",
      "      class  total_students  avg_score\n",
      "0   Kinh Te               3   8.533333\n",
      "1  May Tinh               4   6.800000\n",
      "2  Toan Tin               3   7.966667\n"
     ]
    }
   ],
   "source": [
    "# 7. Tính tổng số sinh viên và điểm trung bình của từng lớp\n",
    "df_class_avg = pd.read_sql_query(\"\"\"\n",
    "    SELECT class, COUNT(*) AS total_students, AVG(score) AS avg_score\n",
    "    FROM student\n",
    "    GROUP BY class;\n",
    "\"\"\", conn)\n",
    "print(\"\\nTổng số sinh viên và điểm trung bình từng lớp:\")\n",
    "print(df_class_avg)"
   ]
  },
  {
   "cell_type": "code",
   "execution_count": 10,
   "metadata": {},
   "outputs": [
    {
     "name": "stdout",
     "output_type": "stream",
     "text": [
      "\n",
      "Tổng số sinh viên và điểm trung bình từng môn:\n",
      "  course_name  total_students  avg_score\n",
      "0   Giai tich               4        7.2\n",
      "1    Thong ke               2        9.2\n"
     ]
    }
   ],
   "source": [
    "# 8. Tính tổng số sinh viên và điểm trung bình từng môn học\n",
    "df_course_avg = pd.read_sql_query(\"\"\"\n",
    "    SELECT course_name, COUNT(*) AS total_students, AVG(score) AS avg_score\n",
    "    FROM student\n",
    "    INNER JOIN course ON student.course_id = course.id\n",
    "    GROUP BY course_name;\n",
    "\"\"\", conn)\n",
    "print(\"\\nTổng số sinh viên và điểm trung bình từng môn:\")\n",
    "print(df_course_avg)"
   ]
  },
  {
   "cell_type": "code",
   "execution_count": 11,
   "metadata": {},
   "outputs": [
    {
     "name": "stdout",
     "output_type": "stream",
     "text": [
      "\n",
      "Xếp hạng sinh viên theo điểm:\n",
      "                name  score  rank\n",
      "0       Tran Thi Lan    9.2     1\n",
      "1      Bui Tien Dung    9.2     1\n",
      "2        Ho Ngoc Mai    8.8     3\n",
      "3        Vu Quoc Anh    8.0     4\n",
      "4       Pham Van Nam    7.9     5\n",
      "5     Le Thanh Huyen    7.2     6\n",
      "6     Duong Huu Phuc    7.2     6\n",
      "7       Cao Thi Hanh    7.0     8\n",
      "8  Nguyen Minh Hoang    6.7     9\n",
      "9     Dang Thuy Linh    5.5    10\n"
     ]
    }
   ],
   "source": [
    "# 9. Xếp hạng sinh viên theo điểm\n",
    "df_rank = pd.read_sql_query(\"\"\"\n",
    "    SELECT name, score, RANK() OVER (ORDER BY score DESC) AS rank\n",
    "    FROM student;\n",
    "\"\"\", conn)\n",
    "print(\"\\nXếp hạng sinh viên theo điểm:\")\n",
    "print(df_rank)\n"
   ]
  },
  {
   "cell_type": "code",
   "execution_count": 12,
   "metadata": {},
   "outputs": [],
   "source": [
    "# 10. Thêm cột graduation_date\n",
    "cursor.execute(\"ALTER TABLE student ADD COLUMN graduation_date DATETIME;\")\n",
    "conn.commit()\n"
   ]
  },
  {
   "cell_type": "code",
   "execution_count": 16,
   "metadata": {},
   "outputs": [
    {
     "name": "stdout",
     "output_type": "stream",
     "text": [
      "   student_id               name     class  course_id  score  \\\n",
      "0           1  Nguyen Minh Hoang  May Tinh         12    6.7   \n",
      "1           2       Tran Thi Lan   Kinh Te         34    9.2   \n",
      "2           3       Pham Van Nam  Toan Tin         12    7.9   \n",
      "3           4     Le Thanh Huyen  Toan Tin         20    7.2   \n",
      "4           5        Vu Quoc Anh  May Tinh         24    8.0   \n",
      "5           6     Dang Thuy Linh  May Tinh         24    5.5   \n",
      "6           7      Bui Tien Dung   Kinh Te         34    9.2   \n",
      "7           8        Ho Ngoc Mai  Toan Tin         20    8.8   \n",
      "8           9     Duong Huu Phuc   Kinh Te         12    7.2   \n",
      "9          10       Cao Thi Hanh  May Tinh         12    7.0   \n",
      "\n",
      "       graduation_date  \n",
      "0  2025-05-18 06:38:16  \n",
      "1  2025-06-12 06:38:16  \n",
      "2  2025-05-30 06:38:16  \n",
      "3  2025-05-23 06:38:16  \n",
      "4  2025-05-31 06:38:16  \n",
      "5  2025-05-06 06:38:16  \n",
      "6  2025-06-12 06:38:16  \n",
      "7  2025-06-08 06:38:16  \n",
      "8  2025-05-23 06:38:16  \n",
      "9  2025-05-21 06:38:16  \n"
     ]
    }
   ],
   "source": [
    "\n",
    "# Cập nhật graduation_date dựa trên điểm số\n",
    "for row in cursor.execute(\"SELECT student_id, score FROM student;\"):\n",
    "    student_id, score = row\n",
    "    if score is not None:\n",
    "        grad_date = datetime.now() + timedelta(days=int(score * 10))\n",
    "        # Cập nhật graduation_date cho tất cả sinh viên\n",
    "    cursor.execute(\"\"\"\n",
    "    UPDATE student\n",
    "    SET graduation_date = datetime('now', '+' || (score * 10) || ' days')\n",
    "    WHERE score IS NOT NULL;\n",
    "\"\"\")\n",
    "\n",
    "conn.commit()\n",
    "\n",
    "\n",
    "conn.commit()\n",
    "\n",
    "# Kiểm tra lại bảng student\n",
    "df_student = pd.read_sql_query(\"SELECT * FROM student\", conn)\n",
    "print(df_student)\n"
   ]
  }
 ],
 "metadata": {
  "kernelspec": {
   "display_name": "Python 3",
   "language": "python",
   "name": "python3"
  },
  "language_info": {
   "codemirror_mode": {
    "name": "ipython",
    "version": 3
   },
   "file_extension": ".py",
   "mimetype": "text/x-python",
   "name": "python",
   "nbconvert_exporter": "python",
   "pygments_lexer": "ipython3",
   "version": "3.10.11"
  }
 },
 "nbformat": 4,
 "nbformat_minor": 2
}
