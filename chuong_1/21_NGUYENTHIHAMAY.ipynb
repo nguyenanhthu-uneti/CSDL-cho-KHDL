{
 "cells": [
  {
   "cell_type": "markdown",
   "metadata": {},
   "source": [
    "# câu 1:"
   ]
  },
  {
   "cell_type": "code",
   "execution_count": 1,
   "metadata": {},
   "outputs": [
    {
     "data": {
      "text/plain": [
       "<sqlite3.Cursor at 0x1fb6e1228c0>"
      ]
     },
     "execution_count": 1,
     "metadata": {},
     "output_type": "execute_result"
    }
   ],
   "source": [
    "import sqlite3\n",
    "\n",
    "# Kết nối đến database (hoặc tạo mới nếu chưa có)\n",
    "conn = sqlite3.connect('congty.db')\n",
    "cursor = conn.cursor()\n",
    "\n",
    "# Tạo bảng NhanVien nếu chưa tồn tại\n",
    "cursor.execute('''\n",
    "CREATE TABLE IF NOT EXISTS NhanVien (\n",
    "    ID INTEGER PRIMARY KEY,\n",
    "    HoTen TEXT NOT NULL,\n",
    "    Tuoi INTEGER,\n",
    "    PhongBan TEXT NOT NULL\n",
    ")\n",
    "''')"
   ]
  },
  {
   "cell_type": "markdown",
   "metadata": {},
   "source": [
    "# câu 2:"
   ]
  },
  {
   "cell_type": "code",
   "execution_count": 2,
   "metadata": {},
   "outputs": [
    {
     "name": "stdout",
     "output_type": "stream",
     "text": [
      "(1, 'Nguyen Van A', 30, 'Ke Toan')\n",
      "(2, 'Tran Thi B', 25, 'Nhan Su')\n",
      "(3, 'Le Van C', 28, 'IT')\n",
      "(4, 'Pham Thi D', 32, 'Ke Toan')\n",
      "(5, 'Vu Van E', 26, 'IT')\n",
      "(6, 'Nguyen Thi F', 29, 'Marketing')\n",
      "(7, 'Le Thi G', 27, 'Nhan Su')\n",
      "(8, 'Hoang Van H', 35, 'Ke Toan')\n",
      "(9, 'Pham Van I', 33, 'Marketing')\n",
      "(10, 'Tran Van J', 24, 'IT')\n",
      "(11, 'Dang Thi K', 31, 'Nhan Su')\n",
      "(12, 'Nguyen Van L', 28, 'Ke Toan')\n",
      "(13, 'Tran Thi M', 26, 'Marketing')\n",
      "(14, 'Pham Van N', 30, 'Nhan Su')\n",
      "(15, 'Hoang Thi O', 27, 'IT')\n"
     ]
    }
   ],
   "source": [
    "# Dữ liệu nhân viên\n",
    "nhan_vien = [\n",
    "    (1, 'Nguyen Van A', 30, 'Ke Toan'),\n",
    "    (2, 'Tran Thi B', 25, 'Nhan Su'),\n",
    "    (3, 'Le Van C', 28, 'IT'),\n",
    "    (4, 'Pham Thi D', 32, 'Ke Toan'),\n",
    "    (5, 'Vu Van E', 26, 'IT'),\n",
    "    (6, 'Nguyen Thi F', 29, 'Marketing'),\n",
    "    (7, 'Le Thi G', 27, 'Nhan Su'),\n",
    "    (8, 'Hoang Van H', 35, 'Ke Toan'),\n",
    "    (9, 'Pham Van I', 33, 'Marketing'),\n",
    "    (10, 'Tran Van J', 24, 'IT'),\n",
    "    (11, 'Dang Thi K', 31, 'Nhan Su'),\n",
    "    (12, 'Nguyen Van L', 28, 'Ke Toan'),\n",
    "    (13, 'Tran Thi M', 26, 'Marketing'),\n",
    "    (14, 'Pham Van N', 30, 'Nhan Su'),\n",
    "    (15, 'Hoang Thi O', 27, 'IT')\n",
    "]\n",
    "\n",
    "# Chèn dữ liệu, tránh trùng ID\n",
    "cursor.executemany('INSERT OR IGNORE INTO NhanVien VALUES (?, ?, ?, ?)', nhan_vien)\n",
    "\n",
    "# Lưu thay đổi vào database\n",
    "conn.commit()\n",
    "\n",
    "# Kiểm tra dữ liệu đã chèn\n",
    "cursor.execute('SELECT * FROM NhanVien')\n",
    "for row in cursor.fetchall():\n",
    "    print(row)"
   ]
  },
  {
   "cell_type": "markdown",
   "metadata": {},
   "source": [
    "# câu 3:"
   ]
  },
  {
   "cell_type": "code",
   "execution_count": 3,
   "metadata": {},
   "outputs": [
    {
     "name": "stdout",
     "output_type": "stream",
     "text": [
      "Toàn bộ nhân viên:\n",
      "(1, 'Nguyen Van A', 30, 'Ke Toan')\n",
      "(2, 'Tran Thi B', 25, 'Nhan Su')\n",
      "(3, 'Le Van C', 28, 'IT')\n",
      "(4, 'Pham Thi D', 32, 'Ke Toan')\n",
      "(5, 'Vu Van E', 26, 'IT')\n",
      "(6, 'Nguyen Thi F', 29, 'Marketing')\n",
      "(7, 'Le Thi G', 27, 'Nhan Su')\n",
      "(8, 'Hoang Van H', 35, 'Ke Toan')\n",
      "(9, 'Pham Van I', 33, 'Marketing')\n",
      "(10, 'Tran Van J', 24, 'IT')\n",
      "(11, 'Dang Thi K', 31, 'Nhan Su')\n",
      "(12, 'Nguyen Van L', 28, 'Ke Toan')\n",
      "(13, 'Tran Thi M', 26, 'Marketing')\n",
      "(14, 'Pham Van N', 30, 'Nhan Su')\n",
      "(15, 'Hoang Thi O', 27, 'IT')\n"
     ]
    }
   ],
   "source": [
    "# Truy vấn toàn bộ nhân viên\n",
    "cursor.execute('SELECT * FROM NhanVien')\n",
    "print(\"Toàn bộ nhân viên:\")\n",
    "for row in cursor.fetchall():\n",
    "    print(row)"
   ]
  },
  {
   "cell_type": "markdown",
   "metadata": {},
   "source": [
    "# câu 4:"
   ]
  },
  {
   "cell_type": "code",
   "execution_count": 4,
   "metadata": {},
   "outputs": [
    {
     "name": "stdout",
     "output_type": "stream",
     "text": [
      "\n",
      "Nhân viên phòng IT:\n",
      "('Le Van C', 28)\n",
      "('Vu Van E', 26)\n",
      "('Tran Van J', 24)\n",
      "('Hoang Thi O', 27)\n"
     ]
    }
   ],
   "source": [
    "# Truy vấn HoTen và Tuoi của nhân viên phòng IT\n",
    "cursor.execute(\"SELECT HoTen, Tuoi FROM NhanVien WHERE PhongBan = 'IT'\")\n",
    "print(\"\\nNhân viên phòng IT:\")\n",
    "for row in cursor.fetchall():\n",
    "    print(row)"
   ]
  },
  {
   "cell_type": "markdown",
   "metadata": {},
   "source": [
    "# câu 5:"
   ]
  },
  {
   "cell_type": "code",
   "execution_count": 5,
   "metadata": {},
   "outputs": [
    {
     "name": "stdout",
     "output_type": "stream",
     "text": [
      "\n",
      "Nhân viên trên 25 tuổi:\n",
      "(1, 'Nguyen Van A', 30, 'Ke Toan')\n",
      "(3, 'Le Van C', 28, 'IT')\n",
      "(4, 'Pham Thi D', 32, 'Ke Toan')\n",
      "(5, 'Vu Van E', 26, 'IT')\n",
      "(6, 'Nguyen Thi F', 29, 'Marketing')\n",
      "(7, 'Le Thi G', 27, 'Nhan Su')\n",
      "(8, 'Hoang Van H', 35, 'Ke Toan')\n",
      "(9, 'Pham Van I', 33, 'Marketing')\n",
      "(11, 'Dang Thi K', 31, 'Nhan Su')\n",
      "(12, 'Nguyen Van L', 28, 'Ke Toan')\n",
      "(13, 'Tran Thi M', 26, 'Marketing')\n",
      "(14, 'Pham Van N', 30, 'Nhan Su')\n",
      "(15, 'Hoang Thi O', 27, 'IT')\n"
     ]
    }
   ],
   "source": [
    "# Tìm nhân viên có tuổi lớn hơn 25\n",
    "cursor.execute(\"SELECT * FROM NhanVien WHERE Tuoi > 25\")\n",
    "print(\"\\nNhân viên trên 25 tuổi:\")\n",
    "for row in cursor.fetchall():\n",
    "    print(row)"
   ]
  },
  {
   "cell_type": "markdown",
   "metadata": {},
   "source": [
    "# câu 6:"
   ]
  },
  {
   "cell_type": "code",
   "execution_count": 6,
   "metadata": {},
   "outputs": [
    {
     "name": "stdout",
     "output_type": "stream",
     "text": [
      "Nhân viên lớn tuổi nhất trong mỗi phòng ban:\n",
      "Phòng ban: IT, Nhân viên: Le Van C, Tuổi: 28\n",
      "Phòng ban: Ke Toan, Nhân viên: Hoang Van H, Tuổi: 35\n",
      "Phòng ban: Marketing, Nhân viên: Pham Van I, Tuổi: 33\n",
      "Phòng ban: Nhan Su, Nhân viên: Dang Thi K, Tuổi: 31\n"
     ]
    }
   ],
   "source": [
    "# Truy vấn nhân viên lớn tuổi nhất trong mỗi phòng ban\n",
    "cursor.execute('''\n",
    "    SELECT PhongBan, HoTen, MAX(Tuoi)\n",
    "    FROM NhanVien\n",
    "    GROUP BY PhongBan\n",
    "''')\n",
    "\n",
    "# Lấy kết quả\n",
    "rows = cursor.fetchall()\n",
    "\n",
    "# In kết quả\n",
    "print(\"Nhân viên lớn tuổi nhất trong mỗi phòng ban:\")\n",
    "for row in rows:\n",
    "    print(f\"Phòng ban: {row[0]}, Nhân viên: {row[1]}, Tuổi: {row[2]}\")"
   ]
  },
  {
   "cell_type": "markdown",
   "metadata": {},
   "source": [
    "# câu 7:"
   ]
  },
  {
   "cell_type": "code",
   "execution_count": 7,
   "metadata": {},
   "outputs": [
    {
     "name": "stdout",
     "output_type": "stream",
     "text": [
      "(1, 'Nguyen Van A', 30, 'Ke Toan')\n",
      "(2, 'Tran Thi B', 25, 'Nhan Su')\n",
      "(3, 'Le Van C', 28, 'Marketing')\n",
      "(4, 'Pham Thi D', 32, 'Ke Toan')\n",
      "(5, 'Vu Van E', 26, 'IT')\n",
      "(6, 'Nguyen Thi F', 29, 'Marketing')\n",
      "(7, 'Le Thi G', 27, 'Nhan Su')\n",
      "(8, 'Hoang Van H', 35, 'Ke Toan')\n",
      "(9, 'Pham Van I', 33, 'Marketing')\n",
      "(10, 'Tran Van J', 24, 'IT')\n",
      "(11, 'Dang Thi K', 31, 'Nhan Su')\n",
      "(12, 'Nguyen Van L', 28, 'Ke Toan')\n",
      "(13, 'Tran Thi M', 26, 'Marketing')\n",
      "(14, 'Pham Van N', 30, 'Nhan Su')\n",
      "(15, 'Hoang Thi O', 27, 'IT')\n",
      "Phòng ban của nhân viên 'Le Van C' đã được cập nhật thành Marketing.\n"
     ]
    }
   ],
   "source": [
    "# Cập nhật phòng ban cho nhân viên \"Le Van C\"\n",
    "cursor.execute(\"UPDATE NhanVien SET PhongBan = ? WHERE HoTen = ?\", ('Marketing', 'Le Van C'))\n",
    "cursor.execute(\"SELECT * FROM NhanVien\")\n",
    "rows = cursor.fetchall()\n",
    "\n",
    "# In kết quả\n",
    "for row in rows:\n",
    "    print(row)\n",
    "# Lưu thay đổi và đóng kết nối\n",
    "conn.commit()\n",
    "conn.close()\n",
    "\n",
    "print(\"Phòng ban của nhân viên 'Le Van C' đã được cập nhật thành Marketing.\")"
   ]
  },
  {
   "cell_type": "markdown",
   "metadata": {},
   "source": [
    "# câu 8:"
   ]
  },
  {
   "cell_type": "code",
   "execution_count": 10,
   "metadata": {},
   "outputs": [
    {
     "name": "stdout",
     "output_type": "stream",
     "text": [
      "\n",
      "Đã xóa nhân viên có ID = 2\n",
      "\n",
      "Số lượng nhân viên mỗi phòng ban:\n",
      "('IT', 3)\n",
      "('Ke Toan', 4)\n",
      "('Marketing', 4)\n",
      "('Nhan Su', 3)\n"
     ]
    }
   ],
   "source": [
    "conn = sqlite3.connect('congty.db')\n",
    "cursor = conn.cursor()\n",
    "# Xóa nhân viên có ID = 2 (using ID instead of MaNV)\n",
    "cursor.execute(\"DELETE FROM NhanVien WHERE ID = 2\") \n",
    "conn.commit()\n",
    "print(\"\\nĐã xóa nhân viên có ID = 2\")\n",
    "\n",
    "# Đếm số lượng nhân viên trong mỗi phòng ban\n",
    "cursor.execute(\"SELECT PhongBan, COUNT(*) FROM NhanVien GROUP BY PhongBan\")\n",
    "print(\"\\nSố lượng nhân viên mỗi phòng ban:\")\n",
    "for row in cursor.fetchall():\n",
    "    print(row)\n",
    "\n",
    "# Đóng kết nối\n",
    "conn.close()"
   ]
  }
 ],
 "metadata": {
  "kernelspec": {
   "display_name": "Python 3",
   "language": "python",
   "name": "python3"
  },
  "language_info": {
   "codemirror_mode": {
    "name": "ipython",
    "version": 3
   },
   "file_extension": ".py",
   "mimetype": "text/x-python",
   "name": "python",
   "nbconvert_exporter": "python",
   "pygments_lexer": "ipython3",
   "version": "3.10.6"
  }
 },
 "nbformat": 4,
 "nbformat_minor": 2
}
