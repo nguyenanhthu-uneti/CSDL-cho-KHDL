{
 "cells": [
  {
   "cell_type": "code",
   "execution_count": 1,
   "id": "2e9bb806-145e-4e4b-a2bd-d5241866dede",
   "metadata": {},
   "outputs": [],
   "source": [
    "import sqlite3\n",
    "import pandas as pd"
   ]
  },
  {
   "cell_type": "code",
   "execution_count": 3,
   "id": "21a22e1f-a00e-4603-bcf6-6d59879d7033",
   "metadata": {},
   "outputs": [],
   "source": [
    "# Kết nối đến SQLite\n",
    "conn = sqlite3.connect(\"school.db\")\n",
    "cursor = conn.cursor()"
   ]
  },
  {
   "cell_type": "code",
   "execution_count": 5,
   "id": "ce9ff88b-b80b-4291-b847-6e67618a120c",
   "metadata": {},
   "outputs": [
    {
     "data": {
      "text/plain": [
       "<sqlite3.Cursor at 0x1c71841e440>"
      ]
     },
     "execution_count": 5,
     "metadata": {},
     "output_type": "execute_result"
    }
   ],
   "source": [
    "# Tạo bảng student\n",
    "cursor.execute(\"\"\"\n",
    "CREATE TABLE IF NOT EXISTS student (\n",
    "    student_id INTEGER PRIMARY KEY,\n",
    "    name TEXT,\n",
    "    class TEXT,\n",
    "    course_id INTEGER,\n",
    "    score REAL\n",
    ");\n",
    "\"\"\")"
   ]
  },
  {
   "cell_type": "code",
   "execution_count": 7,
   "id": "2b21dad3-d4f1-483a-8535-c0a74c83cb24",
   "metadata": {},
   "outputs": [
    {
     "data": {
      "text/plain": [
       "<sqlite3.Cursor at 0x1c71841e440>"
      ]
     },
     "execution_count": 7,
     "metadata": {},
     "output_type": "execute_result"
    }
   ],
   "source": [
    "# Tạo bảng course\n",
    "cursor.execute(\"\"\"\n",
    "CREATE TABLE IF NOT EXISTS course (\n",
    "    id INTEGER PRIMARY KEY,\n",
    "    course_name TEXT\n",
    ");\n",
    "\"\"\")\n"
   ]
  },
  {
   "cell_type": "code",
   "execution_count": 9,
   "id": "62c6d47f-f8f2-42b4-aac7-1442afd242bd",
   "metadata": {},
   "outputs": [
    {
     "data": {
      "text/plain": [
       "<sqlite3.Cursor at 0x1c71841e440>"
      ]
     },
     "execution_count": 9,
     "metadata": {},
     "output_type": "execute_result"
    }
   ],
   "source": [
    "# Xóa dữ liệu cũ nếu có\n",
    "cursor.execute(\"DELETE FROM student;\")\n",
    "cursor.execute(\"DELETE FROM course;\")"
   ]
  },
  {
   "cell_type": "code",
   "execution_count": 11,
   "id": "fce074f4-abf5-4065-b26a-8380e6739005",
   "metadata": {},
   "outputs": [
    {
     "data": {
      "text/plain": [
       "<sqlite3.Cursor at 0x1c71841e440>"
      ]
     },
     "execution_count": 11,
     "metadata": {},
     "output_type": "execute_result"
    }
   ],
   "source": [
    "# Chèn dữ liệu vào bảng course\n",
    "cursor.executemany(\"\"\"\n",
    "INSERT INTO course (id, course_name) VALUES (?, ?);\n",
    "\"\"\", [(12, 'Giai tich'), (34, 'Thong ke'), (26, 'Tin hoc')])"
   ]
  },
  {
   "cell_type": "code",
   "execution_count": 13,
   "id": "6b964c92-44d0-4cdc-92f2-f6453b9860bb",
   "metadata": {},
   "outputs": [],
   "source": [
    "# Chèn dữ liệu vào bảng student\n",
    "cursor.executemany(\"\"\"\n",
    "INSERT INTO student (student_id, name, class, course_id, score) VALUES (?, ?, ?, ?, ?);\n",
    "\"\"\", [\n",
    "    (1, 'Nguyen Minh Hoang', 'May Tinh', 12, 6.7),\n",
    "    (2, 'Tran Thi Lan', 'Kinh Te', 34, 9.2),\n",
    "    (3, 'Pham Van Nam', 'Toan Tin', None, 7.9),\n",
    "    (4, 'Le Thanh Huyen', 'Toan Tin', 20, 7.2),\n",
    "    (5, 'Vu Quoc Anh', 'May Tinh', 24, 8.0),\n",
    "    (6, 'Dang Thuy Linh', 'May Tinh', 24, 5.5),\n",
    "    (7, 'Bui Tien Dung', 'Kinh Te', 34, 9.2),\n",
    "    (8, 'Ho Ngoc Mai', 'Toan Tin', 20, 8.8),\n",
    "    (9, 'Duong Huu Phuc', 'Kinh Te', None, 7.2),\n",
    "    (10, 'Cao Thi Hanh', 'May Tinh', None, 7.0)\n",
    "])\n",
    "conn.commit()"
   ]
  },
  {
   "cell_type": "code",
   "execution_count": 15,
   "id": "17743402-d597-4d0f-9efb-8c21e2ddb4ca",
   "metadata": {},
   "outputs": [
    {
     "name": "stdout",
     "output_type": "stream",
     "text": [
      "\n",
      "Cartesian Product:\n",
      "    student_id               name     class  course_id  score  id course_name\n",
      "0            1  Nguyen Minh Hoang  May Tinh       12.0    6.7  12   Giai tich\n",
      "1            1  Nguyen Minh Hoang  May Tinh       12.0    6.7  26     Tin hoc\n",
      "2            1  Nguyen Minh Hoang  May Tinh       12.0    6.7  34    Thong ke\n",
      "3            2       Tran Thi Lan   Kinh Te       34.0    9.2  12   Giai tich\n",
      "4            2       Tran Thi Lan   Kinh Te       34.0    9.2  26     Tin hoc\n",
      "5            2       Tran Thi Lan   Kinh Te       34.0    9.2  34    Thong ke\n",
      "6            3       Pham Van Nam  Toan Tin        NaN    7.9  12   Giai tich\n",
      "7            3       Pham Van Nam  Toan Tin        NaN    7.9  26     Tin hoc\n",
      "8            3       Pham Van Nam  Toan Tin        NaN    7.9  34    Thong ke\n",
      "9            4     Le Thanh Huyen  Toan Tin       20.0    7.2  12   Giai tich\n",
      "10           4     Le Thanh Huyen  Toan Tin       20.0    7.2  26     Tin hoc\n",
      "11           4     Le Thanh Huyen  Toan Tin       20.0    7.2  34    Thong ke\n",
      "12           5        Vu Quoc Anh  May Tinh       24.0    8.0  12   Giai tich\n",
      "13           5        Vu Quoc Anh  May Tinh       24.0    8.0  26     Tin hoc\n",
      "14           5        Vu Quoc Anh  May Tinh       24.0    8.0  34    Thong ke\n",
      "15           6     Dang Thuy Linh  May Tinh       24.0    5.5  12   Giai tich\n",
      "16           6     Dang Thuy Linh  May Tinh       24.0    5.5  26     Tin hoc\n",
      "17           6     Dang Thuy Linh  May Tinh       24.0    5.5  34    Thong ke\n",
      "18           7      Bui Tien Dung   Kinh Te       34.0    9.2  12   Giai tich\n",
      "19           7      Bui Tien Dung   Kinh Te       34.0    9.2  26     Tin hoc\n",
      "20           7      Bui Tien Dung   Kinh Te       34.0    9.2  34    Thong ke\n",
      "21           8        Ho Ngoc Mai  Toan Tin       20.0    8.8  12   Giai tich\n",
      "22           8        Ho Ngoc Mai  Toan Tin       20.0    8.8  26     Tin hoc\n",
      "23           8        Ho Ngoc Mai  Toan Tin       20.0    8.8  34    Thong ke\n",
      "24           9     Duong Huu Phuc   Kinh Te        NaN    7.2  12   Giai tich\n",
      "25           9     Duong Huu Phuc   Kinh Te        NaN    7.2  26     Tin hoc\n",
      "26           9     Duong Huu Phuc   Kinh Te        NaN    7.2  34    Thong ke\n",
      "27          10       Cao Thi Hanh  May Tinh        NaN    7.0  12   Giai tich\n",
      "28          10       Cao Thi Hanh  May Tinh        NaN    7.0  26     Tin hoc\n",
      "29          10       Cao Thi Hanh  May Tinh        NaN    7.0  34    Thong ke\n",
      "\n",
      "INNER JOIN:\n",
      "   student_id               name     class  course_id  score course_name\n",
      "0           1  Nguyen Minh Hoang  May Tinh         12    6.7   Giai tich\n",
      "1           2       Tran Thi Lan   Kinh Te         34    9.2    Thong ke\n",
      "2           7      Bui Tien Dung   Kinh Te         34    9.2    Thong ke\n",
      "\n",
      "LEFT JOIN:\n",
      "   student_id               name     class  course_id  score course_name\n",
      "0           1  Nguyen Minh Hoang  May Tinh       12.0    6.7   Giai tich\n",
      "1           2       Tran Thi Lan   Kinh Te       34.0    9.2    Thong ke\n",
      "2           3       Pham Van Nam  Toan Tin        NaN    7.9        None\n",
      "3           4     Le Thanh Huyen  Toan Tin       20.0    7.2        None\n",
      "4           5        Vu Quoc Anh  May Tinh       24.0    8.0        None\n",
      "5           6     Dang Thuy Linh  May Tinh       24.0    5.5        None\n",
      "6           7      Bui Tien Dung   Kinh Te       34.0    9.2    Thong ke\n",
      "7           8        Ho Ngoc Mai  Toan Tin       20.0    8.8        None\n",
      "8           9     Duong Huu Phuc   Kinh Te        NaN    7.2        None\n",
      "9          10       Cao Thi Hanh  May Tinh        NaN    7.0        None\n",
      "\n",
      "RIGHT JOIN (emulated):\n",
      "   student_id               name     class  course_id  score course_name\n",
      "0         1.0  Nguyen Minh Hoang  May Tinh       12.0    6.7   Giai tich\n",
      "1         NaN               None      None        NaN    NaN     Tin hoc\n",
      "2         7.0      Bui Tien Dung   Kinh Te       34.0    9.2    Thong ke\n",
      "3         2.0       Tran Thi Lan   Kinh Te       34.0    9.2    Thong ke\n",
      "\n",
      "FULL OUTER JOIN (emulated):\n",
      "    student_id               name     class  course_id  score course_name\n",
      "0          NaN               None      None        NaN    NaN     Tin hoc\n",
      "1          1.0  Nguyen Minh Hoang  May Tinh       12.0    6.7   Giai tich\n",
      "2          2.0       Tran Thi Lan   Kinh Te       34.0    9.2    Thong ke\n",
      "3          3.0       Pham Van Nam  Toan Tin        NaN    7.9        None\n",
      "4          4.0     Le Thanh Huyen  Toan Tin       20.0    7.2        None\n",
      "5          5.0        Vu Quoc Anh  May Tinh       24.0    8.0        None\n",
      "6          6.0     Dang Thuy Linh  May Tinh       24.0    5.5        None\n",
      "7          7.0      Bui Tien Dung   Kinh Te       34.0    9.2    Thong ke\n",
      "8          8.0        Ho Ngoc Mai  Toan Tin       20.0    8.8        None\n",
      "9          9.0     Duong Huu Phuc   Kinh Te        NaN    7.2        None\n",
      "10        10.0       Cao Thi Hanh  May Tinh        NaN    7.0        None\n"
     ]
    }
   ],
   "source": [
    "# 1. Thực hiện JOIN\n",
    "queries = {\n",
    "    \"Cartesian Product\": \"SELECT * FROM student, course;\",\n",
    "    \"INNER JOIN\": \"SELECT student.*, course.course_name FROM student INNER JOIN course ON student.course_id = course.id;\",\n",
    "    \"LEFT JOIN\": \"SELECT student.*, course.course_name FROM student LEFT JOIN course ON student.course_id = course.id;\",\n",
    "    \"RIGHT JOIN (emulated)\": \"SELECT student.*, course.course_name FROM course LEFT JOIN student ON student.course_id = course.id;\",\n",
    "    \"FULL OUTER JOIN (emulated)\": \"SELECT student.*, course.course_name FROM student LEFT JOIN course ON student.course_id = course.id UNION SELECT student.*, course.course_name FROM course LEFT JOIN student ON student.course_id = course.id;\"\n",
    "}\n",
    "\n",
    "for title, query in queries.items():\n",
    "    print(f\"\\n{title}:\")\n",
    "    df = pd.read_sql(query, conn)\n",
    "    print(df)\n",
    "\n",
    "# Đóng kết nối\n",
    "conn.close()"
   ]
  },
  {
   "cell_type": "markdown",
   "id": "88218357-be42-4d22-8e59-8591243d3ea9",
   "metadata": {},
   "source": [
    "# 2. Hãy cập nhật những giá trị course_id còn thiếu trong bảng student bằng câu lệnh SQL,\n",
    "    trong đó các giá trị được điền là những giá trị nằm trong bảng course và loại bỏ những bản ghi tham gia những môn học không tồn tại bảng course. Sau đó hãy cho biết:\n",
    "\n",
    "- a. Tổng số sinh viên, điểm trung bình của từng lớp.\n",
    "- b. Tổng số sinh viên, điểm trung bình của từng môn học.\n",
    "- c. Phân loại thi đua theo số điểm của từng môn học biết:\n",
    " \n",
    "    -i. Điểm TB ≥ 9.0: Xuất sắc.\n",
    "  \n",
    "    -ii. 6.0 ≤ Điểm TB ≤ 8.9: Tốt.\n",
    "  \n",
    "    -iii. Điểm TB < 6.0: Kém."
   ]
  },
  {
   "cell_type": "code",
   "execution_count": 22,
   "id": "37d23dd9-8606-4f1b-8159-94b733591c98",
   "metadata": {},
   "outputs": [
    {
     "name": "stdout",
     "output_type": "stream",
     "text": [
      "\n",
      "Tổng số sinh viên và điểm trung bình theo lớp:\n",
      "      class  total_students  avg_score\n",
      "0   Kinh Te               3   8.533333\n",
      "1  May Tinh               2   6.850000\n",
      "2  Toan Tin               1   7.900000\n"
     ]
    }
   ],
   "source": [
    "import sqlite3\n",
    "import pandas as pd\n",
    "\n",
    "# Kết nối đến SQLite\n",
    "conn = sqlite3.connect(\"school.db\")\n",
    "cursor = conn.cursor()\n",
    "\n",
    "# 2. Cập nhật course_id còn thiếu và loại bỏ dữ liệu không hợp lệ\n",
    "cursor.execute(\"\"\"\n",
    "UPDATE student\n",
    "SET course_id = (SELECT id FROM course WHERE course_name = 'Tin hoc')\n",
    "WHERE course_id IS NULL;\n",
    "\"\"\")\n",
    "\n",
    "cursor.execute(\"\"\"\n",
    "DELETE FROM student\n",
    "WHERE course_id NOT IN (SELECT id FROM course);\n",
    "\"\"\")\n",
    "conn.commit()\n",
    "\n",
    "# 3a. Tính tổng số sinh viên và điểm trung bình theo lớp\n",
    "query = \"\"\"\n",
    "SELECT class, COUNT(*) AS total_students, AVG(score) AS avg_score\n",
    "FROM student\n",
    "GROUP BY class;\n",
    "\"\"\"\n",
    "df = pd.read_sql(query, conn)\n",
    "print(\"\\nTổng số sinh viên và điểm trung bình theo lớp:\")\n",
    "print(df)\n",
    "\n",
    "# Đóng kết nối\n",
    "conn.close()"
   ]
  },
  {
   "cell_type": "code",
   "execution_count": 24,
   "id": "01609fb6-bd2b-4358-9fed-418b0234ccc6",
   "metadata": {},
   "outputs": [
    {
     "name": "stdout",
     "output_type": "stream",
     "text": [
      "\n",
      "Tổng số sinh viên và điểm trung bình theo môn học:\n",
      "  course_name  total_students  avg_score\n",
      "0   Giai tich               1   6.700000\n",
      "1    Thong ke               2   9.200000\n",
      "2     Tin hoc               3   7.366667\n"
     ]
    }
   ],
   "source": [
    "import sqlite3\n",
    "import pandas as pd\n",
    "\n",
    "# Kết nối đến SQLite\n",
    "conn = sqlite3.connect(\"school.db\")\n",
    "cursor = conn.cursor()\n",
    "\n",
    "# 3b. Tính tổng số sinh viên và điểm trung bình theo môn học\n",
    "query = \"\"\"\n",
    "SELECT course.course_name, COUNT(student.student_id) AS total_students, AVG(student.score) AS avg_score\n",
    "FROM student\n",
    "JOIN course ON student.course_id = course.id\n",
    "GROUP BY course.course_name;\n",
    "\"\"\"\n",
    "df = pd.read_sql(query, conn)\n",
    "print(\"\\nTổng số sinh viên và điểm trung bình theo môn học:\")\n",
    "print(df)\n",
    "\n",
    "# Đóng kết nối\n",
    "conn.close()"
   ]
  },
  {
   "cell_type": "code",
   "execution_count": 26,
   "id": "f3c2d721-99f1-4ba3-b840-959257fea489",
   "metadata": {},
   "outputs": [
    {
     "name": "stdout",
     "output_type": "stream",
     "text": [
      "\n",
      "Phân loại thi đua theo số điểm của từng môn học:\n",
      "  course_name  avg_score   ranking\n",
      "0   Giai tich   6.700000       Tốt\n",
      "1    Thong ke   9.200000  Xuất sắc\n",
      "2     Tin hoc   7.366667       Tốt\n"
     ]
    }
   ],
   "source": [
    "import sqlite3\n",
    "import pandas as pd\n",
    "\n",
    "# Kết nối đến SQLite\n",
    "conn = sqlite3.connect(\"school.db\")\n",
    "cursor = conn.cursor()\n",
    "\n",
    "# 3c. Phân loại thi đua theo số điểm của từng môn học\n",
    "query = \"\"\"\n",
    "SELECT course.course_name, AVG(student.score) AS avg_score,\n",
    "       CASE \n",
    "           WHEN AVG(student.score) >= 9.0 THEN 'Xuất sắc'\n",
    "           WHEN AVG(student.score) BETWEEN 6.0 AND 8.9 THEN 'Tốt'\n",
    "           ELSE 'Kém'\n",
    "       END AS ranking\n",
    "FROM student\n",
    "JOIN course ON student.course_id = course.id\n",
    "GROUP BY course.course_name;\n",
    "\"\"\"\n",
    "df = pd.read_sql(query, conn)\n",
    "print(\"\\nPhân loại thi đua theo số điểm của từng môn học:\")\n",
    "print(df)\n",
    "\n",
    "# Đóng kết nối\n",
    "conn.close()"
   ]
  },
  {
   "cell_type": "markdown",
   "id": "c047b7a4-d8f3-47db-8cb5-27ebf66669b5",
   "metadata": {},
   "source": [
    "# 3. Hãy xếp hạng sinh viên thông qua:\n",
    "a. Điểm số.\n",
    "\n",
    "b. Điểm số theo lớp học.\n",
    "\n",
    "c. Điểm số theo mã môn học.\n",
    "và cho biết top 3 sinh viện đạt thứ hạng cao nhất, top 3 sinh viên đạt thứ hạng thấp nhất theo từng trường hợp trên."
   ]
  },
  {
   "cell_type": "code",
   "execution_count": 46,
   "id": "a3ec657a-2a5a-4618-b028-4f04217e3d8b",
   "metadata": {},
   "outputs": [
    {
     "name": "stdout",
     "output_type": "stream",
     "text": [
      "\n",
      "Xếp hạng sinh viên theo điểm số:\n",
      "   student_id               name  score  rank\n",
      "0           2       Tran Thi Lan    9.2     1\n",
      "1           7      Bui Tien Dung    9.2     1\n",
      "2           3       Pham Van Nam    7.9     3\n",
      "3           9     Duong Huu Phuc    7.2     4\n",
      "4          10       Cao Thi Hanh    7.0     5\n",
      "5           1  Nguyen Minh Hoang    6.7     6\n"
     ]
    }
   ],
   "source": [
    "# Kết nối đến SQLite\n",
    "conn = sqlite3.connect(\"school.db\")\n",
    "cursor = conn.cursor()\n",
    "\n",
    "# a. Xếp hạng theo điểm số\n",
    "query = \"\"\"\n",
    "SELECT student_id, name, score,\n",
    "       RANK() OVER (ORDER BY score DESC) AS rank\n",
    "FROM student;\n",
    "\"\"\"\n",
    "df = pd.read_sql(query, conn)\n",
    "print(\"\\nXếp hạng sinh viên theo điểm số:\")\n",
    "print(df)\n",
    "\n",
    "# Đóng kết nối\n",
    "conn.close()"
   ]
  },
  {
   "cell_type": "code",
   "execution_count": 42,
   "id": "6d27ef42-6d5c-4d38-bc5f-4b8cbc81af6b",
   "metadata": {},
   "outputs": [
    {
     "name": "stdout",
     "output_type": "stream",
     "text": [
      "\n",
      "Xếp hạng sinh viên theo điểm số trong từng lớp:\n",
      "   student_id               name     class  score  rank\n",
      "0           2       Tran Thi Lan   Kinh Te    9.2     1\n",
      "1           7      Bui Tien Dung   Kinh Te    9.2     1\n",
      "2           9     Duong Huu Phuc   Kinh Te    7.2     3\n",
      "3          10       Cao Thi Hanh  May Tinh    7.0     1\n",
      "4           1  Nguyen Minh Hoang  May Tinh    6.7     2\n",
      "5           3       Pham Van Nam  Toan Tin    7.9     1\n"
     ]
    }
   ],
   "source": [
    "# Kết nối đến SQLite\n",
    "conn = sqlite3.connect(\"school.db\")\n",
    "cursor = conn.cursor()\n",
    "\n",
    "# b. Xếp hạng theo điểm số trong từng lớp\n",
    "query = \"\"\"\n",
    "SELECT student_id, name, class, score,\n",
    "       RANK() OVER (PARTITION BY class ORDER BY score DESC) AS rank\n",
    "FROM student;\n",
    "\"\"\"\n",
    "df = pd.read_sql(query, conn)\n",
    "print(\"\\nXếp hạng sinh viên theo điểm số trong từng lớp:\")\n",
    "print(df)\n",
    "\n",
    "# Đóng kết nối\n",
    "conn.close()"
   ]
  },
  {
   "cell_type": "code",
   "execution_count": 44,
   "id": "f7230f85-3f41-4391-83df-3a26675db9af",
   "metadata": {},
   "outputs": [
    {
     "name": "stdout",
     "output_type": "stream",
     "text": [
      "\n",
      "Xếp hạng sinh viên theo điểm số trong từng môn học:\n",
      "   student_id               name  course_id  score  rank\n",
      "0           1  Nguyen Minh Hoang         12    6.7     1\n",
      "1           3       Pham Van Nam         26    7.9     1\n",
      "2           9     Duong Huu Phuc         26    7.2     2\n",
      "3          10       Cao Thi Hanh         26    7.0     3\n",
      "4           2       Tran Thi Lan         34    9.2     1\n",
      "5           7      Bui Tien Dung         34    9.2     1\n"
     ]
    }
   ],
   "source": [
    "# Kết nối đến SQLite\n",
    "conn = sqlite3.connect(\"school.db\")\n",
    "cursor = conn.cursor()\n",
    "\n",
    "# c. Xếp hạng theo điểm số trong từng môn học\n",
    "query = \"\"\"\n",
    "SELECT student_id, name, course_id, score,\n",
    "       RANK() OVER (PARTITION BY course_id ORDER BY score DESC) AS rank\n",
    "FROM student;\n",
    "\"\"\"\n",
    "df = pd.read_sql(query, conn)\n",
    "print(\"\\nXếp hạng sinh viên theo điểm số trong từng môn học:\")\n",
    "print(df)\n",
    "\n",
    "# Đóng kết nối\n",
    "conn.close()"
   ]
  },
  {
   "cell_type": "code",
   "execution_count": 48,
   "id": "e9028d9c-82bf-4cb7-bbcb-5c48748f623d",
   "metadata": {},
   "outputs": [
    {
     "name": "stdout",
     "output_type": "stream",
     "text": [
      "\n",
      "Top 3 sinh viên đạt điểm cao nhất theo score:\n",
      "   student_id               name  score  score  rank\n",
      "0           1  Nguyen Minh Hoang    6.7    6.7     1\n",
      "1          10       Cao Thi Hanh    7.0    7.0     1\n",
      "2           9     Duong Huu Phuc    7.2    7.2     1\n",
      "3           3       Pham Van Nam    7.9    7.9     1\n",
      "4           2       Tran Thi Lan    9.2    9.2     1\n",
      "5           7      Bui Tien Dung    9.2    9.2     1\n",
      "\n",
      "Top 3 sinh viên đạt điểm thấp nhất theo score:\n",
      "   student_id               name  score  score  rank\n",
      "0           1  Nguyen Minh Hoang    6.7    6.7     1\n",
      "1          10       Cao Thi Hanh    7.0    7.0     1\n",
      "2           9     Duong Huu Phuc    7.2    7.2     1\n",
      "3           3       Pham Van Nam    7.9    7.9     1\n",
      "4           2       Tran Thi Lan    9.2    9.2     1\n",
      "5           7      Bui Tien Dung    9.2    9.2     1\n",
      "\n",
      "Top 3 sinh viên đạt điểm cao nhất theo class:\n",
      "   student_id               name     class  score  rank\n",
      "0           2       Tran Thi Lan   Kinh Te    9.2     1\n",
      "1           7      Bui Tien Dung   Kinh Te    9.2     1\n",
      "2           9     Duong Huu Phuc   Kinh Te    7.2     3\n",
      "3          10       Cao Thi Hanh  May Tinh    7.0     1\n",
      "4           1  Nguyen Minh Hoang  May Tinh    6.7     2\n",
      "5           3       Pham Van Nam  Toan Tin    7.9     1\n",
      "\n",
      "Top 3 sinh viên đạt điểm thấp nhất theo class:\n",
      "   student_id               name     class  score  rank\n",
      "0           9     Duong Huu Phuc   Kinh Te    7.2     1\n",
      "1           2       Tran Thi Lan   Kinh Te    9.2     2\n",
      "2           7      Bui Tien Dung   Kinh Te    9.2     2\n",
      "3           1  Nguyen Minh Hoang  May Tinh    6.7     1\n",
      "4          10       Cao Thi Hanh  May Tinh    7.0     2\n",
      "5           3       Pham Van Nam  Toan Tin    7.9     1\n",
      "\n",
      "Top 3 sinh viên đạt điểm cao nhất theo course_id:\n",
      "   student_id               name  course_id  score  rank\n",
      "0           1  Nguyen Minh Hoang         12    6.7     1\n",
      "1           3       Pham Van Nam         26    7.9     1\n",
      "2           9     Duong Huu Phuc         26    7.2     2\n",
      "3          10       Cao Thi Hanh         26    7.0     3\n",
      "4           2       Tran Thi Lan         34    9.2     1\n",
      "5           7      Bui Tien Dung         34    9.2     1\n",
      "\n",
      "Top 3 sinh viên đạt điểm thấp nhất theo course_id:\n",
      "   student_id               name  course_id  score  rank\n",
      "0           1  Nguyen Minh Hoang         12    6.7     1\n",
      "1          10       Cao Thi Hanh         26    7.0     1\n",
      "2           9     Duong Huu Phuc         26    7.2     2\n",
      "3           3       Pham Van Nam         26    7.9     3\n",
      "4           2       Tran Thi Lan         34    9.2     1\n",
      "5           7      Bui Tien Dung         34    9.2     1\n"
     ]
    }
   ],
   "source": [
    "# Kết nối đến SQLite\n",
    "conn = sqlite3.connect(\"school.db\")\n",
    "cursor = conn.cursor()\n",
    "\n",
    "# d. Top 3 sinh viên đạt thứ hạng cao nhất và thấp nhất theo từng tiêu chí\n",
    "for criteria in [\"score\", \"class\", \"course_id\"]:\n",
    "    query = f\"\"\"\n",
    "    SELECT student_id, name, {criteria}, score,\n",
    "           RANK() OVER (PARTITION BY {criteria} ORDER BY score DESC) AS rank\n",
    "    FROM student;\n",
    "    \"\"\"\n",
    "    df = pd.read_sql(query, conn)\n",
    "    print(f\"\\nTop 3 sinh viên đạt điểm cao nhất theo {criteria}:\")\n",
    "    print(df[df['rank'] <= 3])\n",
    "    \n",
    "    query = f\"\"\"\n",
    "    SELECT student_id, name, {criteria}, score,\n",
    "           RANK() OVER (PARTITION BY {criteria} ORDER BY score ASC) AS rank\n",
    "    FROM student;\n",
    "    \"\"\"\n",
    "    df = pd.read_sql(query, conn)\n",
    "    print(f\"\\nTop 3 sinh viên đạt điểm thấp nhất theo {criteria}:\")\n",
    "    print(df[df['rank'] <= 3])\n",
    "\n",
    "# Đóng kết nối\n",
    "conn.close()"
   ]
  },
  {
   "cell_type": "markdown",
   "id": "e36da499-46de-42c8-b3f4-4a582266b91d",
   "metadata": {},
   "source": [
    "# 4. Hãy bổ sung thêm một trường graduation_date có kiểu dữ liệu là DATETIME vào bảng student để xác định thời gian tốt nghiệp của từng bạn, trong đó thời gian tốt nghiệp được xác định bởi thời gian hiện tại cộng với số hạng tương ứng của bạn đó tính theo điểm số."
   ]
  },
  {
   "cell_type": "code",
   "execution_count": 52,
   "id": "d19fd1b0-c112-415c-9bf7-b1d7c5885d6e",
   "metadata": {},
   "outputs": [
    {
     "name": "stdout",
     "output_type": "stream",
     "text": [
      "\n",
      "Danh sách sinh viên với ngày tốt nghiệp:\n",
      "   student_id               name  score      graduation_date\n",
      "0           1  Nguyen Minh Hoang    6.7  2025-03-12 09:18:23\n",
      "1           2       Tran Thi Lan    9.2  2025-03-12 09:18:23\n",
      "2           3       Pham Van Nam    7.9  2025-03-12 09:18:23\n",
      "3           7      Bui Tien Dung    9.2  2025-03-12 09:18:23\n",
      "4           9     Duong Huu Phuc    7.2  2025-03-12 09:18:23\n",
      "5          10       Cao Thi Hanh    7.0  2025-03-12 09:18:23\n"
     ]
    }
   ],
   "source": [
    "# Kết nối đến SQLite\n",
    "conn = sqlite3.connect(\"school.db\")\n",
    "cursor = conn.cursor()\n",
    "\n",
    "# 4. Thêm cột graduation_date vào bảng student\n",
    "cursor.execute(\"\"\"\n",
    "ALTER TABLE student ADD COLUMN graduation_date DATETIME;\n",
    "\"\"\")\n",
    "\n",
    "# Cập nhật ngày tốt nghiệp dựa trên thứ hạng theo điểm số\n",
    "query = \"\"\"\n",
    "UPDATE student\n",
    "SET graduation_date = DATETIME('now', '+' || (\n",
    "    SELECT RANK() OVER (ORDER BY score DESC) FROM student s WHERE s.student_id = student.student_id\n",
    ") || ' days');\n",
    "\"\"\"\n",
    "cursor.execute(query)\n",
    "conn.commit()\n",
    "\n",
    "# Kiểm tra kết quả\n",
    "query = \"SELECT student_id, name, score, graduation_date FROM student;\"\n",
    "df = pd.read_sql(query, conn)\n",
    "print(\"\\nDanh sách sinh viên với ngày tốt nghiệp:\")\n",
    "print(df)\n",
    "\n",
    "# Đóng kết nối\n",
    "conn.close()"
   ]
  },
  {
   "cell_type": "code",
   "execution_count": null,
   "id": "9a092281-cd36-4f7b-9493-9ccb84302268",
   "metadata": {},
   "outputs": [],
   "source": []
  }
 ],
 "metadata": {
  "kernelspec": {
   "display_name": "Python 3 (ipykernel)",
   "language": "python",
   "name": "python3"
  },
  "language_info": {
   "codemirror_mode": {
    "name": "ipython",
    "version": 3
   },
   "file_extension": ".py",
   "mimetype": "text/x-python",
   "name": "python",
   "nbconvert_exporter": "python",
   "pygments_lexer": "ipython3",
   "version": "3.12.7"
  }
 },
 "nbformat": 4,
 "nbformat_minor": 5
}
