{
 "cells": [
  {
   "cell_type": "code",
   "execution_count": null,
   "metadata": {},
   "outputs": [],
   "source": [
    "import sqlite3\n",
    "import pandas as pd"
   ]
  },
  {
   "cell_type": "code",
   "execution_count": null,
   "metadata": {},
   "outputs": [],
   "source": [
    "conn = sqlite3.connect('bai_tap_chuong_02.db')\n",
    "cursor = conn.cursor()"
   ]
  },
  {
   "cell_type": "markdown",
   "metadata": {},
   "source": [
    "**Tạo hai bảng:**\n",
    "- Student (student_id, name, class, course_id, score)\n",
    "- Course (id, course_name)"
   ]
  },
  {
   "cell_type": "code",
   "execution_count": 65,
   "metadata": {},
   "outputs": [
    {
     "name": "stdout",
     "output_type": "stream",
     "text": [
      "Bảng Student:\n",
      "(1, 'Nguyen Minh Hoang', 'May Tinh', 12, 6.7)\n",
      "(2, 'Tran Thi Lan', 'Kinh Te', 34, 9.2)\n",
      "(3, 'Pham Van Nam', 'Toan Tin', None, 7.9)\n",
      "(4, 'Le Thanh Huyen', 'Toan Tin', 20, 7.2)\n",
      "(5, 'Vu Quoc Anh', 'May Tinh', 24, 8.0)\n",
      "(6, 'Dang Thuy Linh', 'May Tinh', 24, 5.5)\n",
      "(7, 'Bui Tien Dung', 'Kinh Te', 34, 9.2)\n",
      "(8, 'Ho Ngoc Mai', 'Toan Tin', 20, 8.8)\n",
      "(9, 'Duong Huu Phuc', 'Kinh Te', None, 7.2)\n",
      "(10, 'Cao Thi Hanh', 'May Tinh', None, 7.0)\n"
     ]
    }
   ],
   "source": [
    "# Tạo bảng Student\n",
    "cursor.execute('''CREATE TABLE IF NOT EXISTS Student (\n",
    "    student_id INT PRIMARY KEY,\n",
    "    name VARCHAR(50),\n",
    "    class VARCHAR(50),\n",
    "    course_id INT,\n",
    "    score FLOAT\n",
    ")\n",
    "''')\n",
    "cursor.execute('DELETE FROM Student')\n",
    "\n",
    "cursor.execute('''INSERT INTO Student (student_id, name, class, course_id, score) VALUES\n",
    "(1, 'Nguyen Minh Hoang', 'May Tinh', 12, 6.7),\n",
    "(2, 'Tran Thi Lan', 'Kinh Te', 34, 9.2),\n",
    "(3, 'Pham Van Nam', 'Toan Tin', NULL, 7.9),\n",
    "(4, 'Le Thanh Huyen', 'Toan Tin', 20, 7.2),\n",
    "(5, 'Vu Quoc Anh', 'May Tinh', 24, 8.0),\n",
    "(6, 'Dang Thuy Linh', 'May Tinh', 24, 5.5),\n",
    "(7, 'Bui Tien Dung', 'Kinh Te', 34, 9.2),\n",
    "(8, 'Ho Ngoc Mai', 'Toan Tin', 20, 8.8),\n",
    "(9, 'Duong Huu Phuc', 'Kinh Te', NULL, 7.2),\n",
    "(10, 'Cao Thi Hanh', 'May Tinh', NULL, 7.0)\n",
    "''')\n",
    "conn.commit()\n",
    "\n",
    "cursor.execute('SELECT * FROM Student')\n",
    "rows = cursor.fetchall()\n",
    "print('Bảng Student:')\n",
    "for row in rows:\n",
    "    print(row)"
   ]
  },
  {
   "cell_type": "code",
   "execution_count": 66,
   "metadata": {},
   "outputs": [
    {
     "name": "stdout",
     "output_type": "stream",
     "text": [
      "Bảng Course:\n",
      "(12, 'Giai tich')\n",
      "(34, 'Thong ke')\n",
      "(26, 'Tin hoc')\n"
     ]
    }
   ],
   "source": [
    "# Tạo bảng Course\n",
    "cursor.execute('''CREATE TABLE IF NOT EXISTS Course (\n",
    "    id INT PRIMARY KEY,\n",
    "    course_name VARCHAR(50)\n",
    "    )\n",
    "    ''')\n",
    "cursor.execute('DELETE FROM Course')\n",
    "\n",
    "cursor.execute('''INSERT INTO Course (id, course_name) VALUES\n",
    "               (12, 'Giai tich'),\n",
    "               (34, 'Thong ke'),\n",
    "               (26, 'Tin hoc')\n",
    "               ''')\n",
    "conn.commit()\n",
    "\n",
    "cursor.execute('SELECT * FROM Course')\n",
    "rows = cursor.fetchall()\n",
    "print('Bảng Course:')\n",
    "for row in rows:\n",
    "    print(row)"
   ]
  },
  {
   "cell_type": "markdown",
   "metadata": {},
   "source": [
    "**1. Hãy kết nối hai bảng trên theo những cách sau:**\n",
    "- Sử dụng tích Decartes.\n",
    "- Sử dụng JOIN: INNER JOIN, LEFT JOIN, RIGHT JOIN, FULL OUTER JOIN."
   ]
  },
  {
   "cell_type": "code",
   "execution_count": 67,
   "metadata": {},
   "outputs": [
    {
     "name": "stdout",
     "output_type": "stream",
     "text": [
      "Kết quả kết nối bằng tích Descartes:\n",
      "(1, 'Nguyen Minh Hoang', 'May Tinh', 12, 6.7, 12, 'Giai tich')\n",
      "(1, 'Nguyen Minh Hoang', 'May Tinh', 12, 6.7, 34, 'Thong ke')\n",
      "(1, 'Nguyen Minh Hoang', 'May Tinh', 12, 6.7, 26, 'Tin hoc')\n",
      "(2, 'Tran Thi Lan', 'Kinh Te', 34, 9.2, 12, 'Giai tich')\n",
      "(2, 'Tran Thi Lan', 'Kinh Te', 34, 9.2, 34, 'Thong ke')\n",
      "(2, 'Tran Thi Lan', 'Kinh Te', 34, 9.2, 26, 'Tin hoc')\n",
      "(3, 'Pham Van Nam', 'Toan Tin', None, 7.9, 12, 'Giai tich')\n",
      "(3, 'Pham Van Nam', 'Toan Tin', None, 7.9, 34, 'Thong ke')\n",
      "(3, 'Pham Van Nam', 'Toan Tin', None, 7.9, 26, 'Tin hoc')\n",
      "(4, 'Le Thanh Huyen', 'Toan Tin', 20, 7.2, 12, 'Giai tich')\n",
      "(4, 'Le Thanh Huyen', 'Toan Tin', 20, 7.2, 34, 'Thong ke')\n",
      "(4, 'Le Thanh Huyen', 'Toan Tin', 20, 7.2, 26, 'Tin hoc')\n",
      "(5, 'Vu Quoc Anh', 'May Tinh', 24, 8.0, 12, 'Giai tich')\n",
      "(5, 'Vu Quoc Anh', 'May Tinh', 24, 8.0, 34, 'Thong ke')\n",
      "(5, 'Vu Quoc Anh', 'May Tinh', 24, 8.0, 26, 'Tin hoc')\n",
      "(6, 'Dang Thuy Linh', 'May Tinh', 24, 5.5, 12, 'Giai tich')\n",
      "(6, 'Dang Thuy Linh', 'May Tinh', 24, 5.5, 34, 'Thong ke')\n",
      "(6, 'Dang Thuy Linh', 'May Tinh', 24, 5.5, 26, 'Tin hoc')\n",
      "(7, 'Bui Tien Dung', 'Kinh Te', 34, 9.2, 12, 'Giai tich')\n",
      "(7, 'Bui Tien Dung', 'Kinh Te', 34, 9.2, 34, 'Thong ke')\n",
      "(7, 'Bui Tien Dung', 'Kinh Te', 34, 9.2, 26, 'Tin hoc')\n",
      "(8, 'Ho Ngoc Mai', 'Toan Tin', 20, 8.8, 12, 'Giai tich')\n",
      "(8, 'Ho Ngoc Mai', 'Toan Tin', 20, 8.8, 34, 'Thong ke')\n",
      "(8, 'Ho Ngoc Mai', 'Toan Tin', 20, 8.8, 26, 'Tin hoc')\n",
      "(9, 'Duong Huu Phuc', 'Kinh Te', None, 7.2, 12, 'Giai tich')\n",
      "(9, 'Duong Huu Phuc', 'Kinh Te', None, 7.2, 34, 'Thong ke')\n",
      "(9, 'Duong Huu Phuc', 'Kinh Te', None, 7.2, 26, 'Tin hoc')\n",
      "(10, 'Cao Thi Hanh', 'May Tinh', None, 7.0, 12, 'Giai tich')\n",
      "(10, 'Cao Thi Hanh', 'May Tinh', None, 7.0, 34, 'Thong ke')\n",
      "(10, 'Cao Thi Hanh', 'May Tinh', None, 7.0, 26, 'Tin hoc')\n"
     ]
    }
   ],
   "source": [
    "# Sử dụng tích Descartes\n",
    "cursor.execute('SELECT * FROM Student, Course')\n",
    "rows = cursor.fetchall()\n",
    "print('Kết quả kết nối bằng tích Descartes:')\n",
    "for row in rows:\n",
    "    print(row)"
   ]
  },
  {
   "cell_type": "code",
   "execution_count": 68,
   "metadata": {},
   "outputs": [
    {
     "name": "stdout",
     "output_type": "stream",
     "text": [
      "Kết quả kết nối bằng INNER JOIN:\n",
      "(1, 'Nguyen Minh Hoang', 'May Tinh', 12, 6.7, 12, 'Giai tich')\n",
      "(2, 'Tran Thi Lan', 'Kinh Te', 34, 9.2, 34, 'Thong ke')\n",
      "(7, 'Bui Tien Dung', 'Kinh Te', 34, 9.2, 34, 'Thong ke')\n"
     ]
    }
   ],
   "source": [
    "# Sử dụng INNER JOIN\n",
    "cursor.execute('''SELECT *\n",
    "FROM Student INNER JOIN Course ON Student.course_id = Course.id\n",
    "''')\n",
    "rows = cursor.fetchall()\n",
    "print('Kết quả kết nối bằng INNER JOIN:')\n",
    "for row in rows:\n",
    "    print(row)"
   ]
  },
  {
   "cell_type": "code",
   "execution_count": 69,
   "metadata": {},
   "outputs": [
    {
     "name": "stdout",
     "output_type": "stream",
     "text": [
      "Kết quả kết nối bằng LEFT JOIN:\n",
      "(1, 'Nguyen Minh Hoang', 'May Tinh', 12, 6.7, 12, 'Giai tich')\n",
      "(2, 'Tran Thi Lan', 'Kinh Te', 34, 9.2, 34, 'Thong ke')\n",
      "(3, 'Pham Van Nam', 'Toan Tin', None, 7.9, None, None)\n",
      "(4, 'Le Thanh Huyen', 'Toan Tin', 20, 7.2, None, None)\n",
      "(5, 'Vu Quoc Anh', 'May Tinh', 24, 8.0, None, None)\n",
      "(6, 'Dang Thuy Linh', 'May Tinh', 24, 5.5, None, None)\n",
      "(7, 'Bui Tien Dung', 'Kinh Te', 34, 9.2, 34, 'Thong ke')\n",
      "(8, 'Ho Ngoc Mai', 'Toan Tin', 20, 8.8, None, None)\n",
      "(9, 'Duong Huu Phuc', 'Kinh Te', None, 7.2, None, None)\n",
      "(10, 'Cao Thi Hanh', 'May Tinh', None, 7.0, None, None)\n"
     ]
    }
   ],
   "source": [
    "# Sử dụng LEFT JOIN\n",
    "cursor.execute('''SELECT *\n",
    "FROM Student LEFT JOIN Course ON Student.course_id = Course.id\n",
    "''')\n",
    "rows = cursor.fetchall()\n",
    "print('Kết quả kết nối bằng LEFT JOIN:')\n",
    "for row in rows:\n",
    "    print(row)"
   ]
  },
  {
   "cell_type": "code",
   "execution_count": 70,
   "metadata": {},
   "outputs": [
    {
     "name": "stdout",
     "output_type": "stream",
     "text": [
      "Kết quả kết nối bằng RIGHT JOIN:\n",
      "(1, 'Nguyen Minh Hoang', 'May Tinh', 12, 6.7, 12, 'Giai tich')\n",
      "(2, 'Tran Thi Lan', 'Kinh Te', 34, 9.2, 34, 'Thong ke')\n",
      "(7, 'Bui Tien Dung', 'Kinh Te', 34, 9.2, 34, 'Thong ke')\n",
      "(None, None, None, None, None, 26, 'Tin hoc')\n"
     ]
    }
   ],
   "source": [
    "# Sử dụng RIGHT JOIN\n",
    "cursor.execute('''SELECT *\n",
    "FROM Student RIGHT JOIN Course ON Student.course_id = Course.id\n",
    "''')\n",
    "rows = cursor.fetchall()\n",
    "print('Kết quả kết nối bằng RIGHT JOIN:')\n",
    "for row in rows:\n",
    "    print(row)"
   ]
  },
  {
   "cell_type": "code",
   "execution_count": 71,
   "metadata": {},
   "outputs": [
    {
     "name": "stdout",
     "output_type": "stream",
     "text": [
      "Kết quả kết nối bằng FULL OUTER JOIN:\n",
      "(1, 'Nguyen Minh Hoang', 'May Tinh', 12, 6.7, 12, 'Giai tich')\n",
      "(2, 'Tran Thi Lan', 'Kinh Te', 34, 9.2, 34, 'Thong ke')\n",
      "(3, 'Pham Van Nam', 'Toan Tin', None, 7.9, None, None)\n",
      "(4, 'Le Thanh Huyen', 'Toan Tin', 20, 7.2, None, None)\n",
      "(5, 'Vu Quoc Anh', 'May Tinh', 24, 8.0, None, None)\n",
      "(6, 'Dang Thuy Linh', 'May Tinh', 24, 5.5, None, None)\n",
      "(7, 'Bui Tien Dung', 'Kinh Te', 34, 9.2, 34, 'Thong ke')\n",
      "(8, 'Ho Ngoc Mai', 'Toan Tin', 20, 8.8, None, None)\n",
      "(9, 'Duong Huu Phuc', 'Kinh Te', None, 7.2, None, None)\n",
      "(10, 'Cao Thi Hanh', 'May Tinh', None, 7.0, None, None)\n",
      "(None, None, None, None, None, 26, 'Tin hoc')\n"
     ]
    }
   ],
   "source": [
    "# Sử dụng FULL OUTER JOIN\n",
    "cursor.execute('''SELECT *\n",
    "FROM Student FULL OUTER JOIN Course ON Student.course_id = Course.id\n",
    "''')\n",
    "rows = cursor.fetchall()\n",
    "print('Kết quả kết nối bằng FULL OUTER JOIN:')\n",
    "for row in rows:\n",
    "    print(row)"
   ]
  },
  {
   "cell_type": "markdown",
   "metadata": {},
   "source": [
    "**2. Hãy cập nhật những giá trị course_id còn thiếu trong bảng student bằng câu lệnh SQL, trong đó các giá trị được điền là những giá trị nằm trong bảng course và loại bỏ những bản ghi tham gia những môn học không tồn tại bảng course. Sau đó hãy cho biết:**\n",
    "- a. Tổng số sinh viên, điểm trung bình của từng lớp.\n",
    "- b. Tổng số sinh viên, điểm trung bình của từng môn học.\n",
    "- c. Phân loại thi đua theo số điểm của từng môn học biết:\n",
    "    + i. Điểm TB ≥ 9.0: Xuất sắc.\n",
    "    + ii. 6.0 ≤ Điểm TB ≤ 8.9: Tốt.\n",
    "    + iii. Điểm TB < 6.0: Kém."
   ]
  },
  {
   "cell_type": "code",
   "execution_count": 72,
   "metadata": {},
   "outputs": [
    {
     "name": "stdout",
     "output_type": "stream",
     "text": [
      "Kết quả dữ liệu sau khi cập nhật:\n",
      "   student_id               name     class  course_id  score\n",
      "0           1  Nguyen Minh Hoang  May Tinh         12    6.7\n",
      "1           2       Tran Thi Lan   Kinh Te         34    9.2\n",
      "2           3       Pham Van Nam  Toan Tin         26    7.9\n",
      "3           4     Le Thanh Huyen  Toan Tin         20    7.2\n",
      "4           5        Vu Quoc Anh  May Tinh         24    8.0\n",
      "5           6     Dang Thuy Linh  May Tinh         24    5.5\n",
      "6           7      Bui Tien Dung   Kinh Te         34    9.2\n",
      "7           8        Ho Ngoc Mai  Toan Tin         20    8.8\n",
      "8           9     Duong Huu Phuc   Kinh Te         26    7.2\n",
      "9          10       Cao Thi Hanh  May Tinh         26    7.0\n"
     ]
    }
   ],
   "source": [
    "# Cập nhật course_id còn thiếu bằng cách lấy một giá trị hợp lệ từ bảng Course\n",
    "cursor.execute('''UPDATE Student\n",
    "SET course_id = (SELECT id FROM Course ORDER BY RANDOM() LIMIT 1)\n",
    "WHERE course_id IS NULL\n",
    "''')\n",
    "conn.commit()\n",
    "\n",
    "cursor.execute('SELECT * FROM Student')\n",
    "print('Kết quả dữ liệu sau khi cập nhật:')\n",
    "df_updated = pd.DataFrame(cursor.fetchall(), columns=['student_id', 'name', 'class', 'course_id', 'score'])\n",
    "print(df_updated)"
   ]
  },
  {
   "cell_type": "code",
   "execution_count": 73,
   "metadata": {},
   "outputs": [
    {
     "name": "stdout",
     "output_type": "stream",
     "text": [
      "Kết quả dữ liệu sau khi xóa các bản ghi không hợp lệ:\n",
      "   student_id               name     class  course_id  score\n",
      "0           1  Nguyen Minh Hoang  May Tinh         12    6.7\n",
      "1           2       Tran Thi Lan   Kinh Te         34    9.2\n",
      "2           3       Pham Van Nam  Toan Tin         26    7.9\n",
      "3           7      Bui Tien Dung   Kinh Te         34    9.2\n",
      "4           9     Duong Huu Phuc   Kinh Te         26    7.2\n",
      "5          10       Cao Thi Hanh  May Tinh         26    7.0\n"
     ]
    }
   ],
   "source": [
    "# Xóa các bản ghi có course_id không tồn tại trong bảng Course\n",
    "cursor.execute('''DELETE FROM Student\n",
    "WHERE course_id NOT IN (SELECT id FROM Course)\n",
    "''')\n",
    "\n",
    "conn.commit()\n",
    "\n",
    "cursor.execute(\"SELECT * FROM Student\")\n",
    "print(\"Kết quả dữ liệu sau khi xóa các bản ghi không hợp lệ:\")\n",
    "df_cleaned = pd.DataFrame(cursor.fetchall(), columns=['student_id', 'name', 'class', 'course_id', 'score'])\n",
    "print(df_cleaned)"
   ]
  },
  {
   "cell_type": "code",
   "execution_count": 74,
   "metadata": {},
   "outputs": [
    {
     "name": "stdout",
     "output_type": "stream",
     "text": [
      "Tổng số sinh viên và điểm trung bình theo lớp:\n",
      "      class  total_students  avg_score\n",
      "0   Kinh Te               3   8.533333\n",
      "1  May Tinh               2   6.850000\n",
      "2  Toan Tin               1   7.900000\n"
     ]
    }
   ],
   "source": [
    "# Tính tổng số sinh viên và điểm trung bình theo lớp học\n",
    "cursor.execute('''SELECT class, COUNT(*) AS total_students, AVG(score) AS avg_score\n",
    "FROM Student\n",
    "GROUP BY class\n",
    "''')\n",
    "\n",
    "print(\"Tổng số sinh viên và điểm trung bình theo lớp:\")\n",
    "df_class_stats = pd.DataFrame(cursor.fetchall(), columns=['class', 'total_students', 'avg_score'])\n",
    "print(df_class_stats)"
   ]
  },
  {
   "cell_type": "code",
   "execution_count": 75,
   "metadata": {},
   "outputs": [
    {
     "name": "stdout",
     "output_type": "stream",
     "text": [
      "Tổng số sinh viên và điểm trung bình theo môn học:\n",
      "  course_name  total_students  avg_score\n",
      "0   Giai tich               1   6.700000\n",
      "1    Thong ke               2   9.200000\n",
      "2     Tin hoc               3   7.366667\n"
     ]
    }
   ],
   "source": [
    "# Tính tổng số sinh viên và điểm trung bình theo môn học\n",
    "cursor.execute('''SELECT Course.course_name, COUNT(Student.student_id) AS total_students, AVG(Student.score) AS avg_score\n",
    "FROM Student\n",
    "JOIN Course ON Student.course_id = Course.id\n",
    "GROUP BY Course.course_name\n",
    "''')\n",
    "\n",
    "print(\"Tổng số sinh viên và điểm trung bình theo môn học:\")\n",
    "df_course_stats = pd.DataFrame(cursor.fetchall(), columns=['course_name', 'total_students', 'avg_score'])\n",
    "print(df_course_stats)"
   ]
  },
  {
   "cell_type": "code",
   "execution_count": 76,
   "metadata": {},
   "outputs": [
    {
     "name": "stdout",
     "output_type": "stream",
     "text": [
      "Phân loại thi đua theo điểm trung bình của môn học:\n",
      "  course_name classification\n",
      "0   Giai tich            Tốt\n",
      "1    Thong ke       Xuất sắc\n",
      "2     Tin hoc            Tốt\n"
     ]
    }
   ],
   "source": [
    "# Phân loại thi đua theo điểm trung bình của môn học\n",
    "cursor.execute('''SELECT Course.course_name, \n",
    "CASE \n",
    "WHEN AVG(Student.score) >= 9.0 THEN 'Xuất sắc'\n",
    "WHEN AVG(Student.score) BETWEEN 6.0 AND 8.9 THEN 'Tốt'\n",
    "ELSE 'Kém'\n",
    "END AS classification\n",
    "FROM Student\n",
    "JOIN Course ON Student.course_id = Course.id\n",
    "GROUP BY Course.course_name\n",
    "''')\n",
    "\n",
    "print(\"Phân loại thi đua theo điểm trung bình của môn học:\")\n",
    "df_ranking = pd.DataFrame(cursor.fetchall(), columns=['course_name', 'classification'])\n",
    "print(df_ranking)\n"
   ]
  },
  {
   "cell_type": "markdown",
   "metadata": {},
   "source": [
    "**3. Hãy xếp hạng sinh viên thông qua:**\n",
    "- a. Điểm số.\n",
    "- b. Điểm số theo lớp học.\n",
    "- c. Điểm số theo mã môn học.\n",
    "\n",
    "**và cho biết top 3 sinh viện đạt thứ hạng cao nhất, top 3 sinh viên đạt thứ hạng thấp nhất theo từng trường hợp trên.**"
   ]
  },
  {
   "cell_type": "code",
   "execution_count": 77,
   "metadata": {},
   "outputs": [
    {
     "name": "stdout",
     "output_type": "stream",
     "text": [
      "   student_id               name  score  rank_overall\n",
      "0           2       Tran Thi Lan    9.2             1\n",
      "1           7      Bui Tien Dung    9.2             1\n",
      "2           3       Pham Van Nam    7.9             3\n",
      "3           9     Duong Huu Phuc    7.2             4\n",
      "4          10       Cao Thi Hanh    7.0             5\n",
      "5           1  Nguyen Minh Hoang    6.7             6\n"
     ]
    }
   ],
   "source": [
    "#Xếp hạng sinh viên theo điểm số\n",
    "cursor.execute('''SELECT student_id, name, score, \n",
    "RANK() OVER (ORDER BY score DESC) as rank_overall\n",
    "FROM Student\n",
    "''')\n",
    "\n",
    "df_rank_overall = pd.DataFrame(cursor.fetchall(), columns=['student_id', 'name', 'score', 'rank_overall'])\n",
    "print(df_rank_overall)"
   ]
  },
  {
   "cell_type": "code",
   "execution_count": 78,
   "metadata": {},
   "outputs": [
    {
     "name": "stdout",
     "output_type": "stream",
     "text": [
      "Top 3 sinh viên có điểm cao nhất:\n",
      "   student_id           name  score\n",
      "0           2   Tran Thi Lan    9.2\n",
      "1           7  Bui Tien Dung    9.2\n",
      "2           3   Pham Van Nam    7.9\n"
     ]
    }
   ],
   "source": [
    "#lấy top 3 cao nhất\n",
    "cursor.execute('''SELECT student_id, name, score\n",
    "FROM (\n",
    "SELECT student_id, name, score, RANK() OVER (ORDER BY score DESC) as rank_score\n",
    "FROM Student\n",
    ")\n",
    "WHERE rank_score <= 3\n",
    "''')\n",
    "top3_score = pd.DataFrame(cursor.fetchall(), columns=['student_id', 'name', 'score'])\n",
    "print(\"Top 3 sinh viên có điểm cao nhất:\")\n",
    "print(top3_score)"
   ]
  },
  {
   "cell_type": "code",
   "execution_count": 79,
   "metadata": {},
   "outputs": [
    {
     "name": "stdout",
     "output_type": "stream",
     "text": [
      "Top 3 sinh viên có điểm thấp nhất:\n",
      "   student_id               name  score\n",
      "0           1  Nguyen Minh Hoang    6.7\n",
      "1          10       Cao Thi Hanh    7.0\n",
      "2           9     Duong Huu Phuc    7.2\n"
     ]
    }
   ],
   "source": [
    "#lấy top 3 thấp nhất\n",
    "cursor.execute('''SELECT student_id, name, score\n",
    "FROM (\n",
    "SELECT student_id, name, score, RANK() OVER (ORDER BY score ASC) as rank_score\n",
    "FROM Student\n",
    ")\n",
    "WHERE rank_score <= 3\n",
    "''')\n",
    "bottom3_score = pd.DataFrame(cursor.fetchall(), columns=['student_id', 'name', 'score'])\n",
    "print(\"Top 3 sinh viên có điểm thấp nhất:\")\n",
    "print(bottom3_score)"
   ]
  },
  {
   "cell_type": "code",
   "execution_count": 80,
   "metadata": {},
   "outputs": [
    {
     "name": "stdout",
     "output_type": "stream",
     "text": [
      "Xếp hạng theo điểm số trong lớp học:\n",
      "   student_id               name     class  score  rank_class\n",
      "0           2       Tran Thi Lan   Kinh Te    9.2           1\n",
      "1           7      Bui Tien Dung   Kinh Te    9.2           1\n",
      "2           9     Duong Huu Phuc   Kinh Te    7.2           3\n",
      "3          10       Cao Thi Hanh  May Tinh    7.0           1\n",
      "4           1  Nguyen Minh Hoang  May Tinh    6.7           2\n",
      "5           3       Pham Van Nam  Toan Tin    7.9           1\n"
     ]
    }
   ],
   "source": [
    "cursor.execute('''SELECT student_id, name, class, score, RANK() OVER (PARTITION BY class ORDER BY score DESC) as rank_class\n",
    "FROM Student\n",
    "''')\n",
    "df_rank_class = pd.DataFrame(cursor.fetchall(), columns=['student_id', 'name', 'class', 'score', 'rank_class'])\n",
    "print(\"Xếp hạng theo điểm số trong lớp học:\")\n",
    "print(df_rank_class)"
   ]
  },
  {
   "cell_type": "code",
   "execution_count": 81,
   "metadata": {},
   "outputs": [
    {
     "name": "stdout",
     "output_type": "stream",
     "text": [
      "\n",
      "Top 3 sinh viên có điểm cao nhất trong mỗi lớp:\n",
      "   student_id               name     class  score\n",
      "0           2       Tran Thi Lan   Kinh Te    9.2\n",
      "1           7      Bui Tien Dung   Kinh Te    9.2\n",
      "2           9     Duong Huu Phuc   Kinh Te    7.2\n",
      "3          10       Cao Thi Hanh  May Tinh    7.0\n",
      "4           1  Nguyen Minh Hoang  May Tinh    6.7\n",
      "5           3       Pham Van Nam  Toan Tin    7.9\n"
     ]
    }
   ],
   "source": [
    "cursor.execute('''SELECT student_id, name, class, score\n",
    "FROM (\n",
    "SELECT student_id, name, class, score, RANK() OVER (PARTITION BY class ORDER BY score DESC) as rank_class\n",
    "FROM Student\n",
    ")\n",
    "WHERE rank_class <= 3\n",
    "''')\n",
    "top3_class = pd.DataFrame(cursor.fetchall(), columns=['student_id', 'name', 'class', 'score'])\n",
    "print(\"\\nTop 3 sinh viên có điểm cao nhất trong mỗi lớp:\")\n",
    "print(top3_class)"
   ]
  },
  {
   "cell_type": "code",
   "execution_count": 82,
   "metadata": {},
   "outputs": [
    {
     "name": "stdout",
     "output_type": "stream",
     "text": [
      "\n",
      "Top 3 sinh viên có điểm thấp nhất trong mỗi lớp:\n",
      "   student_id               name     class  score\n",
      "0           9     Duong Huu Phuc   Kinh Te    7.2\n",
      "1           2       Tran Thi Lan   Kinh Te    9.2\n",
      "2           7      Bui Tien Dung   Kinh Te    9.2\n",
      "3           1  Nguyen Minh Hoang  May Tinh    6.7\n",
      "4          10       Cao Thi Hanh  May Tinh    7.0\n",
      "5           3       Pham Van Nam  Toan Tin    7.9\n"
     ]
    }
   ],
   "source": [
    "cursor.execute('''SELECT student_id, name, class, score\n",
    "FROM (\n",
    "SELECT student_id, name, class, score, RANK() OVER (PARTITION BY class ORDER BY score ASC) as rank_class\n",
    "FROM Student\n",
    ")\n",
    "WHERE rank_class <= 3\n",
    "''')\n",
    "bottom3_class = pd.DataFrame(cursor.fetchall(), columns=['student_id', 'name', 'class', 'score'])\n",
    "print(\"\\nTop 3 sinh viên có điểm thấp nhất trong mỗi lớp:\")\n",
    "print(bottom3_class)"
   ]
  },
  {
   "cell_type": "code",
   "execution_count": 83,
   "metadata": {},
   "outputs": [
    {
     "name": "stdout",
     "output_type": "stream",
     "text": [
      "\n",
      "Xếp hạng theo điểm số trong mã môn học:\n",
      "   student_id               name  course_id  score  rank_course\n",
      "0           1  Nguyen Minh Hoang         12    6.7            1\n",
      "1           3       Pham Van Nam         26    7.9            1\n",
      "2           9     Duong Huu Phuc         26    7.2            2\n",
      "3          10       Cao Thi Hanh         26    7.0            3\n",
      "4           2       Tran Thi Lan         34    9.2            1\n",
      "5           7      Bui Tien Dung         34    9.2            1\n"
     ]
    }
   ],
   "source": [
    "cursor.execute('''SELECT student_id, name, course_id, score, RANK() OVER (PARTITION BY course_id ORDER BY score DESC) as rank_course\n",
    "FROM Student\n",
    "''')\n",
    "df_rank_course = pd.DataFrame(cursor.fetchall(), columns=['student_id', 'name', 'course_id', 'score', 'rank_course'])\n",
    "print(\"\\nXếp hạng theo điểm số trong mã môn học:\")\n",
    "print(df_rank_course)"
   ]
  },
  {
   "cell_type": "code",
   "execution_count": 84,
   "metadata": {},
   "outputs": [
    {
     "name": "stdout",
     "output_type": "stream",
     "text": [
      "\n",
      "Top 3 sinh viên có điểm cao nhất theo mã môn học:\n",
      "   student_id               name  course_id  score\n",
      "0           1  Nguyen Minh Hoang         12    6.7\n",
      "1           3       Pham Van Nam         26    7.9\n",
      "2           9     Duong Huu Phuc         26    7.2\n",
      "3          10       Cao Thi Hanh         26    7.0\n",
      "4           2       Tran Thi Lan         34    9.2\n",
      "5           7      Bui Tien Dung         34    9.2\n"
     ]
    }
   ],
   "source": [
    "cursor.execute('''SELECT student_id, name, course_id, score\n",
    "FROM (\n",
    "SELECT student_id, name, course_id, score, RANK() OVER (PARTITION BY course_id ORDER BY score DESC) as rank_class\n",
    "FROM Student\n",
    ")\n",
    "WHERE rank_class <= 3\n",
    "''')\n",
    "top3_course_id = pd.DataFrame(cursor.fetchall(), columns=['student_id', 'name', 'course_id', 'score'])\n",
    "print(\"\\nTop 3 sinh viên có điểm cao nhất theo mã môn học:\")\n",
    "print(top3_course_id)"
   ]
  },
  {
   "cell_type": "code",
   "execution_count": 85,
   "metadata": {},
   "outputs": [
    {
     "name": "stdout",
     "output_type": "stream",
     "text": [
      "\n",
      "Top 3 sinh viên có điểm thấp nhất theo mã môn học:\n",
      "   student_id               name  course_id  score\n",
      "0           1  Nguyen Minh Hoang         12    6.7\n",
      "1          10       Cao Thi Hanh         26    7.0\n",
      "2           9     Duong Huu Phuc         26    7.2\n",
      "3           3       Pham Van Nam         26    7.9\n",
      "4           2       Tran Thi Lan         34    9.2\n",
      "5           7      Bui Tien Dung         34    9.2\n"
     ]
    }
   ],
   "source": [
    "cursor.execute('''SELECT student_id, name,course_id, score\n",
    "FROM (\n",
    "SELECT student_id, name, course_id, score, RANK() OVER (PARTITION BY course_id ORDER BY score ASC) as rank_class\n",
    "FROM Student\n",
    ")\n",
    "WHERE rank_class <= 3\n",
    "''')\n",
    "bottom3_course_id = pd.DataFrame(cursor.fetchall(), columns=['student_id', 'name', 'course_id', 'score'])\n",
    "print(\"\\nTop 3 sinh viên có điểm thấp nhất theo mã môn học:\")\n",
    "print(bottom3_course_id)"
   ]
  },
  {
   "cell_type": "markdown",
   "metadata": {},
   "source": [
    "**4. Hãy bổ sung thêm một trường graduation_date có kiểu dữ liệu là DATETIME vào bảng student để xác định thời gian tốt nghiệp của từng bạn, trong đó thời gian tốt nghiệp được xác định bởi thời gian hiện tại cộng với số hạng tương ứng của bạn đó tính theo điểm số.**"
   ]
  },
  {
   "cell_type": "code",
   "execution_count": 86,
   "metadata": {},
   "outputs": [
    {
     "name": "stdout",
     "output_type": "stream",
     "text": [
      "Kết quả:\n",
      "(1, 'Nguyen Minh Hoang', 'May Tinh', 12, 6.7, '2025-03-19 16:48:27')\n",
      "(2, 'Tran Thi Lan', 'Kinh Te', 34, 9.2, '2025-03-14 16:48:27')\n",
      "(3, 'Pham Van Nam', 'Toan Tin', 26, 7.9, '2025-03-16 16:48:27')\n",
      "(7, 'Bui Tien Dung', 'Kinh Te', 34, 9.2, '2025-03-14 16:48:27')\n",
      "(9, 'Duong Huu Phuc', 'Kinh Te', 26, 7.2, '2025-03-17 16:48:27')\n",
      "(10, 'Cao Thi Hanh', 'May Tinh', 26, 7.0, '2025-03-18 16:48:27')\n"
     ]
    }
   ],
   "source": [
    "# Thêm cột graduation_date\n",
    "cursor.execute('''ALTER TABLE Student\n",
    "ADD COLUMN graduation_date DATETIME\n",
    "''')\n",
    "# Cập nhật graduation_date dựa trên thứ hạng điểm số\n",
    "cursor.execute('''UPDATE Student\n",
    "SET graduation_date = datetime('now', '+' || (SELECT rank_score FROM (SELECT student_id, RANK() OVER (ORDER BY score DESC) as rank_score FROM Student) AS r WHERE r.student_id = Student.student_id) || ' days') \n",
    "''')\n",
    "conn.commit()\n",
    "\n",
    "cursor.execute('SELECT * FROM Student')\n",
    "rows = cursor.fetchall()\n",
    "print('Kết quả:')\n",
    "for row in rows:\n",
    "    print(row)\n",
    "conn.close()"
   ]
  }
 ],
 "metadata": {
  "kernelspec": {
   "display_name": "Python 3",
   "language": "python",
   "name": "python3"
  },
  "language_info": {
   "codemirror_mode": {
    "name": "ipython",
    "version": 3
   },
   "file_extension": ".py",
   "mimetype": "text/x-python",
   "name": "python",
   "nbconvert_exporter": "python",
   "pygments_lexer": "ipython3",
   "version": "3.12.9"
  }
 },
 "nbformat": 4,
 "nbformat_minor": 2
}
