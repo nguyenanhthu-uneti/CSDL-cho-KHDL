{
  "nbformat": 4,
  "nbformat_minor": 0,
  "metadata": {
    "colab": {
      "provenance": []
    },
    "kernelspec": {
      "name": "python3",
      "display_name": "Python 3"
    },
    "language_info": {
      "name": "python"
    }
  },
  "cells": [
    {
      "cell_type": "code",
      "execution_count": 11,
      "metadata": {
        "colab": {
          "base_uri": "https://localhost:8080/"
        },
        "id": "x3qAWmR1GrxJ",
        "outputId": "6ea1f435-7d5a-48fd-836d-fdeec56dbbf7"
      },
      "outputs": [
        {
          "output_type": "stream",
          "name": "stdout",
          "text": [
            "Bảng student:\n",
            "   student_id     name  course_id\n",
            "0           1    Alice      101.0\n",
            "1           2      Bob      102.0\n",
            "2           3  Charlie      103.0\n",
            "3           4    David        NaN\n",
            "4           5      Eve      101.0\n",
            "\n",
            "Bảng course:\n",
            "   course_id course_name\n",
            "0        101        Math\n",
            "1        102     Physics\n",
            "2        103   Chemistry\n",
            "3        104     Biology\n"
          ]
        }
      ],
      "source": [
        "import pandas as pd\n",
        "import sqlite3\n",
        "\n",
        "# Tạo bảng student\n",
        "students = pd.DataFrame({\n",
        "    'student_id': [1, 2, 3, 4, 5],\n",
        "    'name': ['A', 'B', 'C', 'D', 'E'],\n",
        "    'course_id': [101, 102, 103, None, 105],\n",
        "    'score': [9.5, 7.8, 5.4, 8.2, 6.7]\n",
        "})\n",
        "\n",
        "# Tạo bảng course\n",
        "courses = pd.DataFrame({\n",
        "    'course_id': [101, 102, 103, 104, 105],\n",
        "    'course_name': ['Math', 'Physics', 'Chemistry', 'Biology', 'English']\n",
        "})\n",
        "\n",
        "print(\"Bảng student:\")\n",
        "print(df_student)\n",
        "print(\"\\nBảng course:\")\n",
        "print(df_course)\n"
      ]
    },
    {
      "cell_type": "markdown",
      "source": [
        "#Câu 1"
      ],
      "metadata": {
        "id": "OGe6tHwxJQ1Q"
      }
    },
    {
      "cell_type": "markdown",
      "source": [
        "##Sử dụng tích Descartes"
      ],
      "metadata": {
        "id": "8PnodiD0JSUV"
      }
    },
    {
      "cell_type": "code",
      "source": [
        "df_cross = df_student.merge(df_course, how='cross')\n",
        "print(\"\\nCROSS JOIN:\")\n",
        "print(df_cross)\n"
      ],
      "metadata": {
        "colab": {
          "base_uri": "https://localhost:8080/"
        },
        "id": "HsTtlVt1Hqhz",
        "outputId": "26e2a605-eb23-4571-b80b-9790bf1fde81"
      },
      "execution_count": 12,
      "outputs": [
        {
          "output_type": "stream",
          "name": "stdout",
          "text": [
            "\n",
            "CROSS JOIN:\n",
            "    student_id     name  course_id_x  course_id_y course_name\n",
            "0            1    Alice        101.0          101        Math\n",
            "1            1    Alice        101.0          102     Physics\n",
            "2            1    Alice        101.0          103   Chemistry\n",
            "3            1    Alice        101.0          104     Biology\n",
            "4            2      Bob        102.0          101        Math\n",
            "5            2      Bob        102.0          102     Physics\n",
            "6            2      Bob        102.0          103   Chemistry\n",
            "7            2      Bob        102.0          104     Biology\n",
            "8            3  Charlie        103.0          101        Math\n",
            "9            3  Charlie        103.0          102     Physics\n",
            "10           3  Charlie        103.0          103   Chemistry\n",
            "11           3  Charlie        103.0          104     Biology\n",
            "12           4    David          NaN          101        Math\n",
            "13           4    David          NaN          102     Physics\n",
            "14           4    David          NaN          103   Chemistry\n",
            "15           4    David          NaN          104     Biology\n",
            "16           5      Eve        101.0          101        Math\n",
            "17           5      Eve        101.0          102     Physics\n",
            "18           5      Eve        101.0          103   Chemistry\n",
            "19           5      Eve        101.0          104     Biology\n"
          ]
        }
      ]
    },
    {
      "cell_type": "markdown",
      "source": [
        "##Sử dụng JOIN"
      ],
      "metadata": {
        "id": "cRH3WGBBJm-C"
      }
    },
    {
      "cell_type": "code",
      "source": [
        "#INNER JOIN\n",
        "df_inner = df_student.merge(df_course, on='course_id', how='inner')\n",
        "print(\"\\nINNER JOIN:\")\n",
        "print(df_inner)\n",
        "#LEFT JOIN\n",
        "df_left = df_student.merge(df_course, on='course_id', how='left')\n",
        "print(\"\\nLEFT JOIN:\")\n",
        "print(df_left)\n",
        "#RIGHT JOIN\n",
        "df_right = df_student.merge(df_course, on='course_id', how='right')\n",
        "print(\"\\nRIGHT JOIN:\")\n",
        "print(df_right)\n",
        "#FULL OUTER JOIN\n",
        "df_outer = df_student.merge(df_course, on='course_id', how='outer')\n",
        "print(\"\\nFULL OUTER JOIN:\")\n",
        "print(df_outer)"
      ],
      "metadata": {
        "colab": {
          "base_uri": "https://localhost:8080/"
        },
        "id": "bOCnyj6IHsrC",
        "outputId": "7f7b4df8-21f1-43d0-f4c3-dcc13342c767"
      },
      "execution_count": 13,
      "outputs": [
        {
          "output_type": "stream",
          "name": "stdout",
          "text": [
            "\n",
            "INNER JOIN:\n",
            "   student_id     name  course_id course_name\n",
            "0           1    Alice      101.0        Math\n",
            "1           2      Bob      102.0     Physics\n",
            "2           3  Charlie      103.0   Chemistry\n",
            "3           5      Eve      101.0        Math\n",
            "\n",
            "LEFT JOIN:\n",
            "   student_id     name  course_id course_name\n",
            "0           1    Alice      101.0        Math\n",
            "1           2      Bob      102.0     Physics\n",
            "2           3  Charlie      103.0   Chemistry\n",
            "3           4    David        NaN         NaN\n",
            "4           5      Eve      101.0        Math\n",
            "\n",
            "RIGHT JOIN:\n",
            "   student_id     name  course_id course_name\n",
            "0         1.0    Alice      101.0        Math\n",
            "1         5.0      Eve      101.0        Math\n",
            "2         2.0      Bob      102.0     Physics\n",
            "3         3.0  Charlie      103.0   Chemistry\n",
            "4         NaN      NaN      104.0     Biology\n",
            "\n",
            "FULL OUTER JOIN:\n",
            "   student_id     name  course_id course_name\n",
            "0         1.0    Alice      101.0        Math\n",
            "1         5.0      Eve      101.0        Math\n",
            "2         2.0      Bob      102.0     Physics\n",
            "3         3.0  Charlie      103.0   Chemistry\n",
            "4         NaN      NaN      104.0     Biology\n",
            "5         4.0    David        NaN         NaN\n"
          ]
        }
      ]
    },
    {
      "cell_type": "markdown",
      "source": [
        "#Câu 2"
      ],
      "metadata": {
        "id": "glqAQzrLUO5B"
      }
    },
    {
      "cell_type": "code",
      "source": [
        "# Cập nhật course_id bị thiếu bằng giá trị hợp lệ từ bảng course\n",
        "cursor.execute(\"\"\"\n",
        "UPDATE student\n",
        "SET course_id = (SELECT MIN(course_id) FROM course)\n",
        "WHERE course_id IS NULL;\n",
        "\"\"\")\n",
        "# Xóa những sinh viên có course_id không hợp lệ\n",
        "cursor.execute(\"\"\"\n",
        "DELETE FROM student\n",
        "WHERE course_id NOT IN (SELECT course_id FROM course);\n",
        "\"\"\")\n",
        "conn.commit()\n",
        "#Tổng số sinh viên và điểm trung bình từng lớp\n",
        "cursor.execute(\"\"\"\n",
        "SELECT course_id, COUNT(student_id) AS total_students, AVG(score) AS avg_score\n",
        "FROM student\n",
        "GROUP BY course_id;\n",
        "\"\"\")\n",
        "print(\"\\nTổng số sinh viên và điểm trung bình của từng lớp:\")\n",
        "for row in cursor.fetchall():\n",
        "    print(row)\n",
        "\n",
        "#Tổng số sinh viên và điểm trung bình từng môn học\n",
        "cursor.execute(\"\"\"\n",
        "SELECT c.course_name, COUNT(s.student_id) AS total_students, AVG(s.score) AS avg_score\n",
        "FROM student s\n",
        "JOIN course c ON s.course_id = c.course_id\n",
        "GROUP BY c.course_name;\n",
        "\"\"\")\n",
        "print(\"\\nTổng số sinh viên và điểm trung bình của từng môn học:\")\n",
        "for row in cursor.fetchall():\n",
        "    print(row)\n",
        "\n",
        "#Phân loại thi đua theo số điểm từng môn học\n",
        "cursor.execute(\"\"\"\n",
        "SELECT c.course_name,\n",
        "       COUNT(s.student_id) AS total_students,\n",
        "       AVG(s.score) AS avg_score,\n",
        "       CASE\n",
        "           WHEN AVG(s.score) >= 9.0 THEN 'Xuất sắc'\n",
        "           WHEN AVG(s.score) BETWEEN 6.0 AND 8.9 THEN 'Tốt'\n",
        "           ELSE 'Kém'\n",
        "       END AS classification\n",
        "FROM student s\n",
        "JOIN course c ON s.course_id = c.course_id\n",
        "GROUP BY c.course_name;\n",
        "\"\"\")\n",
        "print(\"\\nPhân loại thi đua theo số điểm:\")\n",
        "for row in cursor.fetchall():\n",
        "    print(row)\n"
      ],
      "metadata": {
        "colab": {
          "base_uri": "https://localhost:8080/"
        },
        "id": "tWfZf8Jq6-2U",
        "outputId": "bbb7cf8b-0f51-4842-bc7b-f2d541b13e29"
      },
      "execution_count": 17,
      "outputs": [
        {
          "output_type": "stream",
          "name": "stdout",
          "text": [
            "\n",
            "Tổng số sinh viên và điểm trung bình của từng lớp:\n",
            "(12, 4, 7.2)\n",
            "(34, 2, 9.2)\n",
            "\n",
            "Tổng số sinh viên và điểm trung bình của từng môn học:\n",
            "('Giai tich', 4, 7.2)\n",
            "('Thong ke', 2, 9.2)\n",
            "\n",
            "Phân loại thi đua theo số điểm:\n",
            "('Giai tich', 4, 7.2, 'Tốt')\n",
            "('Thong ke', 2, 9.2, 'Xuất sắc')\n"
          ]
        }
      ]
    },
    {
      "cell_type": "markdown",
      "source": [
        "#Câu 3"
      ],
      "metadata": {
        "id": "W7goi5eLUUDR"
      }
    },
    {
      "cell_type": "code",
      "source": [
        "#Xếp hạng sinh viên\n",
        "##Theo điểm số\n",
        "cursor.execute(\"\"\"\n",
        "SELECT student_id, name, score,\n",
        "       RANK() OVER (ORDER BY score DESC) AS rank\n",
        "FROM student;\n",
        "\"\"\")\n",
        "print(\"\\nXếp hạng sinh viên theo điểm số:\")\n",
        "for row in cursor.fetchall():\n",
        "    print(row)\n",
        "\n",
        "##Điểm số theo lớp học\n",
        "cursor.execute(\"\"\"\n",
        "SELECT student_id, name, course_id, score,\n",
        "       RANK() OVER (PARTITION BY course_id ORDER BY score DESC) AS rank\n",
        "FROM student;\n",
        "\"\"\")\n",
        "print(\"\\nXếp hạng sinh viên theo điểm số trong từng lớp học:\")\n",
        "for row in cursor.fetchall():\n",
        "    print(row)\n",
        "\n",
        "##Điểm số theo mã môn học\n",
        "cursor.execute(\"\"\"\n",
        "SELECT s.student_id, s.name, c.course_name, s.score,\n",
        "       RANK() OVER (PARTITION BY s.course_id ORDER BY s.score DESC) AS rank\n",
        "FROM student s\n",
        "JOIN course c ON s.course_id = c.course_id;\n",
        "\"\"\")\n",
        "print(\"\\nXếp hạng sinh viên theo điểm số trong từng môn học:\")\n",
        "for row in cursor.fetchall():\n",
        "    print(row)\n"
      ],
      "metadata": {
        "colab": {
          "base_uri": "https://localhost:8080/"
        },
        "id": "i-w3BlkFTbww",
        "outputId": "700b6933-d432-4479-e370-b8d6716acba2"
      },
      "execution_count": 18,
      "outputs": [
        {
          "output_type": "stream",
          "name": "stdout",
          "text": [
            "\n",
            "Xếp hạng sinh viên theo điểm số:\n",
            "(2, 'Tran Thi Lan', 9.2, 1)\n",
            "(7, 'Bui Tien Dung', 9.2, 1)\n",
            "(3, 'Pham Van Nam', 7.9, 3)\n",
            "(9, 'Duong Huu Phuc', 7.2, 4)\n",
            "(10, 'Cao Thi Hanh', 7.0, 5)\n",
            "(1, 'Nguyen Minh Hoang', 6.7, 6)\n",
            "\n",
            "Xếp hạng sinh viên theo điểm số trong từng lớp học:\n",
            "(3, 'Pham Van Nam', 12, 7.9, 1)\n",
            "(9, 'Duong Huu Phuc', 12, 7.2, 2)\n",
            "(10, 'Cao Thi Hanh', 12, 7.0, 3)\n",
            "(1, 'Nguyen Minh Hoang', 12, 6.7, 4)\n",
            "(2, 'Tran Thi Lan', 34, 9.2, 1)\n",
            "(7, 'Bui Tien Dung', 34, 9.2, 1)\n",
            "\n",
            "Xếp hạng sinh viên theo điểm số trong từng môn học:\n",
            "(3, 'Pham Van Nam', 'Giai tich', 7.9, 1)\n",
            "(9, 'Duong Huu Phuc', 'Giai tich', 7.2, 2)\n",
            "(10, 'Cao Thi Hanh', 'Giai tich', 7.0, 3)\n",
            "(1, 'Nguyen Minh Hoang', 'Giai tich', 6.7, 4)\n",
            "(2, 'Tran Thi Lan', 'Thong ke', 9.2, 1)\n",
            "(7, 'Bui Tien Dung', 'Thong ke', 9.2, 1)\n"
          ]
        }
      ]
    },
    {
      "cell_type": "markdown",
      "source": [
        "#Câu 4"
      ],
      "metadata": {
        "id": "jeh4pPPtUuxM"
      }
    },
    {
      "cell_type": "code",
      "source": [
        "# CÂU 4\n",
        "import sqlite3\n",
        "import datetime\n",
        "import pandas as pd\n",
        "\n",
        "# Kết nối CSDL SQLite\n",
        "conn = sqlite3.connect(\"university.db\")\n",
        "cursor = conn.cursor()\n",
        "\n",
        "# Kiểm tra xem cột graduation_date đã tồn tại chưa\n",
        "cursor.execute(\"PRAGMA table_info(student)\")\n",
        "columns = [col[1] for col in cursor.fetchall()]\n",
        "\n",
        "if \"graduation_date\" not in columns:\n",
        "    cursor.execute(\"ALTER TABLE student ADD COLUMN graduation_date TEXT\")  # Dùng TEXT thay vì DATETIME\n",
        "    conn.commit()\n",
        "    print(\"Đã thêm cột graduation_date.\")\n",
        "else:\n",
        "    print(\"Cột graduation_date đã tồn tại, bỏ qua ALTER TABLE.\")\n",
        "\n",
        "# Cập nhật ngày tốt nghiệp (hiện tại + số tháng tương ứng với điểm số)\n",
        "for row in cursor.execute(\"SELECT student_id, score FROM student\"):\n",
        "    student_id, score = row\n",
        "    grad_date = (datetime.datetime.now() + datetime.timedelta(days=int(score * 30))).strftime('%Y-%m-%d')  # Chuyển sang dạng chuỗi\n",
        "    cursor.execute(\"UPDATE student SET graduation_date = ? WHERE student_id = ?\", (grad_date, student_id))\n",
        "\n",
        "conn.commit()\n",
        "\n",
        "# Kiểm tra kết quả\n",
        "df_grad = pd.read_sql_query(\"SELECT student_id, name, graduation_date FROM student\", conn)\n",
        "print(df_grad)\n",
        "\n",
        "# Đóng kết nối\n",
        "conn.close()"
      ],
      "metadata": {
        "colab": {
          "base_uri": "https://localhost:8080/"
        },
        "id": "kCGl6lrfUy71",
        "outputId": "c6f50ba7-dc15-4c66-ec98-de45f7604ed1"
      },
      "execution_count": 19,
      "outputs": [
        {
          "output_type": "stream",
          "name": "stdout",
          "text": [
            "Đã thêm cột graduation_date.\n",
            "   student_id               name graduation_date\n",
            "0           1  Nguyen Minh Hoang      2025-09-29\n",
            "1           2       Tran Thi Lan            None\n",
            "2           3       Pham Van Nam            None\n",
            "3           7      Bui Tien Dung            None\n",
            "4           9     Duong Huu Phuc            None\n",
            "5          10       Cao Thi Hanh            None\n"
          ]
        }
      ]
    }
  ]
}