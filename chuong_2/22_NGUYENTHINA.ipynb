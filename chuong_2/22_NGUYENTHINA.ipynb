{
  "nbformat": 4,
  "nbformat_minor": 0,
  "metadata": {
    "colab": {
      "provenance": []
    },
    "kernelspec": {
      "name": "python3",
      "display_name": "Python 3"
    },
    "language_info": {
      "name": "python"
    }
  },
  "cells": [
    {
      "cell_type": "code",
      "execution_count": 1,
      "metadata": {
        "colab": {
          "base_uri": "https://localhost:8080/"
        },
        "id": "-p7NV0VIwnQs",
        "outputId": "d440a28c-a55f-4159-810d-7f93cd7d4b64"
      },
      "outputs": [
        {
          "output_type": "stream",
          "name": "stdout",
          "text": [
            "Bảng STUDENT:\n",
            "   student_id               name     class  course_id  score\n",
            "0           1  Nguyen Minh Hoang  May Tinh       12.0    6.7\n",
            "1           2       Tran Thi Lan   Kinh Te       34.0    9.2\n",
            "2           3       Pham Van Nam  Toan Tin        NaN    7.9\n",
            "3           4     Le Thanh Huyen  Toan Tin       20.0    7.2\n",
            "4           5        Vu Quoc Anh  May Tinh       24.0    8.0\n",
            "5           6     Dang Thuy Linh  May Tinh       24.0    5.5\n",
            "6           7      Bui Tien Dung   Kinh Te       34.0    9.2\n",
            "7           8        Ho Ngoc Mai  Toan Tin       20.0    8.8\n",
            "8           9     Duong Huu Phuc   Kinh Te        NaN    7.2\n",
            "9          10       Cao Thi Hanh  May Tinh        NaN    7.0\n",
            "\n",
            "Bảng COURSE:\n",
            "   id course_name\n",
            "0  12   Giai tich\n",
            "1  26     Tin hoc\n",
            "2  34    Thong ke\n"
          ]
        }
      ],
      "source": [
        "# Import thư viện cần thiết\n",
        "import sqlite3\n",
        "import pandas as pd\n",
        "\n",
        "# Kết nối đến SQLite (trong bộ nhớ)\n",
        "conn = sqlite3.connect(\":memory:\")\n",
        "cursor = conn.cursor()\n",
        "\n",
        "# Tạo bảng course\n",
        "cursor.execute(\"\"\"\n",
        "CREATE TABLE course (\n",
        "    id INTEGER PRIMARY KEY,\n",
        "    course_name TEXT\n",
        ")\n",
        "\"\"\")\n",
        "\n",
        "# Thêm dữ liệu vào bảng course\n",
        "courses = [(12, \"Giai tich\"), (34, \"Thong ke\"), (26, \"Tin hoc\")]\n",
        "cursor.executemany(\"INSERT INTO course (id, course_name) VALUES (?, ?)\", courses)\n",
        "\n",
        "# Tạo bảng student\n",
        "cursor.execute(\"\"\"\n",
        "CREATE TABLE student (\n",
        "    student_id INTEGER PRIMARY KEY,\n",
        "    name TEXT,\n",
        "    class TEXT,\n",
        "    course_id INTEGER,\n",
        "    score REAL\n",
        ")\n",
        "\"\"\")\n",
        "\n",
        "# Thêm dữ liệu vào bảng student\n",
        "students = [\n",
        "    (1, \"Nguyen Minh Hoang\", \"May Tinh\", 12, 6.7),\n",
        "    (2, \"Tran Thi Lan\", \"Kinh Te\", 34, 9.2),\n",
        "    (3, \"Pham Van Nam\", \"Toan Tin\", None, 7.9),\n",
        "    (4, \"Le Thanh Huyen\", \"Toan Tin\", 20, 7.2),\n",
        "    (5, \"Vu Quoc Anh\", \"May Tinh\", 24, 8.0),\n",
        "    (6, \"Dang Thuy Linh\", \"May Tinh\", 24, 5.5),\n",
        "    (7, \"Bui Tien Dung\", \"Kinh Te\", 34, 9.2),\n",
        "    (8, \"Ho Ngoc Mai\", \"Toan Tin\", 20, 8.8),\n",
        "    (9, \"Duong Huu Phuc\", \"Kinh Te\", None, 7.2),\n",
        "    (10, \"Cao Thi Hanh\", \"May Tinh\", None, 7.0),\n",
        "]\n",
        "\n",
        "cursor.executemany(\"INSERT INTO student (student_id, name, class, course_id, score) VALUES (?, ?, ?, ?, ?)\", students)\n",
        "\n",
        "# Hiển thị dữ liệu bảng student\n",
        "df_students = pd.read_sql_query(\"SELECT * FROM student\", conn)\n",
        "print(\"Bảng STUDENT:\")\n",
        "print(df_students)\n",
        "\n",
        "# Hiển thị dữ liệu bảng course\n",
        "df_courses = pd.read_sql_query(\"SELECT * FROM course\", conn)\n",
        "print(\"\\nBảng COURSE:\")\n",
        "print(df_courses)\n"
      ]
    },
    {
      "cell_type": "markdown",
      "source": [
        "# câu 1:\n"
      ],
      "metadata": {
        "id": "G2Mll93fzm-j"
      }
    },
    {
      "cell_type": "code",
      "source": [
        "# Thực hiện tích Descartes (Cross Join)\n",
        "df_cross_join = pd.read_sql_query(\"\"\"\n",
        "SELECT * FROM student, course\n",
        "\"\"\", conn)\n",
        "\n",
        "# In kết quả\n",
        "print(\"Tích Descartes giữa student và course:\")\n",
        "print(df_cross_join.head(10))  # Hiển thị 10 dòng đầu tiên\n"
      ],
      "metadata": {
        "colab": {
          "base_uri": "https://localhost:8080/"
        },
        "id": "nrGklNbYxG89",
        "outputId": "255d8881-32a8-4438-b22d-8b0b93215d94"
      },
      "execution_count": 2,
      "outputs": [
        {
          "output_type": "stream",
          "name": "stdout",
          "text": [
            "Tích Descartes giữa student và course:\n",
            "   student_id               name     class  course_id  score  id course_name\n",
            "0           1  Nguyen Minh Hoang  May Tinh       12.0    6.7  12   Giai tich\n",
            "1           1  Nguyen Minh Hoang  May Tinh       12.0    6.7  26     Tin hoc\n",
            "2           1  Nguyen Minh Hoang  May Tinh       12.0    6.7  34    Thong ke\n",
            "3           2       Tran Thi Lan   Kinh Te       34.0    9.2  12   Giai tich\n",
            "4           2       Tran Thi Lan   Kinh Te       34.0    9.2  26     Tin hoc\n",
            "5           2       Tran Thi Lan   Kinh Te       34.0    9.2  34    Thong ke\n",
            "6           3       Pham Van Nam  Toan Tin        NaN    7.9  12   Giai tich\n",
            "7           3       Pham Van Nam  Toan Tin        NaN    7.9  26     Tin hoc\n",
            "8           3       Pham Van Nam  Toan Tin        NaN    7.9  34    Thong ke\n",
            "9           4     Le Thanh Huyen  Toan Tin       20.0    7.2  12   Giai tich\n"
          ]
        }
      ]
    },
    {
      "cell_type": "code",
      "source": [
        "# Thực hiện INNER JOIN\n",
        "df_inner_join = pd.read_sql_query(\"\"\"\n",
        "SELECT student.*, course.course_name\n",
        "FROM student\n",
        "INNER JOIN course\n",
        "ON student.course_id = course.id\n",
        "\"\"\", conn)\n",
        "\n",
        "# In kết quả\n",
        "print(\"Kết quả INNER JOIN giữa student và course:\")\n",
        "print(df_inner_join)\n"
      ],
      "metadata": {
        "colab": {
          "base_uri": "https://localhost:8080/"
        },
        "id": "4dNLqJOOxVRp",
        "outputId": "5b06daa4-e877-435a-ff0d-657a5f9eb625"
      },
      "execution_count": 3,
      "outputs": [
        {
          "output_type": "stream",
          "name": "stdout",
          "text": [
            "Kết quả INNER JOIN giữa student và course:\n",
            "   student_id               name     class  course_id  score course_name\n",
            "0           1  Nguyen Minh Hoang  May Tinh         12    6.7   Giai tich\n",
            "1           2       Tran Thi Lan   Kinh Te         34    9.2    Thong ke\n",
            "2           7      Bui Tien Dung   Kinh Te         34    9.2    Thong ke\n"
          ]
        }
      ]
    },
    {
      "cell_type": "code",
      "source": [
        "\n",
        "# Thực hiện LEFT JOIN\n",
        "df_left_join = pd.read_sql_query(\"\"\"\n",
        "SELECT student.*, course.course_name\n",
        "FROM student\n",
        "LEFT JOIN course\n",
        "ON student.course_id = course.id\n",
        "\"\"\", conn)\n",
        "\n",
        "# In kết quả\n",
        "print(\"Kết quả LEFT JOIN giữa student và course:\")\n",
        "print(df_left_join)\n"
      ],
      "metadata": {
        "colab": {
          "base_uri": "https://localhost:8080/"
        },
        "id": "HB3-aPglxmMB",
        "outputId": "22b525f3-ae88-4d55-c5dd-5781abe90675"
      },
      "execution_count": 4,
      "outputs": [
        {
          "output_type": "stream",
          "name": "stdout",
          "text": [
            "Kết quả LEFT JOIN giữa student và course:\n",
            "   student_id               name     class  course_id  score course_name\n",
            "0           1  Nguyen Minh Hoang  May Tinh       12.0    6.7   Giai tich\n",
            "1           2       Tran Thi Lan   Kinh Te       34.0    9.2    Thong ke\n",
            "2           3       Pham Van Nam  Toan Tin        NaN    7.9        None\n",
            "3           4     Le Thanh Huyen  Toan Tin       20.0    7.2        None\n",
            "4           5        Vu Quoc Anh  May Tinh       24.0    8.0        None\n",
            "5           6     Dang Thuy Linh  May Tinh       24.0    5.5        None\n",
            "6           7      Bui Tien Dung   Kinh Te       34.0    9.2    Thong ke\n",
            "7           8        Ho Ngoc Mai  Toan Tin       20.0    8.8        None\n",
            "8           9     Duong Huu Phuc   Kinh Te        NaN    7.2        None\n",
            "9          10       Cao Thi Hanh  May Tinh        NaN    7.0        None\n"
          ]
        }
      ]
    },
    {
      "cell_type": "code",
      "source": [
        "# RIGHT JOIN không hỗ trợ trong SQLite, giả lập bằng cách đảo ngược LEFT JOIN\n",
        "df_right_join = pd.read_sql_query(\"\"\"\n",
        "SELECT student.*, course.course_name\n",
        "FROM course\n",
        "LEFT JOIN student\n",
        "ON student.course_id = course.id\n",
        "\"\"\", conn)\n",
        "\n",
        "# In kết quả\n",
        "print(\"Kết quả RIGHT JOIN giữa student và course:\")\n",
        "print(df_right_join)\n"
      ],
      "metadata": {
        "colab": {
          "base_uri": "https://localhost:8080/"
        },
        "id": "_pD4iXYGx1Zd",
        "outputId": "7e6765bb-31a8-4565-cf1c-6a6f03e6e614"
      },
      "execution_count": 5,
      "outputs": [
        {
          "output_type": "stream",
          "name": "stdout",
          "text": [
            "Kết quả RIGHT JOIN giữa student và course:\n",
            "   student_id               name     class  course_id  score course_name\n",
            "0         1.0  Nguyen Minh Hoang  May Tinh       12.0    6.7   Giai tich\n",
            "1         NaN               None      None        NaN    NaN     Tin hoc\n",
            "2         7.0      Bui Tien Dung   Kinh Te       34.0    9.2    Thong ke\n",
            "3         2.0       Tran Thi Lan   Kinh Te       34.0    9.2    Thong ke\n"
          ]
        }
      ]
    },
    {
      "cell_type": "code",
      "source": [
        "# FULL OUTER JOIN không hỗ trợ trong SQLite, giả lập bằng UNION của LEFT JOIN và RIGHT JOIN\n",
        "df_full_outer_join = pd.read_sql_query(\"\"\"\n",
        "SELECT student.*, course.course_name\n",
        "FROM student\n",
        "LEFT JOIN course\n",
        "ON student.course_id = course.id\n",
        "\n",
        "UNION\n",
        "\n",
        "SELECT student.*, course.course_name\n",
        "FROM course\n",
        "LEFT JOIN student\n",
        "ON student.course_id = course.id\n",
        "\"\"\", conn)\n",
        "\n",
        "# In kết quả\n",
        "print(\"Kết quả FULL OUTER JOIN giữa student và course:\")\n",
        "print(df_full_outer_join)\n"
      ],
      "metadata": {
        "colab": {
          "base_uri": "https://localhost:8080/"
        },
        "id": "A1tivUGMx_XG",
        "outputId": "1f1a2e34-852c-476d-a330-99e4be759202"
      },
      "execution_count": 6,
      "outputs": [
        {
          "output_type": "stream",
          "name": "stdout",
          "text": [
            "Kết quả FULL OUTER JOIN giữa student và course:\n",
            "    student_id               name     class  course_id  score course_name\n",
            "0          NaN               None      None        NaN    NaN     Tin hoc\n",
            "1          1.0  Nguyen Minh Hoang  May Tinh       12.0    6.7   Giai tich\n",
            "2          2.0       Tran Thi Lan   Kinh Te       34.0    9.2    Thong ke\n",
            "3          3.0       Pham Van Nam  Toan Tin        NaN    7.9        None\n",
            "4          4.0     Le Thanh Huyen  Toan Tin       20.0    7.2        None\n",
            "5          5.0        Vu Quoc Anh  May Tinh       24.0    8.0        None\n",
            "6          6.0     Dang Thuy Linh  May Tinh       24.0    5.5        None\n",
            "7          7.0      Bui Tien Dung   Kinh Te       34.0    9.2    Thong ke\n",
            "8          8.0        Ho Ngoc Mai  Toan Tin       20.0    8.8        None\n",
            "9          9.0     Duong Huu Phuc   Kinh Te        NaN    7.2        None\n",
            "10        10.0       Cao Thi Hanh  May Tinh        NaN    7.0        None\n"
          ]
        }
      ]
    },
    {
      "cell_type": "markdown",
      "source": [
        "# câu 2:"
      ],
      "metadata": {
        "id": "ixNtwYkxz5qp"
      }
    },
    {
      "cell_type": "code",
      "source": [
        "# Cập nhật course_id còn thiếu bằng giá trị hợp lệ từ bảng course\n",
        "cursor.execute(\"\"\"\n",
        "UPDATE student\n",
        "SET course_id = (SELECT id FROM course ORDER BY RANDOM() LIMIT 1)\n",
        "WHERE course_id IS NULL\n",
        "\"\"\")\n",
        "\n",
        "# Xóa những sinh viên có course_id không tồn tại trong bảng course\n",
        "cursor.execute(\"\"\"\n",
        "DELETE FROM student\n",
        "WHERE course_id NOT IN (SELECT id FROM course)\n",
        "\"\"\")\n",
        "\n",
        "# In lại bảng student sau khi cập nhật\n",
        "df_updated_students = pd.read_sql_query(\"SELECT * FROM student\", conn)\n",
        "print(\"Bảng STUDENT sau khi cập nhật course_id:\")\n",
        "print(df_updated_students)\n"
      ],
      "metadata": {
        "colab": {
          "base_uri": "https://localhost:8080/"
        },
        "id": "6sfzxdcsyJPk",
        "outputId": "462bdbaf-fc3d-4e5b-d5bb-b443ddccddd6"
      },
      "execution_count": 7,
      "outputs": [
        {
          "output_type": "stream",
          "name": "stdout",
          "text": [
            "Bảng STUDENT sau khi cập nhật course_id:\n",
            "   student_id               name     class  course_id  score\n",
            "0           1  Nguyen Minh Hoang  May Tinh         12    6.7\n",
            "1           2       Tran Thi Lan   Kinh Te         34    9.2\n",
            "2           3       Pham Van Nam  Toan Tin         26    7.9\n",
            "3           7      Bui Tien Dung   Kinh Te         34    9.2\n",
            "4           9     Duong Huu Phuc   Kinh Te         26    7.2\n",
            "5          10       Cao Thi Hanh  May Tinh         26    7.0\n"
          ]
        }
      ]
    },
    {
      "cell_type": "code",
      "source": [
        "# Tính tổng số sinh viên và điểm trung bình theo từng lớp\n",
        "df_class_avg = pd.read_sql_query(\"\"\"\n",
        "SELECT class, COUNT(student_id) AS total_students, AVG(score) AS avg_score\n",
        "FROM student\n",
        "GROUP BY class\n",
        "\"\"\", conn)\n",
        "\n",
        "# In kết quả\n",
        "print(\"Tổng số sinh viên và điểm trung bình theo từng lớp:\")\n",
        "print(df_class_avg)\n"
      ],
      "metadata": {
        "colab": {
          "base_uri": "https://localhost:8080/"
        },
        "id": "Y8iEuERPyWwt",
        "outputId": "c549656c-10d5-4481-93af-ea66ba8121d4"
      },
      "execution_count": 8,
      "outputs": [
        {
          "output_type": "stream",
          "name": "stdout",
          "text": [
            "Tổng số sinh viên và điểm trung bình theo từng lớp:\n",
            "      class  total_students  avg_score\n",
            "0   Kinh Te               3   8.533333\n",
            "1  May Tinh               2   6.850000\n",
            "2  Toan Tin               1   7.900000\n"
          ]
        }
      ]
    },
    {
      "cell_type": "code",
      "source": [
        "# Tính tổng số sinh viên và điểm trung bình theo từng môn học\n",
        "df_course_avg = pd.read_sql_query(\"\"\"\n",
        "SELECT course.course_name, COUNT(student.student_id) AS total_students, AVG(student.score) AS avg_score\n",
        "FROM student\n",
        "JOIN course ON student.course_id = course.id\n",
        "GROUP BY course.course_name\n",
        "\"\"\", conn)\n",
        "\n",
        "# In kết quả\n",
        "print(\"Tổng số sinh viên và điểm trung bình theo từng môn học:\")\n",
        "print(df_course_avg)\n"
      ],
      "metadata": {
        "colab": {
          "base_uri": "https://localhost:8080/"
        },
        "id": "LoZ9Ouh9yY3N",
        "outputId": "34dad1be-f479-4638-c2f7-930ea6acc5f2"
      },
      "execution_count": 9,
      "outputs": [
        {
          "output_type": "stream",
          "name": "stdout",
          "text": [
            "Tổng số sinh viên và điểm trung bình theo từng môn học:\n",
            "  course_name  total_students  avg_score\n",
            "0   Giai tich               1   6.700000\n",
            "1    Thong ke               2   9.200000\n",
            "2     Tin hoc               3   7.366667\n"
          ]
        }
      ]
    },
    {
      "cell_type": "code",
      "source": [
        "# Tính điểm trung bình của từng môn học và phân loại thi đua\n",
        "df_course_avg = pd.read_sql_query(\"\"\"\n",
        "SELECT course.course_name,\n",
        "       COUNT(student.student_id) AS total_students,\n",
        "       AVG(student.score) AS avg_score\n",
        "FROM student\n",
        "JOIN course ON student.course_id = course.id\n",
        "GROUP BY course.course_name\n",
        "\"\"\", conn)\n",
        "\n",
        "# Thêm cột phân loại thi đua\n",
        "df_course_avg[\"classification\"] = df_course_avg[\"avg_score\"].apply(\n",
        "    lambda x: \"Xuất sắc\" if x >= 9.0 else \"Tốt\" if x >= 6.0 else \"Kém\"\n",
        ")\n",
        "\n",
        "# In kết quả\n",
        "print(\"Phân loại thi đua theo điểm trung bình từng môn học:\")\n",
        "print(df_course_avg)\n"
      ],
      "metadata": {
        "colab": {
          "base_uri": "https://localhost:8080/"
        },
        "id": "fOit0ycAyfyQ",
        "outputId": "d4a52160-9a81-4dff-8196-b767e987dc5c"
      },
      "execution_count": 10,
      "outputs": [
        {
          "output_type": "stream",
          "name": "stdout",
          "text": [
            "Phân loại thi đua theo điểm trung bình từng môn học:\n",
            "  course_name  total_students  avg_score classification\n",
            "0   Giai tich               1   6.700000            Tốt\n",
            "1    Thong ke               2   9.200000       Xuất sắc\n",
            "2     Tin hoc               3   7.366667            Tốt\n"
          ]
        }
      ]
    },
    {
      "cell_type": "markdown",
      "source": [
        "# câu 3"
      ],
      "metadata": {
        "id": "9tP5ELCLz9hC"
      }
    },
    {
      "cell_type": "code",
      "source": [
        "# Xếp hạng sinh viên theo điểm số chung\n",
        "df_rank_overall = pd.read_sql_query(\"\"\"\n",
        "SELECT student_id, name, class, course_id, score,\n",
        "       RANK() OVER (ORDER BY score DESC) AS rank_overall\n",
        "FROM student\n",
        "\"\"\", conn)\n",
        "print(\"Xếp hạng sinh viên theo điểm số chung:\")\n",
        "print(df_rank_overall)\n",
        "\n",
        "# Xếp hạng sinh viên theo lớp học\n",
        "df_rank_class = pd.read_sql_query(\"\"\"\n",
        "SELECT student_id, name, class, course_id, score,\n",
        "       RANK() OVER (PARTITION BY class ORDER BY score DESC) AS rank_class\n",
        "FROM student\n",
        "\"\"\", conn)\n",
        "print(\"\\nXếp hạng sinh viên theo điểm số trong lớp:\")\n",
        "print(df_rank_class)\n",
        "\n",
        "# Xếp hạng sinh viên theo môn học\n",
        "df_rank_course = pd.read_sql_query(\"\"\"\n",
        "SELECT student_id, name, class, course_id, score,\n",
        "       RANK() OVER (PARTITION BY course_id ORDER BY score DESC) AS rank_course\n",
        "FROM student\n",
        "\"\"\", conn)\n",
        "print(\"\\nXếp hạng sinh viên theo điểm số theo môn học:\")\n",
        "print(df_rank_course)\n",
        "\n",
        "# Lấy top 3 sinh viên cao nhất & thấp nhất theo từng tiêu chí\n",
        "print(\"\\nTop 3 sinh viên có điểm cao nhất:\")\n",
        "print(df_rank_overall.head(3))\n",
        "\n",
        "print(\"\\nTop 3 sinh viên có điểm thấp nhất:\")\n",
        "print(df_rank_overall.tail(3))\n"
      ],
      "metadata": {
        "colab": {
          "base_uri": "https://localhost:8080/"
        },
        "id": "xCISYJ86zJ9_",
        "outputId": "bcded864-3c38-49e4-d0d9-3f51a183b928"
      },
      "execution_count": 11,
      "outputs": [
        {
          "output_type": "stream",
          "name": "stdout",
          "text": [
            "Xếp hạng sinh viên theo điểm số chung:\n",
            "   student_id               name     class  course_id  score  rank_overall\n",
            "0           2       Tran Thi Lan   Kinh Te         34    9.2             1\n",
            "1           7      Bui Tien Dung   Kinh Te         34    9.2             1\n",
            "2           3       Pham Van Nam  Toan Tin         26    7.9             3\n",
            "3           9     Duong Huu Phuc   Kinh Te         26    7.2             4\n",
            "4          10       Cao Thi Hanh  May Tinh         26    7.0             5\n",
            "5           1  Nguyen Minh Hoang  May Tinh         12    6.7             6\n",
            "\n",
            "Xếp hạng sinh viên theo điểm số trong lớp:\n",
            "   student_id               name     class  course_id  score  rank_class\n",
            "0           2       Tran Thi Lan   Kinh Te         34    9.2           1\n",
            "1           7      Bui Tien Dung   Kinh Te         34    9.2           1\n",
            "2           9     Duong Huu Phuc   Kinh Te         26    7.2           3\n",
            "3          10       Cao Thi Hanh  May Tinh         26    7.0           1\n",
            "4           1  Nguyen Minh Hoang  May Tinh         12    6.7           2\n",
            "5           3       Pham Van Nam  Toan Tin         26    7.9           1\n",
            "\n",
            "Xếp hạng sinh viên theo điểm số theo môn học:\n",
            "   student_id               name     class  course_id  score  rank_course\n",
            "0           1  Nguyen Minh Hoang  May Tinh         12    6.7            1\n",
            "1           3       Pham Van Nam  Toan Tin         26    7.9            1\n",
            "2           9     Duong Huu Phuc   Kinh Te         26    7.2            2\n",
            "3          10       Cao Thi Hanh  May Tinh         26    7.0            3\n",
            "4           2       Tran Thi Lan   Kinh Te         34    9.2            1\n",
            "5           7      Bui Tien Dung   Kinh Te         34    9.2            1\n",
            "\n",
            "Top 3 sinh viên có điểm cao nhất:\n",
            "   student_id           name     class  course_id  score  rank_overall\n",
            "0           2   Tran Thi Lan   Kinh Te         34    9.2             1\n",
            "1           7  Bui Tien Dung   Kinh Te         34    9.2             1\n",
            "2           3   Pham Van Nam  Toan Tin         26    7.9             3\n",
            "\n",
            "Top 3 sinh viên có điểm thấp nhất:\n",
            "   student_id               name     class  course_id  score  rank_overall\n",
            "3           9     Duong Huu Phuc   Kinh Te         26    7.2             4\n",
            "4          10       Cao Thi Hanh  May Tinh         26    7.0             5\n",
            "5           1  Nguyen Minh Hoang  May Tinh         12    6.7             6\n"
          ]
        }
      ]
    },
    {
      "cell_type": "markdown",
      "source": [
        "# Câu 4"
      ],
      "metadata": {
        "id": "wjUH0JoE0AaE"
      }
    },
    {
      "cell_type": "code",
      "source": [
        "# Thêm cột graduation_date vào bảng student\n",
        "cursor.execute(\"ALTER TABLE student ADD COLUMN graduation_date DATETIME\")\n",
        "\n",
        "# Cập nhật thời gian tốt nghiệp dựa vào điểm số\n",
        "cursor.execute(\"\"\"\n",
        "UPDATE student\n",
        "SET graduation_date = datetime('now', '+' || CAST((10 - score) AS INTEGER) || ' months')\n",
        "\"\"\")\n",
        "\n",
        "# Hiển thị dữ liệu student sau khi cập nhật ngày tốt nghiệp\n",
        "df_updated_students = pd.read_sql_query(\"SELECT * FROM student\", conn)\n",
        "print(\"Bảng STUDENT sau khi thêm graduation_date:\")\n",
        "print(df_updated_students)\n"
      ],
      "metadata": {
        "colab": {
          "base_uri": "https://localhost:8080/"
        },
        "id": "B9vytPPlzOs6",
        "outputId": "6f27acdd-d0e8-4299-f71f-2a3eea00dc5b"
      },
      "execution_count": 12,
      "outputs": [
        {
          "output_type": "stream",
          "name": "stdout",
          "text": [
            "Bảng STUDENT sau khi thêm graduation_date:\n",
            "   student_id               name     class  course_id  score  \\\n",
            "0           1  Nguyen Minh Hoang  May Tinh         12    6.7   \n",
            "1           2       Tran Thi Lan   Kinh Te         34    9.2   \n",
            "2           3       Pham Van Nam  Toan Tin         26    7.9   \n",
            "3           7      Bui Tien Dung   Kinh Te         34    9.2   \n",
            "4           9     Duong Huu Phuc   Kinh Te         26    7.2   \n",
            "5          10       Cao Thi Hanh  May Tinh         26    7.0   \n",
            "\n",
            "       graduation_date  \n",
            "0  2025-06-08 03:29:43  \n",
            "1  2025-03-08 03:29:43  \n",
            "2  2025-05-08 03:29:43  \n",
            "3  2025-03-08 03:29:43  \n",
            "4  2025-05-08 03:29:43  \n",
            "5  2025-06-08 03:29:43  \n"
          ]
        }
      ]
    }
  ]
}